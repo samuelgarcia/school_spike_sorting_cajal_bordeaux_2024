{
 "cells": [
  {
   "cell_type": "markdown",
   "metadata": {},
   "source": [
    "# SpikeInterface DEMO v0.101 - Neuralnet -  Saclay - November 2024\n",
    "\n",
    "For this demo we will use a small file provided by Eduarda Centeno, Arthur Leblois and Aude Retailleau from IMN lab in Bordeaux.\n",
    "\n",
    "It is a recording from a zebra finch for testing the probe ASSY-236-H5 from cambridge neurotech.\n",
    "\n",
    "![](img/zebra_finch.jpeg)\n",
    "\n",
    "The recording system is the openephys usb3 board.\n",
    "\n",
    "\n",
    "This file is only for testing or teaching purposes."
   ]
  },
  {
   "cell_type": "markdown",
   "metadata": {},
   "source": [
    "# Table of contents\n",
    "\n",
    "* [0. Preparation](#preparation)\n",
    "* [1. Reading recording and sorting](#loading)\n",
    "* [2. Preprocessing](#preprocessing)\n",
    "* [3. Saving and loading SpikeInterface objects](#save-load)\n",
    "* [4. Spike sorting](#spike-sorting)\n",
    "* [5. Postprocessing and SortingAnalyzer](#postprocessing)\n",
    "* [6. Validation and curation](#curation)\n",
    "* [7. Viewers](#viewers)\n",
    "* [8. Spike sorting comparison](#comparison)\n",
    "* [9. Exporters](#exporters)"
   ]
  },
  {
   "cell_type": "markdown",
   "metadata": {},
   "source": [
    "# 0. Preparation <a class=\"anchor\" id=\"preparation\"></a>"
   ]
  },
  {
   "attachments": {},
   "cell_type": "markdown",
   "metadata": {},
   "source": [
    "### Download the ephys data\n",
    "\n",
    "Tthe data `cambridgeneurotech_openephys_recording.zip` can be downloaded from here:\n",
    "\n",
    "https://drive.google.com/drive/folders/17RlgsMLheW82IMLMgmTFifVACebDZ8X5?usp=sharing\n",
    "\n"
   ]
  },
  {
   "cell_type": "code",
   "execution_count": 1,
   "metadata": {},
   "outputs": [],
   "source": [
    "# spikeinterface has manu submodules: here this is the lazy way to import all of then!\n",
    "import spikeinterface.full as si"
   ]
  },
  {
   "cell_type": "code",
   "execution_count": 2,
   "metadata": {},
   "outputs": [
    {
     "name": "stdout",
     "output_type": "stream",
     "text": [
      "SpikeInterface version: 0.101.1\n"
     ]
    }
   ],
   "source": [
    "print(f\"SpikeInterface version: {si.__version__}\")"
   ]
  },
  {
   "cell_type": "code",
   "execution_count": 3,
   "metadata": {},
   "outputs": [],
   "source": [
    "import matplotlib.pyplot as plt\n",
    "import numpy as np\n",
    "from pathlib import Path\n",
    "\n",
    "import warnings\n",
    "warnings.simplefilter(\"ignore\")\n",
    "\n",
    "# %matplotlib widget\n",
    "%matplotlib inline"
   ]
  },
  {
   "cell_type": "markdown",
   "metadata": {},
   "source": [
    "# 1. Reading recording and sorting <a class=\"anchor\" id=\"loading\"></a>"
   ]
  },
  {
   "cell_type": "code",
   "execution_count": 4,
   "metadata": {},
   "outputs": [],
   "source": [
    "base_folder = Path('/home/samuel/DataSpikeSorting/gdr2024_tutorials/')\n",
    "oe_folder = base_folder / \"openephys_recording\" / \"2023-08-23_15-56-05\""
   ]
  },
  {
   "cell_type": "code",
   "execution_count": 5,
   "metadata": {},
   "outputs": [],
   "source": [
    "full_raw_rec = si.read_openephys(oe_folder)"
   ]
  },
  {
   "cell_type": "markdown",
   "metadata": {},
   "source": [
    "The `read_openephys()` function returns a `Recording` (or `RecordingExtractor`) object. We can print it to visualize some of its properties:"
   ]
  },
  {
   "cell_type": "code",
   "execution_count": 6,
   "metadata": {},
   "outputs": [
    {
     "name": "stdout",
     "output_type": "stream",
     "text": [
      "OpenEphysBinaryRecordingExtractor: 72 channels - 30.0kHz - 1 segments - 9,000,000 samples \n",
      "                                   300.00s (5.00 minutes) - int16 dtype - 1.21 GiB\n"
     ]
    }
   ],
   "source": [
    "print(full_raw_rec)"
   ]
  },
  {
   "cell_type": "code",
   "execution_count": 7,
   "metadata": {},
   "outputs": [
    {
     "data": {
      "text/html": [
       "<div style='border:1px solid #ddd; padding:10px;'><strong>OpenEphysBinaryRecordingExtractor: 72 channels - 30.0kHz - 1 segments - 9,000,000 samples - 300.00s (5.00 minutes) - int16 dtype - 1.21 GiB</strong></div><details style='margin-left: 10px;'>  <summary><strong>Channel IDs</strong></summary><ul>['CH1' 'CH2' 'CH3' 'CH4' 'CH5' 'CH6' 'CH7' 'CH8' 'CH9' 'CH10' 'CH11'\n",
       " 'CH12' 'CH13' 'CH14' 'CH15' 'CH16' 'CH17' 'CH18' 'CH19' 'CH20' 'CH21'\n",
       " 'CH22' 'CH23' 'CH24' 'CH25' 'CH26' 'CH27' 'CH28' 'CH29' 'CH30' 'CH31'\n",
       " 'CH32' 'CH33' 'CH34' 'CH35' 'CH36' 'CH37' 'CH38' 'CH39' 'CH40' 'CH41'\n",
       " 'CH42' 'CH43' 'CH44' 'CH45' 'CH46' 'CH47' 'CH48' 'CH49' 'CH50' 'CH51'\n",
       " 'CH52' 'CH53' 'CH54' 'CH55' 'CH56' 'CH57' 'CH58' 'CH59' 'CH60' 'CH61'\n",
       " 'CH62' 'CH63' 'CH64' 'ADC1' 'ADC2' 'ADC3' 'ADC4' 'ADC5' 'ADC6' 'ADC7'\n",
       " 'ADC8'] </details><details style='margin-left: 10px;'>  <summary><strong>Annotations</strong></summary><ul><li> <strong> is_filtered </strong>: False</li></ul> </details><details style='margin-left: 10px;'><summary><strong>Channel Properties</strong></summary><ul><details><summary> <strong> gain_to_uV </strong> </summary>[  0.19499999   0.19499999   0.19499999   0.19499999   0.19499999\n",
       "   0.19499999   0.19499999   0.19499999   0.19499999   0.19499999\n",
       "   0.19499999   0.19499999   0.19499999   0.19499999   0.19499999\n",
       "   0.19499999   0.19499999   0.19499999   0.19499999   0.19499999\n",
       "   0.19499999   0.19499999   0.19499999   0.19499999   0.19499999\n",
       "   0.19499999   0.19499999   0.19499999   0.19499999   0.19499999\n",
       "   0.19499999   0.19499999   0.19499999   0.19499999   0.19499999\n",
       "   0.19499999   0.19499999   0.19499999   0.19499999   0.19499999\n",
       "   0.19499999   0.19499999   0.19499999   0.19499999   0.19499999\n",
       "   0.19499999   0.19499999   0.19499999   0.19499999   0.19499999\n",
       "   0.19499999   0.19499999   0.19499999   0.19499999   0.19499999\n",
       "   0.19499999   0.19499999   0.19499999   0.19499999   0.19499999\n",
       "   0.19499999   0.19499999   0.19499999   0.19499999 152.58789062\n",
       " 152.58789062 152.58789062 152.58789062 152.58789062 152.58789062\n",
       " 152.58789062 152.58789062]</details><details><summary> <strong> offset_to_uV </strong> </summary>[0. 0. 0. 0. 0. 0. 0. 0. 0. 0. 0. 0. 0. 0. 0. 0. 0. 0. 0. 0. 0. 0. 0. 0.\n",
       " 0. 0. 0. 0. 0. 0. 0. 0. 0. 0. 0. 0. 0. 0. 0. 0. 0. 0. 0. 0. 0. 0. 0. 0.\n",
       " 0. 0. 0. 0. 0. 0. 0. 0. 0. 0. 0. 0. 0. 0. 0. 0. 0. 0. 0. 0. 0. 0. 0. 0.]</details><details><summary> <strong> channel_names </strong> </summary>['CH1' 'CH2' 'CH3' 'CH4' 'CH5' 'CH6' 'CH7' 'CH8' 'CH9' 'CH10' 'CH11'\n",
       " 'CH12' 'CH13' 'CH14' 'CH15' 'CH16' 'CH17' 'CH18' 'CH19' 'CH20' 'CH21'\n",
       " 'CH22' 'CH23' 'CH24' 'CH25' 'CH26' 'CH27' 'CH28' 'CH29' 'CH30' 'CH31'\n",
       " 'CH32' 'CH33' 'CH34' 'CH35' 'CH36' 'CH37' 'CH38' 'CH39' 'CH40' 'CH41'\n",
       " 'CH42' 'CH43' 'CH44' 'CH45' 'CH46' 'CH47' 'CH48' 'CH49' 'CH50' 'CH51'\n",
       " 'CH52' 'CH53' 'CH54' 'CH55' 'CH56' 'CH57' 'CH58' 'CH59' 'CH60' 'CH61'\n",
       " 'CH62' 'CH63' 'CH64' 'ADC1' 'ADC2' 'ADC3' 'ADC4' 'ADC5' 'ADC6' 'ADC7'\n",
       " 'ADC8']</details></ul></details>"
      ],
      "text/plain": [
       "OpenEphysBinaryRecordingExtractor: 72 channels - 30.0kHz - 1 segments - 9,000,000 samples \n",
       "                                   300.00s (5.00 minutes) - int16 dtype - 1.21 GiB"
      ]
     },
     "execution_count": 7,
     "metadata": {},
     "output_type": "execute_result"
    }
   ],
   "source": [
    "full_raw_rec"
   ]
  },
  {
   "cell_type": "markdown",
   "metadata": {},
   "source": [
    "`spikeinterface.extractors` integrate many readers:\n",
    "\n",
    "  * `read_nwb()`\n",
    "  * `read_blackrock()`\n",
    "  * `read_spikeglx()`\n",
    "  * ...\n",
    "\n",
    "\n",
    "For a full list see the documentation [here](https://spikeinterface.readthedocs.io/en/latest/modules/extractors.html)."
   ]
  },
  {
   "cell_type": "markdown",
   "metadata": {},
   "source": [
    "A `Recording` object extracts information about channel ids, channel locations (if present), the sampling frequency of the recording, and the extracellular traces (when prompted)."
   ]
  },
  {
   "cell_type": "markdown",
   "metadata": {},
   "source": [
    "SpikeInterface supports multi-segment recordings. A segment is a contiguous piece of data, and sometimes recordings can be made of multiple acquisitions, for examples a baseline, a stimulation phase, and a post recording. In such cases, the recording object will be made of multiple segments and be treated as such over the pipeline."
   ]
  },
  {
   "cell_type": "markdown",
   "metadata": {
    "pycharm": {
     "name": "#%% md\n"
    }
   },
   "source": [
    "The `get_traces()` function returns a TxN numpy array where N is the number of channel ids passed in (all channel ids are passed in by default) and T is the number of frames (determined by start_frame and end_frame)."
   ]
  },
  {
   "cell_type": "code",
   "execution_count": 8,
   "metadata": {
    "pycharm": {
     "name": "#%%\n"
    }
   },
   "outputs": [],
   "source": [
    "fs = full_raw_rec.get_sampling_frequency()\n",
    "trace_snippet = full_raw_rec.get_traces(start_frame=int(fs*0), end_frame=int(fs*2))"
   ]
  },
  {
   "cell_type": "code",
   "execution_count": 9,
   "metadata": {},
   "outputs": [
    {
     "name": "stdout",
     "output_type": "stream",
     "text": [
      "Traces shape: (60000, 72)\n"
     ]
    }
   ],
   "source": [
    "print('Traces shape:', trace_snippet.shape)"
   ]
  },
  {
   "cell_type": "markdown",
   "metadata": {
    "pycharm": {
     "name": "#%% md\n"
    }
   },
   "source": [
    "Before moving on with the analysis, we have to load the probe information. For this we will use the [ProbeInterface](https://probeinterface.readthedocs.io/en/main/index.html) package. \n",
    "\n",
    "ProbeInterface allows to easily create, manipulate, and visualize neural probes. Moreover, it comes with a wide range of IO functions to import and export existing formats. Finally, we have created a public library of commercial probes (https://github.com/SpikeInterface/probeinterface_library) that can be retrieved with a single line of code.\n",
    "\n",
    "Let's import `probeinterface`, download the probe and plot it!"
   ]
  },
  {
   "cell_type": "code",
   "execution_count": 10,
   "metadata": {},
   "outputs": [],
   "source": [
    "import probeinterface as pi\n",
    "from probeinterface.plotting import plot_probe"
   ]
  },
  {
   "cell_type": "code",
   "execution_count": 11,
   "metadata": {},
   "outputs": [
    {
     "name": "stdout",
     "output_type": "stream",
     "text": [
      "ASSY-236-H5 - cambridgeneurotech - 64ch - 1shanks\n"
     ]
    }
   ],
   "source": [
    "manufacturer = 'cambridgeneurotech'\n",
    "probe_name = 'ASSY-236-H5'\n",
    "\n",
    "probe = pi.get_probe(manufacturer, probe_name)\n",
    "print(probe)"
   ]
  },
  {
   "cell_type": "markdown",
   "metadata": {},
   "source": [
    "In most experiments, the neural probe has a connector, that is interfaced to an headstage, which in turn connects to the acquisition system. This *pathway* usually results in a channel remapping, which means that the order of the contacts on the probe is different than the order of the recorded traces.\n",
    "\n",
    "`probeinterface` provides a growing collection of common pathways that can be loaded directly to wire a device and apply the correct channel mapping:"
   ]
  },
  {
   "cell_type": "code",
   "execution_count": 12,
   "metadata": {},
   "outputs": [
    {
     "data": {
      "text/plain": [
       "['H32>RHD2132',\n",
       " 'ASSY-156>RHD2164',\n",
       " 'ASSY-116>RHD2132',\n",
       " 'ASSY-77>Adpt.A64-Om32_2x-sm-NN>RHD2164',\n",
       " 'ASSY-77>Adpt.A64-Om32_2x-sm-NN>two_RHD2132',\n",
       " 'cambridgeneurotech_mini-amp-64']"
      ]
     },
     "execution_count": 12,
     "metadata": {},
     "output_type": "execute_result"
    }
   ],
   "source": [
    "pi.get_available_pathways()"
   ]
  },
  {
   "cell_type": "code",
   "execution_count": 13,
   "metadata": {},
   "outputs": [],
   "source": [
    "probe.wiring_to_device('cambridgeneurotech_mini-amp-64')"
   ]
  },
  {
   "cell_type": "code",
   "execution_count": 14,
   "metadata": {},
   "outputs": [
    {
     "data": {
      "text/plain": [
       "(-50.0, 300.0)"
      ]
     },
     "execution_count": 14,
     "metadata": {},
     "output_type": "execute_result"
    },
    {
     "data": {
      "image/png": "[encoded data removed]",
      "text/plain": [
       "<Figure size 1400x1000 with 1 Axes>"
      ]
     },
     "metadata": {},
     "output_type": "display_data"
    }
   ],
   "source": [
    "fig, ax = plt.subplots(figsize=(14, 10))\n",
    "w = plot_probe(probe, ax=ax, with_contact_id=True, with_device_index=True)\n",
    "ax.set_xlim(-100, 100)\n",
    "ax.set_ylim(-50, 300)"
   ]
  },
  {
   "cell_type": "markdown",
   "metadata": {},
   "source": [
    "The probe now has contact ids `id#` and device ids `dev#`! The `device_channel_index` is the index of the trace corresponding to the contact. For example, the bottom left contact is the 62-th signal in the recording."
   ]
  },
  {
   "cell_type": "markdown",
   "metadata": {},
   "source": [
    "When loading the probe, the device indices (and all the other contact properties) are automatically sorted.\n",
    "And **very importantly** the recording is reduced to 64 channels, because the other 8 channels are auxiliary channels."
   ]
  },
  {
   "cell_type": "code",
   "execution_count": 15,
   "metadata": {},
   "outputs": [
    {
     "data": {
      "text/html": [
       "<div style='border:1px solid #ddd; padding:10px;'><strong>ChannelSliceRecording: 64 channels - 30.0kHz - 1 segments - 9,000,000 samples - 300.00s (5.00 minutes) - int16 dtype - 1.07 GiB</strong></div><details style='margin-left: 10px;'>  <summary><strong>Channel IDs</strong></summary><ul>['CH1' 'CH2' 'CH3' 'CH4' 'CH5' 'CH6' 'CH7' 'CH8' 'CH9' 'CH10' 'CH11'\n",
       " 'CH12' 'CH13' 'CH14' 'CH15' 'CH16' 'CH17' 'CH18' 'CH19' 'CH20' 'CH21'\n",
       " 'CH22' 'CH23' 'CH24' 'CH25' 'CH26' 'CH27' 'CH28' 'CH29' 'CH30' 'CH31'\n",
       " 'CH32' 'CH33' 'CH34' 'CH35' 'CH36' 'CH37' 'CH38' 'CH39' 'CH40' 'CH41'\n",
       " 'CH42' 'CH43' 'CH44' 'CH45' 'CH46' 'CH47' 'CH48' 'CH49' 'CH50' 'CH51'\n",
       " 'CH52' 'CH53' 'CH54' 'CH55' 'CH56' 'CH57' 'CH58' 'CH59' 'CH60' 'CH61'\n",
       " 'CH62' 'CH63' 'CH64'] </details><details style='margin-left: 10px;'>  <summary><strong>Annotations</strong></summary><ul><li> <strong> is_filtered </strong>: False</li><li> <strong> probe_0_planar_contour </strong>: [[-10.  900. ]\n",
       " [-10.  -10. ]\n",
       " [ 11.  -28. ]\n",
       " [ 20.  -10. ]\n",
       " [ 72.5 900. ]]</li></ul> </details><details style='margin-left: 10px;'><summary><strong>Channel Properties</strong></summary><ul><details><summary> <strong> gain_to_uV </strong> </summary>[0.19499999 0.19499999 0.19499999 0.19499999 0.19499999 0.19499999\n",
       " 0.19499999 0.19499999 0.19499999 0.19499999 0.19499999 0.19499999\n",
       " 0.19499999 0.19499999 0.19499999 0.19499999 0.19499999 0.19499999\n",
       " 0.19499999 0.19499999 0.19499999 0.19499999 0.19499999 0.19499999\n",
       " 0.19499999 0.19499999 0.19499999 0.19499999 0.19499999 0.19499999\n",
       " 0.19499999 0.19499999 0.19499999 0.19499999 0.19499999 0.19499999\n",
       " 0.19499999 0.19499999 0.19499999 0.19499999 0.19499999 0.19499999\n",
       " 0.19499999 0.19499999 0.19499999 0.19499999 0.19499999 0.19499999\n",
       " 0.19499999 0.19499999 0.19499999 0.19499999 0.19499999 0.19499999\n",
       " 0.19499999 0.19499999 0.19499999 0.19499999 0.19499999 0.19499999\n",
       " 0.19499999 0.19499999 0.19499999 0.19499999]</details><details><summary> <strong> offset_to_uV </strong> </summary>[0. 0. 0. 0. 0. 0. 0. 0. 0. 0. 0. 0. 0. 0. 0. 0. 0. 0. 0. 0. 0. 0. 0. 0.\n",
       " 0. 0. 0. 0. 0. 0. 0. 0. 0. 0. 0. 0. 0. 0. 0. 0. 0. 0. 0. 0. 0. 0. 0. 0.\n",
       " 0. 0. 0. 0. 0. 0. 0. 0. 0. 0. 0. 0. 0. 0. 0. 0.]</details><details><summary> <strong> channel_names </strong> </summary>['CH1' 'CH2' 'CH3' 'CH4' 'CH5' 'CH6' 'CH7' 'CH8' 'CH9' 'CH10' 'CH11'\n",
       " 'CH12' 'CH13' 'CH14' 'CH15' 'CH16' 'CH17' 'CH18' 'CH19' 'CH20' 'CH21'\n",
       " 'CH22' 'CH23' 'CH24' 'CH25' 'CH26' 'CH27' 'CH28' 'CH29' 'CH30' 'CH31'\n",
       " 'CH32' 'CH33' 'CH34' 'CH35' 'CH36' 'CH37' 'CH38' 'CH39' 'CH40' 'CH41'\n",
       " 'CH42' 'CH43' 'CH44' 'CH45' 'CH46' 'CH47' 'CH48' 'CH49' 'CH50' 'CH51'\n",
       " 'CH52' 'CH53' 'CH54' 'CH55' 'CH56' 'CH57' 'CH58' 'CH59' 'CH60' 'CH61'\n",
       " 'CH62' 'CH63' 'CH64']</details><details><summary> <strong> contact_vector </strong> </summary>[(0,  0. , 775. , 'rect', 11., 15., '', '64',  0, 'um', 1., 0., 0., 1.)\n",
       " (0,  0. , 400. , 'rect', 11., 15., '', '63',  1, 'um', 1., 0., 0., 1.)\n",
       " (0,  0. , 450. , 'rect', 11., 15., '', '62',  2, 'um', 1., 0., 0., 1.)\n",
       " (0,  0. , 700. , 'rect', 11., 15., '', '61',  3, 'um', 1., 0., 0., 1.)\n",
       " (0,  0. , 650. , 'rect', 11., 15., '', '60',  4, 'um', 1., 0., 0., 1.)\n",
       " (0,  0. , 575. , 'rect', 11., 15., '', '59',  5, 'um', 1., 0., 0., 1.)\n",
       " (0, 22.5, 762.5, 'rect', 11., 15., '', '58',  6, 'um', 1., 0., 0., 1.)\n",
       " (0, 22.5, 537.5, 'rect', 11., 15., '', '57',  7, 'um', 1., 0., 0., 1.)\n",
       " (0,  0. , 750. , 'rect', 11., 15., '', '48',  8, 'um', 1., 0., 0., 1.)\n",
       " (0,  0. , 375. , 'rect', 11., 15., '', '46',  9, 'um', 1., 0., 0., 1.)\n",
       " (0,  0. , 525. , 'rect', 11., 15., '', '47', 10, 'um', 1., 0., 0., 1.)\n",
       " (0, 22.5, 437.5, 'rect', 11., 15., '', '45', 11, 'um', 1., 0., 0., 1.)\n",
       " (0, 22.5, 487.5, 'rect', 11., 15., '', '44', 12, 'um', 1., 0., 0., 1.)\n",
       " (0, 22.5, 562.5, 'rect', 11., 15., '', '43', 13, 'um', 1., 0., 0., 1.)\n",
       " (0,  0. , 550. , 'rect', 11., 15., '', '32', 14, 'um', 1., 0., 0., 1.)\n",
       " (0, 22.5, 687.5, 'rect', 11., 15., '', '42', 15, 'um', 1., 0., 0., 1.)\n",
       " (0,  0. , 475. , 'rect', 11., 15., '', '31', 16, 'um', 1., 0., 0., 1.)\n",
       " (0, 22.5, 787.5, 'rect', 11., 15., '', '30', 17, 'um', 1., 0., 0., 1.)\n",
       " (0, 22.5, 512.5, 'rect', 11., 15., '', '28', 18, 'um', 1., 0., 0., 1.)\n",
       " (0,  0. , 625. , 'rect', 11., 15., '', '29', 19, 'um', 1., 0., 0., 1.)\n",
       " (0,  0. , 725. , 'rect', 11., 15., '', '16', 20, 'um', 1., 0., 0., 1.)\n",
       " (0, 22.5, 737.5, 'rect', 11., 15., '', '27', 21, 'um', 1., 0., 0., 1.)\n",
       " (0,  0. , 425. , 'rect', 11., 15., '', '15', 22, 'um', 1., 0., 0., 1.)\n",
       " (0, 22.5, 662.5, 'rect', 11., 15., '', '26', 23, 'um', 1., 0., 0., 1.)\n",
       " (0,  0. , 500. , 'rect', 11., 15., '', '14', 24, 'um', 1., 0., 0., 1.)\n",
       " (0,  0. , 675. , 'rect', 11., 15., '', '13', 25, 'um', 1., 0., 0., 1.)\n",
       " (0,  0. , 600. , 'rect', 11., 15., '', '12', 26, 'um', 1., 0., 0., 1.)\n",
       " (0, 22.5, 612.5, 'rect', 11., 15., '', '25', 27, 'um', 1., 0., 0., 1.)\n",
       " (0, 22.5, 462.5, 'rect', 11., 15., '', '11', 28, 'um', 1., 0., 0., 1.)\n",
       " (0, 22.5, 587.5, 'rect', 11., 15., '', '9', 29, 'um', 1., 0., 0., 1.)\n",
       " (0, 22.5, 712.5, 'rect', 11., 15., '', '10', 30, 'um', 1., 0., 0., 1.)\n",
       " (0, 22.5, 637.5, 'rect', 11., 15., '', '24', 31, 'um', 1., 0., 0., 1.)\n",
       " (0,  0. , 275. , 'rect', 11., 15., '', '8', 32, 'um', 1., 0., 0., 1.)\n",
       " (0, 22.5, 337.5, 'rect', 11., 15., '', '7', 33, 'um', 1., 0., 0., 1.)\n",
       " (0, 22.5, 212.5, 'rect', 11., 15., '', '6', 34, 'um', 1., 0., 0., 1.)\n",
       " (0,  0. , 100. , 'rect', 11., 15., '', '5', 35, 'um', 1., 0., 0., 1.)\n",
       " (0,  0. , 350. , 'rect', 11., 15., '', '23', 36, 'um', 1., 0., 0., 1.)\n",
       " (0, 22.5, 137.5, 'rect', 11., 15., '', '4', 37, 'um', 1., 0., 0., 1.)\n",
       " (0,  0. ,  50. , 'rect', 11., 15., '', '3', 38, 'um', 1., 0., 0., 1.)\n",
       " (0, 22.5,  12.5, 'rect', 11., 15., '', '2', 39, 'um', 1., 0., 0., 1.)\n",
       " (0, 22.5, 312.5, 'rect', 11., 15., '', '22', 40, 'um', 1., 0., 0., 1.)\n",
       " (0, 22.5, 162.5, 'rect', 11., 15., '', '1', 41, 'um', 1., 0., 0., 1.)\n",
       " (0, 22.5, 112.5, 'rect', 11., 15., '', '21', 42, 'um', 1., 0., 0., 1.)\n",
       " (0, 22.5, 237.5, 'rect', 11., 15., '', '20', 43, 'um', 1., 0., 0., 1.)\n",
       " (0,  0. , 175. , 'rect', 11., 15., '', '19', 44, 'um', 1., 0., 0., 1.)\n",
       " (0, 22.5, 387.5, 'rect', 11., 15., '', '18', 45, 'um', 1., 0., 0., 1.)\n",
       " (0,  0. ,  75. , 'rect', 11., 15., '', '17', 46, 'um', 1., 0., 0., 1.)\n",
       " (0, 22.5, 262.5, 'rect', 11., 15., '', '41', 47, 'um', 1., 0., 0., 1.)\n",
       " (0,  0. , 300. , 'rect', 11., 15., '', '40', 48, 'um', 1., 0., 0., 1.)\n",
       " (0,  0. , 200. , 'rect', 11., 15., '', '39', 49, 'um', 1., 0., 0., 1.)\n",
       " (0,  0. , 325. , 'rect', 11., 15., '', '38', 50, 'um', 1., 0., 0., 1.)\n",
       " (0, 22.5,  37.5, 'rect', 11., 15., '', '37', 51, 'um', 1., 0., 0., 1.)\n",
       " (0,  0. , 225. , 'rect', 11., 15., '', '36', 52, 'um', 1., 0., 0., 1.)\n",
       " (0, 22.5, 412.5, 'rect', 11., 15., '', '34', 53, 'um', 1., 0., 0., 1.)\n",
       " (0,  0. , 150. , 'rect', 11., 15., '', '35', 54, 'um', 1., 0., 0., 1.)\n",
       " (0, 22.5,  62.5, 'rect', 11., 15., '', '33', 55, 'um', 1., 0., 0., 1.)\n",
       " (0, 22.5, 287.5, 'rect', 11., 15., '', '56', 56, 'um', 1., 0., 0., 1.)\n",
       " (0,  0. , 250. , 'rect', 11., 15., '', '55', 57, 'um', 1., 0., 0., 1.)\n",
       " (0, 22.5, 362.5, 'rect', 11., 15., '', '54', 58, 'um', 1., 0., 0., 1.)\n",
       " (0, 22.5,  87.5, 'rect', 11., 15., '', '53', 59, 'um', 1., 0., 0., 1.)\n",
       " (0,  0. , 125. , 'rect', 11., 15., '', '52', 60, 'um', 1., 0., 0., 1.)\n",
       " (0,  0. ,  25. , 'rect', 11., 15., '', '51', 61, 'um', 1., 0., 0., 1.)\n",
       " (0,  0. ,   0. , 'rect', 11., 15., '', '50', 62, 'um', 1., 0., 0., 1.)\n",
       " (0, 22.5, 187.5, 'rect', 11., 15., '', '49', 63, 'um', 1., 0., 0., 1.)]</details><details><summary> <strong> location </strong> </summary>[[  0.  775. ]\n",
       " [  0.  400. ]\n",
       " [  0.  450. ]\n",
       " [  0.  700. ]\n",
       " [  0.  650. ]\n",
       " [  0.  575. ]\n",
       " [ 22.5 762.5]\n",
       " [ 22.5 537.5]\n",
       " [  0.  750. ]\n",
       " [  0.  375. ]\n",
       " [  0.  525. ]\n",
       " [ 22.5 437.5]\n",
       " [ 22.5 487.5]\n",
       " [ 22.5 562.5]\n",
       " [  0.  550. ]\n",
       " [ 22.5 687.5]\n",
       " [  0.  475. ]\n",
       " [ 22.5 787.5]\n",
       " [ 22.5 512.5]\n",
       " [  0.  625. ]\n",
       " [  0.  725. ]\n",
       " [ 22.5 737.5]\n",
       " [  0.  425. ]\n",
       " [ 22.5 662.5]\n",
       " [  0.  500. ]\n",
       " [  0.  675. ]\n",
       " [  0.  600. ]\n",
       " [ 22.5 612.5]\n",
       " [ 22.5 462.5]\n",
       " [ 22.5 587.5]\n",
       " [ 22.5 712.5]\n",
       " [ 22.5 637.5]\n",
       " [  0.  275. ]\n",
       " [ 22.5 337.5]\n",
       " [ 22.5 212.5]\n",
       " [  0.  100. ]\n",
       " [  0.  350. ]\n",
       " [ 22.5 137.5]\n",
       " [  0.   50. ]\n",
       " [ 22.5  12.5]\n",
       " [ 22.5 312.5]\n",
       " [ 22.5 162.5]\n",
       " [ 22.5 112.5]\n",
       " [ 22.5 237.5]\n",
       " [  0.  175. ]\n",
       " [ 22.5 387.5]\n",
       " [  0.   75. ]\n",
       " [ 22.5 262.5]\n",
       " [  0.  300. ]\n",
       " [  0.  200. ]\n",
       " [  0.  325. ]\n",
       " [ 22.5  37.5]\n",
       " [  0.  225. ]\n",
       " [ 22.5 412.5]\n",
       " [  0.  150. ]\n",
       " [ 22.5  62.5]\n",
       " [ 22.5 287.5]\n",
       " [  0.  250. ]\n",
       " [ 22.5 362.5]\n",
       " [ 22.5  87.5]\n",
       " [  0.  125. ]\n",
       " [  0.   25. ]\n",
       " [  0.    0. ]\n",
       " [ 22.5 187.5]]</details><details><summary> <strong> group </strong> </summary>[0 0 0 0 0 0 0 0 0 0 0 0 0 0 0 0 0 0 0 0 0 0 0 0 0 0 0 0 0 0 0 0 0 0 0 0 0\n",
       " 0 0 0 0 0 0 0 0 0 0 0 0 0 0 0 0 0 0 0 0 0 0 0 0 0 0 0]</details></ul></details>"
      ],
      "text/plain": [
       "ChannelSliceRecording: 64 channels - 30.0kHz - 1 segments - 9,000,000 samples \n",
       "                       300.00s (5.00 minutes) - int16 dtype - 1.07 GiB"
      ]
     },
     "execution_count": 15,
     "metadata": {},
     "output_type": "execute_result"
    }
   ],
   "source": [
    "raw_rec = full_raw_rec.set_probe(probe)\n",
    "raw_rec"
   ]
  },
  {
   "cell_type": "markdown",
   "metadata": {},
   "source": [
    "We can now visualize the `channel_id` (channel name) from Open Ephys."
   ]
  },
  {
   "cell_type": "code",
   "execution_count": 16,
   "metadata": {},
   "outputs": [
    {
     "data": {
      "text/plain": [
       "(-50.0, 300.0)"
      ]
     },
     "execution_count": 16,
     "metadata": {},
     "output_type": "execute_result"
    },
    {
     "data": {
      "image/png": "[encoded data removed]",
      "text/plain": [
       "<Figure size 1500x1000 with 1 Axes>"
      ]
     },
     "metadata": {},
     "output_type": "display_data"
    }
   ],
   "source": [
    "fig, ax = plt.subplots(figsize=(15, 10))\n",
    "w = si.plot_probe_map(raw_rec, with_channel_ids=True, with_contact_id=True, ax=ax)\n",
    "ax.set_xlim(-100, 100)\n",
    "ax.set_ylim(-50, 300)"
   ]
  },
  {
   "cell_type": "markdown",
   "metadata": {},
   "source": [
    "The `widgets` module includes several convenient plotting functions that can be used to explore the data:"
   ]
  },
  {
   "cell_type": "code",
   "execution_count": 17,
   "metadata": {},
   "outputs": [
    {
     "data": {
      "application/vnd.jupyter.widget-view+json": {
       "model_id": "1670768c864c444aa9bf3ea8efbc8875",
       "version_major": 2,
       "version_minor": 0
      },
      "text/plain": [
       "AppLayout(children=(TimeSlider(children=(Dropdown(description='segment', options=(0,), value=0), Button(icon='…"
      ]
     },
     "metadata": {},
     "output_type": "display_data"
    }
   ],
   "source": [
    "%matplotlib widget\n",
    "w = si.plot_traces(raw_rec, backend=\"ipywidgets\", mode='map')"
   ]
  },
  {
   "cell_type": "markdown",
   "metadata": {
    "pycharm": {
     "name": "#%% md\n"
    }
   },
   "source": [
    "### Properties \n",
    "\n",
    "`Recording` objects can have *properties*. A property is a piece of information attached to a channel, e.g. group or location.\n",
    "\n",
    "Similarly, for `Sorting` objects (that we'll cover later), anything related to a unit can be stored as a property. \n",
    "\n",
    "We can check which properties are in the extractor as follows:"
   ]
  },
  {
   "cell_type": "code",
   "execution_count": 18,
   "metadata": {
    "pycharm": {
     "name": "#%%\n"
    }
   },
   "outputs": [
    {
     "name": "stdout",
     "output_type": "stream",
     "text": [
      "Properties:\n",
      " ['gain_to_uV', 'offset_to_uV', 'channel_names', 'contact_vector', 'location', 'group']\n"
     ]
    }
   ],
   "source": [
    "print(\"Properties:\\n\", list(raw_rec.get_property_keys()))"
   ]
  },
  {
   "cell_type": "markdown",
   "metadata": {
    "pycharm": {
     "name": "#%% md\n"
    }
   },
   "source": [
    "We can also specify a property on a subset of channels. In this case, the non-specified channels will be filled empty values:"
   ]
  },
  {
   "cell_type": "code",
   "execution_count": 19,
   "metadata": {
    "pycharm": {
     "name": "#%%\n"
    }
   },
   "outputs": [
    {
     "data": {
      "text/html": [
       "<div style='border:1px solid #ddd; padding:10px;'><strong>ChannelSliceRecording: 64 channels - 30.0kHz - 1 segments - 9,000,000 samples - 300.00s (5.00 minutes) - int16 dtype - 1.07 GiB</strong></div><details style='margin-left: 10px;'>  <summary><strong>Channel IDs</strong></summary><ul>['CH1' 'CH2' 'CH3' 'CH4' 'CH5' 'CH6' 'CH7' 'CH8' 'CH9' 'CH10' 'CH11'\n",
       " 'CH12' 'CH13' 'CH14' 'CH15' 'CH16' 'CH17' 'CH18' 'CH19' 'CH20' 'CH21'\n",
       " 'CH22' 'CH23' 'CH24' 'CH25' 'CH26' 'CH27' 'CH28' 'CH29' 'CH30' 'CH31'\n",
       " 'CH32' 'CH33' 'CH34' 'CH35' 'CH36' 'CH37' 'CH38' 'CH39' 'CH40' 'CH41'\n",
       " 'CH42' 'CH43' 'CH44' 'CH45' 'CH46' 'CH47' 'CH48' 'CH49' 'CH50' 'CH51'\n",
       " 'CH52' 'CH53' 'CH54' 'CH55' 'CH56' 'CH57' 'CH58' 'CH59' 'CH60' 'CH61'\n",
       " 'CH62' 'CH63' 'CH64'] </details><details style='margin-left: 10px;'>  <summary><strong>Annotations</strong></summary><ul><li> <strong> is_filtered </strong>: False</li><li> <strong> probe_0_planar_contour </strong>: [[-10.  900. ]\n",
       " [-10.  -10. ]\n",
       " [ 11.  -28. ]\n",
       " [ 20.  -10. ]\n",
       " [ 72.5 900. ]]</li></ul> </details><details style='margin-left: 10px;'><summary><strong>Channel Properties</strong></summary><ul><details><summary> <strong> gain_to_uV </strong> </summary>[0.19499999 0.19499999 0.19499999 0.19499999 0.19499999 0.19499999\n",
       " 0.19499999 0.19499999 0.19499999 0.19499999 0.19499999 0.19499999\n",
       " 0.19499999 0.19499999 0.19499999 0.19499999 0.19499999 0.19499999\n",
       " 0.19499999 0.19499999 0.19499999 0.19499999 0.19499999 0.19499999\n",
       " 0.19499999 0.19499999 0.19499999 0.19499999 0.19499999 0.19499999\n",
       " 0.19499999 0.19499999 0.19499999 0.19499999 0.19499999 0.19499999\n",
       " 0.19499999 0.19499999 0.19499999 0.19499999 0.19499999 0.19499999\n",
       " 0.19499999 0.19499999 0.19499999 0.19499999 0.19499999 0.19499999\n",
       " 0.19499999 0.19499999 0.19499999 0.19499999 0.19499999 0.19499999\n",
       " 0.19499999 0.19499999 0.19499999 0.19499999 0.19499999 0.19499999\n",
       " 0.19499999 0.19499999 0.19499999 0.19499999]</details><details><summary> <strong> offset_to_uV </strong> </summary>[0. 0. 0. 0. 0. 0. 0. 0. 0. 0. 0. 0. 0. 0. 0. 0. 0. 0. 0. 0. 0. 0. 0. 0.\n",
       " 0. 0. 0. 0. 0. 0. 0. 0. 0. 0. 0. 0. 0. 0. 0. 0. 0. 0. 0. 0. 0. 0. 0. 0.\n",
       " 0. 0. 0. 0. 0. 0. 0. 0. 0. 0. 0. 0. 0. 0. 0. 0.]</details><details><summary> <strong> channel_names </strong> </summary>['CH1' 'CH2' 'CH3' 'CH4' 'CH5' 'CH6' 'CH7' 'CH8' 'CH9' 'CH10' 'CH11'\n",
       " 'CH12' 'CH13' 'CH14' 'CH15' 'CH16' 'CH17' 'CH18' 'CH19' 'CH20' 'CH21'\n",
       " 'CH22' 'CH23' 'CH24' 'CH25' 'CH26' 'CH27' 'CH28' 'CH29' 'CH30' 'CH31'\n",
       " 'CH32' 'CH33' 'CH34' 'CH35' 'CH36' 'CH37' 'CH38' 'CH39' 'CH40' 'CH41'\n",
       " 'CH42' 'CH43' 'CH44' 'CH45' 'CH46' 'CH47' 'CH48' 'CH49' 'CH50' 'CH51'\n",
       " 'CH52' 'CH53' 'CH54' 'CH55' 'CH56' 'CH57' 'CH58' 'CH59' 'CH60' 'CH61'\n",
       " 'CH62' 'CH63' 'CH64']</details><details><summary> <strong> contact_vector </strong> </summary>[(0,  0. , 775. , 'rect', 11., 15., '', '64',  0, 'um', 1., 0., 0., 1.)\n",
       " (0,  0. , 400. , 'rect', 11., 15., '', '63',  1, 'um', 1., 0., 0., 1.)\n",
       " (0,  0. , 450. , 'rect', 11., 15., '', '62',  2, 'um', 1., 0., 0., 1.)\n",
       " (0,  0. , 700. , 'rect', 11., 15., '', '61',  3, 'um', 1., 0., 0., 1.)\n",
       " (0,  0. , 650. , 'rect', 11., 15., '', '60',  4, 'um', 1., 0., 0., 1.)\n",
       " (0,  0. , 575. , 'rect', 11., 15., '', '59',  5, 'um', 1., 0., 0., 1.)\n",
       " (0, 22.5, 762.5, 'rect', 11., 15., '', '58',  6, 'um', 1., 0., 0., 1.)\n",
       " (0, 22.5, 537.5, 'rect', 11., 15., '', '57',  7, 'um', 1., 0., 0., 1.)\n",
       " (0,  0. , 750. , 'rect', 11., 15., '', '48',  8, 'um', 1., 0., 0., 1.)\n",
       " (0,  0. , 375. , 'rect', 11., 15., '', '46',  9, 'um', 1., 0., 0., 1.)\n",
       " (0,  0. , 525. , 'rect', 11., 15., '', '47', 10, 'um', 1., 0., 0., 1.)\n",
       " (0, 22.5, 437.5, 'rect', 11., 15., '', '45', 11, 'um', 1., 0., 0., 1.)\n",
       " (0, 22.5, 487.5, 'rect', 11., 15., '', '44', 12, 'um', 1., 0., 0., 1.)\n",
       " (0, 22.5, 562.5, 'rect', 11., 15., '', '43', 13, 'um', 1., 0., 0., 1.)\n",
       " (0,  0. , 550. , 'rect', 11., 15., '', '32', 14, 'um', 1., 0., 0., 1.)\n",
       " (0, 22.5, 687.5, 'rect', 11., 15., '', '42', 15, 'um', 1., 0., 0., 1.)\n",
       " (0,  0. , 475. , 'rect', 11., 15., '', '31', 16, 'um', 1., 0., 0., 1.)\n",
       " (0, 22.5, 787.5, 'rect', 11., 15., '', '30', 17, 'um', 1., 0., 0., 1.)\n",
       " (0, 22.5, 512.5, 'rect', 11., 15., '', '28', 18, 'um', 1., 0., 0., 1.)\n",
       " (0,  0. , 625. , 'rect', 11., 15., '', '29', 19, 'um', 1., 0., 0., 1.)\n",
       " (0,  0. , 725. , 'rect', 11., 15., '', '16', 20, 'um', 1., 0., 0., 1.)\n",
       " (0, 22.5, 737.5, 'rect', 11., 15., '', '27', 21, 'um', 1., 0., 0., 1.)\n",
       " (0,  0. , 425. , 'rect', 11., 15., '', '15', 22, 'um', 1., 0., 0., 1.)\n",
       " (0, 22.5, 662.5, 'rect', 11., 15., '', '26', 23, 'um', 1., 0., 0., 1.)\n",
       " (0,  0. , 500. , 'rect', 11., 15., '', '14', 24, 'um', 1., 0., 0., 1.)\n",
       " (0,  0. , 675. , 'rect', 11., 15., '', '13', 25, 'um', 1., 0., 0., 1.)\n",
       " (0,  0. , 600. , 'rect', 11., 15., '', '12', 26, 'um', 1., 0., 0., 1.)\n",
       " (0, 22.5, 612.5, 'rect', 11., 15., '', '25', 27, 'um', 1., 0., 0., 1.)\n",
       " (0, 22.5, 462.5, 'rect', 11., 15., '', '11', 28, 'um', 1., 0., 0., 1.)\n",
       " (0, 22.5, 587.5, 'rect', 11., 15., '', '9', 29, 'um', 1., 0., 0., 1.)\n",
       " (0, 22.5, 712.5, 'rect', 11., 15., '', '10', 30, 'um', 1., 0., 0., 1.)\n",
       " (0, 22.5, 637.5, 'rect', 11., 15., '', '24', 31, 'um', 1., 0., 0., 1.)\n",
       " (0,  0. , 275. , 'rect', 11., 15., '', '8', 32, 'um', 1., 0., 0., 1.)\n",
       " (0, 22.5, 337.5, 'rect', 11., 15., '', '7', 33, 'um', 1., 0., 0., 1.)\n",
       " (0, 22.5, 212.5, 'rect', 11., 15., '', '6', 34, 'um', 1., 0., 0., 1.)\n",
       " (0,  0. , 100. , 'rect', 11., 15., '', '5', 35, 'um', 1., 0., 0., 1.)\n",
       " (0,  0. , 350. , 'rect', 11., 15., '', '23', 36, 'um', 1., 0., 0., 1.)\n",
       " (0, 22.5, 137.5, 'rect', 11., 15., '', '4', 37, 'um', 1., 0., 0., 1.)\n",
       " (0,  0. ,  50. , 'rect', 11., 15., '', '3', 38, 'um', 1., 0., 0., 1.)\n",
       " (0, 22.5,  12.5, 'rect', 11., 15., '', '2', 39, 'um', 1., 0., 0., 1.)\n",
       " (0, 22.5, 312.5, 'rect', 11., 15., '', '22', 40, 'um', 1., 0., 0., 1.)\n",
       " (0, 22.5, 162.5, 'rect', 11., 15., '', '1', 41, 'um', 1., 0., 0., 1.)\n",
       " (0, 22.5, 112.5, 'rect', 11., 15., '', '21', 42, 'um', 1., 0., 0., 1.)\n",
       " (0, 22.5, 237.5, 'rect', 11., 15., '', '20', 43, 'um', 1., 0., 0., 1.)\n",
       " (0,  0. , 175. , 'rect', 11., 15., '', '19', 44, 'um', 1., 0., 0., 1.)\n",
       " (0, 22.5, 387.5, 'rect', 11., 15., '', '18', 45, 'um', 1., 0., 0., 1.)\n",
       " (0,  0. ,  75. , 'rect', 11., 15., '', '17', 46, 'um', 1., 0., 0., 1.)\n",
       " (0, 22.5, 262.5, 'rect', 11., 15., '', '41', 47, 'um', 1., 0., 0., 1.)\n",
       " (0,  0. , 300. , 'rect', 11., 15., '', '40', 48, 'um', 1., 0., 0., 1.)\n",
       " (0,  0. , 200. , 'rect', 11., 15., '', '39', 49, 'um', 1., 0., 0., 1.)\n",
       " (0,  0. , 325. , 'rect', 11., 15., '', '38', 50, 'um', 1., 0., 0., 1.)\n",
       " (0, 22.5,  37.5, 'rect', 11., 15., '', '37', 51, 'um', 1., 0., 0., 1.)\n",
       " (0,  0. , 225. , 'rect', 11., 15., '', '36', 52, 'um', 1., 0., 0., 1.)\n",
       " (0, 22.5, 412.5, 'rect', 11., 15., '', '34', 53, 'um', 1., 0., 0., 1.)\n",
       " (0,  0. , 150. , 'rect', 11., 15., '', '35', 54, 'um', 1., 0., 0., 1.)\n",
       " (0, 22.5,  62.5, 'rect', 11., 15., '', '33', 55, 'um', 1., 0., 0., 1.)\n",
       " (0, 22.5, 287.5, 'rect', 11., 15., '', '56', 56, 'um', 1., 0., 0., 1.)\n",
       " (0,  0. , 250. , 'rect', 11., 15., '', '55', 57, 'um', 1., 0., 0., 1.)\n",
       " (0, 22.5, 362.5, 'rect', 11., 15., '', '54', 58, 'um', 1., 0., 0., 1.)\n",
       " (0, 22.5,  87.5, 'rect', 11., 15., '', '53', 59, 'um', 1., 0., 0., 1.)\n",
       " (0,  0. , 125. , 'rect', 11., 15., '', '52', 60, 'um', 1., 0., 0., 1.)\n",
       " (0,  0. ,  25. , 'rect', 11., 15., '', '51', 61, 'um', 1., 0., 0., 1.)\n",
       " (0,  0. ,   0. , 'rect', 11., 15., '', '50', 62, 'um', 1., 0., 0., 1.)\n",
       " (0, 22.5, 187.5, 'rect', 11., 15., '', '49', 63, 'um', 1., 0., 0., 1.)]</details><details><summary> <strong> location </strong> </summary>[[  0.  775. ]\n",
       " [  0.  400. ]\n",
       " [  0.  450. ]\n",
       " [  0.  700. ]\n",
       " [  0.  650. ]\n",
       " [  0.  575. ]\n",
       " [ 22.5 762.5]\n",
       " [ 22.5 537.5]\n",
       " [  0.  750. ]\n",
       " [  0.  375. ]\n",
       " [  0.  525. ]\n",
       " [ 22.5 437.5]\n",
       " [ 22.5 487.5]\n",
       " [ 22.5 562.5]\n",
       " [  0.  550. ]\n",
       " [ 22.5 687.5]\n",
       " [  0.  475. ]\n",
       " [ 22.5 787.5]\n",
       " [ 22.5 512.5]\n",
       " [  0.  625. ]\n",
       " [  0.  725. ]\n",
       " [ 22.5 737.5]\n",
       " [  0.  425. ]\n",
       " [ 22.5 662.5]\n",
       " [  0.  500. ]\n",
       " [  0.  675. ]\n",
       " [  0.  600. ]\n",
       " [ 22.5 612.5]\n",
       " [ 22.5 462.5]\n",
       " [ 22.5 587.5]\n",
       " [ 22.5 712.5]\n",
       " [ 22.5 637.5]\n",
       " [  0.  275. ]\n",
       " [ 22.5 337.5]\n",
       " [ 22.5 212.5]\n",
       " [  0.  100. ]\n",
       " [  0.  350. ]\n",
       " [ 22.5 137.5]\n",
       " [  0.   50. ]\n",
       " [ 22.5  12.5]\n",
       " [ 22.5 312.5]\n",
       " [ 22.5 162.5]\n",
       " [ 22.5 112.5]\n",
       " [ 22.5 237.5]\n",
       " [  0.  175. ]\n",
       " [ 22.5 387.5]\n",
       " [  0.   75. ]\n",
       " [ 22.5 262.5]\n",
       " [  0.  300. ]\n",
       " [  0.  200. ]\n",
       " [  0.  325. ]\n",
       " [ 22.5  37.5]\n",
       " [  0.  225. ]\n",
       " [ 22.5 412.5]\n",
       " [  0.  150. ]\n",
       " [ 22.5  62.5]\n",
       " [ 22.5 287.5]\n",
       " [  0.  250. ]\n",
       " [ 22.5 362.5]\n",
       " [ 22.5  87.5]\n",
       " [  0.  125. ]\n",
       " [  0.   25. ]\n",
       " [  0.    0. ]\n",
       " [ 22.5 187.5]]</details><details><summary> <strong> group </strong> </summary>[0 0 0 0 0 0 0 0 0 0 0 0 0 0 0 0 0 0 0 0 0 0 0 0 0 0 0 0 0 0 0 0 0 0 0 0 0\n",
       " 0 0 0 0 0 0 0 0 0 0 0 0 0 0 0 0 0 0 0 0 0 0 0 0 0 0 0]</details><details><summary> <strong> quality </strong> </summary>['good' 'good' 'good' 'good' 'good' 'good' 'good' 'good' 'good' 'good'\n",
       " 'good' 'good' 'good' 'good' 'good' 'good' 'good' 'good' 'good' 'good'\n",
       " 'good' 'good' 'good' 'good' 'good' 'good' 'good' 'good' 'good' 'good'\n",
       " 'good' 'good' 'good' 'good' 'good' 'good' 'good' 'good' 'good' 'good'\n",
       " 'good' 'good' 'good' 'good' 'good' 'good' 'good' 'good' 'good' 'good'\n",
       " 'good' 'good' 'good' 'good' 'good' 'good' 'good' 'good' 'good' 'good'\n",
       " 'good' '' '' '']</details></ul></details>"
      ],
      "text/plain": [
       "ChannelSliceRecording: 64 channels - 30.0kHz - 1 segments - 9,000,000 samples \n",
       "                       300.00s (5.00 minutes) - int16 dtype - 1.07 GiB"
      ]
     },
     "execution_count": 19,
     "metadata": {},
     "output_type": "execute_result"
    }
   ],
   "source": [
    "raw_rec.set_property(key='quality', values=[\"good\"]*(raw_rec.get_num_channels() - 3),\n",
    "                     ids=raw_rec.get_channel_ids()[:-3])\n",
    "raw_rec"
   ]
  },
  {
   "cell_type": "code",
   "execution_count": 39,
   "metadata": {},
   "outputs": [
    {
     "data": {
      "text/plain": [
       "array(['good', 'good', 'good', 'good', 'good', 'good', 'good', '', '', ''],\n",
       "      dtype='<U4')"
      ]
     },
     "execution_count": 39,
     "metadata": {},
     "output_type": "execute_result"
    }
   ],
   "source": [
    "raw_rec.get_property(\"quality\")[-10:]"
   ]
  },
  {
   "cell_type": "markdown",
   "metadata": {
    "pycharm": {
     "name": "#%% md\n"
    }
   },
   "source": [
    "### Annotations"
   ]
  },
  {
   "cell_type": "markdown",
   "metadata": {
    "pycharm": {
     "name": "#%% md\n"
    }
   },
   "source": [
    "*Annotations* can be attached to any object and they can carry any information related to the recording or sorting objects.\n",
    "\n",
    "Let's add an annotation about this tutorial:"
   ]
  },
  {
   "cell_type": "code",
   "execution_count": 20,
   "metadata": {
    "pycharm": {
     "name": "#%%\n"
    }
   },
   "outputs": [
    {
     "data": {
      "text/html": [
       "<div style='border:1px solid #ddd; padding:10px;'><strong>ChannelSliceRecording: 64 channels - 30.0kHz - 1 segments - 9,000,000 samples - 300.00s (5.00 minutes) - int16 dtype - 1.07 GiB</strong></div><details style='margin-left: 10px;'>  <summary><strong>Channel IDs</strong></summary><ul>['CH1' 'CH2' 'CH3' 'CH4' 'CH5' 'CH6' 'CH7' 'CH8' 'CH9' 'CH10' 'CH11'\n",
       " 'CH12' 'CH13' 'CH14' 'CH15' 'CH16' 'CH17' 'CH18' 'CH19' 'CH20' 'CH21'\n",
       " 'CH22' 'CH23' 'CH24' 'CH25' 'CH26' 'CH27' 'CH28' 'CH29' 'CH30' 'CH31'\n",
       " 'CH32' 'CH33' 'CH34' 'CH35' 'CH36' 'CH37' 'CH38' 'CH39' 'CH40' 'CH41'\n",
       " 'CH42' 'CH43' 'CH44' 'CH45' 'CH46' 'CH47' 'CH48' 'CH49' 'CH50' 'CH51'\n",
       " 'CH52' 'CH53' 'CH54' 'CH55' 'CH56' 'CH57' 'CH58' 'CH59' 'CH60' 'CH61'\n",
       " 'CH62' 'CH63' 'CH64'] </details><details style='margin-left: 10px;'>  <summary><strong>Annotations</strong></summary><ul><li> <strong> is_filtered </strong>: False</li><li> <strong> probe_0_planar_contour </strong>: [[-10.  900. ]\n",
       " [-10.  -10. ]\n",
       " [ 11.  -28. ]\n",
       " [ 20.  -10. ]\n",
       " [ 72.5 900. ]]</li><li> <strong> description </strong>: Dataset for SI tutorial</li></ul> </details><details style='margin-left: 10px;'><summary><strong>Channel Properties</strong></summary><ul><details><summary> <strong> gain_to_uV </strong> </summary>[0.19499999 0.19499999 0.19499999 0.19499999 0.19499999 0.19499999\n",
       " 0.19499999 0.19499999 0.19499999 0.19499999 0.19499999 0.19499999\n",
       " 0.19499999 0.19499999 0.19499999 0.19499999 0.19499999 0.19499999\n",
       " 0.19499999 0.19499999 0.19499999 0.19499999 0.19499999 0.19499999\n",
       " 0.19499999 0.19499999 0.19499999 0.19499999 0.19499999 0.19499999\n",
       " 0.19499999 0.19499999 0.19499999 0.19499999 0.19499999 0.19499999\n",
       " 0.19499999 0.19499999 0.19499999 0.19499999 0.19499999 0.19499999\n",
       " 0.19499999 0.19499999 0.19499999 0.19499999 0.19499999 0.19499999\n",
       " 0.19499999 0.19499999 0.19499999 0.19499999 0.19499999 0.19499999\n",
       " 0.19499999 0.19499999 0.19499999 0.19499999 0.19499999 0.19499999\n",
       " 0.19499999 0.19499999 0.19499999 0.19499999]</details><details><summary> <strong> offset_to_uV </strong> </summary>[0. 0. 0. 0. 0. 0. 0. 0. 0. 0. 0. 0. 0. 0. 0. 0. 0. 0. 0. 0. 0. 0. 0. 0.\n",
       " 0. 0. 0. 0. 0. 0. 0. 0. 0. 0. 0. 0. 0. 0. 0. 0. 0. 0. 0. 0. 0. 0. 0. 0.\n",
       " 0. 0. 0. 0. 0. 0. 0. 0. 0. 0. 0. 0. 0. 0. 0. 0.]</details><details><summary> <strong> channel_names </strong> </summary>['CH1' 'CH2' 'CH3' 'CH4' 'CH5' 'CH6' 'CH7' 'CH8' 'CH9' 'CH10' 'CH11'\n",
       " 'CH12' 'CH13' 'CH14' 'CH15' 'CH16' 'CH17' 'CH18' 'CH19' 'CH20' 'CH21'\n",
       " 'CH22' 'CH23' 'CH24' 'CH25' 'CH26' 'CH27' 'CH28' 'CH29' 'CH30' 'CH31'\n",
       " 'CH32' 'CH33' 'CH34' 'CH35' 'CH36' 'CH37' 'CH38' 'CH39' 'CH40' 'CH41'\n",
       " 'CH42' 'CH43' 'CH44' 'CH45' 'CH46' 'CH47' 'CH48' 'CH49' 'CH50' 'CH51'\n",
       " 'CH52' 'CH53' 'CH54' 'CH55' 'CH56' 'CH57' 'CH58' 'CH59' 'CH60' 'CH61'\n",
       " 'CH62' 'CH63' 'CH64']</details><details><summary> <strong> contact_vector </strong> </summary>[(0,  0. , 775. , 'rect', 11., 15., '', '64',  0, 'um', 1., 0., 0., 1.)\n",
       " (0,  0. , 400. , 'rect', 11., 15., '', '63',  1, 'um', 1., 0., 0., 1.)\n",
       " (0,  0. , 450. , 'rect', 11., 15., '', '62',  2, 'um', 1., 0., 0., 1.)\n",
       " (0,  0. , 700. , 'rect', 11., 15., '', '61',  3, 'um', 1., 0., 0., 1.)\n",
       " (0,  0. , 650. , 'rect', 11., 15., '', '60',  4, 'um', 1., 0., 0., 1.)\n",
       " (0,  0. , 575. , 'rect', 11., 15., '', '59',  5, 'um', 1., 0., 0., 1.)\n",
       " (0, 22.5, 762.5, 'rect', 11., 15., '', '58',  6, 'um', 1., 0., 0., 1.)\n",
       " (0, 22.5, 537.5, 'rect', 11., 15., '', '57',  7, 'um', 1., 0., 0., 1.)\n",
       " (0,  0. , 750. , 'rect', 11., 15., '', '48',  8, 'um', 1., 0., 0., 1.)\n",
       " (0,  0. , 375. , 'rect', 11., 15., '', '46',  9, 'um', 1., 0., 0., 1.)\n",
       " (0,  0. , 525. , 'rect', 11., 15., '', '47', 10, 'um', 1., 0., 0., 1.)\n",
       " (0, 22.5, 437.5, 'rect', 11., 15., '', '45', 11, 'um', 1., 0., 0., 1.)\n",
       " (0, 22.5, 487.5, 'rect', 11., 15., '', '44', 12, 'um', 1., 0., 0., 1.)\n",
       " (0, 22.5, 562.5, 'rect', 11., 15., '', '43', 13, 'um', 1., 0., 0., 1.)\n",
       " (0,  0. , 550. , 'rect', 11., 15., '', '32', 14, 'um', 1., 0., 0., 1.)\n",
       " (0, 22.5, 687.5, 'rect', 11., 15., '', '42', 15, 'um', 1., 0., 0., 1.)\n",
       " (0,  0. , 475. , 'rect', 11., 15., '', '31', 16, 'um', 1., 0., 0., 1.)\n",
       " (0, 22.5, 787.5, 'rect', 11., 15., '', '30', 17, 'um', 1., 0., 0., 1.)\n",
       " (0, 22.5, 512.5, 'rect', 11., 15., '', '28', 18, 'um', 1., 0., 0., 1.)\n",
       " (0,  0. , 625. , 'rect', 11., 15., '', '29', 19, 'um', 1., 0., 0., 1.)\n",
       " (0,  0. , 725. , 'rect', 11., 15., '', '16', 20, 'um', 1., 0., 0., 1.)\n",
       " (0, 22.5, 737.5, 'rect', 11., 15., '', '27', 21, 'um', 1., 0., 0., 1.)\n",
       " (0,  0. , 425. , 'rect', 11., 15., '', '15', 22, 'um', 1., 0., 0., 1.)\n",
       " (0, 22.5, 662.5, 'rect', 11., 15., '', '26', 23, 'um', 1., 0., 0., 1.)\n",
       " (0,  0. , 500. , 'rect', 11., 15., '', '14', 24, 'um', 1., 0., 0., 1.)\n",
       " (0,  0. , 675. , 'rect', 11., 15., '', '13', 25, 'um', 1., 0., 0., 1.)\n",
       " (0,  0. , 600. , 'rect', 11., 15., '', '12', 26, 'um', 1., 0., 0., 1.)\n",
       " (0, 22.5, 612.5, 'rect', 11., 15., '', '25', 27, 'um', 1., 0., 0., 1.)\n",
       " (0, 22.5, 462.5, 'rect', 11., 15., '', '11', 28, 'um', 1., 0., 0., 1.)\n",
       " (0, 22.5, 587.5, 'rect', 11., 15., '', '9', 29, 'um', 1., 0., 0., 1.)\n",
       " (0, 22.5, 712.5, 'rect', 11., 15., '', '10', 30, 'um', 1., 0., 0., 1.)\n",
       " (0, 22.5, 637.5, 'rect', 11., 15., '', '24', 31, 'um', 1., 0., 0., 1.)\n",
       " (0,  0. , 275. , 'rect', 11., 15., '', '8', 32, 'um', 1., 0., 0., 1.)\n",
       " (0, 22.5, 337.5, 'rect', 11., 15., '', '7', 33, 'um', 1., 0., 0., 1.)\n",
       " (0, 22.5, 212.5, 'rect', 11., 15., '', '6', 34, 'um', 1., 0., 0., 1.)\n",
       " (0,  0. , 100. , 'rect', 11., 15., '', '5', 35, 'um', 1., 0., 0., 1.)\n",
       " (0,  0. , 350. , 'rect', 11., 15., '', '23', 36, 'um', 1., 0., 0., 1.)\n",
       " (0, 22.5, 137.5, 'rect', 11., 15., '', '4', 37, 'um', 1., 0., 0., 1.)\n",
       " (0,  0. ,  50. , 'rect', 11., 15., '', '3', 38, 'um', 1., 0., 0., 1.)\n",
       " (0, 22.5,  12.5, 'rect', 11., 15., '', '2', 39, 'um', 1., 0., 0., 1.)\n",
       " (0, 22.5, 312.5, 'rect', 11., 15., '', '22', 40, 'um', 1., 0., 0., 1.)\n",
       " (0, 22.5, 162.5, 'rect', 11., 15., '', '1', 41, 'um', 1., 0., 0., 1.)\n",
       " (0, 22.5, 112.5, 'rect', 11., 15., '', '21', 42, 'um', 1., 0., 0., 1.)\n",
       " (0, 22.5, 237.5, 'rect', 11., 15., '', '20', 43, 'um', 1., 0., 0., 1.)\n",
       " (0,  0. , 175. , 'rect', 11., 15., '', '19', 44, 'um', 1., 0., 0., 1.)\n",
       " (0, 22.5, 387.5, 'rect', 11., 15., '', '18', 45, 'um', 1., 0., 0., 1.)\n",
       " (0,  0. ,  75. , 'rect', 11., 15., '', '17', 46, 'um', 1., 0., 0., 1.)\n",
       " (0, 22.5, 262.5, 'rect', 11., 15., '', '41', 47, 'um', 1., 0., 0., 1.)\n",
       " (0,  0. , 300. , 'rect', 11., 15., '', '40', 48, 'um', 1., 0., 0., 1.)\n",
       " (0,  0. , 200. , 'rect', 11., 15., '', '39', 49, 'um', 1., 0., 0., 1.)\n",
       " (0,  0. , 325. , 'rect', 11., 15., '', '38', 50, 'um', 1., 0., 0., 1.)\n",
       " (0, 22.5,  37.5, 'rect', 11., 15., '', '37', 51, 'um', 1., 0., 0., 1.)\n",
       " (0,  0. , 225. , 'rect', 11., 15., '', '36', 52, 'um', 1., 0., 0., 1.)\n",
       " (0, 22.5, 412.5, 'rect', 11., 15., '', '34', 53, 'um', 1., 0., 0., 1.)\n",
       " (0,  0. , 150. , 'rect', 11., 15., '', '35', 54, 'um', 1., 0., 0., 1.)\n",
       " (0, 22.5,  62.5, 'rect', 11., 15., '', '33', 55, 'um', 1., 0., 0., 1.)\n",
       " (0, 22.5, 287.5, 'rect', 11., 15., '', '56', 56, 'um', 1., 0., 0., 1.)\n",
       " (0,  0. , 250. , 'rect', 11., 15., '', '55', 57, 'um', 1., 0., 0., 1.)\n",
       " (0, 22.5, 362.5, 'rect', 11., 15., '', '54', 58, 'um', 1., 0., 0., 1.)\n",
       " (0, 22.5,  87.5, 'rect', 11., 15., '', '53', 59, 'um', 1., 0., 0., 1.)\n",
       " (0,  0. , 125. , 'rect', 11., 15., '', '52', 60, 'um', 1., 0., 0., 1.)\n",
       " (0,  0. ,  25. , 'rect', 11., 15., '', '51', 61, 'um', 1., 0., 0., 1.)\n",
       " (0,  0. ,   0. , 'rect', 11., 15., '', '50', 62, 'um', 1., 0., 0., 1.)\n",
       " (0, 22.5, 187.5, 'rect', 11., 15., '', '49', 63, 'um', 1., 0., 0., 1.)]</details><details><summary> <strong> location </strong> </summary>[[  0.  775. ]\n",
       " [  0.  400. ]\n",
       " [  0.  450. ]\n",
       " [  0.  700. ]\n",
       " [  0.  650. ]\n",
       " [  0.  575. ]\n",
       " [ 22.5 762.5]\n",
       " [ 22.5 537.5]\n",
       " [  0.  750. ]\n",
       " [  0.  375. ]\n",
       " [  0.  525. ]\n",
       " [ 22.5 437.5]\n",
       " [ 22.5 487.5]\n",
       " [ 22.5 562.5]\n",
       " [  0.  550. ]\n",
       " [ 22.5 687.5]\n",
       " [  0.  475. ]\n",
       " [ 22.5 787.5]\n",
       " [ 22.5 512.5]\n",
       " [  0.  625. ]\n",
       " [  0.  725. ]\n",
       " [ 22.5 737.5]\n",
       " [  0.  425. ]\n",
       " [ 22.5 662.5]\n",
       " [  0.  500. ]\n",
       " [  0.  675. ]\n",
       " [  0.  600. ]\n",
       " [ 22.5 612.5]\n",
       " [ 22.5 462.5]\n",
       " [ 22.5 587.5]\n",
       " [ 22.5 712.5]\n",
       " [ 22.5 637.5]\n",
       " [  0.  275. ]\n",
       " [ 22.5 337.5]\n",
       " [ 22.5 212.5]\n",
       " [  0.  100. ]\n",
       " [  0.  350. ]\n",
       " [ 22.5 137.5]\n",
       " [  0.   50. ]\n",
       " [ 22.5  12.5]\n",
       " [ 22.5 312.5]\n",
       " [ 22.5 162.5]\n",
       " [ 22.5 112.5]\n",
       " [ 22.5 237.5]\n",
       " [  0.  175. ]\n",
       " [ 22.5 387.5]\n",
       " [  0.   75. ]\n",
       " [ 22.5 262.5]\n",
       " [  0.  300. ]\n",
       " [  0.  200. ]\n",
       " [  0.  325. ]\n",
       " [ 22.5  37.5]\n",
       " [  0.  225. ]\n",
       " [ 22.5 412.5]\n",
       " [  0.  150. ]\n",
       " [ 22.5  62.5]\n",
       " [ 22.5 287.5]\n",
       " [  0.  250. ]\n",
       " [ 22.5 362.5]\n",
       " [ 22.5  87.5]\n",
       " [  0.  125. ]\n",
       " [  0.   25. ]\n",
       " [  0.    0. ]\n",
       " [ 22.5 187.5]]</details><details><summary> <strong> group </strong> </summary>[0 0 0 0 0 0 0 0 0 0 0 0 0 0 0 0 0 0 0 0 0 0 0 0 0 0 0 0 0 0 0 0 0 0 0 0 0\n",
       " 0 0 0 0 0 0 0 0 0 0 0 0 0 0 0 0 0 0 0 0 0 0 0 0 0 0 0]</details><details><summary> <strong> quality </strong> </summary>['good' 'good' 'good' 'good' 'good' 'good' 'good' 'good' 'good' 'good'\n",
       " 'good' 'good' 'good' 'good' 'good' 'good' 'good' 'good' 'good' 'good'\n",
       " 'good' 'good' 'good' 'good' 'good' 'good' 'good' 'good' 'good' 'good'\n",
       " 'good' 'good' 'good' 'good' 'good' 'good' 'good' 'good' 'good' 'good'\n",
       " 'good' 'good' 'good' 'good' 'good' 'good' 'good' 'good' 'good' 'good'\n",
       " 'good' 'good' 'good' 'good' 'good' 'good' 'good' 'good' 'good' 'good'\n",
       " 'good' '' '' '']</details></ul></details>"
      ],
      "text/plain": [
       "ChannelSliceRecording: 64 channels - 30.0kHz - 1 segments - 9,000,000 samples \n",
       "                       300.00s (5.00 minutes) - int16 dtype - 1.07 GiB"
      ]
     },
     "execution_count": 20,
     "metadata": {},
     "output_type": "execute_result"
    }
   ],
   "source": [
    "raw_rec.annotate(description=\"Dataset for SI tutorial\")\n",
    "raw_rec"
   ]
  },
  {
   "cell_type": "code",
   "execution_count": 41,
   "metadata": {},
   "outputs": [
    {
     "name": "stdout",
     "output_type": "stream",
     "text": [
      "['is_filtered', 'probe_0_planar_contour', 'description']\n"
     ]
    }
   ],
   "source": [
    "print(raw_rec.get_annotation_keys())"
   ]
  },
  {
   "cell_type": "markdown",
   "metadata": {},
   "source": [
    "# 2. Preprocessing <a class=\"anchor\" id=\"preprocessing\"></a>\n",
    "\n",
    "\n",
    "Now that the probe information is loaded we can do some preprocessing using `preprocessing` module.\n",
    "\n",
    "We can filter the recordings, rereference the signals to remove noise, discard noisy channels, whiten the data, remove stimulation artifacts, etc. (more info [here](https://spiketoolkit.readthedocs.io/en/latest/preprocessing_example.html)).\n",
    "\n",
    "For this notebook, let's filter the recordings and apply common median reference (CMR). \n",
    "**IMPORTANT:** All preprocessing functions return new `Recording` objects that apply the underlying preprocessing operation when requested. This allows users to access the preprocessed data in the same way as the raw data."
   ]
  },
  {
   "cell_type": "markdown",
   "metadata": {
    "pycharm": {
     "name": "#%% md\n"
    }
   },
   "source": [
    "Below, we bandpass filter the recording and apply common median reference to the original recording:"
   ]
  },
  {
   "cell_type": "code",
   "execution_count": 21,
   "metadata": {
    "pycharm": {
     "name": "#%%\n"
    }
   },
   "outputs": [
    {
     "name": "stdout",
     "output_type": "stream",
     "text": [
      "BandpassFilterRecording: 64 channels - 30.0kHz - 1 segments - 9,000,000 samples \n",
      "                         300.00s (5.00 minutes) - int16 dtype - 1.07 GiB\n"
     ]
    }
   ],
   "source": [
    "recording_f = si.bandpass_filter(raw_rec, freq_min=300, freq_max=9000)\n",
    "print(recording_f)"
   ]
  },
  {
   "cell_type": "markdown",
   "metadata": {
    "pycharm": {
     "name": "#%% md\n"
    }
   },
   "source": [
    "Let's now apply Common Median Reference (CMR):"
   ]
  },
  {
   "cell_type": "code",
   "execution_count": 22,
   "metadata": {},
   "outputs": [
    {
     "name": "stdout",
     "output_type": "stream",
     "text": [
      "CommonReferenceRecording: 64 channels - 30.0kHz - 1 segments - 9,000,000 samples \n",
      "                          300.00s (5.00 minutes) - int16 dtype - 1.07 GiB\n"
     ]
    }
   ],
   "source": [
    "recording_cmr = si.common_reference(recording_f, reference='global', operator='median')\n",
    "print(recording_cmr)"
   ]
  },
  {
   "cell_type": "markdown",
   "metadata": {},
   "source": [
    "We can plot the traces after applying CMR:"
   ]
  },
  {
   "cell_type": "code",
   "execution_count": 23,
   "metadata": {},
   "outputs": [
    {
     "data": {
      "application/vnd.jupyter.widget-view+json": {
       "model_id": "3d3d4d10964347e69824548b4f17db42",
       "version_major": 2,
       "version_minor": 0
      },
      "text/plain": [
       "AppLayout(children=(TimeSlider(children=(Dropdown(description='segment', options=(0,), value=0), Button(icon='…"
      ]
     },
     "metadata": {},
     "output_type": "display_data"
    }
   ],
   "source": [
    "recording_layers = dict(\n",
    "    filt=recording_f,\n",
    "    common=recording_cmr\n",
    ")\n",
    "\n",
    "w = si.plot_traces(recording_layers, mode='map', time_range=[10, 10.1], backend=\"ipywidgets\")"
   ]
  },
  {
   "cell_type": "code",
   "execution_count": null,
   "metadata": {},
   "outputs": [],
   "source": [
    "%gui qt\n",
    "w = si.plot_traces(recording_layers, mode='line', time_range=[10, 10.1], backend=\"ephyviewer\")"
   ]
  },
  {
   "cell_type": "markdown",
   "metadata": {},
   "source": [
    "The previous plot clearly shows some strange channels on the border.\n",
    "\n",
    "We can detect then and remove then from the recording using the `detect_bad_channels` function."
   ]
  },
  {
   "cell_type": "code",
   "execution_count": 24,
   "metadata": {},
   "outputs": [
    {
     "name": "stdout",
     "output_type": "stream",
     "text": [
      "['CH1' 'CH2' 'CH3' 'CH4' 'CH5' 'CH6' 'CH7' 'CH8' 'CH40' 'CH57' 'CH58'\n",
      " 'CH59' 'CH60' 'CH61' 'CH64']\n",
      "['dead' 'dead' 'dead' 'dead' 'dead' 'dead' 'dead' 'dead' 'good' 'good'\n",
      " 'good' 'good' 'good' 'good' 'good' 'good' 'good' 'good' 'good' 'good'\n",
      " 'good' 'good' 'good' 'good' 'good' 'good' 'good' 'good' 'good' 'good'\n",
      " 'good' 'good' 'good' 'good' 'good' 'good' 'good' 'good' 'good' 'noise'\n",
      " 'good' 'good' 'good' 'good' 'good' 'good' 'good' 'good' 'good' 'good'\n",
      " 'good' 'good' 'good' 'good' 'good' 'good' 'dead' 'dead' 'dead' 'dead'\n",
      " 'dead' 'good' 'good' 'dead']\n"
     ]
    }
   ],
   "source": [
    "bad_channel_ids, bad_channel_labels = si.detect_bad_channels(recording_f, method='coherence+psd')\n",
    "print(bad_channel_ids)\n",
    "print(bad_channel_labels)"
   ]
  },
  {
   "cell_type": "code",
   "execution_count": 25,
   "metadata": {},
   "outputs": [
    {
     "name": "stdout",
     "output_type": "stream",
     "text": [
      "ChannelSliceRecording: 49 channels - 30.0kHz - 1 segments - 9,000,000 samples \n",
      "                       300.00s (5.00 minutes) - int16 dtype - 841.14 MiB\n"
     ]
    }
   ],
   "source": [
    "recording_f_good = recording_f.remove_channels(bad_channel_ids)\n",
    "print(recording_f_good)"
   ]
  },
  {
   "cell_type": "code",
   "execution_count": 26,
   "metadata": {},
   "outputs": [
    {
     "name": "stdout",
     "output_type": "stream",
     "text": [
      "CommonReferenceRecording: 49 channels - 30.0kHz - 1 segments - 9,000,000 samples \n",
      "                          300.00s (5.00 minutes) - int16 dtype - 841.14 MiB\n"
     ]
    }
   ],
   "source": [
    "recording_cmr_good = si.common_reference(recording_f_good, reference='global', operator='median')\n",
    "print(recording_cmr_good)"
   ]
  },
  {
   "cell_type": "code",
   "execution_count": 27,
   "metadata": {},
   "outputs": [
    {
     "data": {
      "application/vnd.jupyter.widget-view+json": {
       "model_id": "1dc860e9716340e8adeaa2375c8dad8d",
       "version_major": 2,
       "version_minor": 0
      },
      "text/plain": [
       "AppLayout(children=(TimeSlider(children=(Dropdown(description='segment', options=(0,), value=0), Button(icon='…"
      ]
     },
     "metadata": {},
     "output_type": "display_data"
    }
   ],
   "source": [
    "%matplotlib widget\n",
    "w = si.plot_traces(recording_cmr_good, mode='map',time_range=[10, 10.1], backend=\"ipywidgets\")"
   ]
  },
  {
   "cell_type": "markdown",
   "metadata": {},
   "source": [
    "## Take only 5 min. for demo"
   ]
  },
  {
   "cell_type": "markdown",
   "metadata": {
    "pycharm": {
     "name": "#%% md\n"
    }
   },
   "source": [
    "Since we are going to spike sort the data, let's first cut out a 5-minute recording, to speed up computations.\n",
    "\n",
    "We can easily do so with the `frame_slice()` function:"
   ]
  },
  {
   "cell_type": "code",
   "execution_count": 30,
   "metadata": {
    "pycharm": {
     "name": "#%%\n"
    }
   },
   "outputs": [
    {
     "data": {
      "text/html": [
       "<div style='border:1px solid #ddd; padding:10px;'><strong>FrameSliceRecording: 49 channels - 30.0kHz - 1 segments - 9,000,000 samples - 300.00s (5.00 minutes) - int16 dtype - 841.14 MiB</strong></div><details style='margin-left: 10px;'>  <summary><strong>Channel IDs</strong></summary><ul>['CH9' 'CH10' 'CH11' 'CH12' 'CH13' 'CH14' 'CH15' 'CH16' 'CH17' 'CH18'\n",
       " 'CH19' 'CH20' 'CH21' 'CH22' 'CH23' 'CH24' 'CH25' 'CH26' 'CH27' 'CH28'\n",
       " 'CH29' 'CH30' 'CH31' 'CH32' 'CH33' 'CH34' 'CH35' 'CH36' 'CH37' 'CH38'\n",
       " 'CH39' 'CH41' 'CH42' 'CH43' 'CH44' 'CH45' 'CH46' 'CH47' 'CH48' 'CH49'\n",
       " 'CH50' 'CH51' 'CH52' 'CH53' 'CH54' 'CH55' 'CH56' 'CH62' 'CH63'] </details><details style='margin-left: 10px;'>  <summary><strong>Annotations</strong></summary><ul><li> <strong> is_filtered </strong>: True</li><li> <strong> probe_0_planar_contour </strong>: [[-10.  900. ]\n",
       " [-10.  -10. ]\n",
       " [ 11.  -28. ]\n",
       " [ 20.  -10. ]\n",
       " [ 72.5 900. ]]</li><li> <strong> description </strong>: Dataset for SI tutorial</li></ul> </details><details style='margin-left: 10px;'><summary><strong>Channel Properties</strong></summary><ul><details><summary> <strong> gain_to_uV </strong> </summary>[0.19499999 0.19499999 0.19499999 0.19499999 0.19499999 0.19499999\n",
       " 0.19499999 0.19499999 0.19499999 0.19499999 0.19499999 0.19499999\n",
       " 0.19499999 0.19499999 0.19499999 0.19499999 0.19499999 0.19499999\n",
       " 0.19499999 0.19499999 0.19499999 0.19499999 0.19499999 0.19499999\n",
       " 0.19499999 0.19499999 0.19499999 0.19499999 0.19499999 0.19499999\n",
       " 0.19499999 0.19499999 0.19499999 0.19499999 0.19499999 0.19499999\n",
       " 0.19499999 0.19499999 0.19499999 0.19499999 0.19499999 0.19499999\n",
       " 0.19499999 0.19499999 0.19499999 0.19499999 0.19499999 0.19499999\n",
       " 0.19499999]</details><details><summary> <strong> offset_to_uV </strong> </summary>[0 0 0 0 0 0 0 0 0 0 0 0 0 0 0 0 0 0 0 0 0 0 0 0 0 0 0 0 0 0 0 0 0 0 0 0 0\n",
       " 0 0 0 0 0 0 0 0 0 0 0 0]</details><details><summary> <strong> channel_names </strong> </summary>['CH9' 'CH10' 'CH11' 'CH12' 'CH13' 'CH14' 'CH15' 'CH16' 'CH17' 'CH18'\n",
       " 'CH19' 'CH20' 'CH21' 'CH22' 'CH23' 'CH24' 'CH25' 'CH26' 'CH27' 'CH28'\n",
       " 'CH29' 'CH30' 'CH31' 'CH32' 'CH33' 'CH34' 'CH35' 'CH36' 'CH37' 'CH38'\n",
       " 'CH39' 'CH41' 'CH42' 'CH43' 'CH44' 'CH45' 'CH46' 'CH47' 'CH48' 'CH49'\n",
       " 'CH50' 'CH51' 'CH52' 'CH53' 'CH54' 'CH55' 'CH56' 'CH62' 'CH63']</details><details><summary> <strong> contact_vector </strong> </summary>[(0,  0. , 750. , 'rect', 11., 15., '', '48',  0, 'um', 1., 0., 0., 1.)\n",
       " (0,  0. , 375. , 'rect', 11., 15., '', '46',  1, 'um', 1., 0., 0., 1.)\n",
       " (0,  0. , 525. , 'rect', 11., 15., '', '47',  2, 'um', 1., 0., 0., 1.)\n",
       " (0, 22.5, 437.5, 'rect', 11., 15., '', '45',  3, 'um', 1., 0., 0., 1.)\n",
       " (0, 22.5, 487.5, 'rect', 11., 15., '', '44',  4, 'um', 1., 0., 0., 1.)\n",
       " (0, 22.5, 562.5, 'rect', 11., 15., '', '43',  5, 'um', 1., 0., 0., 1.)\n",
       " (0,  0. , 550. , 'rect', 11., 15., '', '32',  6, 'um', 1., 0., 0., 1.)\n",
       " (0, 22.5, 687.5, 'rect', 11., 15., '', '42',  7, 'um', 1., 0., 0., 1.)\n",
       " (0,  0. , 475. , 'rect', 11., 15., '', '31',  8, 'um', 1., 0., 0., 1.)\n",
       " (0, 22.5, 787.5, 'rect', 11., 15., '', '30',  9, 'um', 1., 0., 0., 1.)\n",
       " (0, 22.5, 512.5, 'rect', 11., 15., '', '28', 10, 'um', 1., 0., 0., 1.)\n",
       " (0,  0. , 625. , 'rect', 11., 15., '', '29', 11, 'um', 1., 0., 0., 1.)\n",
       " (0,  0. , 725. , 'rect', 11., 15., '', '16', 12, 'um', 1., 0., 0., 1.)\n",
       " (0, 22.5, 737.5, 'rect', 11., 15., '', '27', 13, 'um', 1., 0., 0., 1.)\n",
       " (0,  0. , 425. , 'rect', 11., 15., '', '15', 14, 'um', 1., 0., 0., 1.)\n",
       " (0, 22.5, 662.5, 'rect', 11., 15., '', '26', 15, 'um', 1., 0., 0., 1.)\n",
       " (0,  0. , 500. , 'rect', 11., 15., '', '14', 16, 'um', 1., 0., 0., 1.)\n",
       " (0,  0. , 675. , 'rect', 11., 15., '', '13', 17, 'um', 1., 0., 0., 1.)\n",
       " (0,  0. , 600. , 'rect', 11., 15., '', '12', 18, 'um', 1., 0., 0., 1.)\n",
       " (0, 22.5, 612.5, 'rect', 11., 15., '', '25', 19, 'um', 1., 0., 0., 1.)\n",
       " (0, 22.5, 462.5, 'rect', 11., 15., '', '11', 20, 'um', 1., 0., 0., 1.)\n",
       " (0, 22.5, 587.5, 'rect', 11., 15., '', '9', 21, 'um', 1., 0., 0., 1.)\n",
       " (0, 22.5, 712.5, 'rect', 11., 15., '', '10', 22, 'um', 1., 0., 0., 1.)\n",
       " (0, 22.5, 637.5, 'rect', 11., 15., '', '24', 23, 'um', 1., 0., 0., 1.)\n",
       " (0,  0. , 275. , 'rect', 11., 15., '', '8', 24, 'um', 1., 0., 0., 1.)\n",
       " (0, 22.5, 337.5, 'rect', 11., 15., '', '7', 25, 'um', 1., 0., 0., 1.)\n",
       " (0, 22.5, 212.5, 'rect', 11., 15., '', '6', 26, 'um', 1., 0., 0., 1.)\n",
       " (0,  0. , 100. , 'rect', 11., 15., '', '5', 27, 'um', 1., 0., 0., 1.)\n",
       " (0,  0. , 350. , 'rect', 11., 15., '', '23', 28, 'um', 1., 0., 0., 1.)\n",
       " (0, 22.5, 137.5, 'rect', 11., 15., '', '4', 29, 'um', 1., 0., 0., 1.)\n",
       " (0,  0. ,  50. , 'rect', 11., 15., '', '3', 30, 'um', 1., 0., 0., 1.)\n",
       " (0, 22.5, 312.5, 'rect', 11., 15., '', '22', 31, 'um', 1., 0., 0., 1.)\n",
       " (0, 22.5, 162.5, 'rect', 11., 15., '', '1', 32, 'um', 1., 0., 0., 1.)\n",
       " (0, 22.5, 112.5, 'rect', 11., 15., '', '21', 33, 'um', 1., 0., 0., 1.)\n",
       " (0, 22.5, 237.5, 'rect', 11., 15., '', '20', 34, 'um', 1., 0., 0., 1.)\n",
       " (0,  0. , 175. , 'rect', 11., 15., '', '19', 35, 'um', 1., 0., 0., 1.)\n",
       " (0, 22.5, 387.5, 'rect', 11., 15., '', '18', 36, 'um', 1., 0., 0., 1.)\n",
       " (0,  0. ,  75. , 'rect', 11., 15., '', '17', 37, 'um', 1., 0., 0., 1.)\n",
       " (0, 22.5, 262.5, 'rect', 11., 15., '', '41', 38, 'um', 1., 0., 0., 1.)\n",
       " (0,  0. , 300. , 'rect', 11., 15., '', '40', 39, 'um', 1., 0., 0., 1.)\n",
       " (0,  0. , 200. , 'rect', 11., 15., '', '39', 40, 'um', 1., 0., 0., 1.)\n",
       " (0,  0. , 325. , 'rect', 11., 15., '', '38', 41, 'um', 1., 0., 0., 1.)\n",
       " (0, 22.5,  37.5, 'rect', 11., 15., '', '37', 42, 'um', 1., 0., 0., 1.)\n",
       " (0,  0. , 225. , 'rect', 11., 15., '', '36', 43, 'um', 1., 0., 0., 1.)\n",
       " (0, 22.5, 412.5, 'rect', 11., 15., '', '34', 44, 'um', 1., 0., 0., 1.)\n",
       " (0,  0. , 150. , 'rect', 11., 15., '', '35', 45, 'um', 1., 0., 0., 1.)\n",
       " (0, 22.5,  62.5, 'rect', 11., 15., '', '33', 46, 'um', 1., 0., 0., 1.)\n",
       " (0,  0. ,  25. , 'rect', 11., 15., '', '51', 47, 'um', 1., 0., 0., 1.)\n",
       " (0,  0. ,   0. , 'rect', 11., 15., '', '50', 48, 'um', 1., 0., 0., 1.)]</details><details><summary> <strong> location </strong> </summary>[[  0.  750. ]\n",
       " [  0.  375. ]\n",
       " [  0.  525. ]\n",
       " [ 22.5 437.5]\n",
       " [ 22.5 487.5]\n",
       " [ 22.5 562.5]\n",
       " [  0.  550. ]\n",
       " [ 22.5 687.5]\n",
       " [  0.  475. ]\n",
       " [ 22.5 787.5]\n",
       " [ 22.5 512.5]\n",
       " [  0.  625. ]\n",
       " [  0.  725. ]\n",
       " [ 22.5 737.5]\n",
       " [  0.  425. ]\n",
       " [ 22.5 662.5]\n",
       " [  0.  500. ]\n",
       " [  0.  675. ]\n",
       " [  0.  600. ]\n",
       " [ 22.5 612.5]\n",
       " [ 22.5 462.5]\n",
       " [ 22.5 587.5]\n",
       " [ 22.5 712.5]\n",
       " [ 22.5 637.5]\n",
       " [  0.  275. ]\n",
       " [ 22.5 337.5]\n",
       " [ 22.5 212.5]\n",
       " [  0.  100. ]\n",
       " [  0.  350. ]\n",
       " [ 22.5 137.5]\n",
       " [  0.   50. ]\n",
       " [ 22.5 312.5]\n",
       " [ 22.5 162.5]\n",
       " [ 22.5 112.5]\n",
       " [ 22.5 237.5]\n",
       " [  0.  175. ]\n",
       " [ 22.5 387.5]\n",
       " [  0.   75. ]\n",
       " [ 22.5 262.5]\n",
       " [  0.  300. ]\n",
       " [  0.  200. ]\n",
       " [  0.  325. ]\n",
       " [ 22.5  37.5]\n",
       " [  0.  225. ]\n",
       " [ 22.5 412.5]\n",
       " [  0.  150. ]\n",
       " [ 22.5  62.5]\n",
       " [  0.   25. ]\n",
       " [  0.    0. ]]</details><details><summary> <strong> group </strong> </summary>[0 0 0 0 0 0 0 0 0 0 0 0 0 0 0 0 0 0 0 0 0 0 0 0 0 0 0 0 0 0 0 0 0 0 0 0 0\n",
       " 0 0 0 0 0 0 0 0 0 0 0 0]</details><details><summary> <strong> quality </strong> </summary>['good' 'good' 'good' 'good' 'good' 'good' 'good' 'good' 'good' 'good'\n",
       " 'good' 'good' 'good' 'good' 'good' 'good' 'good' 'good' 'good' 'good'\n",
       " 'good' 'good' 'good' 'good' 'good' 'good' 'good' 'good' 'good' 'good'\n",
       " 'good' 'good' 'good' 'good' 'good' 'good' 'good' 'good' 'good' 'good'\n",
       " 'good' 'good' 'good' 'good' 'good' 'good' 'good' '' '']</details></ul></details>"
      ],
      "text/plain": [
       "FrameSliceRecording: 49 channels - 30.0kHz - 1 segments - 9,000,000 samples \n",
       "                     300.00s (5.00 minutes) - int16 dtype - 841.14 MiB"
      ]
     },
     "execution_count": 30,
     "metadata": {},
     "output_type": "execute_result"
    }
   ],
   "source": [
    "fs = recording_cmr_good.get_sampling_frequency()\n",
    "recording_shorten = recording_cmr_good.frame_slice(start_frame=0*fs, end_frame=300*fs)\n",
    "recording_shorten"
   ]
  },
  {
   "cell_type": "markdown",
   "metadata": {
    "pycharm": {
     "name": "#%% md\n"
    }
   },
   "source": [
    "# 3. Saving and loading SpikeInterface objects <a class=\"anchor\" id=\"save-load\"></a>\n",
    "\n",
    "All operations in SpikeInterface are *lazy*, meaning that they are not performed if not needed. This is why the creation of our filter recording was almost instantaneous. However, to speed up further processing, we might want to **save** it to a file and perform those operations (eg. filters, CMR, etc.) at once. \n"
   ]
  },
  {
   "cell_type": "code",
   "execution_count": 31,
   "metadata": {},
   "outputs": [],
   "source": [
    "si.set_global_job_kwargs(n_jobs=-1, chunk_duration=\"1s\", progress_bar=True)"
   ]
  },
  {
   "cell_type": "code",
   "execution_count": 32,
   "metadata": {
    "pycharm": {
     "name": "#%%\n"
    }
   },
   "outputs": [],
   "source": [
    "if (base_folder / \"preprocessed\").is_dir():\n",
    "    recording_saved = si.load_extractor(base_folder / \"preprocessed\")\n",
    "else:\n",
    "    recording_saved = recording_shorten.save(folder=base_folder / \"preprocessed\")"
   ]
  },
  {
   "cell_type": "markdown",
   "metadata": {
    "pycharm": {
     "name": "#%% md\n"
    }
   },
   "source": [
    "After saving the SI object, we can easily load it back in a new session:"
   ]
  },
  {
   "cell_type": "code",
   "execution_count": 33,
   "metadata": {
    "pycharm": {
     "name": "#%%\n"
    }
   },
   "outputs": [],
   "source": [
    "recording_saved = si.load_extractor(base_folder / \"preprocessed\")"
   ]
  },
  {
   "cell_type": "code",
   "execution_count": 35,
   "metadata": {},
   "outputs": [
    {
     "data": {
      "text/html": [
       "<div style='border:1px solid #ddd; padding:10px;'><strong>BinaryFolderRecording: 49 channels - 30.0kHz - 1 segments - 9,000,000 samples - 300.00s (5.00 minutes) - int16 dtype - 841.14 MiB</strong></div><details style='margin-left: 10px;'>  <summary><strong>Channel IDs</strong></summary><ul>['CH9' 'CH10' 'CH11' 'CH12' 'CH13' 'CH14' 'CH15' 'CH16' 'CH17' 'CH18'\n",
       " 'CH19' 'CH20' 'CH21' 'CH22' 'CH23' 'CH24' 'CH25' 'CH26' 'CH27' 'CH28'\n",
       " 'CH29' 'CH30' 'CH31' 'CH32' 'CH33' 'CH34' 'CH35' 'CH36' 'CH37' 'CH38'\n",
       " 'CH39' 'CH41' 'CH42' 'CH43' 'CH44' 'CH45' 'CH46' 'CH47' 'CH48' 'CH49'\n",
       " 'CH50' 'CH51' 'CH52' 'CH53' 'CH54' 'CH55' 'CH56' 'CH62' 'CH63'] </details><details style='margin-left: 10px;'>  <summary><strong>Annotations</strong></summary><ul><li> <strong> is_filtered </strong>: True</li><li> <strong> probe_0_planar_contour </strong>: [[-10.0, 900.0], [-10.0, -10.0], [11.0, -28.0], [20.0, -10.0], [72.5, 900.0]]</li><li> <strong> probes_info </strong>: [{}]</li><li> <strong> description </strong>: Dataset for SI tutorial</li></ul> </details><details style='margin-left: 10px;'><summary><strong>Channel Properties</strong></summary><ul><details><summary> <strong> gain_to_uV </strong> </summary>[0.19499999 0.19499999 0.19499999 0.19499999 0.19499999 0.19499999\n",
       " 0.19499999 0.19499999 0.19499999 0.19499999 0.19499999 0.19499999\n",
       " 0.19499999 0.19499999 0.19499999 0.19499999 0.19499999 0.19499999\n",
       " 0.19499999 0.19499999 0.19499999 0.19499999 0.19499999 0.19499999\n",
       " 0.19499999 0.19499999 0.19499999 0.19499999 0.19499999 0.19499999\n",
       " 0.19499999 0.19499999 0.19499999 0.19499999 0.19499999 0.19499999\n",
       " 0.19499999 0.19499999 0.19499999 0.19499999 0.19499999 0.19499999\n",
       " 0.19499999 0.19499999 0.19499999 0.19499999 0.19499999 0.19499999\n",
       " 0.19499999]</details><details><summary> <strong> offset_to_uV </strong> </summary>[0 0 0 0 0 0 0 0 0 0 0 0 0 0 0 0 0 0 0 0 0 0 0 0 0 0 0 0 0 0 0 0 0 0 0 0 0\n",
       " 0 0 0 0 0 0 0 0 0 0 0 0]</details><details><summary> <strong> contact_vector </strong> </summary>[(0,  0. , 750. , 'rect', 11., 15., '', '48',  0, 'um', 1., 0., 0., 1.)\n",
       " (0,  0. , 375. , 'rect', 11., 15., '', '46',  1, 'um', 1., 0., 0., 1.)\n",
       " (0,  0. , 525. , 'rect', 11., 15., '', '47',  2, 'um', 1., 0., 0., 1.)\n",
       " (0, 22.5, 437.5, 'rect', 11., 15., '', '45',  3, 'um', 1., 0., 0., 1.)\n",
       " (0, 22.5, 487.5, 'rect', 11., 15., '', '44',  4, 'um', 1., 0., 0., 1.)\n",
       " (0, 22.5, 562.5, 'rect', 11., 15., '', '43',  5, 'um', 1., 0., 0., 1.)\n",
       " (0,  0. , 550. , 'rect', 11., 15., '', '32',  6, 'um', 1., 0., 0., 1.)\n",
       " (0, 22.5, 687.5, 'rect', 11., 15., '', '42',  7, 'um', 1., 0., 0., 1.)\n",
       " (0,  0. , 475. , 'rect', 11., 15., '', '31',  8, 'um', 1., 0., 0., 1.)\n",
       " (0, 22.5, 787.5, 'rect', 11., 15., '', '30',  9, 'um', 1., 0., 0., 1.)\n",
       " (0, 22.5, 512.5, 'rect', 11., 15., '', '28', 10, 'um', 1., 0., 0., 1.)\n",
       " (0,  0. , 625. , 'rect', 11., 15., '', '29', 11, 'um', 1., 0., 0., 1.)\n",
       " (0,  0. , 725. , 'rect', 11., 15., '', '16', 12, 'um', 1., 0., 0., 1.)\n",
       " (0, 22.5, 737.5, 'rect', 11., 15., '', '27', 13, 'um', 1., 0., 0., 1.)\n",
       " (0,  0. , 425. , 'rect', 11., 15., '', '15', 14, 'um', 1., 0., 0., 1.)\n",
       " (0, 22.5, 662.5, 'rect', 11., 15., '', '26', 15, 'um', 1., 0., 0., 1.)\n",
       " (0,  0. , 500. , 'rect', 11., 15., '', '14', 16, 'um', 1., 0., 0., 1.)\n",
       " (0,  0. , 675. , 'rect', 11., 15., '', '13', 17, 'um', 1., 0., 0., 1.)\n",
       " (0,  0. , 600. , 'rect', 11., 15., '', '12', 18, 'um', 1., 0., 0., 1.)\n",
       " (0, 22.5, 612.5, 'rect', 11., 15., '', '25', 19, 'um', 1., 0., 0., 1.)\n",
       " (0, 22.5, 462.5, 'rect', 11., 15., '', '11', 20, 'um', 1., 0., 0., 1.)\n",
       " (0, 22.5, 587.5, 'rect', 11., 15., '', '9', 21, 'um', 1., 0., 0., 1.)\n",
       " (0, 22.5, 712.5, 'rect', 11., 15., '', '10', 22, 'um', 1., 0., 0., 1.)\n",
       " (0, 22.5, 637.5, 'rect', 11., 15., '', '24', 23, 'um', 1., 0., 0., 1.)\n",
       " (0,  0. , 275. , 'rect', 11., 15., '', '8', 24, 'um', 1., 0., 0., 1.)\n",
       " (0, 22.5, 337.5, 'rect', 11., 15., '', '7', 25, 'um', 1., 0., 0., 1.)\n",
       " (0, 22.5, 212.5, 'rect', 11., 15., '', '6', 26, 'um', 1., 0., 0., 1.)\n",
       " (0,  0. , 100. , 'rect', 11., 15., '', '5', 27, 'um', 1., 0., 0., 1.)\n",
       " (0,  0. , 350. , 'rect', 11., 15., '', '23', 28, 'um', 1., 0., 0., 1.)\n",
       " (0, 22.5, 137.5, 'rect', 11., 15., '', '4', 29, 'um', 1., 0., 0., 1.)\n",
       " (0,  0. ,  50. , 'rect', 11., 15., '', '3', 30, 'um', 1., 0., 0., 1.)\n",
       " (0, 22.5, 312.5, 'rect', 11., 15., '', '22', 31, 'um', 1., 0., 0., 1.)\n",
       " (0, 22.5, 162.5, 'rect', 11., 15., '', '1', 32, 'um', 1., 0., 0., 1.)\n",
       " (0, 22.5, 112.5, 'rect', 11., 15., '', '21', 33, 'um', 1., 0., 0., 1.)\n",
       " (0, 22.5, 237.5, 'rect', 11., 15., '', '20', 34, 'um', 1., 0., 0., 1.)\n",
       " (0,  0. , 175. , 'rect', 11., 15., '', '19', 35, 'um', 1., 0., 0., 1.)\n",
       " (0, 22.5, 387.5, 'rect', 11., 15., '', '18', 36, 'um', 1., 0., 0., 1.)\n",
       " (0,  0. ,  75. , 'rect', 11., 15., '', '17', 37, 'um', 1., 0., 0., 1.)\n",
       " (0, 22.5, 262.5, 'rect', 11., 15., '', '41', 38, 'um', 1., 0., 0., 1.)\n",
       " (0,  0. , 300. , 'rect', 11., 15., '', '40', 39, 'um', 1., 0., 0., 1.)\n",
       " (0,  0. , 200. , 'rect', 11., 15., '', '39', 40, 'um', 1., 0., 0., 1.)\n",
       " (0,  0. , 325. , 'rect', 11., 15., '', '38', 41, 'um', 1., 0., 0., 1.)\n",
       " (0, 22.5,  37.5, 'rect', 11., 15., '', '37', 42, 'um', 1., 0., 0., 1.)\n",
       " (0,  0. , 225. , 'rect', 11., 15., '', '36', 43, 'um', 1., 0., 0., 1.)\n",
       " (0, 22.5, 412.5, 'rect', 11., 15., '', '34', 44, 'um', 1., 0., 0., 1.)\n",
       " (0,  0. , 150. , 'rect', 11., 15., '', '35', 45, 'um', 1., 0., 0., 1.)\n",
       " (0, 22.5,  62.5, 'rect', 11., 15., '', '33', 46, 'um', 1., 0., 0., 1.)\n",
       " (0,  0. ,  25. , 'rect', 11., 15., '', '51', 47, 'um', 1., 0., 0., 1.)\n",
       " (0,  0. ,   0. , 'rect', 11., 15., '', '50', 48, 'um', 1., 0., 0., 1.)]</details><details><summary> <strong> location </strong> </summary>[[  0.  750. ]\n",
       " [  0.  375. ]\n",
       " [  0.  525. ]\n",
       " [ 22.5 437.5]\n",
       " [ 22.5 487.5]\n",
       " [ 22.5 562.5]\n",
       " [  0.  550. ]\n",
       " [ 22.5 687.5]\n",
       " [  0.  475. ]\n",
       " [ 22.5 787.5]\n",
       " [ 22.5 512.5]\n",
       " [  0.  625. ]\n",
       " [  0.  725. ]\n",
       " [ 22.5 737.5]\n",
       " [  0.  425. ]\n",
       " [ 22.5 662.5]\n",
       " [  0.  500. ]\n",
       " [  0.  675. ]\n",
       " [  0.  600. ]\n",
       " [ 22.5 612.5]\n",
       " [ 22.5 462.5]\n",
       " [ 22.5 587.5]\n",
       " [ 22.5 712.5]\n",
       " [ 22.5 637.5]\n",
       " [  0.  275. ]\n",
       " [ 22.5 337.5]\n",
       " [ 22.5 212.5]\n",
       " [  0.  100. ]\n",
       " [  0.  350. ]\n",
       " [ 22.5 137.5]\n",
       " [  0.   50. ]\n",
       " [ 22.5 312.5]\n",
       " [ 22.5 162.5]\n",
       " [ 22.5 112.5]\n",
       " [ 22.5 237.5]\n",
       " [  0.  175. ]\n",
       " [ 22.5 387.5]\n",
       " [  0.   75. ]\n",
       " [ 22.5 262.5]\n",
       " [  0.  300. ]\n",
       " [  0.  200. ]\n",
       " [  0.  325. ]\n",
       " [ 22.5  37.5]\n",
       " [  0.  225. ]\n",
       " [ 22.5 412.5]\n",
       " [  0.  150. ]\n",
       " [ 22.5  62.5]\n",
       " [  0.   25. ]\n",
       " [  0.    0. ]]</details><details><summary> <strong> group </strong> </summary>[0 0 0 0 0 0 0 0 0 0 0 0 0 0 0 0 0 0 0 0 0 0 0 0 0 0 0 0 0 0 0 0 0 0 0 0 0\n",
       " 0 0 0 0 0 0 0 0 0 0 0 0]</details><details><summary> <strong> quality </strong> </summary>['good' 'good' 'good' 'good' 'good' 'good' 'good' 'good' 'good' 'good'\n",
       " 'good' 'good' 'good' 'good' 'good' 'good' 'good' 'good' 'good' 'good'\n",
       " 'good' 'good' 'good' 'good' 'good' 'good' 'good' 'good' 'good' 'good'\n",
       " 'good' 'good' 'good' 'good' 'good' 'good' 'good' 'good' 'good' 'good'\n",
       " 'good' 'good' 'good' 'good' 'good' 'good' 'good' '' '']</details><details><summary> <strong> channel_names </strong> </summary>['CH9' 'CH10' 'CH11' 'CH12' 'CH13' 'CH14' 'CH15' 'CH16' 'CH17' 'CH18'\n",
       " 'CH19' 'CH20' 'CH21' 'CH22' 'CH23' 'CH24' 'CH25' 'CH26' 'CH27' 'CH28'\n",
       " 'CH29' 'CH30' 'CH31' 'CH32' 'CH33' 'CH34' 'CH35' 'CH36' 'CH37' 'CH38'\n",
       " 'CH39' 'CH41' 'CH42' 'CH43' 'CH44' 'CH45' 'CH46' 'CH47' 'CH48' 'CH49'\n",
       " 'CH50' 'CH51' 'CH52' 'CH53' 'CH54' 'CH55' 'CH56' 'CH62' 'CH63']</details></ul></details>"
      ],
      "text/plain": [
       "BinaryFolderRecording: 49 channels - 30.0kHz - 1 segments - 9,000,000 samples \n",
       "                       300.00s (5.00 minutes) - int16 dtype - 841.14 MiB"
      ]
     },
     "execution_count": 35,
     "metadata": {},
     "output_type": "execute_result"
    }
   ],
   "source": [
    "recording_saved"
   ]
  },
  {
   "cell_type": "markdown",
   "metadata": {
    "pycharm": {
     "name": "#%% md\n"
    }
   },
   "source": [
    "**IMPORTANT**: the same saving mechanisms are available also for all SortingExtractor"
   ]
  },
  {
   "cell_type": "markdown",
   "metadata": {},
   "source": [
    "# 4. Spike sorting <a class=\"anchor\" id=\"spike-sorting\"></a>\n",
    "\n",
    "We can now run spike sorting on the above recording. We will use different spike sorters for this demonstration, to show how easy SpikeInterface makes it easy to interchengably run different sorters :)\n",
    "\n",
    "Let's first check the available and installed sorters in `SpikeInterface`.\n",
    "We will sort the bandpass cached filtered recording the `recording_saved` object."
   ]
  },
  {
   "cell_type": "code",
   "execution_count": 36,
   "metadata": {},
   "outputs": [
    {
     "data": {
      "text/plain": [
       "['combinato',\n",
       " 'hdsort',\n",
       " 'herdingspikes',\n",
       " 'ironclust',\n",
       " 'kilosort',\n",
       " 'kilosort2',\n",
       " 'kilosort2_5',\n",
       " 'kilosort3',\n",
       " 'kilosort4',\n",
       " 'klusta',\n",
       " 'mountainsort4',\n",
       " 'mountainsort5',\n",
       " 'pykilosort',\n",
       " 'simple',\n",
       " 'spykingcircus',\n",
       " 'spykingcircus2',\n",
       " 'tridesclous',\n",
       " 'tridesclous2',\n",
       " 'waveclus',\n",
       " 'waveclus_snippets',\n",
       " 'yass']"
      ]
     },
     "execution_count": 36,
     "metadata": {},
     "output_type": "execute_result"
    }
   ],
   "source": [
    "si.available_sorters()"
   ]
  },
  {
   "cell_type": "code",
   "execution_count": 37,
   "metadata": {},
   "outputs": [
    {
     "data": {
      "text/plain": [
       "['kilosort4', 'simple', 'spykingcircus2', 'tridesclous2']"
      ]
     },
     "execution_count": 37,
     "metadata": {},
     "output_type": "execute_result"
    }
   ],
   "source": [
    "si.installed_sorters()"
   ]
  },
  {
   "cell_type": "markdown",
   "metadata": {},
   "source": [
    "The `spikeinterface.sortingcomponents` module includes functions that can be used to create custom spike sorting pipelines built-in in `SpikeInterface`. It is still experimental and under heavy development, but there are already 3  SI-based sorters available:\n",
    "\n",
    "* `tridesclous2` (developed by Samuel Garcia)\n",
    "* `spykingcircus2` (developed by Pierre Yger)\n",
    "* `simple` which is only for demo and teaching\n",
    "\n",
    "They can be run with the same `run_sorter` function, but they don't require any additional installation!"
   ]
  },
  {
   "cell_type": "code",
   "execution_count": 38,
   "metadata": {
    "pycharm": {
     "name": "#%%\n"
    }
   },
   "outputs": [
    {
     "data": {
      "text/plain": [
       "\u001b[0;31mSignature:\u001b[0m\n",
       "\u001b[0msi\u001b[0m\u001b[0;34m.\u001b[0m\u001b[0mrun_sorter\u001b[0m\u001b[0;34m(\u001b[0m\u001b[0;34m\u001b[0m\n",
       "\u001b[0;34m\u001b[0m    \u001b[0msorter_name\u001b[0m\u001b[0;34m:\u001b[0m \u001b[0;34m'str'\u001b[0m\u001b[0;34m,\u001b[0m\u001b[0;34m\u001b[0m\n",
       "\u001b[0;34m\u001b[0m    \u001b[0mrecording\u001b[0m\u001b[0;34m:\u001b[0m \u001b[0;34m'BaseRecording'\u001b[0m\u001b[0;34m,\u001b[0m\u001b[0;34m\u001b[0m\n",
       "\u001b[0;34m\u001b[0m    \u001b[0mfolder\u001b[0m\u001b[0;34m:\u001b[0m \u001b[0;34m'Optional[str]'\u001b[0m \u001b[0;34m=\u001b[0m \u001b[0;32mNone\u001b[0m\u001b[0;34m,\u001b[0m\u001b[0;34m\u001b[0m\n",
       "\u001b[0;34m\u001b[0m    \u001b[0mremove_existing_folder\u001b[0m\u001b[0;34m:\u001b[0m \u001b[0;34m'bool'\u001b[0m \u001b[0;34m=\u001b[0m \u001b[0;32mFalse\u001b[0m\u001b[0;34m,\u001b[0m\u001b[0;34m\u001b[0m\n",
       "\u001b[0;34m\u001b[0m    \u001b[0mdelete_output_folder\u001b[0m\u001b[0;34m:\u001b[0m \u001b[0;34m'bool'\u001b[0m \u001b[0;34m=\u001b[0m \u001b[0;32mFalse\u001b[0m\u001b[0;34m,\u001b[0m\u001b[0;34m\u001b[0m\n",
       "\u001b[0;34m\u001b[0m    \u001b[0mverbose\u001b[0m\u001b[0;34m:\u001b[0m \u001b[0;34m'bool'\u001b[0m \u001b[0;34m=\u001b[0m \u001b[0;32mFalse\u001b[0m\u001b[0;34m,\u001b[0m\u001b[0;34m\u001b[0m\n",
       "\u001b[0;34m\u001b[0m    \u001b[0mraise_error\u001b[0m\u001b[0;34m:\u001b[0m \u001b[0;34m'bool'\u001b[0m \u001b[0;34m=\u001b[0m \u001b[0;32mTrue\u001b[0m\u001b[0;34m,\u001b[0m\u001b[0;34m\u001b[0m\n",
       "\u001b[0;34m\u001b[0m    \u001b[0mdocker_image\u001b[0m\u001b[0;34m:\u001b[0m \u001b[0;34m'Optional[Union[bool, str]]'\u001b[0m \u001b[0;34m=\u001b[0m \u001b[0;32mFalse\u001b[0m\u001b[0;34m,\u001b[0m\u001b[0;34m\u001b[0m\n",
       "\u001b[0;34m\u001b[0m    \u001b[0msingularity_image\u001b[0m\u001b[0;34m:\u001b[0m \u001b[0;34m'Optional[Union[bool, str]]'\u001b[0m \u001b[0;34m=\u001b[0m \u001b[0;32mFalse\u001b[0m\u001b[0;34m,\u001b[0m\u001b[0;34m\u001b[0m\n",
       "\u001b[0;34m\u001b[0m    \u001b[0mdelete_container_files\u001b[0m\u001b[0;34m:\u001b[0m \u001b[0;34m'bool'\u001b[0m \u001b[0;34m=\u001b[0m \u001b[0;32mTrue\u001b[0m\u001b[0;34m,\u001b[0m\u001b[0;34m\u001b[0m\n",
       "\u001b[0;34m\u001b[0m    \u001b[0mwith_output\u001b[0m\u001b[0;34m:\u001b[0m \u001b[0;34m'bool'\u001b[0m \u001b[0;34m=\u001b[0m \u001b[0;32mTrue\u001b[0m\u001b[0;34m,\u001b[0m\u001b[0;34m\u001b[0m\n",
       "\u001b[0;34m\u001b[0m    \u001b[0moutput_folder\u001b[0m\u001b[0;34m:\u001b[0m \u001b[0;34m'None'\u001b[0m \u001b[0;34m=\u001b[0m \u001b[0;32mNone\u001b[0m\u001b[0;34m,\u001b[0m\u001b[0;34m\u001b[0m\n",
       "\u001b[0;34m\u001b[0m    \u001b[0;34m**\u001b[0m\u001b[0msorter_params\u001b[0m\u001b[0;34m,\u001b[0m\u001b[0;34m\u001b[0m\n",
       "\u001b[0;34m\u001b[0m\u001b[0;34m)\u001b[0m\u001b[0;34m\u001b[0m\u001b[0;34m\u001b[0m\u001b[0m\n",
       "\u001b[0;31mDocstring:\u001b[0m\n",
       "Generic function to run a sorter via function approach.\n",
       "\n",
       "\n",
       "Parameters\n",
       "----------\n",
       "sorter_name : str\n",
       "    The sorter name\n",
       "recording : RecordingExtractor\n",
       "    The recording extractor to be spike sorted\n",
       "folder : str or Path\n",
       "    Path to output folder\n",
       "remove_existing_folder : bool\n",
       "    If True and folder exists then delete.\n",
       "delete_output_folder : bool, default: False\n",
       "    If True, output folder is deleted\n",
       "verbose : bool, default: False\n",
       "    If True, output is verbose\n",
       "raise_error : bool, default: True\n",
       "    If True, an error is raised if spike sorting fails\n",
       "    If False, the process continues and the error is logged in the log file.\n",
       "docker_image : bool or str, default: False\n",
       "    If True, pull the default docker container for the sorter and run the sorter in that container using docker.\n",
       "    Use a str to specify a non-default container. If that container is not local it will be pulled from docker hub.\n",
       "    If False, the sorter is run locally\n",
       "singularity_image : bool or str, default: False\n",
       "    If True, pull the default docker container for the sorter and run the sorter in that container using\n",
       "    singularity. Use a str to specify a non-default container. If that container is not local it will be pulled\n",
       "    from Docker Hub. If False, the sorter is run locally\n",
       "with_output : bool, default: True\n",
       "    If True, the output Sorting is returned as a Sorting\n",
       "delete_container_files : bool, default: True\n",
       "    If True, the container temporary files are deleted after the sorting is done\n",
       "output_folder : None, default: None\n",
       "    Do not use. Deprecated output function to be removed in 0.103.\n",
       "**sorter_params : keyword args\n",
       "    Spike sorter specific arguments (they can be retrieved with `get_default_sorter_params(sorter_name_or_class)`)\n",
       "\n",
       "Returns\n",
       "-------\n",
       "BaseSorting | None\n",
       "    The spike sorted data (it `with_output` is True) or None (if `with_output` is False)\n",
       "\n",
       "\n",
       "Examples\n",
       "--------\n",
       ">>> sorting = run_sorter(\"tridesclous\", recording)\n",
       "\u001b[0;31mFile:\u001b[0m      ~/Documents/SpikeInterface/spikeinterface/src/spikeinterface/sorters/runsorter.py\n",
       "\u001b[0;31mType:\u001b[0m      function"
      ]
     },
     "metadata": {},
     "output_type": "display_data"
    }
   ],
   "source": [
    "si.run_sorter?"
   ]
  },
  {
   "cell_type": "markdown",
   "metadata": {},
   "source": [
    "We can retrieve the parameters associated to any sorter with the `get_default_params()` function from the `sorters` module:"
   ]
  },
  {
   "cell_type": "code",
   "execution_count": 39,
   "metadata": {
    "pycharm": {
     "name": "#%%\n"
    },
    "scrolled": true
   },
   "outputs": [
    {
     "data": {
      "text/plain": [
       "{'detect_threshold': 6,\n",
       " 'projection_threshold': [10, 4],\n",
       " 'preclust_threshold': 8,\n",
       " 'whiteningRange': 32.0,\n",
       " 'momentum': [20.0, 400.0],\n",
       " 'car': True,\n",
       " 'minFR': 0.1,\n",
       " 'minfr_goodchannels': 0.1,\n",
       " 'nblocks': 5,\n",
       " 'sig': 20,\n",
       " 'freq_min': 150,\n",
       " 'sigmaMask': 30,\n",
       " 'lam': 10.0,\n",
       " 'nPCs': 3,\n",
       " 'ntbuff': 64,\n",
       " 'nfilt_factor': 4,\n",
       " 'NT': None,\n",
       " 'AUCsplit': 0.9,\n",
       " 'do_correction': True,\n",
       " 'wave_length': 61,\n",
       " 'keep_good_only': False,\n",
       " 'skip_kilosort_preprocessing': False,\n",
       " 'scaleproc': None,\n",
       " 'save_rez_to_mat': False,\n",
       " 'delete_tmp_files': ('matlab_files',),\n",
       " 'delete_recording_dat': False,\n",
       " 'n_jobs': -1,\n",
       " 'chunk_duration': '1s',\n",
       " 'progress_bar': True,\n",
       " 'mp_context': None,\n",
       " 'max_threads_per_process': 1}"
      ]
     },
     "execution_count": 39,
     "metadata": {},
     "output_type": "execute_result"
    }
   ],
   "source": [
    "si.get_default_sorter_params('kilosort2_5')"
   ]
  },
  {
   "cell_type": "markdown",
   "metadata": {
    "pycharm": {
     "name": "#%% md\n"
    }
   },
   "source": [
    "To modify a parameter, we can easily pass it to the `run` function as an extra argument!"
   ]
  },
  {
   "cell_type": "markdown",
   "metadata": {},
   "source": [
    "### Run sorter locally"
   ]
  },
  {
   "cell_type": "code",
   "execution_count": 59,
   "metadata": {},
   "outputs": [
    {
     "data": {
      "text/plain": [
       "['kilosort4', 'simple', 'spykingcircus2', 'tridesclous2']"
      ]
     },
     "execution_count": 59,
     "metadata": {},
     "output_type": "execute_result"
    }
   ],
   "source": [
    "#si.Kilosort2_5Sorter.set_kilosort2_5_path('/home/samuel.garcia/Documents/SpikeInterface/code_sorters/Kilosort2.5/')\n",
    "si.installed_sorters()"
   ]
  },
  {
   "cell_type": "code",
   "execution_count": 40,
   "metadata": {},
   "outputs": [],
   "source": [
    "sorter_params = {'do_correction': False}"
   ]
  },
  {
   "cell_type": "markdown",
   "metadata": {},
   "source": [
    "```python\n",
    "sorting_KS25 = si.run_sorter('kilosort2_5', recording_saved,\n",
    "                             output_folder=base_folder / 'sorter_KS25',\n",
    "                             verbose=True, **sorter_params)\n",
    "```"
   ]
  },
  {
   "cell_type": "markdown",
   "metadata": {},
   "source": [
    "We can check the output object:"
   ]
  },
  {
   "cell_type": "code",
   "execution_count": 41,
   "metadata": {},
   "outputs": [
    {
     "data": {
      "text/html": [
       "<div style='border:1px solid #ddd; padding:10px;'><strong>KiloSortSortingExtractor: 159 units - 1 segments - 30.0kHz</strong></div><details style='margin-left: 10px;'>  <summary><strong>Unit IDs</strong></summary><ul>[  0   1   2   3   4   5   6   7   8   9  10  11  12  13  14  15  16  17\n",
       "  18  19  20  21  22  23  24  25  26  27  28  29  30  31  32  33  34  35\n",
       "  36  37  38  39  40  41  42  43  44  45  46  47  48  49  50  51  52  54\n",
       "  55  56  57  58  59  61  62  63  64  65  66  67  68  69  70  71  72  73\n",
       "  74  75  76  77  78  79  80  81  82  83  84  85  86  87  88  89  90  91\n",
       "  92  93  94  95  96  97  98  99 100 101 102 103 104 105 106 107 108 109\n",
       " 110 111 112 113 114 115 116 117 118 119 120 121 122 123 124 125 126 127\n",
       " 128 129 130 131 132 133 134 135 136 137 138 139 140 141 142 143 144 145\n",
       " 146 147 148 149 150 151 152 153 154 155 156 157 158 159 160] </details><details style='margin-left: 10px;'>  <summary><strong>Annotations</strong></summary><ul><li> <strong> phy_folder </strong>: /home/samuel/DataSpikeSorting/gdr2024_tutorials/sorter_KS25/sorter_output</li><li> <strong> __sorting_info__ </strong>: {'recording': {'class': 'spikeinterface.core.binaryfolder.BinaryFolderRecording', 'module': 'spikeinterface', 'version': '0.101.0', 'kwargs': {'folder_path': '/home/samuel/DataSpikeSorting/Edinburgh_SI_tutorials/preprocessed'}, 'annotations': {'is_filtered': True, 'probe_0_planar_contour': [[-10.0, 900.0], [-10.0, -10.0], [12.0, -30.0], [30.0, 10.0], [70.0, 900.0]], 'probes_info': [{}]}, 'properties': {'group': [0, 0, 0, 0, 0, 0, 0, 0, 0, 0, 0, 0, 0, 0, 0, 0, 0, 0, 0, 0, 0, 0, 0, 0, 0, 0, 0, 0, 0, 0, 0, 0, 0, 0, 0, 0, 0, 0, 0, 0, 0, 0, 0, 0, 0, 0, 0, 0, 0], 'location': [[0.0, 750.0], [0.0, 375.0], [0.0, 525.0], [22.5, 437.5], [22.5, 487.5], [22.5, 562.5], [0.0, 550.0], [22.5, 687.5], [0.0, 475.0], [22.5, 787.5], [22.5, 512.5], [0.0, 625.0], [0.0, 725.0], [22.5, 737.5], [0.0, 425.0], [22.5, 662.5], [0.0, 500.0], [0.0, 675.0], [0.0, 600.0], [22.5, 612.5], [22.5, 462.5], [22.5, 587.5], [22.5, 712.5], [22.5, 637.5], [0.0, 275.0], [22.5, 337.5], [22.5, 212.5], [0.0, 100.0], [0.0, 350.0], [22.5, 137.5], [0.0, 50.0], [22.5, 312.5], [22.5, 162.5], [22.5, 112.5], [22.5, 237.5], [0.0, 175.0], [22.5, 387.5], [0.0, 75.0], [22.5, 262.5], [0.0, 300.0], [0.0, 200.0], [0.0, 325.0], [22.5, 37.5], [0.0, 225.0], [22.5, 412.5], [0.0, 150.0], [22.5, 62.5], [0.0, 25.0], [0.0, 0.0]], 'gain_to_uV': [0.1949999928474426, 0.1949999928474426, 0.1949999928474426, 0.1949999928474426, 0.1949999928474426, 0.1949999928474426, 0.1949999928474426, 0.1949999928474426, 0.1949999928474426, 0.1949999928474426, 0.1949999928474426, 0.1949999928474426, 0.1949999928474426, 0.1949999928474426, 0.1949999928474426, 0.1949999928474426, 0.1949999928474426, 0.1949999928474426, 0.1949999928474426, 0.1949999928474426, 0.1949999928474426, 0.1949999928474426, 0.1949999928474426, 0.1949999928474426, 0.1949999928474426, 0.1949999928474426, 0.1949999928474426, 0.1949999928474426, 0.1949999928474426, 0.1949999928474426, 0.1949999928474426, 0.1949999928474426, 0.1949999928474426, 0.1949999928474426, 0.1949999928474426, 0.1949999928474426, 0.1949999928474426, 0.1949999928474426, 0.1949999928474426, 0.1949999928474426, 0.1949999928474426, 0.1949999928474426, 0.1949999928474426, 0.1949999928474426, 0.1949999928474426, 0.1949999928474426, 0.1949999928474426, 0.1949999928474426, 0.1949999928474426], 'offset_to_uV': [0, 0, 0, 0, 0, 0, 0, 0, 0, 0, 0, 0, 0, 0, 0, 0, 0, 0, 0, 0, 0, 0, 0, 0, 0, 0, 0, 0, 0, 0, 0, 0, 0, 0, 0, 0, 0, 0, 0, 0, 0, 0, 0, 0, 0, 0, 0, 0, 0]}, 'relative_paths': False}, 'params': {'sorter_name': 'kilosort2_5', 'sorter_params': {'detect_threshold': 6, 'projection_threshold': [10, 4], 'preclust_threshold': 8, 'momentum': [20.0, 400.0], 'car': True, 'minFR': 0.1, 'minfr_goodchannels': 0.1, 'nblocks': 5, 'sig': 20, 'freq_min': 150, 'sigmaMask': 30, 'lam': 10.0, 'nPCs': 3, 'ntbuff': 64, 'nfilt_factor': 4, 'NT': 65600, 'AUCsplit': 0.9, 'do_correction': False, 'wave_length': 61, 'keep_good_only': False, 'skip_kilosort_preprocessing': False, 'scaleproc': None, 'save_rez_to_mat': False, 'delete_tmp_files': ['matlab_files'], 'delete_recording_dat': False, 'n_jobs': -1, 'chunk_duration': '1s', 'progress_bar': True, 'mp_context': None, 'max_threads_per_process': 1}}, 'log': {'sorter_name': 'kilosort2_5', 'sorter_version': 'git-c31df11de9a4', 'datetime': '2024-05-22T17:22:03.452938', 'runtime_trace': ['', '< M A T L A B (R) >', 'Copyright 1984-2020 The MathWorks, Inc.', 'R2020a Update 2 (9.8.0.1380330) 64-bit (glnxa64)', 'May 5, 2020', '', '', 'To get started, type doc.', 'For product information, visit www.mathworks.com.', '', 'Time   0s. Computing whitening matrix..', 'Getting channel whitening matrix...', 'Channel-whitening matrix computed.', 'Time   3s. Loading raw data and applying filters...', 'Time   9s. Finished preprocessing 138 batches.', 'Drift correction DISABLED', 'pitch is 1.250000e+01 um', '0.29 sec, 1 batches, 1265 spikes', '5.31 sec, 101 batches, 126136 spikes', '7.15 sec, 138 batches, 172793 spikes', 'time 12.14, Skipped shifting 138 batches.', 'Time  13s. Optimizing templates ...', '14.19 sec, 1 / 138 batches, 10 units, nspks: 3.1101, mu: 63.1990, nst0: 20, merges: 0.0000, 0.0000, 0.3000', '20.36 sec, 101 / 138 batches, 120 units, nspks: 942.9286, mu: 24.5269, nst0: 992, merges: 21.6294, 0.0000, 5.2183', 'Elapsed time is 23.110068 seconds.', 'Finished learning templates', 'Time  23s. Optimizing templates ...', '23.46 sec, 1 / 138 batches, 124 units, nspks: 952.0000, mu: 24.1396, nst0: 1526', '30.62 sec, 101 / 138 batches, 124 units, nspks: 103011.0000, mu: 24.1396, nst0: 1545', 'Elapsed time is 33.344459 seconds.', 'Number of spikes before applying cutoff: 217045', 'initialized spike counts', 'merged 61 into 51', 'merged 54 into 51', 'Found 0 splits, checked 1/124 clusters, nccg 0', 'Found 28 splits, checked 101/152 clusters, nccg 6', 'Finished splitting. Found 37 splits, checked 161/161 clusters, nccg 14', 'Removing 74366 spikes below cutoff from rez.', 'found 23 good units', 'Saving results to Phy'], 'error': False, 'run_time': 75.16078260401264}}</li></details><details style='margin-left: 10px;'><summary><strong>Unit Properties</strong></summary><ul><details><summary><strong>original_cluster_id</strong></summary>[  0   1   2   3   4   5   6   7   8   9  10  11  12  13  14  15  16  17\n",
       "  18  19  20  21  22  23  24  25  26  27  28  29  30  31  32  33  34  35\n",
       "  36  37  38  39  40  41  42  43  44  45  46  47  48  49  50  51  52  54\n",
       "  55  56  57  58  59  61  62  63  64  65  66  67  68  69  70  71  72  73\n",
       "  74  75  76  77  78  79  80  81  82  83  84  85  86  87  88  89  90  91\n",
       "  92  93  94  95  96  97  98  99 100 101 102 103 104 105 106 107 108 109\n",
       " 110 111 112 113 114 115 116 117 118 119 120 121 122 123 124 125 126 127\n",
       " 128 129 130 131 132 133 134 135 136 137 138 139 140 141 142 143 144 145\n",
       " 146 147 148 149 150 151 152 153 154 155 156 157 158 159 160]</details><details><summary><strong>KSLabel</strong></summary>['mua' 'good' 'mua' 'mua' 'mua' 'mua' 'mua' 'mua' 'mua' 'mua' 'good'\n",
       " 'good' 'mua' 'good' 'mua' 'mua' 'mua' 'good' 'mua' 'mua' 'mua' 'good'\n",
       " 'mua' 'mua' 'mua' 'mua' 'mua' 'mua' 'mua' 'mua' 'mua' 'mua' 'mua' 'mua'\n",
       " 'good' 'mua' 'mua' 'mua' 'mua' 'mua' 'mua' 'mua' 'good' 'mua' 'mua' 'mua'\n",
       " 'mua' 'mua' 'mua' 'mua' 'good' 'mua' 'mua' 'mua' 'mua' 'mua' 'mua' 'mua'\n",
       " 'mua' 'good' 'mua' 'mua' 'mua' 'mua' 'mua' 'good' 'mua' 'mua' 'mua' 'mua'\n",
       " 'mua' 'mua' 'mua' 'mua' 'mua' 'mua' 'mua' 'mua' 'mua' 'mua' 'mua' 'mua'\n",
       " 'mua' 'good' 'mua' 'mua' 'mua' 'mua' 'mua' 'mua' 'mua' 'mua' 'mua' 'good'\n",
       " 'mua' 'mua' 'mua' 'mua' 'mua' 'mua' 'mua' 'mua' 'mua' 'mua' 'mua' 'mua'\n",
       " 'mua' 'mua' 'mua' 'good' 'mua' 'mua' 'mua' 'mua' 'mua' 'mua' 'good'\n",
       " 'good' 'mua' 'mua' 'mua' 'mua' 'mua' 'mua' 'mua' 'mua' 'mua' 'mua' 'mua'\n",
       " 'mua' 'mua' 'mua' 'mua' 'mua' 'mua' 'good' 'mua' 'mua' 'mua' 'mua' 'mua'\n",
       " 'mua' 'good' 'mua' 'mua' 'mua' 'mua' 'good' 'good' 'mua' 'mua' 'mua'\n",
       " 'mua' 'mua' 'mua' 'good' 'mua' 'good' 'good']</details><details><summary><strong>KSLabel_repeat</strong></summary>['mua' 'good' 'mua' 'mua' 'mua' 'mua' 'mua' 'mua' 'mua' 'mua' 'good'\n",
       " 'good' 'mua' 'good' 'mua' 'mua' 'mua' 'good' 'mua' 'mua' 'mua' 'good'\n",
       " 'mua' 'mua' 'mua' 'mua' 'mua' 'mua' 'mua' 'mua' 'mua' 'mua' 'mua' 'mua'\n",
       " 'good' 'mua' 'mua' 'mua' 'mua' 'mua' 'mua' 'mua' 'good' 'mua' 'mua' 'mua'\n",
       " 'mua' 'mua' 'mua' 'mua' 'good' 'mua' 'mua' 'mua' 'mua' 'mua' 'mua' 'mua'\n",
       " 'mua' 'good' 'mua' 'mua' 'mua' 'mua' 'mua' 'good' 'mua' 'mua' 'mua' 'mua'\n",
       " 'mua' 'mua' 'mua' 'mua' 'mua' 'mua' 'mua' 'mua' 'mua' 'mua' 'mua' 'mua'\n",
       " 'mua' 'good' 'mua' 'mua' 'mua' 'mua' 'mua' 'mua' 'mua' 'mua' 'mua' 'good'\n",
       " 'mua' 'mua' 'mua' 'mua' 'mua' 'mua' 'mua' 'mua' 'mua' 'mua' 'mua' 'mua'\n",
       " 'mua' 'mua' 'mua' 'good' 'mua' 'mua' 'mua' 'mua' 'mua' 'mua' 'good'\n",
       " 'good' 'mua' 'mua' 'mua' 'mua' 'mua' 'mua' 'mua' 'mua' 'mua' 'mua' 'mua'\n",
       " 'mua' 'mua' 'mua' 'mua' 'mua' 'mua' 'good' 'mua' 'mua' 'mua' 'mua' 'mua'\n",
       " 'mua' 'good' 'mua' 'mua' 'mua' 'mua' 'good' 'good' 'mua' 'mua' 'mua'\n",
       " 'mua' 'mua' 'mua' 'good' 'mua' 'good' 'good']</details><details><summary><strong>Amplitude</strong></summary>[ 1394.2  3773.7  2117.1  1446.4  2531.5   934.2  1003.    814.3  4175.3\n",
       "  1205.2   613.1  3306.7   960.4  3960.2  1891.1  1602.4  1312.6  4923.1\n",
       "  1504.1  1344.   1158.4  3666.3  1028.   1946.6  1008.9   374.   2890.9\n",
       "  1826.8  1107.8  2264.    496.2  2100.6  1740.7  1376.8  2615.   1349.5\n",
       "  3519.8  1530.   1100.7  1298.5  1485.8  1745.7  1925.5  1426.1  2197.4\n",
       "   811.   1908.4  1400.3  2240.2  1202.3  2151.2  1444.8  1142.9  4890.7\n",
       "  3075.6  1405.5  2052.5  1540.5  4532.8  1302.4  2629.   2207.3  1789.\n",
       "  2158.1  1058.9 10488.   1877.9  1145.4  6565.8  2981.8  2236.   1946.5\n",
       "  2719.6  1155.7  4163.2  2178.4  2141.1  1866.5  2331.3  2176.4  1392.8\n",
       "  1258.5  1208.1  3116.1  1146.   1159.5  4777.4  2042.8  1434.4  1322.3\n",
       "  2287.6  1177.3  1553.3  4622.7  1027.4  1175.4  1343.2  2529.9  2590.1\n",
       "  1602.2  1098.2  1229.9  1383.6  1375.1  1487.   4994.6  1240.5  1402.4\n",
       "  4235.5  4218.7  1225.8   972.2  2988.2  4496.   2107.8  1321.2  1316.9\n",
       "  2043.3   919.2  1018.4   776.4   895.9  2242.6   787.4  2756.9  1858.5\n",
       "  1594.1   747.4  4310.3  3391.3  1805.5  1239.2  2685.5  1260.6   600.7\n",
       "  1805.7  1076.1  1544.4  2426.8  1133.7  2188.4  1601.6  2852.1  1580.8\n",
       "  1260.   1148.5   961.3  1847.3  1057.6  1744.9  1260.9  2171.9  1890.3\n",
       "  1059.   1671.6   535.   1771.5  1700.4  1240.3]</details><details><summary><strong>ContamPct</strong></summary>[111.6   8.    0.   89.7  31.2  80.6   0.    inf  24.   54.6   0.    0.\n",
       " 121.2   0.    0.  146.1   0.    0.   87.   45.   56.4   0.   87.  487.5\n",
       "  94.8 100.  111.4   0.   48.1  35.5  23.1  52.5  36.2   0.    0.  117.1\n",
       "  81.2   0.    0.  139.    0.    inf 100.    0.   19.1   0.    0.  156.\n",
       "  81.2  38.5   3.3   0.   59.4  17.4   0.   75.3 166.7 109.7   0.    0.\n",
       "   0.    0.    0.   24.9   0.    0.  106.2   0.   54.4  37.1  18.    0.\n",
       " 102.9  96.3   0.   28.8   0.   93.6   0.   17.6  84.8  54.4   0.    0.\n",
       "   0.  129.  113.8   0.  107.9   0.    0.    0.   86.4   0.   15.8  27.6\n",
       "   9.8   0.  139.3   0.    0.    0.   71.9   0.   45.6   0.    0.   72.9\n",
       "   0.    0.   60.4  36.4   0.    0.   51.3  73.1   0.  100.    0.  238.8\n",
       "   0.  100.2 133.2  83.9 151.7  92.9 188.2   0.   19.7  22.7 158.  162.5\n",
       "  90.9  92.2   0.    2.5   0.   20.2  88.4  84.2  20.5  81.2   4.2  75.3\n",
       "  50.    0.   18.4   0.    0.   46.8  75.6  82.9 122.7  21.2  61.6   9.5\n",
       " 264.1   0.    9.8]</details></ul></details>"
      ],
      "text/plain": [
       "KiloSortSortingExtractor: 159 units - 1 segments - 30.0kHz"
      ]
     },
     "execution_count": 41,
     "metadata": {},
     "output_type": "execute_result"
    }
   ],
   "source": [
    "sorting_KS25 = si.read_sorter_folder(base_folder / 'sorter_KS25')\n",
    "sorting_KS25"
   ]
  },
  {
   "cell_type": "markdown",
   "metadata": {
    "pycharm": {
     "name": "#%% md\n"
    }
   },
   "source": [
    "SpikeInterface ensures full provenance of the spike sorting pipeline. Upon running a spike sorter, a `spikeinterface_params.json` file is saved in the `output_folder`. This contains a `.json` version of the recording and all the input parameters. "
   ]
  },
  {
   "cell_type": "code",
   "execution_count": 42,
   "metadata": {
    "pycharm": {
     "name": "#%%\n"
    }
   },
   "outputs": [
    {
     "name": "stdout",
     "output_type": "stream",
     "text": [
      "sorter_output\t\t spikeinterface_params.json\n",
      "spikeinterface_log.json  spikeinterface_recording.json\n"
     ]
    }
   ],
   "source": [
    "!ls {base_folder}/sorter_KS25"
   ]
  },
  {
   "cell_type": "code",
   "execution_count": 63,
   "metadata": {},
   "outputs": [
    {
     "name": "stdout",
     "output_type": "stream",
     "text": [
      "{\n",
      "    \"sorter_name\": \"kilosort2_5\",\n",
      "    \"sorter_params\": {\n",
      "        \"detect_threshold\": 6,\n",
      "        \"projection_threshold\": [\n",
      "            10,\n",
      "            4\n",
      "        ],\n",
      "        \"preclust_threshold\": 8,\n",
      "        \"momentum\": [\n",
      "            20.0,\n",
      "            400.0\n",
      "        ],\n",
      "        \"car\": true,\n",
      "        \"minFR\": 0.1,\n",
      "        \"minfr_goodchannels\": 0.1,\n",
      "        \"nblocks\": 5,\n",
      "        \"sig\": 20,\n",
      "        \"freq_min\": 150,\n",
      "        \"sigmaMask\": 30,\n",
      "        \"lam\": 10.0,\n",
      "        \"nPCs\": 3,\n",
      "        \"ntbuff\": 64,\n",
      "        \"nfilt_factor\": 4,\n",
      "        \"NT\": 65600,\n",
      "        \"AUCsplit\": 0.9,\n",
      "        \"do_correction\": false,\n",
      "        \"wave_length\": 61,\n",
      "        \"keep_good_only\": false,\n",
      "        \"skip_kilosort_preprocessing\": false,\n",
      "        \"scaleproc\": null,\n",
      "        \"save_rez_to_mat\": false,\n",
      "        \"delete_tmp_files\": [\n",
      "            \"matlab_files\"\n",
      "        ],\n",
      "        \"delete_recording_dat\": false,\n",
      "        \"n_jobs\": -1,\n",
      "        \"chunk_duration\": \"1s\",\n",
      "        \"progress_bar\": true,\n",
      "        \"mp_context\": null,\n",
      "        \"max_threads_per_process\": 1\n",
      "    }\n",
      "}"
     ]
    }
   ],
   "source": [
    "!cat {base_folder}/sorter_KS25/spikeinterface_params.json"
   ]
  },
  {
   "cell_type": "markdown",
   "metadata": {
    "pycharm": {
     "name": "#%% md\n"
    }
   },
   "source": [
    "The spike sorting returns a `Sorting` object. Let's see some of its functions:"
   ]
  },
  {
   "cell_type": "code",
   "execution_count": 43,
   "metadata": {},
   "outputs": [
    {
     "name": "stdout",
     "output_type": "stream",
     "text": [
      "Spike train of a unit: [   2277    2722    2984 ... 8967870 8992325 8993115]\n",
      "Spike train of a unit (in s): [353.0359     353.05073333 353.05946667 ... 651.889      652.70416667\n",
      " 652.7305    ]\n"
     ]
    }
   ],
   "source": [
    "print(f'Spike train of a unit: {sorting_KS25.get_unit_spike_train(unit_id=1)}')\n",
    "print(f'Spike train of a unit (in s): {sorting_KS25.get_unit_spike_train(unit_id=1, return_times=True)}')"
   ]
  },
  {
   "cell_type": "markdown",
   "metadata": {
    "pycharm": {
     "name": "#%% md\n"
    }
   },
   "source": [
    "We can use `spikewidgets` functions for some quick visualizations:"
   ]
  },
  {
   "cell_type": "code",
   "execution_count": 44,
   "metadata": {
    "pycharm": {
     "name": "#%%\n"
    }
   },
   "outputs": [
    {
     "data": {
      "image/png": "[encoded data removed]",
      "text/plain": [
       "<Figure size 640x480 with 1 Axes>"
      ]
     },
     "metadata": {},
     "output_type": "display_data"
    }
   ],
   "source": [
    "%matplotlib inline\n",
    "w_rs = si.plot_rasters(sorting_KS25, time_range=(50., 70.))"
   ]
  },
  {
   "cell_type": "markdown",
   "metadata": {},
   "source": [
    "We can also save a spike sorting output for future use:"
   ]
  },
  {
   "cell_type": "code",
   "execution_count": 46,
   "metadata": {},
   "outputs": [],
   "source": [
    "sorting_saved_KS25 = sorting_KS25.save(folder=base_folder / \"sorting_KS25\")\n"
   ]
  },
  {
   "cell_type": "markdown",
   "metadata": {},
   "source": [
    "### Run sorter in container\n",
    "\n",
    "Some sorters are hard to install! To alleviate this headache, SI provides a built-in mechanism to run a spike sorting job in a docker container.\n",
    "\n",
    "We are maintaining a set of sorter-specific docker files in the [spikeinterface-dockerfiles repo](<https://github.com/SpikeInterface/spikeinterface-dockerfiles>)\n",
    "and most of the docker images are available on Docker Hub from the [SpikeInterface organization](<https://hub.docker.com/orgs/spikeinterface/repositories>).\n",
    "\n",
    "Running spike sorting in a docker container just requires to:\n",
    "\n",
    "1. have docker/singularity installed\n",
    "2. have docker/singularity python SDK installed (`pip install docker/spython`)\n",
    "\n",
    "When docker/singularity is installed, you can simply run the sorter in a container image:\n",
    "\n"
   ]
  },
  {
   "cell_type": "markdown",
   "metadata": {},
   "source": [
    "```python\n",
    "# run spike sorting on entire recording\n",
    "sorting_KS2 = si.run_sorter('kilosort2', recording_saved, \n",
    "                            output_folder=base_folder / 'sorter_KS2',\n",
    "                            verbose=True,\n",
    "                            docker_image=True, \n",
    "                            **job_kwargs)\n",
    "```"
   ]
  },
  {
   "cell_type": "code",
   "execution_count": 47,
   "metadata": {},
   "outputs": [
    {
     "data": {
      "text/html": [
       "<div style='border:1px solid #ddd; padding:10px;'><strong>KiloSortSortingExtractor: 154 units - 1 segments - 30.0kHz</strong></div><details style='margin-left: 10px;'>  <summary><strong>Unit IDs</strong></summary><ul>[  0   1   2   3   4   5   6   7   8   9  10  11  12  13  14  15  16  17\n",
       "  18  19  20  21  22  23  24  25  26  27  28  29  30  31  32  33  34  35\n",
       "  36  37  38  39  40  41  42  43  44  45  46  47  48  49  50  52  53  54\n",
       "  55  56  57  58  59  60  61  62  63  64  65  66  67  68  69  70  71  72\n",
       "  73  74  75  76  77  78  79  80  81  82  83  84  85  86  87  88  89  90\n",
       "  91  92  93  94  95  96  97  98  99 100 101 102 103 104 105 106 107 108\n",
       " 109 110 111 112 113 114 115 116 117 118 119 120 121 122 123 124 125 126\n",
       " 127 128 129 130 131 132 133 134 135 136 137 138 139 140 141 142 143 144\n",
       " 145 146 147 148 149 150 151 152 153 154] </details><details style='margin-left: 10px;'>  <summary><strong>Annotations</strong></summary><ul><li> <strong> phy_folder </strong>: /home/samuel/DataSpikeSorting/gdr2024_tutorials/sorter_KS2/sorter_output</li><li> <strong> __sorting_info__ </strong>: {'recording': {'class': 'spikeinterface.core.binaryfolder.BinaryFolderRecording', 'module': 'spikeinterface', 'version': '0.101.0', 'kwargs': {'folder_path': '/home/samuel/DataSpikeSorting/Edinburgh_SI_tutorials/preprocessed'}, 'annotations': {'is_filtered': True, 'probe_0_planar_contour': [[-10.0, 900.0], [-10.0, -10.0], [12.0, -30.0], [30.0, 10.0], [70.0, 900.0]], 'probes_info': [{}]}, 'properties': {'group': [0, 0, 0, 0, 0, 0, 0, 0, 0, 0, 0, 0, 0, 0, 0, 0, 0, 0, 0, 0, 0, 0, 0, 0, 0, 0, 0, 0, 0, 0, 0, 0, 0, 0, 0, 0, 0, 0, 0, 0, 0, 0, 0, 0, 0, 0, 0, 0, 0], 'location': [[0.0, 750.0], [0.0, 375.0], [0.0, 525.0], [22.5, 437.5], [22.5, 487.5], [22.5, 562.5], [0.0, 550.0], [22.5, 687.5], [0.0, 475.0], [22.5, 787.5], [22.5, 512.5], [0.0, 625.0], [0.0, 725.0], [22.5, 737.5], [0.0, 425.0], [22.5, 662.5], [0.0, 500.0], [0.0, 675.0], [0.0, 600.0], [22.5, 612.5], [22.5, 462.5], [22.5, 587.5], [22.5, 712.5], [22.5, 637.5], [0.0, 275.0], [22.5, 337.5], [22.5, 212.5], [0.0, 100.0], [0.0, 350.0], [22.5, 137.5], [0.0, 50.0], [22.5, 312.5], [22.5, 162.5], [22.5, 112.5], [22.5, 237.5], [0.0, 175.0], [22.5, 387.5], [0.0, 75.0], [22.5, 262.5], [0.0, 300.0], [0.0, 200.0], [0.0, 325.0], [22.5, 37.5], [0.0, 225.0], [22.5, 412.5], [0.0, 150.0], [22.5, 62.5], [0.0, 25.0], [0.0, 0.0]], 'gain_to_uV': [0.1949999928474426, 0.1949999928474426, 0.1949999928474426, 0.1949999928474426, 0.1949999928474426, 0.1949999928474426, 0.1949999928474426, 0.1949999928474426, 0.1949999928474426, 0.1949999928474426, 0.1949999928474426, 0.1949999928474426, 0.1949999928474426, 0.1949999928474426, 0.1949999928474426, 0.1949999928474426, 0.1949999928474426, 0.1949999928474426, 0.1949999928474426, 0.1949999928474426, 0.1949999928474426, 0.1949999928474426, 0.1949999928474426, 0.1949999928474426, 0.1949999928474426, 0.1949999928474426, 0.1949999928474426, 0.1949999928474426, 0.1949999928474426, 0.1949999928474426, 0.1949999928474426, 0.1949999928474426, 0.1949999928474426, 0.1949999928474426, 0.1949999928474426, 0.1949999928474426, 0.1949999928474426, 0.1949999928474426, 0.1949999928474426, 0.1949999928474426, 0.1949999928474426, 0.1949999928474426, 0.1949999928474426, 0.1949999928474426, 0.1949999928474426, 0.1949999928474426, 0.1949999928474426, 0.1949999928474426, 0.1949999928474426], 'offset_to_uV': [0, 0, 0, 0, 0, 0, 0, 0, 0, 0, 0, 0, 0, 0, 0, 0, 0, 0, 0, 0, 0, 0, 0, 0, 0, 0, 0, 0, 0, 0, 0, 0, 0, 0, 0, 0, 0, 0, 0, 0, 0, 0, 0, 0, 0, 0, 0, 0, 0]}, 'relative_paths': False}, 'params': {'sorter_name': 'kilosort2', 'sorter_params': {'detect_threshold': 6, 'projection_threshold': [10, 4], 'preclust_threshold': 8, 'momentum': [20.0, 400.0], 'car': True, 'minFR': 0.1, 'minfr_goodchannels': 0.1, 'freq_min': 150, 'sigmaMask': 30, 'lam': 10.0, 'nPCs': 3, 'ntbuff': 64, 'nfilt_factor': 4, 'NT': 65600, 'AUCsplit': 0.9, 'wave_length': 61, 'keep_good_only': False, 'skip_kilosort_preprocessing': False, 'scaleproc': None, 'save_rez_to_mat': False, 'delete_tmp_files': ['matlab_files'], 'delete_recording_dat': False, 'n_jobs': 1, 'chunk_duration': '1s', 'progress_bar': True, 'mp_context': None, 'max_threads_per_process': 1}}, 'log': {'sorter_name': 'kilosort2', 'sorter_version': 'compiled', 'datetime': '2024-05-22T15:25:42.092887', 'runtime_trace': ['Time   0s. Determining good channels..', 'found 63813 threshold crossings in 150.88 seconds of data', 'found 0 bad channels', 'Time   8s. Computing whitening matrix..', 'Getting channel whitening matrix...', 'Channel-whitening matrix computed.', 'Time   9s. Loading raw data and applying filters...', 'Time  14s. Finished preprocessing 138 batches.', 'random seed for clusterSingleBatches: 1', 'Obtained 7 PC waveforms in 0.60 seconds', 'time 0.56, pre clustered 1 / 138 batches', 'time 0.17, compared 1 / 138 batches', 'time 6.79, Re-ordered 138 batches.', 'Time   7s. Optimizing templates ...', '8.20 sec, 1 / 138 batches, 8 units, nspks: 3.1056, mu: 32.3413, nst0: 28, merges: 0.0000, 0.0000', '14.13 sec, 101 / 138 batches, 116 units, nspks: 971.7903, mu: 24.6415, nst0: 797, merges: 22.6817, 0.0000', 'Elapsed time is 16.774521 seconds.', 'Finished learning templates', 'Time  17s. Optimizing templates ...', '17.09 sec, 1 / 69 batches, 117 units, nspks: 55.3000, mu: 23.8044, nst0: 1606', 'Elapsed time is 22.044474 seconds.', 'Time  22s. Optimizing templates ...', '22.25 sec, 1 / 69 batches, 117 units, nspks: 49.6000, mu: 23.8044, nst0: 1542', 'Elapsed time is 27.208484 seconds.', 'Number of spikes before applying cutoff: 229991', 'Finished compressing time-varying templates', 'initialized spike counts', 'merged 52 into 49', 'Found 0 splits, checked 1/117 clusters, nccg 0', 'Found 23 splits, checked 101/140 clusters, nccg 4', 'Finished splitting. Found 37 splits, checked 154/154 clusters, nccg 10', 'Found 0 splits, checked 1/154 clusters, nccg 0', 'Found 1 splits, checked 101/155 clusters, nccg 5', 'Finished splitting. Found 1 splits, checked 155/155 clusters, nccg 13', 'Removing 78750 spikes from rez structure.', 'found 20 good units', 'Saving results to Phy'], 'error': False, 'run_time': 93.96376075502485}}</li></details><details style='margin-left: 10px;'><summary><strong>Unit Properties</strong></summary><ul><details><summary><strong>original_cluster_id</strong></summary>[  0   1   2   3   4   5   6   7   8   9  10  11  12  13  14  15  16  17\n",
       "  18  19  20  21  22  23  24  25  26  27  28  29  30  31  32  33  34  35\n",
       "  36  37  38  39  40  41  42  43  44  45  46  47  48  49  50  52  53  54\n",
       "  55  56  57  58  59  60  61  62  63  64  65  66  67  68  69  70  71  72\n",
       "  73  74  75  76  77  78  79  80  81  82  83  84  85  86  87  88  89  90\n",
       "  91  92  93  94  95  96  97  98  99 100 101 102 103 104 105 106 107 108\n",
       " 109 110 111 112 113 114 115 116 117 118 119 120 121 122 123 124 125 126\n",
       " 127 128 129 130 131 132 133 134 135 136 137 138 139 140 141 142 143 144\n",
       " 145 146 147 148 149 150 151 152 153 154]</details><details><summary><strong>KSLabel</strong></summary>['mua' 'mua' 'mua' 'mua' 'mua' 'mua' 'mua' 'mua' 'mua' 'mua' 'mua' 'mua'\n",
       " 'mua' 'good' 'mua' 'mua' 'mua' 'mua' 'mua' 'mua' 'mua' 'mua' 'good' 'mua'\n",
       " 'mua' 'mua' 'mua' 'mua' 'good' 'mua' 'mua' 'mua' 'mua' 'mua' 'mua' 'mua'\n",
       " 'good' 'mua' 'mua' 'mua' 'mua' 'good' 'mua' 'mua' 'mua' 'good' 'mua'\n",
       " 'mua' 'mua' 'mua' 'mua' 'good' 'mua' 'mua' 'mua' 'mua' 'mua' 'mua' 'mua'\n",
       " 'mua' 'mua' 'mua' 'mua' 'mua' 'mua' 'mua' 'good' 'mua' 'mua' 'mua' 'mua'\n",
       " 'mua' 'mua' 'mua' 'mua' 'mua' 'mua' 'mua' 'mua' 'mua' 'mua' 'mua' 'mua'\n",
       " 'mua' 'mua' 'mua' 'mua' 'mua' 'mua' 'mua' 'mua' 'mua' 'mua' 'mua' 'mua'\n",
       " 'mua' 'mua' 'mua' 'mua' 'mua' 'mua' 'mua' 'mua' 'mua' 'mua' 'mua' 'good'\n",
       " 'mua' 'mua' 'mua' 'mua' 'mua' 'mua' 'good' 'mua' 'mua' 'mua' 'mua' 'good'\n",
       " 'mua' 'mua' 'mua' 'mua' 'mua' 'mua' 'mua' 'mua' 'mua' 'good' 'mua' 'mua'\n",
       " 'mua' 'mua' 'good' 'good' 'good' 'mua' 'good' 'mua' 'mua' 'mua' 'good'\n",
       " 'good' 'mua' 'good' 'mua' 'mua' 'good' 'mua' 'mua' 'mua' 'mua' 'mua'\n",
       " 'mua']</details><details><summary><strong>KSLabel_repeat</strong></summary>['mua' 'mua' 'mua' 'mua' 'mua' 'mua' 'mua' 'mua' 'mua' 'mua' 'mua' 'mua'\n",
       " 'mua' 'good' 'mua' 'mua' 'mua' 'mua' 'mua' 'mua' 'mua' 'mua' 'good' 'mua'\n",
       " 'mua' 'mua' 'mua' 'mua' 'good' 'mua' 'mua' 'mua' 'mua' 'mua' 'mua' 'mua'\n",
       " 'good' 'mua' 'mua' 'mua' 'mua' 'good' 'mua' 'mua' 'mua' 'good' 'mua'\n",
       " 'mua' 'mua' 'mua' 'mua' 'good' 'mua' 'mua' 'mua' 'mua' 'mua' 'mua' 'mua'\n",
       " 'mua' 'mua' 'mua' 'mua' 'mua' 'mua' 'mua' 'good' 'mua' 'mua' 'mua' 'mua'\n",
       " 'mua' 'mua' 'mua' 'mua' 'mua' 'mua' 'mua' 'mua' 'mua' 'mua' 'mua' 'mua'\n",
       " 'mua' 'mua' 'mua' 'mua' 'mua' 'mua' 'mua' 'mua' 'mua' 'mua' 'mua' 'mua'\n",
       " 'mua' 'mua' 'mua' 'mua' 'mua' 'mua' 'mua' 'mua' 'mua' 'mua' 'mua' 'good'\n",
       " 'mua' 'mua' 'mua' 'mua' 'mua' 'mua' 'good' 'mua' 'mua' 'mua' 'mua' 'good'\n",
       " 'mua' 'mua' 'mua' 'mua' 'mua' 'mua' 'mua' 'mua' 'mua' 'good' 'mua' 'mua'\n",
       " 'mua' 'mua' 'good' 'good' 'good' 'mua' 'good' 'mua' 'mua' 'mua' 'good'\n",
       " 'good' 'mua' 'good' 'mua' 'mua' 'good' 'mua' 'mua' 'mua' 'mua' 'mua'\n",
       " 'mua']</details><details><summary><strong>Amplitude</strong></summary>[ 294.5  224.6  597.9  285.5  253.9  289.8  514.3  236.7  219.4  978.8\n",
       "  304.6  250.7  229.   802.   399.6  194.1  150.4  588.1  684.7  329.8\n",
       "  257.4  179.5  742.6  288.2  315.3  199.6  396.1  179.2  300.8 1137.4\n",
       "  390.6  257.7  277.6  565.1  322.6  368.3  529.9  262.7  593.3  266.2\n",
       "  227.9  383.7   89.9  311.9  195.5  354.3  139.8  273.7  461.   284.1\n",
       "  216.9  918.1  513.6  225.7  323.9  214.8  633.8  950.3  296.9  423.5\n",
       "  209.3  243.   130.3  426.9  212.6  241.  2028.1  290.3 1141.   541.3\n",
       "  408.1  178.4  375.5  140.2  673.7  407.9  686.   408.   402.4  256.\n",
       "  187.3  604.8  187.3  667.4  357.8  236.1  392.   312.9  362.8 1003.1\n",
       "  299.1  270.7  414.5  931.9  444.3  438.3  184.8  230.4  195.   231.8\n",
       "  265.7  257.8  412.7  312.9  415.4  779.2  175.5  298.7  202.   598.3\n",
       "  507.   460.7  210.2  252.1  416.6  347.8  844.9  226.3  185.3  178.6\n",
       "  347.9  812.7  535.5  276.1  320.1  741.5  475.   240.8  653.1  241.3\n",
       "  311.5  244.7  407.6  336.5  557.9  255.3  215.2  385.9  256.9  223.9\n",
       "  222.6  240.6  293.8  360.   789.6  327.1  320.4  164.1  284.4  316.3\n",
       "  251.3  260.6  208.4  607.3]</details><details><summary><strong>ContamPct</strong></summary>[  0.  100.4  42.5   inf 194.    0.   46.3  87.    0.   23.1   0.    0.\n",
       "  58.    0.    0.   13.    0.   88.6 159.1 152.9  15.8  62.9   0.    0.\n",
       "   0.   83.9   0.   97.4   0.   70.1  83.   94.6   0.  171.7  75.5   inf\n",
       "   0.  110.5  70.3 106.  375.6   0.   99.2  12.6   0.    0.    0.   55.6\n",
       "  36.6   0.    0.    0.   70.9   0.    0.   50.    0.   61.9 112.2 121.9\n",
       "   0.   55.7   0.   20.9  81.2   0.    0.    0.   54.4   0.   11.8   0.\n",
       "  84.6 164.2  83.   27.1  58.2 131.5  15.   74.8   0.  117.    0.  110.4\n",
       "   0.  106.5   0.   77.4  95.   38.6  86.4  13.2   0.    0.   84.8   0.\n",
       "  88.8   0.    0.   88.4   0.   70.8   0.  109.2 114.3  13.9   0.   28.5\n",
       " 144.4 101.7   0.   35.3  86.4   0.   86.7 216.7  16.1  51.1   0.   75.\n",
       "  82.4  31.4 104.3   0.  188.7  74.7  23.9 157.6   0.    0.   13.6  65.4\n",
       "  14.8   0.    0.    0.   28.8   0.   15.5  66.9  24.6   9.9   0.   29.\n",
       "   0.   46.8 206.8   0.   92.9  48.    0.   14.7   0.   35.5]</details></ul></details>"
      ],
      "text/plain": [
       "KiloSortSortingExtractor: 154 units - 1 segments - 30.0kHz"
      ]
     },
     "execution_count": 47,
     "metadata": {},
     "output_type": "execute_result"
    }
   ],
   "source": [
    "sorting_KS2 = si.read_sorter_folder(base_folder / 'sorter_KS2')\n",
    "sorting_KS2"
   ]
  },
  {
   "cell_type": "markdown",
   "metadata": {},
   "source": [
    "```python\n",
    "sorting_KS4 = si.run_sorter('kilosort4', recording_saved, \n",
    "                            output_folder=base_folder / 'sorter_KS4',\n",
    "                            verbose=True,\n",
    "                            # sorter params\n",
    "                            do_correction=False,\n",
    "                )\n",
    "```\n"
   ]
  },
  {
   "cell_type": "code",
   "execution_count": 48,
   "metadata": {},
   "outputs": [
    {
     "data": {
      "text/html": [
       "<div style='border:1px solid #ddd; padding:10px;'><strong>KiloSortSortingExtractor: 110 units - 1 segments - 30.0kHz</strong></div><details style='margin-left: 10px;'>  <summary><strong>Unit IDs</strong></summary><ul>[  0   1   2   3   4   5   6   7   8   9  10  11  12  13  14  15  16  17\n",
       "  18  19  20  21  22  23  24  25  26  27  28  29  30  31  32  33  34  35\n",
       "  36  37  38  39  40  41  42  43  44  45  46  47  48  49  50  51  52  53\n",
       "  54  55  56  57  58  59  60  61  62  63  64  65  66  67  68  69  70  71\n",
       "  72  73  74  75  76  77  78  79  80  81  82  83  84  85  86  87  88  89\n",
       "  90  91  92  93  94  95  96  97  98  99 100 101 102 103 104 105 106 107\n",
       " 108 109] </details><details style='margin-left: 10px;'>  <summary><strong>Annotations</strong></summary><ul><li> <strong> phy_folder </strong>: /home/samuel/DataSpikeSorting/gdr2024_tutorials/sorter_KS4/sorter_output</li><li> <strong> __sorting_info__ </strong>: {'recording': {'class': 'spikeinterface.core.binaryfolder.BinaryFolderRecording', 'module': 'spikeinterface', 'version': '0.101.0', 'kwargs': {'folder_path': '/home/samuel/DataSpikeSorting/Edinburgh_SI_tutorials/preprocessed'}, 'annotations': {'is_filtered': True, 'probe_0_planar_contour': [[-10.0, 900.0], [-10.0, -10.0], [12.0, -30.0], [30.0, 10.0], [70.0, 900.0]], 'probes_info': [{}]}, 'properties': {'group': [0, 0, 0, 0, 0, 0, 0, 0, 0, 0, 0, 0, 0, 0, 0, 0, 0, 0, 0, 0, 0, 0, 0, 0, 0, 0, 0, 0, 0, 0, 0, 0, 0, 0, 0, 0, 0, 0, 0, 0, 0, 0, 0, 0, 0, 0, 0, 0, 0], 'location': [[0.0, 750.0], [0.0, 375.0], [0.0, 525.0], [22.5, 437.5], [22.5, 487.5], [22.5, 562.5], [0.0, 550.0], [22.5, 687.5], [0.0, 475.0], [22.5, 787.5], [22.5, 512.5], [0.0, 625.0], [0.0, 725.0], [22.5, 737.5], [0.0, 425.0], [22.5, 662.5], [0.0, 500.0], [0.0, 675.0], [0.0, 600.0], [22.5, 612.5], [22.5, 462.5], [22.5, 587.5], [22.5, 712.5], [22.5, 637.5], [0.0, 275.0], [22.5, 337.5], [22.5, 212.5], [0.0, 100.0], [0.0, 350.0], [22.5, 137.5], [0.0, 50.0], [22.5, 312.5], [22.5, 162.5], [22.5, 112.5], [22.5, 237.5], [0.0, 175.0], [22.5, 387.5], [0.0, 75.0], [22.5, 262.5], [0.0, 300.0], [0.0, 200.0], [0.0, 325.0], [22.5, 37.5], [0.0, 225.0], [22.5, 412.5], [0.0, 150.0], [22.5, 62.5], [0.0, 25.0], [0.0, 0.0]], 'gain_to_uV': [0.1949999928474426, 0.1949999928474426, 0.1949999928474426, 0.1949999928474426, 0.1949999928474426, 0.1949999928474426, 0.1949999928474426, 0.1949999928474426, 0.1949999928474426, 0.1949999928474426, 0.1949999928474426, 0.1949999928474426, 0.1949999928474426, 0.1949999928474426, 0.1949999928474426, 0.1949999928474426, 0.1949999928474426, 0.1949999928474426, 0.1949999928474426, 0.1949999928474426, 0.1949999928474426, 0.1949999928474426, 0.1949999928474426, 0.1949999928474426, 0.1949999928474426, 0.1949999928474426, 0.1949999928474426, 0.1949999928474426, 0.1949999928474426, 0.1949999928474426, 0.1949999928474426, 0.1949999928474426, 0.1949999928474426, 0.1949999928474426, 0.1949999928474426, 0.1949999928474426, 0.1949999928474426, 0.1949999928474426, 0.1949999928474426, 0.1949999928474426, 0.1949999928474426, 0.1949999928474426, 0.1949999928474426, 0.1949999928474426, 0.1949999928474426, 0.1949999928474426, 0.1949999928474426, 0.1949999928474426, 0.1949999928474426], 'offset_to_uV': [0, 0, 0, 0, 0, 0, 0, 0, 0, 0, 0, 0, 0, 0, 0, 0, 0, 0, 0, 0, 0, 0, 0, 0, 0, 0, 0, 0, 0, 0, 0, 0, 0, 0, 0, 0, 0, 0, 0, 0, 0, 0, 0, 0, 0, 0, 0, 0, 0]}, 'relative_paths': False}, 'params': {'sorter_name': 'kilosort4', 'sorter_params': {'batch_size': 60000, 'nblocks': 1, 'Th_universal': 9, 'Th_learned': 8, 'do_CAR': True, 'invert_sign': False, 'nt': 61, 'artifact_threshold': None, 'nskip': 25, 'whitening_range': 32, 'binning_depth': 5, 'sig_interp': 20, 'nt0min': None, 'dmin': None, 'dminx': 32, 'min_template_size': 10, 'template_sizes': 5, 'nearest_chans': 10, 'nearest_templates': 100, 'max_channel_distance': None, 'templates_from_data': True, 'n_templates': 6, 'n_pcs': 6, 'Th_single_ch': 6, 'acg_threshold': 0.2, 'ccg_threshold': 0.25, 'cluster_downsampling': 20, 'cluster_pcs': 64, 'x_centers': None, 'duplicate_spike_bins': 7, 'do_correction': False, 'keep_good_only': False, 'save_extra_kwargs': False, 'skip_kilosort_preprocessing': False, 'scaleproc': None, 'torch_device': 'auto'}}, 'log': {'sorter_name': 'kilosort4', 'sorter_version': '4', 'datetime': '2024-05-22T17:31:28.343519', 'runtime_trace': [], 'error': False, 'run_time': 66.55841585597955}}</li></details><details style='margin-left: 10px;'><summary><strong>Unit Properties</strong></summary><ul><details><summary><strong>original_cluster_id</strong></summary>[  0   1   2   3   4   5   6   7   8   9  10  11  12  13  14  15  16  17\n",
       "  18  19  20  21  22  23  24  25  26  27  28  29  30  31  32  33  34  35\n",
       "  36  37  38  39  40  41  42  43  44  45  46  47  48  49  50  51  52  53\n",
       "  54  55  56  57  58  59  60  61  62  63  64  65  66  67  68  69  70  71\n",
       "  72  73  74  75  76  77  78  79  80  81  82  83  84  85  86  87  88  89\n",
       "  90  91  92  93  94  95  96  97  98  99 100 101 102 103 104 105 106 107\n",
       " 108 109]</details><details><summary><strong>KSLabel</strong></summary>['mua' 'mua' 'mua' 'mua' 'mua' 'good' 'mua' 'mua' 'mua' 'mua' 'mua' 'mua'\n",
       " 'mua' 'mua' 'mua' 'mua' 'mua' 'mua' 'good' 'mua' 'mua' 'good' 'mua' 'mua'\n",
       " 'mua' 'good' 'mua' 'good' 'mua' 'mua' 'mua' 'mua' 'mua' 'mua' 'mua' 'mua'\n",
       " 'mua' 'mua' 'good' 'mua' 'good' 'mua' 'mua' 'good' 'good' 'good' 'good'\n",
       " 'mua' 'good' 'mua' 'mua' 'mua' 'mua' 'good' 'mua' 'mua' 'mua' 'mua' 'mua'\n",
       " 'mua' 'good' 'good' 'mua' 'good' 'mua' 'mua' 'mua' 'good' 'good' 'mua'\n",
       " 'good' 'good' 'mua' 'mua' 'mua' 'good' 'mua' 'good' 'good' 'good' 'mua'\n",
       " 'mua' 'good' 'mua' 'mua' 'good' 'good' 'mua' 'mua' 'mua' 'mua' 'mua'\n",
       " 'good' 'good' 'mua' 'mua' 'mua' 'mua' 'good' 'good' 'mua' 'mua' 'mua'\n",
       " 'mua' 'mua' 'mua' 'mua' 'mua' 'mua' 'mua']</details><details><summary><strong>KSLabel_repeat</strong></summary>['mua' 'mua' 'mua' 'mua' 'mua' 'good' 'mua' 'mua' 'mua' 'mua' 'mua' 'mua'\n",
       " 'mua' 'mua' 'mua' 'mua' 'mua' 'mua' 'good' 'mua' 'mua' 'good' 'mua' 'mua'\n",
       " 'mua' 'good' 'mua' 'good' 'mua' 'mua' 'mua' 'mua' 'mua' 'mua' 'mua' 'mua'\n",
       " 'mua' 'mua' 'good' 'mua' 'good' 'mua' 'mua' 'good' 'good' 'good' 'good'\n",
       " 'mua' 'good' 'mua' 'mua' 'mua' 'mua' 'good' 'mua' 'mua' 'mua' 'mua' 'mua'\n",
       " 'mua' 'good' 'good' 'mua' 'good' 'mua' 'mua' 'mua' 'good' 'good' 'mua'\n",
       " 'good' 'good' 'mua' 'mua' 'mua' 'good' 'mua' 'good' 'good' 'good' 'mua'\n",
       " 'mua' 'good' 'mua' 'mua' 'good' 'good' 'mua' 'mua' 'mua' 'mua' 'mua'\n",
       " 'good' 'good' 'mua' 'mua' 'mua' 'mua' 'good' 'good' 'mua' 'mua' 'mua'\n",
       " 'mua' 'mua' 'mua' 'mua' 'mua' 'mua' 'mua']</details><details><summary><strong>Amplitude</strong></summary>[10.2 10.6  9.3  9.6 13.2 25.4 18.6 28.2 11.5 51.3 13.6 58.5 32.7 10.5\n",
       " 13.4 12.9 15.  68.8 38.9 18.6 13.6 29.2 12.2 14.  17.6 22.5 18.9 51.8\n",
       " 12.8 28.9 25.9 48.4 17.5 10.5 26.9 12.1 22.9 11.6 31.8 16.5 33.9  9.3\n",
       " 27.6 31.6 77.7 17.6 22.  29.7 55.1 23.1 10.3 10.5 16.4 50.4 12.9 15.6\n",
       " 38.5 11.  28.7 14.1 41.  28.5 28.1 62.1 24.  28.3 10.3 52.3 28.5 27.\n",
       " 44.7 36.8 11.1 30.9 10.9 37.3 10.6 51.9 44.  42.  12.2 13.5 43.1 11.3\n",
       " 14.9 23.3 31.5 11.8 45.  14.3 37.9 22.1 37.6 41.6 10.2 10.7 12.2 10.5\n",
       " 23.8 36.5 23.5 11.3 19.7 11.2 10.1 11.8 10.1 14.2 11.5 10. ]</details><details><summary><strong>ContamPct</strong></summary>[ 32.3  55.7  51.   56.  105.5   5.   48.4  27.9 132.2  43.5 129.    0.\n",
       "  29.2  90.7  74.3  81.4  93.4  54.4   0.   52.8 126.7   2.4 159.2  94.6\n",
       "  25.8   0.   41.2   0.   67.3  43.4   0.    0.   85.3 114.1  46.8  97.4\n",
       "  99.7 102.8  17.5  21.9   0.   54.1  33.3  18.9   0.    0.    4.8  34.2\n",
       "   0.  156.9 118.4 105.2 120.7   0.  120.1 117.3  50.1 133.8  98.   67.\n",
       "  19.6   0.   48.5   0.   24.5   0.  117.1   7.7   0.  155.6   0.    9.5\n",
       " 146.9  37.  102.9   0.   99.4   0.    0.    0.   64.2 118.1   0.   79.5\n",
       " 110.    0.   19.  134.2  45.3 157.4   0.  118.2   0.    0.  209.8 217.7\n",
       " 137.2 200.    0.    0.   86.5 119.   24.7  58.7  98.4 104.6  56.9 116.2\n",
       "  67.5 106.1]</details></ul></details>"
      ],
      "text/plain": [
       "KiloSortSortingExtractor: 110 units - 1 segments - 30.0kHz"
      ]
     },
     "execution_count": 48,
     "metadata": {},
     "output_type": "execute_result"
    }
   ],
   "source": [
    "sorting_KS4 = si.read_sorter_folder(base_folder / 'sorter_KS4')\n",
    "sorting_KS4\n"
   ]
  },
  {
   "cell_type": "markdown",
   "metadata": {},
   "source": [
    "# 5. Postprocessing and SortingAnalyzer <a class=\"anchor\" id=\"postprocessing\"></a>"
   ]
  },
  {
   "cell_type": "markdown",
   "metadata": {},
   "source": [
    "The core of postprocessing spike sorting results need to paired recording-sorting objects.\n",
    "\n",
    "In the `spikeinterface` API, `SortingAnalyzer` class in the `core` module is the base for any postprocessing.\n",
    "\n",
    "The `SortingAnalyzer` object handles a collection of extension to compute additional data and inspect the quality of the sorting:\n",
    "  * waveforms\n",
    "  * templates\n",
    "  * spike amplitudes\n",
    "  * quality metrics\n",
    "  * ..."
   ]
  },
  {
   "cell_type": "code",
   "execution_count": 50,
   "metadata": {},
   "outputs": [
    {
     "name": "stdout",
     "output_type": "stream",
     "text": [
      "KiloSortSortingExtractor: 159 units - 1 segments - 30.0kHz\n"
     ]
    }
   ],
   "source": [
    "recording_saved = si.load_extractor(base_folder / \"preprocessed\")\n",
    "sorting = sorting_KS25\n",
    "print(sorting)"
   ]
  },
  {
   "cell_type": "code",
   "execution_count": 51,
   "metadata": {},
   "outputs": [
    {
     "data": {
      "application/vnd.jupyter.widget-view+json": {
       "model_id": "cd1ff665fa6e4f8d83c236e220e04975",
       "version_major": 2,
       "version_minor": 0
      },
      "text/plain": [
       "estimate_sparsity:   0%|          | 0/300 [00:00<?, ?it/s]"
      ]
     },
     "metadata": {},
     "output_type": "display_data"
    },
    {
     "name": "stdout",
     "output_type": "stream",
     "text": [
      "SortingAnalyzer: 49 channels - 159 units - 1 segments - memory - sparse - has recording\n",
      "Loaded 0 extensions\n"
     ]
    }
   ],
   "source": [
    "analyzer = si.create_sorting_analyzer(sorting, recording_saved, sparse=True)\n",
    "print(analyzer)"
   ]
  },
  {
   "cell_type": "markdown",
   "metadata": {},
   "source": [
    "Let's start with a few extensions:"
   ]
  },
  {
   "cell_type": "code",
   "execution_count": 52,
   "metadata": {},
   "outputs": [
    {
     "data": {
      "application/vnd.jupyter.widget-view+json": {
       "model_id": "cd68954ef9f646a88f02b46c6842c1f1",
       "version_major": 2,
       "version_minor": 0
      },
      "text/plain": [
       "compute_waveforms:   0%|          | 0/300 [00:00<?, ?it/s]"
      ]
     },
     "metadata": {},
     "output_type": "display_data"
    },
    {
     "data": {
      "application/vnd.jupyter.widget-view+json": {
       "model_id": "8abed636a1814221a96d0046f05f8257",
       "version_major": 2,
       "version_minor": 0
      },
      "text/plain": [
       "noise_level:   0%|          | 0/20 [00:00<?, ?it/s]"
      ]
     },
     "metadata": {},
     "output_type": "display_data"
    },
    {
     "data": {
      "text/plain": [
       "SortingAnalyzer: 49 channels - 159 units - 1 segments - memory - sparse - has recording\n",
       "Loaded 4 extensions: random_spikes, waveforms, templates, noise_levels"
      ]
     },
     "execution_count": 52,
     "metadata": {},
     "output_type": "execute_result"
    }
   ],
   "source": [
    "# the \"random_spikes\" extension selects a subset of spikes to compute subsequent extensions\n",
    "analyzer.compute(\"random_spikes\", method=\"uniform\", max_spikes_per_unit=500)\n",
    "analyzer.compute(\"waveforms\", ms_before=1.2, ms_after=2.5)\n",
    "analyzer.compute(\"templates\", operators=[\"average\", \"std\"])\n",
    "analyzer.compute(\"noise_levels\")\n",
    "\n",
    "analyzer"
   ]
  },
  {
   "cell_type": "markdown",
   "metadata": {
    "pycharm": {
     "name": "#%% md\n"
    }
   },
   "source": [
    "Now waveforms are computed and stored in the provided `waveforms` extension. We can now retrieve waveforms and templates easily:"
   ]
  },
  {
   "cell_type": "code",
   "execution_count": 53,
   "metadata": {},
   "outputs": [],
   "source": [
    "wf_ext = analyzer.get_extension(\"waveforms\")"
   ]
  },
  {
   "cell_type": "code",
   "execution_count": 54,
   "metadata": {},
   "outputs": [
    {
     "name": "stdout",
     "output_type": "stream",
     "text": [
      "Waveforms shape: (500, 111, 8)\n",
      "Waveforms shape: (500, 111, 13)\n"
     ]
    }
   ],
   "source": [
    "waveforms0 = wf_ext.get_waveforms_one_unit(unit_id=0)\n",
    "print(f\"Waveforms shape: {waveforms0.shape}\")\n",
    "waveforms1 = wf_ext.get_waveforms_one_unit(unit_id=1)\n",
    "print(f\"Waveforms shape: {waveforms1.shape}\")\n"
   ]
  },
  {
   "cell_type": "code",
   "execution_count": 55,
   "metadata": {},
   "outputs": [],
   "source": [
    "template_ext = analyzer.get_extension(\"templates\")"
   ]
  },
  {
   "cell_type": "code",
   "execution_count": 57,
   "metadata": {},
   "outputs": [
    {
     "name": "stdout",
     "output_type": "stream",
     "text": [
      "<class 'numpy.ndarray'> (159, 111, 49)\n"
     ]
    }
   ],
   "source": [
    "templates_array = template_ext.get_templates(operator=\"average\")\n",
    "print(type(templates_array), templates_array.shape)\n"
   ]
  },
  {
   "cell_type": "markdown",
   "metadata": {},
   "source": [
    "\n",
    "\n",
    "The `SortingAnalyzer` is also compatible with several `widgets` to visualize the spike sorting output:"
   ]
  },
  {
   "cell_type": "markdown",
   "metadata": {},
   "source": [
    "We can also render interactive plots with the `ipywidgets` backend!"
   ]
  },
  {
   "cell_type": "code",
   "execution_count": 58,
   "metadata": {},
   "outputs": [
    {
     "data": {
      "application/vnd.jupyter.widget-view+json": {
       "model_id": "44111904060e4be9ab49356fdb79ef2c",
       "version_major": 2,
       "version_minor": 0
      },
      "text/plain": [
       "AppLayout(children=(HBox(children=(Checkbox(value=False, description='same axis'), Checkbox(value=True, descri…"
      ]
     },
     "metadata": {},
     "output_type": "display_data"
    }
   ],
   "source": [
    "%matplotlib widget\n",
    "w = si.plot_unit_templates(analyzer, backend=\"ipywidgets\")"
   ]
  },
  {
   "cell_type": "markdown",
   "metadata": {},
   "source": [
    "## Sparsity\n",
    "\n",
    "Especially when working with silicon high-density probes, or when our probe has multiple groups (e.g. multi-shank, tetrodes), we don't care about waveform/templates on *all* channels, but only on a subset of relevant channels for each unit. We refer to this subsets as **sparsity**.\n",
    "\n",
    "By default, the `SortingAnalyzer` computes and uses a sparsity based on \"distance\", but we can also compute it with other options and set it manually:"
   ]
  },
  {
   "cell_type": "code",
   "execution_count": 59,
   "metadata": {},
   "outputs": [
    {
     "data": {
      "text/plain": [
       "\u001b[0;31mSignature:\u001b[0m\n",
       "\u001b[0msi\u001b[0m\u001b[0;34m.\u001b[0m\u001b[0mestimate_sparsity\u001b[0m\u001b[0;34m(\u001b[0m\u001b[0;34m\u001b[0m\n",
       "\u001b[0;34m\u001b[0m    \u001b[0msorting\u001b[0m\u001b[0;34m:\u001b[0m \u001b[0;34m'BaseSorting'\u001b[0m\u001b[0;34m,\u001b[0m\u001b[0;34m\u001b[0m\n",
       "\u001b[0;34m\u001b[0m    \u001b[0mrecording\u001b[0m\u001b[0;34m:\u001b[0m \u001b[0;34m'BaseRecording'\u001b[0m\u001b[0;34m,\u001b[0m\u001b[0;34m\u001b[0m\n",
       "\u001b[0;34m\u001b[0m    \u001b[0mnum_spikes_for_sparsity\u001b[0m\u001b[0;34m:\u001b[0m \u001b[0;34m'int'\u001b[0m \u001b[0;34m=\u001b[0m \u001b[0;36m100\u001b[0m\u001b[0;34m,\u001b[0m\u001b[0;34m\u001b[0m\n",
       "\u001b[0;34m\u001b[0m    \u001b[0mms_before\u001b[0m\u001b[0;34m:\u001b[0m \u001b[0;34m'float'\u001b[0m \u001b[0;34m=\u001b[0m \u001b[0;36m1.0\u001b[0m\u001b[0;34m,\u001b[0m\u001b[0;34m\u001b[0m\n",
       "\u001b[0;34m\u001b[0m    \u001b[0mms_after\u001b[0m\u001b[0;34m:\u001b[0m \u001b[0;34m'float'\u001b[0m \u001b[0;34m=\u001b[0m \u001b[0;36m2.5\u001b[0m\u001b[0;34m,\u001b[0m\u001b[0;34m\u001b[0m\n",
       "\u001b[0;34m\u001b[0m    \u001b[0mmethod\u001b[0m\u001b[0;34m:\u001b[0m \u001b[0;34m\"'radius' | 'best_channels' | 'amplitude' | 'snr' | 'by_property' | 'ptp'\"\u001b[0m \u001b[0;34m=\u001b[0m \u001b[0;34m'radius'\u001b[0m\u001b[0;34m,\u001b[0m\u001b[0;34m\u001b[0m\n",
       "\u001b[0;34m\u001b[0m    \u001b[0mpeak_sign\u001b[0m\u001b[0;34m:\u001b[0m \u001b[0;34m\"'neg' | 'pos' | 'both'\"\u001b[0m \u001b[0;34m=\u001b[0m \u001b[0;34m'neg'\u001b[0m\u001b[0;34m,\u001b[0m\u001b[0;34m\u001b[0m\n",
       "\u001b[0;34m\u001b[0m    \u001b[0mradius_um\u001b[0m\u001b[0;34m:\u001b[0m \u001b[0;34m'float'\u001b[0m \u001b[0;34m=\u001b[0m \u001b[0;36m100.0\u001b[0m\u001b[0;34m,\u001b[0m\u001b[0;34m\u001b[0m\n",
       "\u001b[0;34m\u001b[0m    \u001b[0mnum_channels\u001b[0m\u001b[0;34m:\u001b[0m \u001b[0;34m'int'\u001b[0m \u001b[0;34m=\u001b[0m \u001b[0;36m5\u001b[0m\u001b[0;34m,\u001b[0m\u001b[0;34m\u001b[0m\n",
       "\u001b[0;34m\u001b[0m    \u001b[0mthreshold\u001b[0m\u001b[0;34m:\u001b[0m \u001b[0;34m'float | None'\u001b[0m \u001b[0;34m=\u001b[0m \u001b[0;36m5\u001b[0m\u001b[0;34m,\u001b[0m\u001b[0;34m\u001b[0m\n",
       "\u001b[0;34m\u001b[0m    \u001b[0mamplitude_mode\u001b[0m\u001b[0;34m:\u001b[0m \u001b[0;34m\"'extremum' | 'peak_to_peak'\"\u001b[0m \u001b[0;34m=\u001b[0m \u001b[0;34m'extremum'\u001b[0m\u001b[0;34m,\u001b[0m\u001b[0;34m\u001b[0m\n",
       "\u001b[0;34m\u001b[0m    \u001b[0mby_property\u001b[0m\u001b[0;34m:\u001b[0m \u001b[0;34m'str | None'\u001b[0m \u001b[0;34m=\u001b[0m \u001b[0;32mNone\u001b[0m\u001b[0;34m,\u001b[0m\u001b[0;34m\u001b[0m\n",
       "\u001b[0;34m\u001b[0m    \u001b[0mnoise_levels\u001b[0m\u001b[0;34m:\u001b[0m \u001b[0;34m'np.ndarray | list | None'\u001b[0m \u001b[0;34m=\u001b[0m \u001b[0;32mNone\u001b[0m\u001b[0;34m,\u001b[0m\u001b[0;34m\u001b[0m\n",
       "\u001b[0;34m\u001b[0m    \u001b[0;34m**\u001b[0m\u001b[0mjob_kwargs\u001b[0m\u001b[0;34m,\u001b[0m\u001b[0;34m\u001b[0m\n",
       "\u001b[0;34m\u001b[0m\u001b[0;34m)\u001b[0m\u001b[0;34m\u001b[0m\u001b[0;34m\u001b[0m\u001b[0m\n",
       "\u001b[0;31mDocstring:\u001b[0m\n",
       "Estimate the sparsity without needing a SortingAnalyzer or Templates object.\n",
       "In case the sparsity method needs templates, they are computed on-the-fly.\n",
       "For the \"snr\" method, `noise_levels` must passed with the `noise_levels` argument.\n",
       "These can be computed with the `get_noise_levels()` function.\n",
       "\n",
       "Contrary to the previous implementation:\n",
       "  * all units are computed in one read of recording\n",
       "  * it doesn't require a folder\n",
       "  * it doesn't consume too much memory\n",
       "  * it uses internally the `estimate_templates_with_accumulator()` which is fast and parallel\n",
       "\n",
       "Note that the \"energy\" method is not supported because it requires a `SortingAnalyzer` object.\n",
       "\n",
       "Parameters\n",
       "----------\n",
       "sorting : BaseSorting\n",
       "    The sorting\n",
       "recording : BaseRecording\n",
       "    The recording\n",
       "num_spikes_for_sparsity : int, default: 100\n",
       "    How many spikes per units to compute the sparsity\n",
       "ms_before : float, default: 1.0\n",
       "    Cut out in ms before spike time\n",
       "ms_after : float, default: 2.5\n",
       "    Cut out in ms after spike time\n",
       "noise_levels : np.array | None, default: None\n",
       "    Noise levels required for the \"snr\" and \"energy\" methods. You can use the\n",
       "    `get_noise_levels()` function to compute them.\n",
       "**job_kwargs : keyword arguments for parallel processing:\n",
       "        * chunk_duration or chunk_size or chunk_memory or total_memory\n",
       "            - chunk_size : int\n",
       "                Number of samples per chunk\n",
       "            - chunk_memory : str\n",
       "                Memory usage for each job (e.g. \"100M\", \"1G\", \"500MiB\", \"2GiB\")\n",
       "            - total_memory : str\n",
       "                Total memory usage (e.g. \"500M\", \"2G\")\n",
       "            - chunk_duration : str or float or None\n",
       "                Chunk duration in s if float or with units if str (e.g. \"1s\", \"500ms\")\n",
       "        * n_jobs : int | float\n",
       "            Number of jobs to use. With -1 the number of jobs is the same as number of cores.\n",
       "            Using a float between 0 and 1 will use that fraction of the total cores.\n",
       "        * progress_bar : bool\n",
       "            If True, a progress bar is printed\n",
       "        * mp_context : \"fork\" | \"spawn\" | None, default: None\n",
       "            Context for multiprocessing. It can be None, \"fork\" or \"spawn\".\n",
       "            Note that \"fork\" is only safely available on LINUX systems\n",
       "\n",
       "\n",
       "Returns\n",
       "-------\n",
       "sparsity : ChannelSparsity\n",
       "    The estimated sparsity\n",
       "\u001b[0;31mFile:\u001b[0m      ~/Documents/SpikeInterface/spikeinterface/src/spikeinterface/core/sparsity.py\n",
       "\u001b[0;31mType:\u001b[0m      function"
      ]
     },
     "metadata": {},
     "output_type": "display_data"
    }
   ],
   "source": [
    "sparsity = si.estimate_sparsity?"
   ]
  },
  {
   "cell_type": "code",
   "execution_count": 60,
   "metadata": {},
   "outputs": [
    {
     "data": {
      "application/vnd.jupyter.widget-view+json": {
       "model_id": "522d24bfe60e451d946c0f781c633507",
       "version_major": 2,
       "version_minor": 0
      },
      "text/plain": [
       "estimate_sparsity:   0%|          | 0/300 [00:00<?, ?it/s]"
      ]
     },
     "metadata": {},
     "output_type": "display_data"
    },
    {
     "data": {
      "text/plain": [
       "ChannelSparsity - units: 159 - channels: 49 - density, P(x=1): 0.26"
      ]
     },
     "execution_count": 60,
     "metadata": {},
     "output_type": "execute_result"
    }
   ],
   "source": [
    "sparsity_small = si.estimate_sparsity(sorting, recording_saved, num_spikes_for_sparsity=200, method=\"radius\", radius_um=100.)\n",
    "sparsity_small"
   ]
  },
  {
   "cell_type": "code",
   "execution_count": 61,
   "metadata": {},
   "outputs": [
    {
     "data": {
      "application/vnd.jupyter.widget-view+json": {
       "model_id": "b40f2bdd96434be8aac22923f2e834ca",
       "version_major": 2,
       "version_minor": 0
      },
      "text/plain": [
       "estimate_sparsity:   0%|          | 0/300 [00:00<?, ?it/s]"
      ]
     },
     "metadata": {},
     "output_type": "display_data"
    },
    {
     "data": {
      "text/plain": [
       "ChannelSparsity - units: 159 - channels: 49 - density, P(x=1): 0.56"
      ]
     },
     "execution_count": 61,
     "metadata": {},
     "output_type": "execute_result"
    }
   ],
   "source": [
    "sparsity_large = si.estimate_sparsity(sorting, recording_saved, num_spikes_for_sparsity=200, method=\"radius\", radius_um=250.)\n",
    "sparsity_large"
   ]
  },
  {
   "cell_type": "code",
   "execution_count": 62,
   "metadata": {},
   "outputs": [
    {
     "data": {
      "application/vnd.jupyter.widget-view+json": {
       "model_id": "ced1b118ce8c4df2b500160de9d9fcf8",
       "version_major": 2,
       "version_minor": 0
      },
      "text/plain": [
       "estimate_sparsity:   0%|          | 0/300 [00:00<?, ?it/s]"
      ]
     },
     "metadata": {},
     "output_type": "display_data"
    },
    {
     "data": {
      "text/plain": [
       "ChannelSparsity - units: 159 - channels: 49 - density, P(x=1): 0.16"
      ]
     },
     "execution_count": 62,
     "metadata": {},
     "output_type": "execute_result"
    }
   ],
   "source": [
    "sparsity_best = si.estimate_sparsity(sorting, recording_saved, num_spikes_for_sparsity=200, method=\"best_channels\", num_channels=8)\n",
    "sparsity_best"
   ]
  },
  {
   "cell_type": "code",
   "execution_count": 63,
   "metadata": {},
   "outputs": [
    {
     "name": "stdout",
     "output_type": "stream",
     "text": [
      "0 ['CH9', 'CH17', 'CH18', 'CH21', 'CH22', 'CH31', 'CH62', 'CH63']\n",
      "30 ['CH13', 'CH14', 'CH15', 'CH17', 'CH25', 'CH30', 'CH34', 'CH37']\n",
      "62 ['CH36', 'CH38', 'CH39', 'CH42', 'CH43', 'CH45', 'CH55', 'CH56']\n",
      "92 ['CH25', 'CH36', 'CH39', 'CH43', 'CH47', 'CH52', 'CH55', 'CH56']\n",
      "122 ['CH10', 'CH23', 'CH35', 'CH37', 'CH38', 'CH50', 'CH62', 'CH63']\n",
      "152 ['CH23', 'CH31', 'CH33', 'CH35', 'CH44', 'CH48', 'CH50', 'CH53']\n"
     ]
    }
   ],
   "source": [
    "for unit_id in sparsity_best.unit_ids[::30]:\n",
    "    print(unit_id, list(sparsity_best.unit_id_to_channel_ids[unit_id]))"
   ]
  },
  {
   "cell_type": "code",
   "execution_count": 64,
   "metadata": {},
   "outputs": [
    {
     "data": {
      "text/plain": [
       "SortingAnalyzer: 49 channels - 159 units - 1 segments - memory - sparse - has recording\n",
       "Loaded 0 extensions"
      ]
     },
     "execution_count": 64,
     "metadata": {},
     "output_type": "execute_result"
    }
   ],
   "source": [
    "# we can use this sparsity object to create an other analyzer\n",
    "analyzer_other_sparsity = si.create_sorting_analyzer(sorting, recording_saved, sparsity=sparsity_best)\n",
    "analyzer_other_sparsity"
   ]
  },
  {
   "cell_type": "code",
   "execution_count": 66,
   "metadata": {},
   "outputs": [
    {
     "data": {
      "text/plain": [
       "ChannelSparsity - units: 159 - channels: 49 - density, P(x=1): 0.16"
      ]
     },
     "execution_count": 66,
     "metadata": {},
     "output_type": "execute_result"
    }
   ],
   "source": [
    "analyzer_other_sparsity.sparsity"
   ]
  },
  {
   "cell_type": "markdown",
   "metadata": {},
   "source": [
    "Most of the plotting, computation and export functions are using this `sparsity` in the background!"
   ]
  },
  {
   "cell_type": "markdown",
   "metadata": {},
   "source": [
    "## Extensions tour"
   ]
  },
  {
   "cell_type": "code",
   "execution_count": 67,
   "metadata": {},
   "outputs": [
    {
     "data": {
      "text/plain": [
       "['random_spikes',\n",
       " 'waveforms',\n",
       " 'templates',\n",
       " 'noise_levels',\n",
       " 'amplitude_scalings',\n",
       " 'correlograms',\n",
       " 'isi_histograms',\n",
       " 'principal_components',\n",
       " 'spike_amplitudes',\n",
       " 'spike_locations',\n",
       " 'template_metrics',\n",
       " 'template_similarity',\n",
       " 'unit_locations',\n",
       " 'quality_metrics']"
      ]
     },
     "execution_count": 67,
     "metadata": {},
     "output_type": "execute_result"
    }
   ],
   "source": [
    "si.get_available_analyzer_extensions()"
   ]
  },
  {
   "cell_type": "code",
   "execution_count": 68,
   "metadata": {},
   "outputs": [
    {
     "data": {
      "text/plain": [
       "{'window_ms': 50.0, 'bin_ms': 1.0, 'method': 'auto'}"
      ]
     },
     "execution_count": 68,
     "metadata": {},
     "output_type": "execute_result"
    }
   ],
   "source": [
    "si.get_default_analyzer_extension_params(\"correlograms\")"
   ]
  },
  {
   "cell_type": "markdown",
   "metadata": {},
   "source": [
    "### Spike amplitudes"
   ]
  },
  {
   "cell_type": "markdown",
   "metadata": {},
   "source": [
    "Spike amplitudes can be computed with the `get_spike_amplitudes` function."
   ]
  },
  {
   "cell_type": "code",
   "execution_count": 69,
   "metadata": {},
   "outputs": [
    {
     "data": {
      "application/vnd.jupyter.widget-view+json": {
       "model_id": "8307909a37f941b9b2d0cab3a3245640",
       "version_major": 2,
       "version_minor": 0
      },
      "text/plain": [
       "spike_amplitudes:   0%|          | 0/300 [00:00<?, ?it/s]"
      ]
     },
     "metadata": {},
     "output_type": "display_data"
    },
    {
     "data": {
      "text/plain": [
       "<spikeinterface.postprocessing.spike_amplitudes.ComputeSpikeAmplitudes at 0x7d17609abb30>"
      ]
     },
     "execution_count": 69,
     "metadata": {},
     "output_type": "execute_result"
    }
   ],
   "source": [
    "analyzer.compute(\"spike_amplitudes\")"
   ]
  },
  {
   "cell_type": "code",
   "execution_count": 70,
   "metadata": {},
   "outputs": [
    {
     "data": {
      "application/vnd.jupyter.widget-view+json": {
       "model_id": "eba986938e2044bba6dfd6e5f2ca9709",
       "version_major": 2,
       "version_minor": 0
      },
      "text/plain": [
       "AppLayout(children=(VBox(children=(UnitSelector(children=(Label(value='Units', layout=Layout(justify_content='…"
      ]
     },
     "metadata": {},
     "output_type": "display_data"
    }
   ],
   "source": [
    "%matplotlib widget\n",
    "w = si.plot_amplitudes(analyzer, backend=\"ipywidgets\")"
   ]
  },
  {
   "cell_type": "markdown",
   "metadata": {},
   "source": [
    "### Compute unit and spike locations\n",
    "\n",
    "When using silicon probes, we can estimate the unit (or spike) location with triangulation. This can be done either with a simple center of mass or by assuming a monopolar model:\n",
    "\n",
    "$$V_{ext}(\\boldsymbol{r_{ext}}) = \\frac{I_n}{4 \\pi \\sigma |\\boldsymbol{r_{ext}} - \\boldsymbol{r_{n}}|}$$\n",
    "\n",
    "where $\\boldsymbol{r_{n}}$ is the position of the neuron, and $\\boldsymbol{r_{n}}$ of the electrode(s)."
   ]
  },
  {
   "cell_type": "code",
   "execution_count": 71,
   "metadata": {},
   "outputs": [
    {
     "data": {
      "application/vnd.jupyter.widget-view+json": {
       "model_id": "6c751f4956d0458aa446472e15106db3",
       "version_major": 2,
       "version_minor": 0
      },
      "text/plain": [
       "spike_locations:   0%|          | 0/300 [00:00<?, ?it/s]"
      ]
     },
     "metadata": {},
     "output_type": "display_data"
    },
    {
     "data": {
      "text/plain": [
       "<spikeinterface.postprocessing.spike_locations.ComputeSpikeLocations at 0x7d16378d7500>"
      ]
     },
     "execution_count": 71,
     "metadata": {},
     "output_type": "execute_result"
    }
   ],
   "source": [
    "analyzer.compute(\"unit_locations\", method=\"monopolar_triangulation\")\n",
    "analyzer.compute(\"spike_locations\", method=\"center_of_mass\")"
   ]
  },
  {
   "cell_type": "code",
   "execution_count": 72,
   "metadata": {},
   "outputs": [
    {
     "data": {
      "application/vnd.jupyter.widget-view+json": {
       "model_id": "27ac5fd0c128498ba024f4543f536bcf",
       "version_major": 2,
       "version_minor": 0
      },
      "text/plain": [
       "AppLayout(children=(UnitSelector(children=(Label(value='Units', layout=Layout(justify_content='center')), Sele…"
      ]
     },
     "metadata": {},
     "output_type": "display_data"
    }
   ],
   "source": [
    "%matplotlib widget\n",
    "w = si.plot_unit_locations(analyzer, backend=\"ipywidgets\")"
   ]
  },
  {
   "cell_type": "code",
   "execution_count": 73,
   "metadata": {},
   "outputs": [
    {
     "data": {
      "application/vnd.jupyter.widget-view+json": {
       "model_id": "63b79ba1656445ef84aa0189de30d487",
       "version_major": 2,
       "version_minor": 0
      },
      "text/plain": [
       "AppLayout(children=(UnitSelector(children=(Label(value='Units', layout=Layout(justify_content='center')), Sele…"
      ]
     },
     "metadata": {},
     "output_type": "display_data"
    }
   ],
   "source": [
    "%matplotlib widget\n",
    "w = si.plot_spike_locations(analyzer, max_spikes_per_unit=300, backend=\"ipywidgets\")"
   ]
  },
  {
   "cell_type": "markdown",
   "metadata": {},
   "source": [
    "## Template similarity"
   ]
  },
  {
   "cell_type": "code",
   "execution_count": 74,
   "metadata": {},
   "outputs": [
    {
     "data": {
      "text/plain": [
       "<spikeinterface.postprocessing.template_similarity.ComputeTemplateSimilarity at 0x7d1754868a70>"
      ]
     },
     "execution_count": 74,
     "metadata": {},
     "output_type": "execute_result"
    }
   ],
   "source": [
    "analyzer.compute(\"template_similarity\")"
   ]
  },
  {
   "cell_type": "code",
   "execution_count": 75,
   "metadata": {},
   "outputs": [
    {
     "data": {
      "text/plain": [
       "<spikeinterface.widgets.template_similarity.TemplateSimilarityWidget at 0x7d17545789e0>"
      ]
     },
     "execution_count": 75,
     "metadata": {},
     "output_type": "execute_result"
    },
    {
     "data": {
      "application/vnd.jupyter.widget-view+json": {
       "model_id": "08cdf2fc5a6845a2a45885aca07ec217",
       "version_major": 2,
       "version_minor": 0
      },
      "image/png": "[encoded data removed]",
      "text/html": [
       "\n",
       "            <div style=\"display: inline-block;\">\n",
       "                <div class=\"jupyter-widgets widget-label\" style=\"text-align: center;\">\n",
       "                    Figure\n",
       "                </div>\n",
       "                <img src='data:image/png;base64,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' width=640.0/>\n",
       "            </div>\n",
       "        "
      ],
      "text/plain": [
       "Canvas(toolbar=Toolbar(toolitems=[('Home', 'Reset original view', 'home', 'home'), ('Back', 'Back to previous …"
      ]
     },
     "metadata": {},
     "output_type": "display_data"
    }
   ],
   "source": [
    "si.plot_template_similarity(analyzer)"
   ]
  },
  {
   "cell_type": "markdown",
   "metadata": {},
   "source": [
    "### Compute correlograms"
   ]
  },
  {
   "cell_type": "code",
   "execution_count": 76,
   "metadata": {},
   "outputs": [
    {
     "data": {
      "text/plain": [
       "<spikeinterface.postprocessing.correlograms.ComputeCorrelograms at 0x7d17546ea630>"
      ]
     },
     "execution_count": 76,
     "metadata": {},
     "output_type": "execute_result"
    }
   ],
   "source": [
    "analyzer.compute(\"correlograms\")"
   ]
  },
  {
   "cell_type": "code",
   "execution_count": 77,
   "metadata": {},
   "outputs": [
    {
     "data": {
      "text/plain": [
       "<spikeinterface.widgets.crosscorrelograms.CrossCorrelogramsWidget at 0x7d17579a3c80>"
      ]
     },
     "execution_count": 77,
     "metadata": {},
     "output_type": "execute_result"
    },
    {
     "data": {
      "application/vnd.jupyter.widget-view+json": {
       "model_id": "66198c7d4c9d47a89197532b610c4392",
       "version_major": 2,
       "version_minor": 0
      },
      "image/png": "[encoded data removed]",
      "text/html": [
       "\n",
       "            <div style=\"display: inline-block;\">\n",
       "                <div class=\"jupyter-widgets widget-label\" style=\"text-align: center;\">\n",
       "                    Figure\n",
       "                </div>\n",
       "                <img src='data:image/png;base64,iVBORw0KGgoAAAANSUhEUgAAAoAAAAHgCAYAAAA10dzkAAAAOXRFWHRTb2Z0d2FyZQBNYXRwbG90bGliIHZlcnNpb24zLjkuMiwgaHR0cHM6Ly9tYXRwbG90bGliLm9yZy8hTgPZAAAACXBIWXMAAA9hAAAPYQGoP6dpAABN4klEQVR4nO3de1xU9b7/8fcgMmAKiChIYt4yvOQlVKLMLEnUtuWljpmPrbnZdvSIJ6WL0a8ku9EuS7eFl10ptXeW3azdDY9SahfwgnHKMksPJYqMWlsQ3AwG6/eHm9mOMIjKzMCs1/PxWA+d73zXms/Mx4G3a81aYzEMwxAAAABMw8/bBQAAAMCzCIAAAAAmQwAEAAAwGQIgAACAyRAAAQAATIYACAAAYDIEQAAAAJMhAAIAAJgMARAAAMBkCIAAAAAmQwAEAAAwGQIgAACAyRAAAQAATIYACAAAYDIEQAAAAJMhAAIAAJgMARAAAMBkCIAAAAAmQwAEAAAwGQIgAACAyRAAAQAATIYACAAAYDIEQAAAAJMhAAIAAJgMARAAAMBkCIAAAAAmQwAEAAAwGQIgAACAyRAAAQAATIYACAAAYDIEQAAAAJMhAAIAAJgMARAAAMBkCIAAAAAmQwAEAAAwGQKgj7Pb7Zo/f76ioqIUFBSkuLg4bdiwwdtlmca3336rW2+9Vd26dVOrVq0UHh6uYcOG6f333681d/fu3Ro1apRat26tsLAw/f73v9eRI0e8ULW57Ny5UzfddJPCwsLUqlUr9e3bV0uXLpUknThxQhkZGRo5cqQ6duyoNm3aaODAgVq+fLmqqqq8XLnvysvL06hRoxQcHKw2bdpo5MiRys/Pd5pDb9yrrKxMaWlpGjVqlMLCwmSxWJSZmek0p7q6WpmZmbrpppsUHR2tiy66SH379tVjjz2miooKp7mFhYVauHChhgwZorZt2yo8PFzDhw/Xxo0bPfiscDqLYRiGt4uA+0yePFlvvfWW5s6dq0svvVSZmZnavn27Pv30Uw0dOtTb5fm8jz76SEuXLlV8fLyioqJ04sQJvf322/rss8+0cuVK3XnnnZKkAwcOaODAgQoJCdF///d/q6ysTIsWLVLnzp21bds2BQQEePmZ+Kb/+Z//0dixYzVw4EBNmjRJrVu31r59+1RdXa2nnnpKu3btUr9+/TRixAiNHDlSwcHBWr9+vdatW6epU6fq5Zdf9vZT8Dk7d+7U1VdfrejoaP3nf/6nqqurtWzZMv3666/atm2bLrvsMkmiN272008/qWvXrurcubO6deumTZs2afXq1brjjjscc8rKytSmTRtdeeWV+t3vfqcOHTooJydHL7/8soYNG6ZPPvlEFotFkvT888/rvvvu07hx43T11Vfrt99+0yuvvKKdO3dq1apVmj59upeeqYkZ8Flbt241JBlPP/20Y+yf//yn0b17dyM+Pt6LlZnbb7/9ZvTv39+47LLLHGOzZs0ygoKCjJ9//tkxtmHDBkOSsXLlSm+U6fNKSkqMiIgIY/z48UZVVVWdc44cOWLs2rWr1vj06dMNScaPP/7o7jJNZ8yYMUbbtm2No0ePOsaKioqM1q1bGxMmTHCM0Rv3qqioMA4dOmQYhmFs377dkGSsXr3aaY7dbje++OKLWusuXLjQkGRs2LDBMbZr1y7jyJEjtR4jJibG6NSpU+M/AZwVh4B92FtvvaUWLVo49jJJUmBgoJKSkpSTk6PCwkIvVmdeLVq0UHR0tI4dO+YYe/vtt/W73/1OnTt3dowlJCSoZ8+eeuONN7xQpe9bs2aNbDabHn/8cfn5+am8vFzV1dVOc8LDw9WnT59a644fP17SqcP2aFyfffaZEhIS1K5dO8dYx44dde211+qDDz5QWVmZJHrjblarVZGRkfXOCQgI0FVXXVVrvK4e9OnTR+Hh4bUeY8yYMTpw4ICOHz/eCFXjXBAAfdhXX32lnj17Kjg42Gl8yJAhklTrMzVwn/Lych09elT79u3T4sWL9fHHH2vEiBGSpIMHD+rw4cMaNGhQrfWGDBmir776ytPlmsLGjRsVHBysgwcP6rLLLlPr1q0VHBysWbNm1fr80pmKi4slqdYvNFw4u92uoKCgWuOtWrVSZWWldu3aVe/69Mb7zqUHxcXFatWqlVq1auXusnAGf28XAPc5dOiQOnbsWGu8ZqyoqMjTJZnW3XffrZUrV0qS/Pz8NGHCBD3//POSTvVJkste/frrr7Lb7bJarZ4r2AR+/PFH/fbbb7r55puVlJSk9PR0bdq0Sc8995yOHTum1157rc71KisrtWTJEnXt2lWDBw/2cNW+77LLLlNubq6qqqrUokULSade861bt0o69R8mV+hN0/DUU08pODhYo0ePrnfe3r179c477+jWW2919BqeQwD0Yf/85z/rDA2BgYGO++EZc+fO1S233KKioiK98cYbqqqqUmVlpaR/9+FsvSIANq6ysjKdOHFCM2fOdJz1O2HCBFVWVmrlypV65JFHdOmll9ZaLzk5Wd99950+/PBD+fvzI7Sx/dd//ZdmzZqlpKQk3XfffaqurtZjjz3m+I9SfT+36I33PfHEE9q4caOWLVum0NBQl/NOnDihW2+9VUFBQXryySc9VyAcOATsw4KCgmS322uN1xzequswC9wjJiZGCQkJmjp1quNzTGPHjpVhGI4+0CvPqnlNJ0+e7DR+++23S5JycnJqrfP000/rhRde0KOPPqoxY8a4v0gTmjlzph544AGtWbNGffr00eWXX659+/bpvvvukyS1bt26zvXojfetXbtWDz74oJKSkjRr1iyX86qqqnTbbbfpu+++01tvvaWoqCgPVokaBEAf1rFjR8f/mk9XM8abzntuueUWbd++XT/88IPj0K+rXoWFhbH3zw1q/v1HREQ4jXfo0EGS9I9//MNpPDMzU/Pnz9fMmTP14IMPeqZIk3r88cdls9n02Wef6euvv9b27dsdJ+j07Nmz1nx6430bNmzQ1KlTdeONN2rFihX1zp0xY4Y++OADZWZm6vrrr/dQhTgTAdCHDRgwQD/88INKS0udxms+SzNgwAAvVAXp34exSkpKdPHFF6t9+/basWNHrXnbtm2jT24SGxsrqfZnymo+G9u+fXvH2Hvvvac//vGPmjBhgjIyMjxXpIm1bdtWQ4cO1eWXXy7p1Ek7nTp1UkxMjNM8euN9W7du1fjx4zVo0CC98cYb9R5+v/fee7V69WotXry41t53eJi3r0MD98nNza11HcCKigqjR48eRlxcnBcrMw+bzVZrrLKy0rjiiiuMoKAg4/jx44ZhGMbMmTONoKAgY//+/Y55GzduNCQZy5cv91i9ZrJz505DknH77bc7jU+ePNnw9/c3Dh48aBiGYWzevNkIDAw0rrvuOqOiosIbpZre66+/bkgyFi1a5DRObzzD1XUADcMwvvvuO6Ndu3ZGnz59jF9//bXe7Tz11FOGJOOBBx5wU6U4F3wTiI/7j//4D61bt07z5s1Tjx499PLLL2vbtm3Kzs7WsGHDvF2ezxs/frxKS0s1bNgwXXzxxSouLtarr76q77//Xs8884xSUlIknfqapIEDByo0NFR33XWXysrK9PTTT6tTp07avn07h4DdJCkpSatWrdJ//Md/6Nprr9WmTZv05ptvKjU1VU888YR+/vln9e/fX5WVlVq0aFGtSyr169dP/fr181L1vmnLli165JFHNHLkSLVr1065ublavXq1brjhBr3//vuOvUv0xv2ef/55HTt2TEVFRVq+fLkmTJiggQMHSpLmzJkjPz8/9enTRwcPHtQTTzyhiy++2Gn97t27Kz4+XpK0bt06TZgwQZdeeqkWLFhQ67FuuOGGWh/HgJt5O4HCvf75z38a99xzjxEZGWlYrVZj8ODBRlZWlrfLMo3XXnvNSEhIMCIiIgx/f3+jbdu2RkJCgvHee+/Vmrtr1y5j5MiRRqtWrYzQ0FBjypQpRnFxsReqNo/Kykrj4YcfNi655BKjZcuWRo8ePYzFixc77v/0008NSS6XtLQ0r9Xuq/bu3WuMHDnSCA8PN6xWqxETE2Okp6cbdrvdaR69cb9LLrnE5etbUFBgFBQU1NuDadOmObaVlpZW79xPP/3Ua8/TrNgDCAAAYDKcBAIAAGAyBEAAAACTIQACAACYDAEQAADAZAiAAAAAJkMABAAAMBkCIAAAgMm4/sI+nFV1dbWKiorUpk0bWSwWb5fjMwzD0PHjxxUVFSU/v/P7Pwq9aXz0pemiN00TfWm6GqM3zR0B8AIUFRUpOjra22X4rMLCQnXq1Om81qU37kNfmi560zTRl6brQnrT3BEAL0CbNm0knfoHdOb3UOL8lZaWKjo62vH6ng960/joS9NFb5om+tJ0NUZvmjsC4AWo2R0fHBzMG9MNLuRwB71xH/rSdNGbpom+NF1mPqxuzgPfALRlyxaNHTtWUVFRslgsevfddxu03jXXXCOr1aoePXooMzPTrTWaFb3xXU8++aQsFovmzp3r7VJgcgRAwKTKy8vVv39/ZWRkNGj+Tz/9JEkaNmyY8vPzNXfuXP3xj3/U+vXr3VilOdEb37R9+3atXLlS/fr183YpAIeAAbMaPXq0Ro8e3eD5q1atkiQ9/vjjCg4OVq9evfT5559r8eLFSkxMdFeZpkRvfE9ZWZmmTJmiF154QY899pi3ywHYAwigYbZv315rLDExUTk5OV6oBqejN03f7NmzdeONNyohIcHbpQCS2AMIoIFsNlutsYiICJWWluqf//yngoKCat1vt9tlt9sdt0tLS91ao1nRm6btrbfe0s6dO+sM6meiL/AU9gCalGWhec988rb6XnvLQotP9SY9PV0hISGOpa7rmdU853N53r70Gp3r826sfyMN7U1dj++qtoZqzOdxrs71sV3NPZdt3H///Xr11VcVGBh41rkN6Yu3NEa/fO1nXHNGAPRRvMnQ2CIiImqN2Ww2BQcH17mHSZJSU1NVUlLiWAoLC91dpinRm6btyJEjuuKKK+Tv7y9/f39t3rxZS5culb+/v6qqqpzm0hd4CoeAATTI4MGD9eWXXzqNbdiwQfHx8S7XsVqtslqt7i7N9OhN05aTk6PWrVs7bk+fPl0xMTGaP3++WrRo4TSXvsBT2AMImFRZWZny8/OVn58vSSooKFB+fr72798v6dSeiKlTpzrm/+EPf5AkPfTQQ/r++++1bNkyvfHGG5o3b57Ha/d1rnqjY/+asFH0phnp3bu3+vbt61guuugitWvXTn379vV2aTAx9gACJrVjxw5dd911jtspKSmSpGnTpikzM1OHDh1yhEFJ6tKliyTp008/1YoVK9SpUye9+OKLXGbEDVz1Rv0ljZd0XPQGwAUhAAImNXz4cBmG4fJ+V98k8fnnn/OVVG7mqjeOz/WOlzalbap1P71pHjZt2uTtEgAOAQMAAJgNARAAAMBkCIAAAAAmQwAEAAAwGQIgAACAyRAAAQAATIYACAAAYDIEQAAAAJMhAPoAy0LLvy8Q2wxs2bJFY8eOVVRUlCwWi959912n+2fNmiVJCgkJkcVikcVi0ahRo7xQKQAAvolvAoHHlZeXq3///vrDH/6gCRMmuJz3ww8/qE2bNpLEl6MDANCImuUewLPtQbrjjjsce45c7UH69ddfNWXKFAUHBys0NFRJSUkqKyvz4LMwr9GjR+uxxx7T+PHj650XERGhyMhIRUZGqm3bth6qDgAA39csA2DNHqSMjAyXc0aNGqVDhw45ltdee83p/ilTpujbb7/Vhg0b9MEHH2jLli2688473V16k1ZzKLmpHE7u3r27LrvsMs2aNUu//PJLvXPtdrtKS0udFgAAULdmeQh49OjRGj16dL1zrFarIiMj67xv9+7dysrK0vbt2zVo0CBJ0nPPPacxY8Zo0aJFioqKavSa0XAjRozQmjVr9Pe//102m00PPPCARo8erZycHLVo0aLOddLT07Vw4UIPVwoAQPPULPcANsSmTZvUoUOHOvcg5eTkKDQ01BH+JCkhIUF+fn7aunWry22yl8kzbrnlFklSnz59NG7cOH3wwQfavn27Nm3a5HKd1NRUlZSUOJbCwkIPVQsAQPPjkwFw1KhReuWVV5Sdna0//elP2rx5s0aPHq2qqipJUnFxsTp06OC0jr+/v8LCwlRcXOxyu+np6QoJCXEs0dHRbn0eDdFUDte6U7du3RQeHq69e/e6nGO1WhUcHOy0AACAujXLQ8Bnc9tttzn+fvnll6tfv37q3r27Nm3apBEjRpz3dlNTU5WSkuK4XVpa2iRCoK87cOCAfvnlF3Xs2NHbpQAA4BN8MgCe6fQ9SCNGjFBkZKQOHz7sNOe3337Tr7/+6vJzg9KpvUxcjuTClZWVOe3NKygoUH5+vsLCwhQWFqYHH3xQkvTzzz/r8OHDuu+++9SjRw8lJiZ6q2QAAHyKTx4CPtOZe5Di4+N17Ngx5eXlOeZ88sknqq6uVlxcnLfKNI0dO3Zo4MCBGjhwoCQpJSVFAwcO1IIFC9SiRQt9++23kqTY2FglJSUpNjZWn332GeEbAIBG0iz3AJ5tD9LChQs1ceJERUZGat++fbX2IPXq1UujRo3SjBkztGLFCp08eVLJycm67bbbOAPYA4YPHy7DMFzev27dOoWEhOjo0aN8lg8AADdolnsAz7YH6euvv9ZNN92knj17utyD9OqrryomJkYjRozQmDFjNHToUP3lL3/x1lMCAADwmGa5B/Bse5DWr19/1m2EhYVpzZo1jVmWx1gWWmSkuX7+AAAA9WmWewABNI6MjAx16dJFgYGBiouL07Zt2866TmxsrIKCghQdHa158+apoqLCA5WaD70B4E4EQLjUlL4WDo1v7dq1SklJUVpamnbu3Kn+/fsrMTGx1hnyNd58801J0v3336/du3frpZde0tq1a/XAAw94smxTcNUbufi6cnoD4FwRAAGTevbZZzVjxgxNnz5dvXv31ooVK9SqVSutWrWqzvk135Jz6623qkuXLho5cqQmT57coD1TODeueqOv6p5PbwCcKwJgM+KtPXINeUz2FjYvlZWVysvLU0JCgmPMz89PCQkJysnJqXOdmksk1Vw+6f/+7//00UcfacyYMe4v2ETq640O1L0OvQFwrgiAPqQxQxhhzrcdPXpUVVVVioiIcBqPiIhw+XWIt956qyQpMTFRLVu2VPfu3TV8+PB6DzPy/dnnrr7euDoETG8AnCsCIIAG+eyzzyRJzzzzjHbu3Kl33nlHH374oR599FGX6zTF78/2RfQGwLkiADYR3tzjxuFb8wkPD1eLFi1ks9mcxm02m8uvQ3z88cclSdOmTdPll1+u8ePH64knnlB6erqqq6vrXCc1NVUlJSWOpbCwsHGfiA+qrzdqXfc69AbAuSIANlOENlyIgIAAxcbGKjs72zFWXV2t7OxsxcfH17nOiRMnao21aNFCklxel9NqtSo4ONhpQf3q64061b0OvQFwrgiAgEmlpKTohRde0Msvv6zdu3dr1qxZKi8v1/Tp0yVJU6dOVWpqqmP+6NGjJUlvvfWWCgoKtGHDBj300EMaO3asI2ygcbjqjQb+a8I7ojfNyFVXXeUI2fHx8fr444+9XRJAAATMatKkSVq0aJEWLFigAQMGKD8/X1lZWY6TD/bv369Dhw455t97772SpMcee0y9e/dWUlKSEhMTtXLlSq/U78tc9cZxCLhE9KYZefjhh5WXl6cdO3bo+uuv180336xvv/3W22XB5JrlV8EBaBzJyclKTk6u875NmzY53fb3P/XjIj8/n8OFHlBnb7L+9ed0KTMt0zFMb5q2kSNHOvry+OOPa/ny5crNzVWfPn28XBnMjAAIAIAHVFVV6c0331R5ebnLz9oCnkIANDFOIgEA9/v22291ww03qKKiQq1bt9a6devUu3fvOufa7XbZ7XbHba7PCHfhM4BNXFM727cp1QIAzcGll16q/Px8bd26VbNmzdK0adP03Xff1TnXXddndNfP7vq2667fX03t92JzRQBsws73H7in3xi8EQHAtYCAAPXo0UOxsbFKT09X//799ec//7nOuVyfEZ7CIWCcs5rAZ6TVfX0xAIBr1dXVTod5T2e1WmW1Wj1cEcyIANiEuGtXOUENALzniy++UK9evXT8+HGtWbNGmzZt0vr1671dFkyOAAgAgBvNnDlTxcXFCgkJUb9+/bR+/XrdcMMN3i4LJkcABADAjb755huuz4gmhwCI88bJHwAANE8EQJMhtAEAAC4DA7fiek0AADQ9BEAv8tVgROgDAKBpIwB6GMEIAAB4GwEQAADAZDgJBA3CnksAAHwHewCbCQIYAABoLARAAAAAkyEAAgAAmAwBEDiNGQ61c5keAAABEAAAwGQIgAAAACZDAARMLCMjQ126dFFgYKDi4uK0bdu2s65z9913q2PHjrJarerZs6c++ugjD1RqPvQGgDtxHUDApNauXauUlBStWLFCcXFxWrJkiRITE7Vnzx516NCh1vzKykpJ0v79+/XWW2/p4osv1s8//6zQ0FAPV+77XPVGf5TUuvZ8egPgXLEH0AvM/iH8LVu2aOzYsYqKipLFYtG7777rdL9hGJKknj17KigoSAkJCfrxxx+9UKlve/bZZzVjxgxNnz5dvXv31ooVK9SqVSutWrWqzvl//etfJUlr1qzR1VdfrS5duujaa69V//79PVm2Kbjqjb6qez69AXCummUAbEiAWLBggTp27OgyQPz666+aMmWKgoODFRoaqqSkJJWVlXnwWZhXeXm5+vfvr4yMjDrvX7JkiSRp8eLF2rp1qy666CIlJiaqoqLCg1X6uN+kvLw8JSQkOIb8/PyUkJCgnJycOlf5+OOPJZ06zBgREaG+ffvqiSeeUFVVlUdKNovKykqXvdGButehNwDOVbM8BFwTIP7whz9owoQJte5/6qmntHTpUr388svq2rWrHnroISUmJuq7775TYGCgJGnKlCk6dOiQNmzYoJMnT2r69Om68847tWbNGk8/HdMZPXq0Ro8eXed9hmFo+fLlkqQbb7xRwcHBeuWVVxQREaF3331Xt912mydL9V0npKqqKkVERDgNR0RE6Pvvv69zlZ9++knSqfU++ugj7d27V//1X/+lkydPKi0trc517Ha77Ha743ZpaWnj1O/Djh496rI3cvF/VHoD4Fw1ywB4tgCxZMkSPfjgg7r55pslqVaA2L17t7KysrR9+3YNGjRIkvTcc89pzJgxWrRokaKiojz2XHz5UPD5PLeCggLZbDansZCQEMXFxSknJ8dlAOSXmftVV1dLkpYuXaq2bdsqNjZWBw8e1NNPP+0yZKSnp2vhwoWeLNOU6A2Ac9UsDwHXp6CgQMXFxU6HT04PEJKUk5Oj0NBQR/iTpISEBPn5+Wnr1q0er9mXXGigLS4urnM8IiLC5X3SqV9mISEhjiU6OvqC6qhPU/4MZ4NrayW1aNGiVti22WyKjIysc5Wa8RYtWjjGevXqpeLiYsdJCGdKTU1VSUmJYyksLGzgMzGv8PBwl72p6wQQid4AOHc+FwBrQkJdh09q7isuLq51lqO/v7/CwsLqDRl2u12lpaVOC5oGfpmdI38pNjZW2dnZjqHq6mplZ2crPj6+zlXi4uIc82r88MMP6tixowICAupcx2q1Kjg42GlB/QICAlz2Rp3qXofeADhXPhcA3elC9jI15b1GTYmrvU/17ZmS+GV2PlJSUvTCCy/o5Zdf1u7duzVr1iyVl5dr+vTpkqSpU6cqNTXVMT8pKUmSNH/+fP3www/68MMP9cQTT2j27Nleqd+XueqNBv5rwjuiNwAuSLP8DGB9akKCzWZTx44dHeM2m00DBgxwzDl8+LDTer/99pt+/fXXekNGamqqUlJSHLdLS0trhUDLQouMNONCn4bPaejr0rVrV0VERDgd/iotLdXWrVs1a9Ysd5ZoOpMmTdKRI0e0YMECFRcXa8CAAcrKynLsPd+/f7/8/P79f8ROnU7tftq5c6f69euniy++WHfddZfmz5/vlfp9maveXJl15akJJdKhQ4cc8+kNgHPlcwGwa9euioyMVHZ2tiPwnRkg4uPjdezYMeXl5Sk2NlaS9Mknn6i6utpxKKUuVqtVVqvV7c/B15WVlWnv3r2O2wUFBcrPz1dYWJg6d+6sWbNm6eGHH9ZHH32kPn366KGHHlJUVJTGjRvnvaJ9VHJyspKTk+u8b9OmTXWOZ2dns4fVA+rsTda//pwuZaZl1lqH3gBoqGZ5CLisrEz5+fnKz8+X9O8AsX//flksFs2dO1ePPfaY/v73v+ubb77R1KlTnQJEr169NGrUKM2YMUPbtm3TF198oeTkZN12220ePQPYrHbs2KGBAwdq4MBTx7NSUlI0cOBALViwQJI0d+5cSdJdd92lwYMHq6ysTFlZWY5L+AAAgAvTLPcA7tixQ9ddd53jds1h2WnTpikzM1P33XefysvLdeedd+rYsWMaOnRorQDx6quvKjk5WSNGjJCfn58mTpyopUuXevy5mNHw4cMd3/ZR87nI0w8PWyynxn788Uf2ZgAA4AbNMgCeHiDqYrFY9Mgjj+iRRx5xOScsLIyLPgMAAFNqloeAmxvO/j2FM6EBAGgaCIAAAAAm0ywPAQNNwel7M11d4qauzzie7+Oc7TEANE3Dhw/Xjz/+qKCgIF111VX605/+pMsuu8zbZcHk2AMIAIAbzZgxQ7m5udqwYYNOnjypkSNHnrqwN+BF7AEEAMCNpkyZ4riiQWZmpjp06KC8vDwNGzbMy5XBzNgDCACAh5SUlEg6dSUKwJvYA2gCjfE5NADAhamurtbcuXN19dVXq2/fvnXOsdvtstvtjtulpaWeKg8mQwAEAMADZs+erV27dunzzz93OSc9PV0LFy5s8DbrvJj+OZw4Vtechpzg1pjqe7wzT3Kr7zmdy2sADgGbCmeLAoB3JCcn64MPPtCnn36qTp06uZyXmpqqkpISx1JYWOjBKmEm7AF0A/7nUT+CKAAzueeee/Thhx9q06ZN6tq1a71zrVarrFarhyqDmREAAQBwozfeeEPvvfee2rRpo+LiYklSSEiIgoKCvFwZzIxDwIAL7vzqurq27c49o3wNH+A9JSUlGj58uDp27OhY1q5d6+2yYHLsAXQjfuECAEpKShzXAQSaCvYAAgAAmAwBEAAAwGQIgAAAACZDAAQAADAZAiAAAIDJEAABk8vIyFCXLl0UGBiouLg4bdu2rUHrvf7667JYLBo3bpx7CzQp+gLAnQiAgImtXbtWKSkpSktL086dO9W/f38lJibq8OHD9a73008/6Z577tE111zjoUrNxVVfVFb/ej///DN9AdAgBEDAxJ599lnNmDFD06dPV+/evbVixQq1atVKq1atcrlOVVWVpkyZooULF6pbt24erNY8XPVFX9W/3owZM+gLgAYhAAJy/qaMM781w9Xf69vG+dx/rnPrm9OQ+i0PWZSXl6eEhATHmJ+fnxISEpSTk+Pycf/0pz+pQ4cOSkpKOuvzwLmrrKx02RcdqH/d9u3b0xcADcI3gQBmdeLU3ryIiAin4YiICH3//fcuV/vrX/+q//3f/23QQ9jtdtntdsft0tLS86vVRI4ePeqyL64OAdcE9qVLlzb4cegNYG7sAQTQIMePH5d0KmSEh4c3aJ309HSFhIQ4lujoaHeWaErHjx/XnXfeKUlq165dg9ejN4C5sQcQMKtWUosWLWSz2ZyGbTabIiMja00vKCiQJE2aNMkxVl1dLUny9/fXnj171L17d6d1UlNTlZKS4rhdWlpK0DiL8PBwl31R69rz9+3bp/3790uSwsLCJJ29LxK9AcyOPYCAWflLsbGxys7OdgxVV1crOztb8fHxtab37NlTkvT5558rPz9f+fn5uummm3TdddcpPz+/zvBgtVoVHBzstKB+AQEBLvuiTrXnx8TEOA4B1/TmbH2R6A1gduwBBEwsJSVF06ZN06BBgzRkyBAtWbJE5eXlmj59uiRp6tSpuvjii5Wenq7AwEBJUu/evR1hITQ0VJLUt29fr9Tvq1z1RQP/NeEdKbUi1dGX3r17S/p3b+gLgLMhAAImNmnSJB05ckQLFixQcXGxBgwYoKysLMcJCPv375efHwcKPM1VX67MuvLUhBLp0KFD3i0SQLNGAARMLjk5WcnJyXXet2nTpnrXzczMbPyCIMlFX7L+9ed0KTMt0+W69AXA2fBfewAAAJMhAMKUGnpBZm9tr77HOZcLSp/P9gEAvo8ACAAAYDIEQAAAAJMhAAIAAJgMARAAAMBkCIBoctLT0yVJISEhslgsslgsiomJ8XJVAAD4Dp8NgA8//LAjPNQVIioqKjR79my1a9dOrVu31sSJE2t99ya864cfftChQ4d06NAhff75594uBwAAn+HTF4Lu06ePNm7c6Ljt7//vpztv3jx9+OGHevPNNxUSEqLk5GRNmDBBX3zxhTdKRR0iIiL4flIAANzApwOgv7+/IiMja42XlJTopZde0po1a3T99ddLklavXq1evXopNzdXV155padLRR0uu+wyBQUFKT4+Xunp6ercubO3SwIAwCf47CFgSfrxxx8VFRWlbt26acqUKdq/f78kKS8vTydPnlRCQoJjbkxMjDp37qycnByX27Pb7SotLXVa0PgGDRokSXr77be1fPlyFRQU6JprrtHx48ddrkNvAABoOJ8NgHFxccrMzFRWVlatEFFcXKyAgACFhoY6rRMREaHi4mKX20xPT1dISIhjiY6OdvOzMKcbbrhBktS3b18lJibqo48+0rFjx/TGG2+4XKcp9YZv0wAANHU+GwBHjx6tW2+9Vf369WtwiDib1NRUlZSUOJbCwsJGrBiuhIaGqmfPntq7d6/LOfQGAICG89kAeKbTQ0RkZKQqKyt17Ngxpzk2m63OzwzWsFqtCg4OdlrgfmVlZdq3b586duzocg69AdBUTZo0SVFRUbJYLHr33Xe9XQ4gyUQB8PQQERsbq5YtWyo7O9tx/549e7R//37Fx8d7sUpI0v/7f/9PkvTzzz/ryy+/1Pjx49WiRQtNnjzZy5UBwLnr27evMjIyvF0G4MRnzwK+5557NHbsWF1yySUqKipSWlqaI0SEhIQoKSlJKSkpCgsLU3BwsObMmaP4+HjOAG4CioqKJJ06GaR9+/YaOnSocnNz1b59ey9XBgDn7qGHHuKoBJocnw2ABw4c0OTJk/XLL7/UGSIWL14sPz8/TZw4UXa7XYmJiVq2bJmXq4Z06pI877zzjo4cOcIPTQAA3MBnA+Drr79e7/2BgYHKyMhgtzwAoMmw2+2y2+2O21zSCu7iswEQAIDmJj09XQsXLqx3Tl2XmnI1ZqQZDd6Wq7lnu7RVzf2nr9+Qdc738VzNPdvrcrbXwmxMcxIIAABNHZe0gqewBxCmdb7/yzyf+ed7cegLuah0Q9blotVA02K1WmW1Wr1dBkyAPYCA2W2TtFjSo5JekLZt21bv9FGjRqlt27Zq27atEhISzjof5ycjI0NdunRRYGCg4uLi6n2dMzMzJUmdO3emL03Q119/rfz8fElSQUGB8vPzHV9NCngLARAws12S1ksaLuk/JUVIiYmJOnz4sMtVJk6cqE8//VQ5OTmKjo7WyJEjdfDgQc/UaxJr165VSkqK0tLStHPnTvXv31+JiYlSWd3zP//8c0nSBx98QF+aoGuuuUYDBw6UJKWkpGjgwIFasGCBl6uC2REAATPLkXSFpIGSOkj6ndSqVSutWrXK5SozZszQgAEDFBMToxdffFHV1dVOF1XHhXv22Wc1Y8YMTZ8+Xb1799aKFSvUqlUr6au657/44ouSpH79+tGXJqikpESGYTgtNXttAW8hAAJm9ZukIkndThvzkxISEpSTk9OgTZw4cUInT55UWFiYOyo0pcrKSuXl5SkhIcEx5ufnd+r2gYZtg74AOBtOAgHM6oQkQ1Jr5+GIiAh9//33DdrE/PnzFRUV5RRWTsc1zc7d0aNHVVVVpYiICKfxiIgIl4eAz3S2vkj0BjA79gACOC9PPvmkXn/9da1bt06BgYF1zklPT1dISIhjiY6O9nCV5tOQvkj0BjA7AiBgVq0kWVRrr5LNZlNkZGS9qy5atEhPPvmk/ud//kf9+vVzOY9rmp278PBwtWjRQjabzWncZrPV2lt7pqVLlzaoLxK9AcyOAAiYlb+kKEkFp41VS9nZ2YqPj3e52pIlS/Too48qKytLgwYNqvchrFargoODnRbULyAgQLGxsU4ncDhO6OhU/7pPP/10g/oi0RvA7AiAMI3mftFjt9QfLylPUr6kI5I+lMrLyzV9+nRZFlo0depUpaamOq3y+OOPa9WqVerSpYuKi4tVXFyssrIGfjgNDZKSkqIXXnhBL7/8snbv3q1Zs2apvLz81NnakvSOnPqyePFiSdLzzz9PXwA0CCeBAGbWV1K5pE916lBwpJSVleU4AWH//v3y83P+f2JlZaVuueUWp7G0tDQ9/PDDnqjYFCZNmqQjR45owYIFKi4u1oABA5SVlaUrs648NaFEOnTokGN+zWV7pk6d6rQd+gLAFQIgYHZx/1pqbsb9+8amTZtqTS8pKeFwoQckJycrOTnZeTDrX39OlzLTMh3D33zzjUJCQugNgAbjEDAAAIDJEAABAABMhgAIAABgMgRAAAAAkyEAAgAAmAwBEAAAwGQIgAAAACbDdQBhKs3920A8gdcIAHwfewABAABMhgAIAABgMgRAAAAAkyEAAgAAmAwBEAAAwGQIgAAAACZDAAQAADAZAiAAAIDJcCFowIu46DIAwBvYAwgAAGAyBEAAAACTIQACAACYDAEQAADAZEwfADMyMtSlSxcFBgYqLi5O27Zt83ZJ+JcXXniB3njCNkmLJT0q6QVJB+qfvm7dOsXExCgwMFCXX365PvroI/fXaELn87Np0KBB9KWJ4ncNmhpTB8C1a9cqJSVFaWlp2rlzp/r376/ExEQdPnzY26VB0gMPPEBv3G2XpPWShkv6T0kRkv4mqcz1KklJSUpKStJXX32lcePGady4cdq1a5cHijUPVz+bXPVl69atkqTf//739KUJevvtt/ldgybH1AHw2Wef1YwZMzR9+nT17t1bK1asUKtWrbRq1SpvlwZJ06ZNozfuliPpCkkDJXWQ9DtJLSV95XqVhIQE3XvvverVq5ceffRRXXHFFXr++ec9Ua1puPrZ5Kovy5cvlyTddddd9KUJysjI4HcNmhzTBsDKykrl5eUpISHBMebn56eEhATl5OR4sTJUVlZKkoYPH+4Yozdu8JukIkndThvz+9fteg4Dn94XSUpMTKQvjai+n02u+rJ9+/ZaY/Sl6cjPz+d3DZoc014I+ujRo6qqqlJERITTeEREhL7//vs617Hb7bLb7Y7bJSUlkqTS0tJ/T6po/FrN4PTX8KeffpIktW/f3mkOvWlkxyUZkgLk/NoESjp8auz016/m73X1pbi4uM6HONe+OI3Xp+Ic5jZ1ZzyXQ4cOqaqqSq1bt3YaDw0NlUrleL1Ov89ms0mSDMNwjNXXF6nhvamrV3W+9ufSk/PpeWM518d29Zzrey3O2P65/K5p7J9ljvUqnP9+trlOY/W9Zq7uO5fxeh6vzhorGja3znXP+Pvp7xnTMUzq4MGDhiTjyy+/dBq/9957jSFDhtS5TlpamqFTvzJZPLC8++679KYJLs8995zTa5+RkWF06NCBvjSBpbCwsEF9oTeeXxr6u4a+eHY5/T1jNqbdAxgeHq4WLVo4/udcw2azKTIyss51UlNTlZKS4rhdXV2tX3/9Ve3atZPFYlFpaamio6NVWFio4OBgt9Z/rppTbXa7XR07dlRVVZXTPF/sjTfrqqysVGRkpF555RX97ne/c4zPnDlTJSUlWrlypVNthmGod+/eOnnypNN2fLEvkvd6c7a+vPbaa7Vq69Onj5KSkhQVFeWYX19fJHrjDmfWZRiGfvnlF/Xs2bPBv2voi3vU1Zvjx487vWfMxrQBMCAgQLGxscrOzta4ceMknXqjZWdnKzk5uc51rFarrFar01hoaGitecHBwU3uH3+N5lJbbGysPv30U02YMEGS7/fGW3XFxsYqJydHt99+u6RTr/OWLVuUnJzsqOf02oYOHapPPvlE8+bNc2xjw4YNio+Pr3P7zb0vkndqa0hfTq/tqquuUl5envz8/v2x7vr6ItEbdzq9rpCQkHP6XUNf3OvM3pial/dAetXrr79uWK1WIzMz0/juu++MO++80wgNDTWKi4vPa3slJSWGJKOkpKSRK71wza02s/TG23XV9zrX1DZv3jzH/C+++MLw9/c3Fi1aZOzevdtIS0szWrZsaXzzzTfn9fjefv718WZtZ/v3f9tttznV1th9MQx6cz5c1dWYP8+a6nM3DGprbkwdAA3DMJ577jmjc+fORkBAgDFkyBAjNzf3vLfVlP+BNcfazNCbplCXq9e5prbbb7/daf4bb7xh9OzZ0wgICDD69OljfPjhh+f92E3h+bvi7drq+/c/dOjQWrU1Zl8Mw/vPvz5Ntbb66mqsn2dN9bkbBrU1N6YPgI2poqLCSEtLMyoqKrxdSi1mr62pPv+mWpdhmLsvhkFtZn/+54O+UFtzYjEMM58DDQAAYD6mvRA0AACAWREAAQAATIYACAAAYDIEwEbw008/KSkpSV27dlVQUJC6d++utLQ0x3fa1syxWCy1ltzcXLfXl5GRoS5duigwMFBxcXHatm2b2x/zTOnp6Ro8eLDatGmjDh06aNy4cdqzZ4/TnOHDh9d6fWbOnHnej9nU+yLRm6baG7P2RaI3DcF7pm7e7o233jPNlrfPQvEFH3/8sXHHHXcY69evN/bt22e89957RocOHYy7777bMaegoMCQZGzcuNE4dOiQY6msrHRrba+//roREBBgrFq1yvj222+NGTNmGKGhoYbNZnPr454pMTHRWL16tbFr1y4jPz/fGDNmjNG5c2ejrKzMMefaa681ZsyY4fT6XMgp+025L4ZBb5pqb8zcF8OgNw3Be6a2ptAbb71nmisCoJs89dRTRteuXR23a96YX3311QVv+/jx48aCBQuMxMREo23btoYkY/Xq1bXmTZs2rc7vPvT39zfS09Md83bv3m3ce++9Rv/+/Y3WrVsbkZGRxpgxY4zt27dfcK2uHD582JBkbN682TF27bXXGnfddZfbHtMw3NuXczVkyBBj9uzZjttVVVVGVFSUU2+8wey9oS+10Zv6mf09YxhNszfefM80BxwCdpOSkhKFhYXVGr/pppvUoUMHDR06VH//+9/Pa9tHjx7VI488ot27d6t///4u51VXV0uS7rrrLv31r391LNdcc41ycnIc81588UW98MILGjRokJ555hmlpKRoz549uvLKK7Vx48bzqvFsSkpKJKnWa/Tqq68qPDxcffv2VWpqqk6cONHoj+uuvpyLyspK5eXlKSEhwTHm5+enhIQEp954g5l7Q19cPza9cc3M7xmp6fbGm++ZZsHbCdQX/fjjj0ZwcLDxl7/8xTF25MgR45lnnjFyc3ONbdu2GfPnzzcsFovx3nvvnfP2KyoqjEOHDhmGYRjbt293uQfw1ltvNSQZX375pdP4vffeawwZMsRxe8eOHcbx48ed5hw9etRo3769cfXVV59zfWdTVVVl3HjjjbW2vXLlSiMrK8v4+uuvjb/97W/GxRdfbIwfP77RHtfdfTkXBw8ebFBvPM3svaEvtdGb+pn9PWMYTbM33nzPNBcEwHrMnz+/zkOopy+7d+92WufAgQNG9+7djaSkpLNu//e//70xdOjQC6qxIQHws88+c/qMQ0PflBMmTDDCwsIuqL66zJw507jkkkuMwsLCeudlZ2cbkoy9e/c6jTeHvpxNU/yBaRj0xlf7Yhj0xl3M/p4xjKbZm8Z4z/g6/0bbleiD7r77bt1xxx31zunWrZvj70VFRbruuut01VVX6S9/+ctZtx8XF6cNGzZcaJkuBQYGSpISEhJkt9vVtm1bTZ48Wf/4xz8UGRl51vWLi4sVHh7eqDUlJyfrgw8+0JYtW9SpU6d658bFxUmS9u7dq+7duzvGm3tfJCk8PFwtWrSQzWZzGrfZbA3qjTvQG9/ti0Rv3IH3zClNrTeN9Z7xed5OoL7iwIEDxqWXXmrcdtttxm+//dagdf74xz8aAwcOvKDHrW8P4P3332907NjRSExMNF577TXHSSEBAQHGY489Vu92t2zZYlgsFuOhhx66oPpqVFdXG7NnzzaioqKMH374oUHrfP7554Yk43//93/P+3G91ZeGGDJkiJGcnOy4XVVVZVx88cUe/9A0vXFm9r4YBr05G94ztTWF3njzPdMcEQAbwYEDB4wePXoYI0aMMA4cOOB0enmNzMxMY82aNcbu3buN3bt3G48//rjh5+dnrFq16oIeu74AaBinTs23Wq1GZmam8d133xmDBw82JBkrVqxwuU2bzWZ06tTJ6NatW63PBp6vWbNmGSEhIcamTZucXp8TJ04YhmEYe/fuNR555BFjx44dRkFBgfHee+8Z3bp1M4YNG3bej+nNvjTEmb258847jdDQUKO4uNjtj306euPMzH0xDHrTELxnamsKvfHWe6a5IgA2gtWrV7v87EaNzMxMo1evXkarVq2M4OBgY8iQIcabb755wY99tgBoGIbx3HPPGZ07dzYCAgKMQYMGGX5+fi4/O1JWVmYMHjzYCAkJMb755psLrq+Gq9enpu79+/cbw4YNM8LCwgyr1Wr06NHDuPfeey/o+kze7EtDnd6bIUOGGLm5uR577Br0pjaz9sUw6E1D8J6pm7d74633THNlMQzDuJBDyPCuHTt2aPDgwVq9evVZP0dSo+byAO+8847TeGVlpcaOHavNmzdr/fr1uvbaa91QMQAA8DZOAjGZ48eP6+jRo2rfvr3TeHV1taZOnars7Gy98cYbhD8AAHwYF4L2URUVFTp+/Hit8UcffVSGYWjUqFFO43PmzNHatWu1bNkyTZgwwVNlAgAAL2APYDP1/PPP69ixYyoqKpIkvf/++zpw4ICkU2HuH//4hwYOHKjJkycrJiZGkrR+/Xp99NFHGjVqlG6++WbHtpYsWaJly5YpPj5erVq10t/+9jenxxo/frwuuugiDz0zAADgbnwGsJnq0qWLfv755zrvKygoUGhoqObMmaPc3FwVFRWpqqpKPXr00JQpU3TPPfeoZcuWjvl33HGHXn75ZZePVVBQoC5dujT2UwAAAF5CAAQAADAZPgMIAABgMgRAAAAAkyEAAgAAmAwBEAAAwGQIgAAAACZDAAQAADAZLgR9Aaqrq1VUVKQ2bdrIYrF4uxyfYRiGjh8/rqioKPn58X8UAAAaGwHwAhQVFSk6OtrbZfiswsJCderUydtlAADgcwiAF6BNmzaSTgWV4OBgL1fjO0pLSxUdHe14fQEAQOMiAF6AmsO+wcHBBEA34LA6AADuwQesAAAATIYACAAAYDIEQAAAAJMhAAIAAJgMARAAAMBkCIA+yrLQIstC12fR1ncfAADwbQRAAAAAkyEAAgAAmAwBEAAAwGQIgAAAACZDAAQAADAZAiAAAIDJEAABAABMhgAIAABgMgRAAAAAkyEAAgAAmAwBEAAAwGQIgAAAACbjswHw4YcflsVicVpiYmIc91dUVGj27Nlq166dWrdurYkTJ8pms3mxYgAAAM/w2QAoSX369NGhQ4ccy+eff+64b968eXr//ff15ptvavPmzSoqKtKECRO8WC0AAIBn+Hu7AHfy9/dXZGRkrfGSkhK99NJLWrNmja6//npJ0urVq9WrVy/l5ubqyiuv9HSpAAAAHuPTewB//PFHRUVFqVu3bpoyZYr2798vScrLy9PJkyeVkJDgmBsTE6POnTsrJyfH5fbsdrtKS0udFgAAgObGZwNgXFycMjMzlZWVpeXLl6ugoEDXXHONjh8/ruLiYgUEBCg0NNRpnYiICBUXF7vcZnp6ukJCQhxLdHS0m58FAABA4/PZQ8CjR492/L1fv36Ki4vTJZdcojfeeENBQUHntc3U1FSlpKQ4bpeWlhICAQBAs+OzewDPFBoaqp49e2rv3r2KjIxUZWWljh075jTHZrPV+ZnBGlarVcHBwU4LAABAc2OaAFhWVqZ9+/apY8eOio2NVcuWLZWdne24f8+ePdq/f7/i4+O9WCUAAID7+ewh4HvuuUdjx47VJZdcoqKiIqWlpalFixaaPHmyQkJClJSUpJSUFIWFhSk4OFhz5sxRfHw8ZwADAACf57MB8MCBA5o8ebJ++eUXtW/fXkOHDlVubq7at28vSVq8eLH8/Pw0ceJE2e12JSYmatmyZV6uGgAAwP0shmEY3i6iuSotLVVISIhKSkqa3OcBLQstkiQjre72WhZaXN7nbU35dQUAwBeY5jOAAAAAOIUACAAAYDIEQAAAAJMhAAIAAJgMARAAAMBkCIAAAAAmQwAEAAAwGQIgAACAyRAAAQAATIYACAAAYDIEQAAAAJMhAAIAAJgMARAAAMBkCIAAAAAmQwAEAAAwGQIgAACAyRAAAQAATMYUAfDJJ5+UxWLR3LlzHWMVFRWaPXu22rVrp9atW2vixImy2WzeKxIAAMBDfD4Abt++XStXrlS/fv2cxufNm6f3339fb775pjZv3qyioiJNmDDBS1UCAAB4jk8HwLKyMk2ZMkUvvPCC2rZt6xgvKSnRSy+9pGeffVbXX3+9YmNjtXr1an355ZfKzc31YsUAAADu59MBcPbs2brxxhuVkJDgNJ6Xl6eTJ086jcfExKhz587KycnxdJkAAAAe5e/tAtzl9ddf186dO7V9+/Za9xUXFysgIEChoaFO4xERESouLna5TbvdLrvd7rhdWlraaPUCAAB4ik/uASwsLNRdd92lV199VYGBgY223fT0dIWEhDiW6OjoRts2AACAp/hkAMzLy9Phw4d1xRVXyN/fX/7+/tq8ebOWLl0qf39/RUREqLKyUseOHXNaz2azKTIy0uV2U1NTVVJS4lgKCwvd/EwAAAAan08eAh4xYoS++eYbp7Hp06crJiZG8+fPV3R0tFq2bKns7GxNnDhRkrRnzx7t379f8fHxLrdrtVpltVrdWjsAAIC7+WQAbNOmjfr27es0dtFFF6ldu3aO8aSkJKWkpCgsLEzBwcGaM2eO4uPjdeWVV3qjZAAAAI/xyQDYEIsXL5afn58mTpwou92uxMRELVu2zNtlAQAAuJ1pAuCmTZucbgcGBiojI0MZGRneKQgAAMBLfPIkEAAAALhGAAQAADAZAqAXWRZaGjSnIfMAAAAaigAIAABgMgRAAAAAkyEA4pxw2BoAgOaPAAgAAGAyBEAAAACTIQD6OA7FAgCAMxEAAQAATIYACAAAYDIEwCbCm2fXnm27jVEbh6IBAGg6CIAAAAAmQwAEAAAwGX9vF2AWNYdAjTSj0bZ15vYa8hgNPRRrWWhplFoBAEDTwx5AAAAAkyEAAgAAmAyHgOESZ+4CAOCbfHYP4PLly9WvXz8FBwcrODhY8fHx+vjjjx33V1RUaPbs2WrXrp1at26tiRMnymazebFiAAAAz/DZANipUyc9+eSTysvL044dO3T99dfr5ptv1rfffitJmjdvnt5//329+eab2rx5s4qKijRhwgQvVw0AAOB+PnsIeOzYsU63H3/8cS1fvly5ubnq1KmTXnrpJa1Zs0bXX3+9JGn16tXq1auXcnNzdeWVV3qjZAAAAI/w2T2Ap6uqqtLrr7+u8vJyxcfHKy8vTydPnlRCQoJjTkxMjDp37qycnByX27Hb7SotLXVaAAAAmhufDoDffPONWrduLavVqpkzZ2rdunXq3bu3iouLFRAQoNDQUKf5ERERKi4udrm99PR0hYSEOJbo6Gg3P4PmjZNIAABomnw6AF522WXKz8/X1q1bNWvWLE2bNk3ffffdeW8vNTVVJSUljqWwsLARqwUAAPAMn/0MoCQFBASoR48ekqTY2Fht375df/7znzVp0iRVVlbq2LFjTnsBbTabIiMjXW7ParXKarW6u2wAAAC38uk9gGeqrq6W3W5XbGysWrZsqezsbMd9e/bs0f79+xUfH+/FCs+PZaGlUQ63csgWAABz8Nk9gKmpqRo9erQ6d+6s48ePa82aNdq0aZPWr1+vkJAQJSUlKSUlRWFhYQoODtacOXMUHx/PGcAAAMDn+WwAPHz4sKZOnapDhw4pJCRE/fr10/r163XDDTdIkhYvXiw/Pz9NnDhRdrtdiYmJWrZsmZerBgAAcD+fDYAvvfRSvfcHBgYqIyNDGRkZHqroFMtCi4w0w6OPCQAAcDpTfQYQAAAABEAAAADT8dlDwE3Z6WfbNsczb2tq5lA2AADNE3sAAQAATIYACAAAYDIcAm7CGnJ4uLEPITf17QEAgAvHHkAAAACTIQACAACYDIeA3cDbZ8k29LDruRyeddc2OZMYAADPYw8gAACAyRAAAQAATIYA6AGNcSYsZ9MCAIDGQgAEAAAwGQIgPMay0MKeTAAAmgACIAAAgMkQAAEAAEyG6wA2Qc3lMKm3r3cIAADOD3sAAQAATMZnA2B6eroGDx6sNm3aqEOHDho3bpz27NnjNKeiokKzZ89Wu3bt1Lp1a02cOFE2m81LFQMAAHiGzwbAzZs3a/bs2crNzdWGDRt08uRJjRw5UuXl5Y458+bN0/vvv68333xTmzdvVlFRkSZMmHBBj9tcDt82FZwZDACA5/nsZwCzsrKcbmdmZqpDhw7Ky8vTsGHDVFJSopdeeklr1qzR9ddfL0lavXq1evXqpdzcXF155ZXeKBsAAMDtfHYP4JlKSkokSWFhYZKkvLw8nTx5UgkJCY45MTEx6ty5s3Jycurcht1uV2lpqdMCAADQ3JgiAFZXV2vu3Lm6+uqr1bdvX0lScXGxAgICFBoa6jQ3IiJCxcXFdW4nPT1dISEhjiU6OtrdpQMAADQ6UwTA2bNna9euXXr99dcvaDupqakqKSlxLIWFhY1UIQAAgOf47GcAayQnJ+uDDz7Qli1b1KlTJ8d4ZGSkKisrdezYMae9gDabTZGRkXVuy2q1ymq1urtkAAAAt/LZPYCGYSg5OVnr1q3TJ598oq5duzrdHxsbq5YtWyo7O9sxtmfPHu3fv1/x8fGeLrdZO9ezeDnzFwAA7/LZPYCzZ8/WmjVr9N5776lNmzaOz/WFhIQoKChIISEhSkpKUkpKisLCwhQcHKw5c+YoPj6eM4ABAIBP89kAuHz5cknS8OHDncZXr16tO+64Q5K0ePFi+fn5aeLEibLb7UpMTNSyZcs8XCkAAIBn+WwANIyzfz9tYGCgMjIylJGR4YGKzo7DogAAwBN89jOAAAAAqBsBEAAAwGR89hBwU8AhXQAA0BSxBxAAAMBkCIAAAAAmQwAEAAAwGQIgAACAyRAAAQAATIYACAAAYDIEQAAAAJMhAAIAAJgMARAAAMBkCIAAAAAmQwAEAAAwGQIgAACAyRAAAQAATIYACAAAYDI+GwC3bNmisWPHKioqShaLRe+++67T/YZhaMGCBerYsaOCgoKUkJCgH3/80TvFAgAAeJDPBsDy8nL1799fGRkZdd7/1FNPaenSpVqxYoW2bt2qiy66SImJiaqoqPBwpQAAAJ7l7+0C3GX06NEaPXp0nfcZhqElS5bowQcf1M033yxJeuWVVxQREaF3331Xt912mydLdTvLQou3SwAAAE2Iz+4BrE9BQYGKi4uVkJDgGAsJCVFcXJxycnK8WBkAAID7+ewewPoUFxdLkiIiIpzGIyIiHPfVxW63y263O26Xlpa6p0AAAAA3MuUewPOVnp6ukJAQxxIdHe3tkgAAAM6ZKQNgZGSkJMlmszmN22w2x311SU1NVUlJiWMpLCx0a50AAADuYMoA2LVrV0VGRio7O9sxVlpaqq1btyo+Pt7lelarVcHBwU4LAABAc+OznwEsKyvT3r17HbcLCgqUn5+vsLAwde7cWXPnztVjjz2mSy+9VF27dtVDDz2kqKgojRs3zntFAwAAeIDPBsAdO3bouuuuc9xOSUmRJE2bNk2ZmZm67777VF5erjvvvFPHjh3T0KFDlZWVpcDAQG+VDAAA4BEWwzAMbxfRXJWWliokJEQlJSWOw8Fcc+/8GGn//mdY1+sKAAAajyk/AwgAAGBmBEAAAACTIQACAACYDAEQAADAZAiAAAAAJkMABAAAMBkCIAAAgMkQAAEAAEyGAAgAAGAyBEAAAACTIQACAACYDAEQAADAZAiAAAAAJkMABAAAMBkCIAAAgMkQAAEAAEyGAAgAAGAyBEAAAACTMX0AzMjIUJcuXRQYGKi4uDht27bN2yUBAAC4lakD4Nq1a5WSkqK0tDTt3LlT/fv3V2Jiog4fPuzt0gAAANzG1AHw2Wef1YwZMzR9+nT17t1bK1asUKtWrbRq1SpvlwYAAOA2/t4uwFsqKyuVl5en1NRUx5ifn58SEhKUk5NT5zp2u112u91xu6SkRJJUWlr670kV7qnX153+Gtb83TAMb5UDAIBPM20APHr0qKqqqhQREeE0HhERoe+//77OddLT07Vw4cJa49HR0W6p0UxCngypNXb8+HGFhNQeBwAAF8a0AfB8pKamKiUlxXG7urpav/76q9q1ayeLxaLS0lJFR0ersLBQwcHBXqy0tuZUm2EYOn78uKKiorxdGgAAPsm0ATA8PFwtWrSQzWZzGrfZbIqMjKxzHavVKqvV6jQWGhpaa15wcHCTC1k1mktt7PkDAMB9THsSSEBAgGJjY5Wdne0Yq66uVnZ2tuLj471YGQAAgHuZdg+gJKWkpGjatGkaNGiQhgwZoiVLlqi8vFzTp0/3dmkAAABuY+oAOGnSJB05ckQLFixQcXGxBgwYoKysrFonhjSU1WpVWlparcPETQG1AQCAGhaDa20AAACYimk/AwgAAGBWBEAAAACTIQACAACYDAEQAADAZAiAjeCnn35SUlKSunbtqqCgIHXv3l1paWmqrKx0mmOxWGotubm5bq8vIyNDXbp0UWBgoOLi4rRt2za3P+aZ0tPTNXjwYLVp00YdOnTQuHHjtGfPHqc5w4cPr/X6zJw50+O1AgDg60x9GZjG8v3336u6ulorV65Ujx49tGvXLs2YMUPl5eVatGiR09yNGzeqT58+jtvt2rVza21r165VSkqKVqxYobi4OC1ZskSJiYnas2ePOnTo4NbHPt3mzZs1e/ZsDR48WL/99pseeOABjRw5Ut99950uuugix7wZM2bokUcecdxu1aqVx2oEAMAsuAyMmzz99NNavny5/u///k/SqT2AXbt21VdffaUBAwZ4rI64uDgNHjxYzz//vKRT33YSHR2tOXPm6P777/dYHWc6cuSIOnTooM2bN2vYsGGSTu0BHDBggJYsWeK1ugAAMAMOAbtJSUmJwsLCao3fdNNN6tChg4YOHaq///3vbq2hsrJSeXl5SkhIcIz5+fkpISFBOTk5bn3ssykpKZGkWq/Rq6++qvDwcPXt21epqak6ceKEN8oDAMCncQjYDfbu3avnnnvO6fBv69at9cwzz+jqq6+Wn5+f3n77bY0bN07vvvuubrrpJrfUcfToUVVVVdX6ZpOIiAh9//33bnnMhqiurtbcuXN19dVXq2/fvo7x22+/XZdccomioqL09ddfa/78+dqzZ4/eeecdr9UKAIAvIgDW4/7779ef/vSneufs3r1bMTExjtsHDx7UqFGjdOutt2rGjBmO8fDwcKWkpDhuDx48WEVFRXr66afdFgCbqtmzZ2vXrl36/PPPncbvvPNOx98vv/xydezYUSNGjNC+ffvUvXt3T5cJAIDPIgDW4+6779Ydd9xR75xu3bo5/l5UVKTrrrtOV111lf7yl7+cdftxcXHasGHDhZbpUnh4uFq0aCGbzeY0brPZFBkZ6bbHrU9ycrI++OADbdmyRZ06dap3blxcnKRTe1QJgAAANB4CYD3at2+v9u3bN2juwYMHdd111yk2NlarV6+Wn9/ZP16Zn5+vjh07XmiZLgUEBCg2NlbZ2dkaN26cpFOHX7Ozs5WcnOy2x62LYRiaM2eO1q1bp02bNqlr165nXSc/P1+S3PoaAQBgRgTARnDw4EENHz5cl1xyiRYtWqQjR4447qvZ0/byyy8rICBAAwcOlCS98847WrVqlV588UW31paSkqJp06Zp0KBBGjJkiJYsWaLy8nJNnz7drY97ptmzZ2vNmjV677331KZNGxUXF0uSQkJCFBQUpH379mnNmjUaM2aM2rVrp6+//lrz5s3TsGHD1K9fP4/WCgCAryMANoINGzZo79692rt3b63DmqdfZefRRx/Vzz//LH9/f8XExGjt2rW65ZZb3FrbpEmTdOTIES1YsEDFxcUaMGCAsrKyap0Y4m7Lly+XdOpSL6dbvXq17rjjDgUEBGjjxo2OgBodHa2JEyfqwQcf9GidAACYAdcBBAAAMBmuAwgAAGAyBEAAAACTIQACAACYDAEQAADAZAiAAAAAJkMABAAAMBkCIAAAgMkQAAEAAEyGAAgAAGAyBEAAAACTIQACAACYDAEQAADAZAiAAAAAJkMABAAAMBkCIAAAgMkQAAEAAEyGAAgAAGAyBEAAAACTIQACAACYDAEQAADAZAiAAAAAJkMABAAAMBkCIAAAgMkQAAEAAEyGAAgAAGAyBEAAAACTIQACAACYDAEQAADAZAiAAAAAJkMABAAAMBkCIAAAgMn8f2Q/NBKSpi7cAAAAAElFTkSuQmCC' width=640.0/>\n",
       "            </div>\n",
       "        "
      ],
      "text/plain": [
       "Canvas(toolbar=Toolbar(toolitems=[('Home', 'Reset original view', 'home', 'home'), ('Back', 'Back to previous …"
      ]
     },
     "metadata": {},
     "output_type": "display_data"
    },
    {
     "data": {
      "application/vnd.jupyter.widget-view+json": {
       "model_id": "c83f9c40e863487f92742b339ca80866",
       "version_major": 2,
       "version_minor": 0
      },
      "image/png": "[encoded data removed]",
      "text/html": [
       "\n",
       "            <div style=\"display: inline-block;\">\n",
       "                <div class=\"jupyter-widgets widget-label\" style=\"text-align: center;\">\n",
       "                    Figure\n",
       "                </div>\n",
       "                <img src='data:image/png;base64,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' width=640.0/>\n",
       "            </div>\n",
       "        "
      ],
      "text/plain": [
       "Canvas(toolbar=Toolbar(toolitems=[('Home', 'Reset original view', 'home', 'home'), ('Back', 'Back to previous …"
      ]
     },
     "metadata": {},
     "output_type": "display_data"
    }
   ],
   "source": [
    "si.plot_autocorrelograms(analyzer, unit_ids=sorting.unit_ids[::30])\n",
    "si.plot_crosscorrelograms(analyzer, unit_ids=sorting.unit_ids[::30])"
   ]
  },
  {
   "cell_type": "markdown",
   "metadata": {
    "pycharm": {
     "name": "#%% md\n"
    }
   },
   "source": [
    "### Principal components\n",
    "\n",
    "PCA scores can be easily computed with the `\"principal_components\"` extension. Similarly to the `\"waveforms\"`, the function compute the components only on some random spikes.\n",
    "\n",
    "Can be done with `si.compute_principal_components(analyzer, ...)` or `analyzer.compute(\"principal_components\", ...)`\n",
    "\n",
    "\n"
   ]
  },
  {
   "cell_type": "code",
   "execution_count": 78,
   "metadata": {},
   "outputs": [
    {
     "data": {
      "application/vnd.jupyter.widget-view+json": {
       "model_id": "6bcf8d61230b46029a3b3c006f2eb937",
       "version_major": 2,
       "version_minor": 0
      },
      "text/plain": [
       "Fitting PCA:   0%|          | 0/159 [00:00<?, ?it/s]"
      ]
     },
     "metadata": {},
     "output_type": "display_data"
    },
    {
     "data": {
      "application/vnd.jupyter.widget-view+json": {
       "model_id": "d1599940b164491793f01a256ac5fbf1",
       "version_major": 2,
       "version_minor": 0
      },
      "text/plain": [
       "Projecting waveforms:   0%|          | 0/159 [00:00<?, ?it/s]"
      ]
     },
     "metadata": {},
     "output_type": "display_data"
    },
    {
     "data": {
      "text/plain": [
       "SortingAnalyzer: 49 channels - 159 units - 1 segments - memory - sparse - has recording\n",
       "Loaded 10 extensions: random_spikes, waveforms, templates, noise_levels, spike_amplitudes, unit_locations, spike_locations, template_similarity, correlograms, principal_components"
      ]
     },
     "execution_count": 78,
     "metadata": {},
     "output_type": "execute_result"
    }
   ],
   "source": [
    "analyzer.compute(\"principal_components\", n_components=3, mode=\"by_channel_global\")\n",
    "analyzer"
   ]
  },
  {
   "cell_type": "markdown",
   "metadata": {},
   "source": [
    "### Compute template metrics\n",
    "\n",
    "Template metrics, or extracellular features, such as peak to valley duration or full-width half maximum, are important to classify neurons into putative classes (excitatory - inhibitory). The `postprocessing` allows one to compute several of these metrics:"
   ]
  },
  {
   "cell_type": "code",
   "execution_count": 79,
   "metadata": {},
   "outputs": [
    {
     "name": "stdout",
     "output_type": "stream",
     "text": [
      "['peak_to_valley', 'peak_trough_ratio', 'half_width', 'repolarization_slope', 'recovery_slope', 'num_positive_peaks', 'num_negative_peaks', 'velocity_above', 'velocity_below', 'exp_decay', 'spread']\n"
     ]
    }
   ],
   "source": [
    "print(si.get_template_metric_names())"
   ]
  },
  {
   "cell_type": "code",
   "execution_count": 80,
   "metadata": {
    "pycharm": {
     "name": "#%%\n"
    }
   },
   "outputs": [
    {
     "data": {
      "text/html": [
       "<div>\n",
       "<style scoped>\n",
       "    .dataframe tbody tr th:only-of-type {\n",
       "        vertical-align: middle;\n",
       "    }\n",
       "\n",
       "    .dataframe tbody tr th {\n",
       "        vertical-align: top;\n",
       "    }\n",
       "\n",
       "    .dataframe thead th {\n",
       "        text-align: right;\n",
       "    }\n",
       "</style>\n",
       "<table border=\"1\" class=\"dataframe\">\n",
       "  <thead>\n",
       "    <tr style=\"text-align: right;\">\n",
       "      <th></th>\n",
       "      <th>peak_to_valley</th>\n",
       "      <th>peak_trough_ratio</th>\n",
       "      <th>half_width</th>\n",
       "      <th>repolarization_slope</th>\n",
       "      <th>recovery_slope</th>\n",
       "      <th>num_positive_peaks</th>\n",
       "      <th>num_negative_peaks</th>\n",
       "    </tr>\n",
       "  </thead>\n",
       "  <tbody>\n",
       "    <tr>\n",
       "      <th>0</th>\n",
       "      <td>0.00085</td>\n",
       "      <td>-0.271363</td>\n",
       "      <td>0.000317</td>\n",
       "      <td>85137.934657</td>\n",
       "      <td>-12727.292086</td>\n",
       "      <td>2</td>\n",
       "      <td>1</td>\n",
       "    </tr>\n",
       "    <tr>\n",
       "      <th>1</th>\n",
       "      <td>0.000943</td>\n",
       "      <td>-0.235764</td>\n",
       "      <td>0.000257</td>\n",
       "      <td>307891.437514</td>\n",
       "      <td>-47309.981698</td>\n",
       "      <td>2</td>\n",
       "      <td>1</td>\n",
       "    </tr>\n",
       "    <tr>\n",
       "      <th>2</th>\n",
       "      <td>0.00073</td>\n",
       "      <td>-0.302573</td>\n",
       "      <td>0.000287</td>\n",
       "      <td>289201.497299</td>\n",
       "      <td>-42246.385143</td>\n",
       "      <td>1</td>\n",
       "      <td>1</td>\n",
       "    </tr>\n",
       "    <tr>\n",
       "      <th>3</th>\n",
       "      <td>0.000813</td>\n",
       "      <td>-0.305366</td>\n",
       "      <td>0.000293</td>\n",
       "      <td>151673.86514</td>\n",
       "      <td>-22635.330766</td>\n",
       "      <td>2</td>\n",
       "      <td>1</td>\n",
       "    </tr>\n",
       "    <tr>\n",
       "      <th>4</th>\n",
       "      <td>0.00076</td>\n",
       "      <td>-0.28953</td>\n",
       "      <td>0.000287</td>\n",
       "      <td>255707.778623</td>\n",
       "      <td>-36393.180101</td>\n",
       "      <td>1</td>\n",
       "      <td>1</td>\n",
       "    </tr>\n",
       "    <tr>\n",
       "      <th>...</th>\n",
       "      <td>...</td>\n",
       "      <td>...</td>\n",
       "      <td>...</td>\n",
       "      <td>...</td>\n",
       "      <td>...</td>\n",
       "      <td>...</td>\n",
       "      <td>...</td>\n",
       "    </tr>\n",
       "    <tr>\n",
       "      <th>156</th>\n",
       "      <td>0.000917</td>\n",
       "      <td>-0.227531</td>\n",
       "      <td>0.000197</td>\n",
       "      <td>115464.118578</td>\n",
       "      <td>-17208.598229</td>\n",
       "      <td>1</td>\n",
       "      <td>1</td>\n",
       "    </tr>\n",
       "    <tr>\n",
       "      <th>157</th>\n",
       "      <td>0.00108</td>\n",
       "      <td>-0.40989</td>\n",
       "      <td>0.000703</td>\n",
       "      <td>40919.816014</td>\n",
       "      <td>-8277.177642</td>\n",
       "      <td>2</td>\n",
       "      <td>1</td>\n",
       "    </tr>\n",
       "    <tr>\n",
       "      <th>158</th>\n",
       "      <td>0.000727</td>\n",
       "      <td>-0.304598</td>\n",
       "      <td>0.00029</td>\n",
       "      <td>183948.874136</td>\n",
       "      <td>-27231.093226</td>\n",
       "      <td>1</td>\n",
       "      <td>1</td>\n",
       "    </tr>\n",
       "    <tr>\n",
       "      <th>159</th>\n",
       "      <td>0.000833</td>\n",
       "      <td>-0.255242</td>\n",
       "      <td>0.000313</td>\n",
       "      <td>164285.765753</td>\n",
       "      <td>-17649.096558</td>\n",
       "      <td>2</td>\n",
       "      <td>1</td>\n",
       "    </tr>\n",
       "    <tr>\n",
       "      <th>160</th>\n",
       "      <td>0.00044</td>\n",
       "      <td>-0.323277</td>\n",
       "      <td>0.00028</td>\n",
       "      <td>199291.592548</td>\n",
       "      <td>-17546.540145</td>\n",
       "      <td>1</td>\n",
       "      <td>1</td>\n",
       "    </tr>\n",
       "  </tbody>\n",
       "</table>\n",
       "<p>159 rows × 7 columns</p>\n",
       "</div>"
      ],
      "text/plain": [
       "     peak_to_valley  peak_trough_ratio  half_width  repolarization_slope  \\\n",
       "0           0.00085          -0.271363    0.000317          85137.934657   \n",
       "1          0.000943          -0.235764    0.000257         307891.437514   \n",
       "2           0.00073          -0.302573    0.000287         289201.497299   \n",
       "3          0.000813          -0.305366    0.000293          151673.86514   \n",
       "4           0.00076           -0.28953    0.000287         255707.778623   \n",
       "..              ...                ...         ...                   ...   \n",
       "156        0.000917          -0.227531    0.000197         115464.118578   \n",
       "157         0.00108           -0.40989    0.000703          40919.816014   \n",
       "158        0.000727          -0.304598     0.00029         183948.874136   \n",
       "159        0.000833          -0.255242    0.000313         164285.765753   \n",
       "160         0.00044          -0.323277     0.00028         199291.592548   \n",
       "\n",
       "     recovery_slope  num_positive_peaks  num_negative_peaks  \n",
       "0     -12727.292086                   2                   1  \n",
       "1     -47309.981698                   2                   1  \n",
       "2     -42246.385143                   1                   1  \n",
       "3     -22635.330766                   2                   1  \n",
       "4     -36393.180101                   1                   1  \n",
       "..              ...                 ...                 ...  \n",
       "156   -17208.598229                   1                   1  \n",
       "157    -8277.177642                   2                   1  \n",
       "158   -27231.093226                   1                   1  \n",
       "159   -17649.096558                   2                   1  \n",
       "160   -17546.540145                   1                   1  \n",
       "\n",
       "[159 rows x 7 columns]"
      ]
     },
     "metadata": {},
     "output_type": "display_data"
    }
   ],
   "source": [
    "# analyzer.compute(\"template_metrics\")\n",
    "template_metrics = si.compute_template_metrics(analyzer)\n",
    "display(template_metrics)"
   ]
  },
  {
   "cell_type": "code",
   "execution_count": 81,
   "metadata": {},
   "outputs": [
    {
     "data": {
      "application/vnd.jupyter.widget-view+json": {
       "model_id": "6c69f15ab6294a3d9126082dc628c9bd",
       "version_major": 2,
       "version_minor": 0
      },
      "text/plain": [
       "AppLayout(children=(UnitSelector(children=(Label(value='Units', layout=Layout(justify_content='center')), Sele…"
      ]
     },
     "metadata": {},
     "output_type": "display_data"
    }
   ],
   "source": [
    "w = si.plot_template_metrics(analyzer, include_metrics=[\"peak_to_valley\", \"half_width\"], backend=\"ipywidgets\")"
   ]
  },
  {
   "cell_type": "markdown",
   "metadata": {
    "pycharm": {
     "name": "#%% md\n"
    }
   },
   "source": [
    "For more information about these template metrics, we refer to this [documentation](https://github.com/AllenInstitute/ecephys_spike_sorting/tree/master/ecephys_spike_sorting/modules/mean_waveforms) from the Allen Institute."
   ]
  },
  {
   "cell_type": "markdown",
   "metadata": {
    "pycharm": {
     "name": "#%% md\n"
    }
   },
   "source": [
    "# 6. Quality metrics and curation <a class=\"anchor\" id=\"curation\"></a>\n",
    "\n",
    "The `qualitymetrics` module also provides several functions to compute qualitity metrics to validate the spike sorting results.\n",
    "\n",
    "Let's see what metrics are available:"
   ]
  },
  {
   "cell_type": "code",
   "execution_count": 82,
   "metadata": {},
   "outputs": [
    {
     "name": "stdout",
     "output_type": "stream",
     "text": [
      "['num_spikes', 'firing_rate', 'presence_ratio', 'snr', 'isi_violation', 'rp_violation', 'sliding_rp_violation', 'amplitude_cutoff', 'amplitude_median', 'amplitude_cv', 'synchrony', 'firing_range', 'drift', 'sd_ratio']\n",
      "['isolation_distance', 'l_ratio', 'd_prime', 'nearest_neighbor', 'nn_isolation', 'nn_noise_overlap', 'silhouette']\n"
     ]
    }
   ],
   "source": [
    "print(si.get_quality_metric_list())\n",
    "print(si.get_quality_pca_metric_list())"
   ]
  },
  {
   "cell_type": "code",
   "execution_count": 83,
   "metadata": {
    "pycharm": {
     "name": "#%%\n"
    }
   },
   "outputs": [
    {
     "data": {
      "application/vnd.jupyter.widget-view+json": {
       "model_id": "e4d1d5fd96444ee1a40bf291bd92498a",
       "version_major": 2,
       "version_minor": 0
      },
      "text/plain": [
       "noise_level:   0%|          | 0/20 [00:00<?, ?it/s]"
      ]
     },
     "metadata": {},
     "output_type": "display_data"
    }
   ],
   "source": [
    "metric_names = si.get_quality_metric_list()\n",
    "qm = si.compute_quality_metrics(analyzer, metric_names=metric_names)"
   ]
  },
  {
   "cell_type": "code",
   "execution_count": 84,
   "metadata": {
    "pycharm": {
     "name": "#%%\n"
    }
   },
   "outputs": [
    {
     "data": {
      "text/html": [
       "<div>\n",
       "<style scoped>\n",
       "    .dataframe tbody tr th:only-of-type {\n",
       "        vertical-align: middle;\n",
       "    }\n",
       "\n",
       "    .dataframe tbody tr th {\n",
       "        vertical-align: top;\n",
       "    }\n",
       "\n",
       "    .dataframe thead th {\n",
       "        text-align: right;\n",
       "    }\n",
       "</style>\n",
       "<table border=\"1\" class=\"dataframe\">\n",
       "  <thead>\n",
       "    <tr style=\"text-align: right;\">\n",
       "      <th></th>\n",
       "      <th>num_spikes</th>\n",
       "      <th>firing_rate</th>\n",
       "      <th>presence_ratio</th>\n",
       "      <th>snr</th>\n",
       "      <th>isi_violations_ratio</th>\n",
       "      <th>isi_violations_count</th>\n",
       "      <th>rp_contamination</th>\n",
       "      <th>rp_violations</th>\n",
       "      <th>sliding_rp_violation</th>\n",
       "      <th>amplitude_cutoff</th>\n",
       "      <th>...</th>\n",
       "      <th>amplitude_cv_median</th>\n",
       "      <th>amplitude_cv_range</th>\n",
       "      <th>sync_spike_2</th>\n",
       "      <th>sync_spike_4</th>\n",
       "      <th>sync_spike_8</th>\n",
       "      <th>firing_range</th>\n",
       "      <th>drift_ptp</th>\n",
       "      <th>drift_std</th>\n",
       "      <th>drift_mad</th>\n",
       "      <th>sd_ratio</th>\n",
       "    </tr>\n",
       "  </thead>\n",
       "  <tbody>\n",
       "    <tr>\n",
       "      <th>0</th>\n",
       "      <td>3598</td>\n",
       "      <td>11.993333</td>\n",
       "      <td>1.0</td>\n",
       "      <td>6.047838</td>\n",
       "      <td>0.942405</td>\n",
       "      <td>122</td>\n",
       "      <td>1.0</td>\n",
       "      <td>87</td>\n",
       "      <td>&lt;NA&gt;</td>\n",
       "      <td>0.000157</td>\n",
       "      <td>...</td>\n",
       "      <td>0.38383</td>\n",
       "      <td>0.280381</td>\n",
       "      <td>0.031962</td>\n",
       "      <td>0</td>\n",
       "      <td>0</td>\n",
       "      <td>5.62</td>\n",
       "      <td>0.258883</td>\n",
       "      <td>0.101139</td>\n",
       "      <td>0.093107</td>\n",
       "      <td>2.206612</td>\n",
       "    </tr>\n",
       "    <tr>\n",
       "      <th>1</th>\n",
       "      <td>1575</td>\n",
       "      <td>5.25</td>\n",
       "      <td>1.0</td>\n",
       "      <td>22.642986</td>\n",
       "      <td>0.120937</td>\n",
       "      <td>3</td>\n",
       "      <td>0.062417</td>\n",
       "      <td>1</td>\n",
       "      <td>0.215</td>\n",
       "      <td>0.002504</td>\n",
       "      <td>...</td>\n",
       "      <td>0.151045</td>\n",
       "      <td>0.417312</td>\n",
       "      <td>0.045079</td>\n",
       "      <td>0</td>\n",
       "      <td>0</td>\n",
       "      <td>3.21</td>\n",
       "      <td>0.999655</td>\n",
       "      <td>0.367169</td>\n",
       "      <td>0.370746</td>\n",
       "      <td>4.774676</td>\n",
       "    </tr>\n",
       "    <tr>\n",
       "      <th>2</th>\n",
       "      <td>98</td>\n",
       "      <td>0.326667</td>\n",
       "      <td>1.0</td>\n",
       "      <td>15.249896</td>\n",
       "      <td>0.0</td>\n",
       "      <td>0</td>\n",
       "      <td>0.0</td>\n",
       "      <td>0</td>\n",
       "      <td>&lt;NA&gt;</td>\n",
       "      <td>&lt;NA&gt;</td>\n",
       "      <td>...</td>\n",
       "      <td>&lt;NA&gt;</td>\n",
       "      <td>&lt;NA&gt;</td>\n",
       "      <td>0.265306</td>\n",
       "      <td>0</td>\n",
       "      <td>0</td>\n",
       "      <td>0.61</td>\n",
       "      <td>&lt;NA&gt;</td>\n",
       "      <td>&lt;NA&gt;</td>\n",
       "      <td>&lt;NA&gt;</td>\n",
       "      <td>2.865849</td>\n",
       "    </tr>\n",
       "    <tr>\n",
       "      <th>3</th>\n",
       "      <td>745</td>\n",
       "      <td>2.483333</td>\n",
       "      <td>1.0</td>\n",
       "      <td>8.630683</td>\n",
       "      <td>1.261204</td>\n",
       "      <td>7</td>\n",
       "      <td>1.0</td>\n",
       "      <td>5</td>\n",
       "      <td>&lt;NA&gt;</td>\n",
       "      <td>0.006556</td>\n",
       "      <td>...</td>\n",
       "      <td>0.303898</td>\n",
       "      <td>0.254613</td>\n",
       "      <td>0.036242</td>\n",
       "      <td>0</td>\n",
       "      <td>0</td>\n",
       "      <td>3.21</td>\n",
       "      <td>1.498647</td>\n",
       "      <td>0.63232</td>\n",
       "      <td>0.68667</td>\n",
       "      <td>1.804273</td>\n",
       "    </tr>\n",
       "    <tr>\n",
       "      <th>4</th>\n",
       "      <td>997</td>\n",
       "      <td>3.323333</td>\n",
       "      <td>1.0</td>\n",
       "      <td>13.248806</td>\n",
       "      <td>0.503014</td>\n",
       "      <td>5</td>\n",
       "      <td>0.692469</td>\n",
       "      <td>3</td>\n",
       "      <td>&lt;NA&gt;</td>\n",
       "      <td>0.000602</td>\n",
       "      <td>...</td>\n",
       "      <td>0.205309</td>\n",
       "      <td>0.064368</td>\n",
       "      <td>0.045135</td>\n",
       "      <td>0</td>\n",
       "      <td>0</td>\n",
       "      <td>2.41</td>\n",
       "      <td>0.430673</td>\n",
       "      <td>0.141879</td>\n",
       "      <td>0.049792</td>\n",
       "      <td>2.419502</td>\n",
       "    </tr>\n",
       "    <tr>\n",
       "      <th>...</th>\n",
       "      <td>...</td>\n",
       "      <td>...</td>\n",
       "      <td>...</td>\n",
       "      <td>...</td>\n",
       "      <td>...</td>\n",
       "      <td>...</td>\n",
       "      <td>...</td>\n",
       "      <td>...</td>\n",
       "      <td>...</td>\n",
       "      <td>...</td>\n",
       "      <td>...</td>\n",
       "      <td>...</td>\n",
       "      <td>...</td>\n",
       "      <td>...</td>\n",
       "      <td>...</td>\n",
       "      <td>...</td>\n",
       "      <td>...</td>\n",
       "      <td>...</td>\n",
       "      <td>...</td>\n",
       "      <td>...</td>\n",
       "      <td>...</td>\n",
       "    </tr>\n",
       "    <tr>\n",
       "      <th>156</th>\n",
       "      <td>577</td>\n",
       "      <td>1.923333</td>\n",
       "      <td>1.0</td>\n",
       "      <td>8.379984</td>\n",
       "      <td>4.205101</td>\n",
       "      <td>14</td>\n",
       "      <td>1.0</td>\n",
       "      <td>9</td>\n",
       "      <td>&lt;NA&gt;</td>\n",
       "      <td>0.00729</td>\n",
       "      <td>...</td>\n",
       "      <td>0.447972</td>\n",
       "      <td>0.168047</td>\n",
       "      <td>0.07799</td>\n",
       "      <td>0</td>\n",
       "      <td>0</td>\n",
       "      <td>2.24</td>\n",
       "      <td>1.623331</td>\n",
       "      <td>0.357959</td>\n",
       "      <td>0.416724</td>\n",
       "      <td>3.290247</td>\n",
       "    </tr>\n",
       "    <tr>\n",
       "      <th>157</th>\n",
       "      <td>2141</td>\n",
       "      <td>7.136667</td>\n",
       "      <td>1.0</td>\n",
       "      <td>2.365223</td>\n",
       "      <td>0.130893</td>\n",
       "      <td>6</td>\n",
       "      <td>0.0</td>\n",
       "      <td>0</td>\n",
       "      <td>0.065</td>\n",
       "      <td>0.002321</td>\n",
       "      <td>...</td>\n",
       "      <td>0.425768</td>\n",
       "      <td>0.159922</td>\n",
       "      <td>0.012144</td>\n",
       "      <td>0</td>\n",
       "      <td>0</td>\n",
       "      <td>9.2</td>\n",
       "      <td>0.795459</td>\n",
       "      <td>0.260955</td>\n",
       "      <td>0.116437</td>\n",
       "      <td>0.961315</td>\n",
       "    </tr>\n",
       "    <tr>\n",
       "      <th>158</th>\n",
       "      <td>555</td>\n",
       "      <td>1.85</td>\n",
       "      <td>1.0</td>\n",
       "      <td>11.443817</td>\n",
       "      <td>5.519033</td>\n",
       "      <td>17</td>\n",
       "      <td>1.0</td>\n",
       "      <td>13</td>\n",
       "      <td>&lt;NA&gt;</td>\n",
       "      <td>0.00199</td>\n",
       "      <td>...</td>\n",
       "      <td>0.279369</td>\n",
       "      <td>0.068709</td>\n",
       "      <td>0.09009</td>\n",
       "      <td>0</td>\n",
       "      <td>0</td>\n",
       "      <td>2.21</td>\n",
       "      <td>0.418698</td>\n",
       "      <td>0.077211</td>\n",
       "      <td>0.177374</td>\n",
       "      <td>2.687851</td>\n",
       "    </tr>\n",
       "    <tr>\n",
       "      <th>159</th>\n",
       "      <td>337</td>\n",
       "      <td>1.123333</td>\n",
       "      <td>1.0</td>\n",
       "      <td>9.015975</td>\n",
       "      <td>0.0</td>\n",
       "      <td>0</td>\n",
       "      <td>0.0</td>\n",
       "      <td>0</td>\n",
       "      <td>&lt;NA&gt;</td>\n",
       "      <td>&lt;NA&gt;</td>\n",
       "      <td>...</td>\n",
       "      <td>&lt;NA&gt;</td>\n",
       "      <td>&lt;NA&gt;</td>\n",
       "      <td>0.017804</td>\n",
       "      <td>0</td>\n",
       "      <td>0</td>\n",
       "      <td>1.01</td>\n",
       "      <td>&lt;NA&gt;</td>\n",
       "      <td>&lt;NA&gt;</td>\n",
       "      <td>&lt;NA&gt;</td>\n",
       "      <td>2.147199</td>\n",
       "    </tr>\n",
       "    <tr>\n",
       "      <th>160</th>\n",
       "      <td>2252</td>\n",
       "      <td>7.506667</td>\n",
       "      <td>1.0</td>\n",
       "      <td>7.15823</td>\n",
       "      <td>0.039436</td>\n",
       "      <td>2</td>\n",
       "      <td>0.061015</td>\n",
       "      <td>2</td>\n",
       "      <td>0.08</td>\n",
       "      <td>0.000115</td>\n",
       "      <td>...</td>\n",
       "      <td>0.197451</td>\n",
       "      <td>0.196989</td>\n",
       "      <td>0.01421</td>\n",
       "      <td>0</td>\n",
       "      <td>0</td>\n",
       "      <td>7.46</td>\n",
       "      <td>0.631123</td>\n",
       "      <td>0.237027</td>\n",
       "      <td>0.210702</td>\n",
       "      <td>1.365172</td>\n",
       "    </tr>\n",
       "  </tbody>\n",
       "</table>\n",
       "<p>159 rows × 21 columns</p>\n",
       "</div>"
      ],
      "text/plain": [
       "     num_spikes  firing_rate  presence_ratio        snr  isi_violations_ratio  \\\n",
       "0          3598    11.993333             1.0   6.047838              0.942405   \n",
       "1          1575         5.25             1.0  22.642986              0.120937   \n",
       "2            98     0.326667             1.0  15.249896                   0.0   \n",
       "3           745     2.483333             1.0   8.630683              1.261204   \n",
       "4           997     3.323333             1.0  13.248806              0.503014   \n",
       "..          ...          ...             ...        ...                   ...   \n",
       "156         577     1.923333             1.0   8.379984              4.205101   \n",
       "157        2141     7.136667             1.0   2.365223              0.130893   \n",
       "158         555         1.85             1.0  11.443817              5.519033   \n",
       "159         337     1.123333             1.0   9.015975                   0.0   \n",
       "160        2252     7.506667             1.0    7.15823              0.039436   \n",
       "\n",
       "     isi_violations_count  rp_contamination  rp_violations  \\\n",
       "0                     122               1.0             87   \n",
       "1                       3          0.062417              1   \n",
       "2                       0               0.0              0   \n",
       "3                       7               1.0              5   \n",
       "4                       5          0.692469              3   \n",
       "..                    ...               ...            ...   \n",
       "156                    14               1.0              9   \n",
       "157                     6               0.0              0   \n",
       "158                    17               1.0             13   \n",
       "159                     0               0.0              0   \n",
       "160                     2          0.061015              2   \n",
       "\n",
       "     sliding_rp_violation  amplitude_cutoff  ...  amplitude_cv_median  \\\n",
       "0                    <NA>          0.000157  ...              0.38383   \n",
       "1                   0.215          0.002504  ...             0.151045   \n",
       "2                    <NA>              <NA>  ...                 <NA>   \n",
       "3                    <NA>          0.006556  ...             0.303898   \n",
       "4                    <NA>          0.000602  ...             0.205309   \n",
       "..                    ...               ...  ...                  ...   \n",
       "156                  <NA>           0.00729  ...             0.447972   \n",
       "157                 0.065          0.002321  ...             0.425768   \n",
       "158                  <NA>           0.00199  ...             0.279369   \n",
       "159                  <NA>              <NA>  ...                 <NA>   \n",
       "160                  0.08          0.000115  ...             0.197451   \n",
       "\n",
       "     amplitude_cv_range  sync_spike_2  sync_spike_4  sync_spike_8  \\\n",
       "0              0.280381      0.031962             0             0   \n",
       "1              0.417312      0.045079             0             0   \n",
       "2                  <NA>      0.265306             0             0   \n",
       "3              0.254613      0.036242             0             0   \n",
       "4              0.064368      0.045135             0             0   \n",
       "..                  ...           ...           ...           ...   \n",
       "156            0.168047       0.07799             0             0   \n",
       "157            0.159922      0.012144             0             0   \n",
       "158            0.068709       0.09009             0             0   \n",
       "159                <NA>      0.017804             0             0   \n",
       "160            0.196989       0.01421             0             0   \n",
       "\n",
       "     firing_range  drift_ptp  drift_std  drift_mad  sd_ratio  \n",
       "0            5.62   0.258883   0.101139   0.093107  2.206612  \n",
       "1            3.21   0.999655   0.367169   0.370746  4.774676  \n",
       "2            0.61       <NA>       <NA>       <NA>  2.865849  \n",
       "3            3.21   1.498647    0.63232    0.68667  1.804273  \n",
       "4            2.41   0.430673   0.141879   0.049792  2.419502  \n",
       "..            ...        ...        ...        ...       ...  \n",
       "156          2.24   1.623331   0.357959   0.416724  3.290247  \n",
       "157           9.2   0.795459   0.260955   0.116437  0.961315  \n",
       "158          2.21   0.418698   0.077211   0.177374  2.687851  \n",
       "159          1.01       <NA>       <NA>       <NA>  2.147199  \n",
       "160          7.46   0.631123   0.237027   0.210702  1.365172  \n",
       "\n",
       "[159 rows x 21 columns]"
      ]
     },
     "metadata": {},
     "output_type": "display_data"
    }
   ],
   "source": [
    "display(qm)"
   ]
  },
  {
   "cell_type": "markdown",
   "metadata": {
    "pycharm": {
     "name": "#%% md\n"
    }
   },
   "source": [
    "For more information about these waveform features, we refer to the [SpikeInterface documentation](https://spikeinterface.readthedocs.io/en/latest/module_qualitymetrics.html) and to this excellent [documentation](https://allensdk.readthedocs.io/en/latest/_static/examples/nb/ecephys_quality_metrics.html) from the Allen Institute."
   ]
  },
  {
   "cell_type": "markdown",
   "metadata": {},
   "source": [
    "## Curation"
   ]
  },
  {
   "cell_type": "markdown",
   "metadata": {},
   "source": [
    "Very often Kilosort is finding a unit severals times, which are also called \"duplicate\" units.\n",
    "\n",
    "`spikeinterface` has a convenient function to find and remove these units:"
   ]
  },
  {
   "cell_type": "code",
   "execution_count": 85,
   "metadata": {},
   "outputs": [
    {
     "name": "stdout",
     "output_type": "stream",
     "text": [
      "NumpySorting: 159 units - 1 segments - 30.0kHz\n",
      "UnitsSelectionSorting: 157 units - 1 segments - 30.0kHz\n"
     ]
    }
   ],
   "source": [
    "sorting_clean = si.remove_redundant_units(analyzer)\n",
    "print(analyzer.sorting)\n",
    "print(sorting_clean)"
   ]
  },
  {
   "cell_type": "markdown",
   "metadata": {
    "pycharm": {
     "name": "#%% md\n"
    }
   },
   "source": [
    "### Automatic curation based on quality metrics"
   ]
  },
  {
   "cell_type": "markdown",
   "metadata": {
    "pycharm": {
     "name": "#%% md\n"
    }
   },
   "source": [
    "A viable option to curate (or at least pre-curate) a spike sorting output is to filter units based on quality metrics. As we have already computed quality metrics a few lines above, we can simply filter the `qm` dataframe based on some thresholds.\n",
    "\n",
    "Here, we'll only keep units with an ISI violation threshold < 0.5 and amplitude cutoff < 0.1:"
   ]
  },
  {
   "cell_type": "code",
   "execution_count": 86,
   "metadata": {
    "pycharm": {
     "name": "#%%\n"
    }
   },
   "outputs": [],
   "source": [
    "isi_viol_thresh = 0.5\n",
    "amp_cutoff_thresh = 0.1"
   ]
  },
  {
   "cell_type": "markdown",
   "metadata": {},
   "source": [
    "A straightforward way to filter a pandas dataframe is via the `query`.\n",
    "We first define our query (make sure the names match the column names of the dataframe):"
   ]
  },
  {
   "cell_type": "code",
   "execution_count": 87,
   "metadata": {
    "pycharm": {
     "name": "#%%\n"
    }
   },
   "outputs": [
    {
     "name": "stdout",
     "output_type": "stream",
     "text": [
      "amplitude_cutoff < 0.1 & isi_violations_ratio < 0.5\n"
     ]
    }
   ],
   "source": [
    "our_query = f\"amplitude_cutoff < {amp_cutoff_thresh} & isi_violations_ratio < {isi_viol_thresh}\"\n",
    "print(our_query)"
   ]
  },
  {
   "cell_type": "markdown",
   "metadata": {
    "pycharm": {
     "name": "#%% md\n"
    }
   },
   "source": [
    "and then we can use the query to select units:"
   ]
  },
  {
   "cell_type": "code",
   "execution_count": 89,
   "metadata": {
    "pycharm": {
     "name": "#%%\n"
    }
   },
   "outputs": [
    {
     "data": {
      "text/plain": [
       "array([  1,   8,  10,  11,  13,  17,  21,  50,  65,  77,  96,  98, 106,\n",
       "       111, 118, 137, 139, 144, 145, 148, 157, 160])"
      ]
     },
     "execution_count": 89,
     "metadata": {},
     "output_type": "execute_result"
    }
   ],
   "source": [
    "keep_units = qm.query(our_query)\n",
    "keep_unit_ids = keep_units.index.values\n",
    "keep_unit_ids"
   ]
  },
  {
   "cell_type": "code",
   "execution_count": 90,
   "metadata": {},
   "outputs": [
    {
     "name": "stdout",
     "output_type": "stream",
     "text": [
      "Number of units before curation: 159\n",
      "Number of units after curation: 22\n"
     ]
    }
   ],
   "source": [
    "sorting_auto_KS25 = sorting.select_units(keep_unit_ids)\n",
    "print(f\"Number of units before curation: {len(sorting.get_unit_ids())}\")\n",
    "print(f\"Number of units after curation: {len(sorting_auto_KS25.get_unit_ids())}\")"
   ]
  },
  {
   "cell_type": "markdown",
   "metadata": {},
   "source": [
    "We can also save all the waveforms and post-processed data for curated units in a separate folder:"
   ]
  },
  {
   "cell_type": "code",
   "execution_count": 91,
   "metadata": {},
   "outputs": [
    {
     "data": {
      "text/plain": [
       "SortingAnalyzer: 49 channels - 22 units - 1 segments - memory - sparse - has recording\n",
       "Loaded 12 extensions: random_spikes, waveforms, templates, noise_levels, spike_amplitudes, unit_locations, spike_locations, template_similarity, correlograms, principal_components, template_metrics, quality_metrics"
      ]
     },
     "execution_count": 91,
     "metadata": {},
     "output_type": "execute_result"
    }
   ],
   "source": [
    "analyzer_curated = analyzer.select_units(keep_unit_ids)\n",
    "analyzer_curated"
   ]
  },
  {
   "cell_type": "markdown",
   "metadata": {},
   "source": [
    "## Save the SortingAnalyzer\n",
    "\n",
    "There are two possible formats one can save the `SortingAnalyzer` to: `binary_folder` and `zarr`.\n",
    "\n",
    "Note that the `save_as()` function returns a new `SortingAnalyzer` object, which is now bound to a location on disk.\n",
    "This means that additional extensions can be directly saved to disk."
   ]
  },
  {
   "cell_type": "code",
   "execution_count": null,
   "metadata": {},
   "outputs": [],
   "source": [
    "analyzer_saved = analyzer.save_as(folder=base_folder / \"analyzer_KS25\", format=\"binary_folder\")\n",
    "\n",
    "analyzer_curated_saved = analyzer_curated.save_as(folder=base_folder / \"analyzer_KS25_curated.zarr\", format=\"zarr\")\n",
    "\n",
    "print(analyzer_saved)\n",
    "print(analyzer_curated_saved)"
   ]
  },
  {
   "cell_type": "markdown",
   "metadata": {},
   "source": [
    "We can easily reload a `SortingAnalyzer` later on as follows:"
   ]
  },
  {
   "cell_type": "code",
   "execution_count": null,
   "metadata": {},
   "outputs": [],
   "source": [
    "analyzer_curated = si.load_sorting_analyzer(base_folder / \"analyzer_KS25_curated.zarr\")\n",
    "analyzer_curated"
   ]
  },
  {
   "cell_type": "markdown",
   "metadata": {},
   "source": [
    "# 7. Viewers <a class=\"anchor\" id=\"viewers\"></a>\n"
   ]
  },
  {
   "cell_type": "markdown",
   "metadata": {},
   "source": [
    "### SpikeInterface GUI\n",
    "\n",
    "A QT-based GUI built on top of SpikeInterface objects.\n",
    "\n",
    "Developed by Samuel Garcia, CRNL, Lyon.\n",
    "\n",
    "This can be run directly in a termnal with\n",
    "\n",
    "```bash\n",
    "sigui /path/to/analyzer\n",
    "```\n",
    "\n",
    "or from python"
   ]
  },
  {
   "cell_type": "code",
   "execution_count": 92,
   "metadata": {},
   "outputs": [
    {
     "data": {
      "text/plain": [
       "<spikeinterface.widgets.sorting_summary.SortingSummaryWidget at 0x7d17497b0950>"
      ]
     },
     "execution_count": 92,
     "metadata": {},
     "output_type": "execute_result"
    }
   ],
   "source": [
    "%gui qt\n",
    "si.plot_sorting_summary(analyzer_curated, backend=\"spikeinterface_gui\")"
   ]
  },
  {
   "cell_type": "markdown",
   "metadata": {},
   "source": [
    "### Sorting Summary - SortingView"
   ]
  },
  {
   "cell_type": "markdown",
   "metadata": {},
   "source": [
    "The `sortingview` backend requires an additional step to configure the transfer of the data to be plotted to the cloud. \n",
    "\n",
    "See documentation [here](https://spikeinterface.readthedocs.io/en/latest/module_widgets.html).\n",
    "\n",
    "Developed by Jeremy Magland and Jeff Soules, Flatiron Institute, NYC"
   ]
  },
  {
   "cell_type": "code",
   "execution_count": null,
   "metadata": {},
   "outputs": [],
   "source": [
    "w = si.plot_sorting_summary(analyzer_curated, backend=\"sortingview\", curation=True)"
   ]
  },
  {
   "cell_type": "markdown",
   "metadata": {},
   "source": [
    "https://figurl.org/f?v=npm://@fi-sci/figurl-sortingview@12/dist&d=sha1://25a4806d783177eb246420c416c1139de51503d3"
   ]
  },
  {
   "cell_type": "markdown",
   "metadata": {},
   "source": [
    "# 9. Spike sorting comparison <a class=\"anchor\" id=\"comparison\"></a>"
   ]
  },
  {
   "cell_type": "markdown",
   "metadata": {},
   "source": [
    "Do the outputs of different sorters agree with each other?\n",
    "\n",
    "To answer this question we can use the `comparison` module."
   ]
  },
  {
   "cell_type": "markdown",
   "metadata": {},
   "source": [
    "### Compare two sorters"
   ]
  },
  {
   "cell_type": "code",
   "execution_count": null,
   "metadata": {},
   "outputs": [],
   "source": [
    "comp_KS2_KS25 = si.compare_two_sorters(sorting_KS2, sorting_KS25, 'KS2', 'KS25')"
   ]
  },
  {
   "cell_type": "code",
   "execution_count": null,
   "metadata": {},
   "outputs": [],
   "source": [
    "w = si.plot_agreement_matrix(comp_KS2_KS25)"
   ]
  },
  {
   "cell_type": "markdown",
   "metadata": {},
   "source": [
    "### Compare multiple sorters"
   ]
  },
  {
   "cell_type": "code",
   "execution_count": null,
   "metadata": {},
   "outputs": [],
   "source": [
    "si.compare_multiple_sorters?"
   ]
  },
  {
   "cell_type": "code",
   "execution_count": null,
   "metadata": {},
   "outputs": [],
   "source": [
    "multi_comp = si.compare_multiple_sorters(\n",
    "    sorting_list=[sorting_KS2, sorting_KS25, sorting_KS4],\n",
    "    name_list=['KS2', 'KS25', 'KS4'],\n",
    "    spiketrain_mode='union',\n",
    "    verbose=True\n",
    ")"
   ]
  },
  {
   "cell_type": "code",
   "execution_count": null,
   "metadata": {},
   "outputs": [],
   "source": [
    "w = si.plot_multicomparison_agreement(multi_comp)\n",
    "w = si.plot_multicomparison_agreement_by_sorter(multi_comp)"
   ]
  },
  {
   "cell_type": "markdown",
   "metadata": {
    "pycharm": {
     "name": "#%% md\n"
    }
   },
   "source": [
    "# 10. Exporters <a class=\"anchor\" id=\"exporters\"></a>"
   ]
  },
  {
   "cell_type": "markdown",
   "metadata": {
    "pycharm": {
     "name": "#%% md\n"
    }
   },
   "source": [
    "## Export to Phy for manual curation\n",
    "\n",
    "To perform manual curation we can also export the data to [Phy](https://github.com/cortex-lab/phy):"
   ]
  },
  {
   "cell_type": "markdown",
   "metadata": {
    "pycharm": {
     "name": "#%%\n"
    }
   },
   "source": [
    "```python\n",
    "si.export_to_phy(analyzer, output_folder=base_folder / 'phy_KS25', \n",
    "                   compute_amplitudes=False, compute_pc_features=False, copy_binary=False,\n",
    "                   )\n",
    "```"
   ]
  },
  {
   "cell_type": "markdown",
   "metadata": {
    "pycharm": {
     "name": "#%% md\n"
    }
   },
   "source": [
    "After curating the results we can reload it using the `read_phy` and exclude the units that we labeled as `noise`:"
   ]
  },
  {
   "cell_type": "markdown",
   "metadata": {},
   "source": [
    "```python\n",
    "sorting_phy_curated = si.read_phy(base_folder / 'phy_KS25/', exclude_cluster_groups=['noise'])\n",
    "```"
   ]
  },
  {
   "cell_type": "markdown",
   "metadata": {},
   "source": [
    "## Export a \"spike sorting\" report to a folder\n",
    "\n",
    "This export function creates a bunch figures figures that summarize the sorting results:"
   ]
  },
  {
   "cell_type": "code",
   "execution_count": null,
   "metadata": {},
   "outputs": [],
   "source": [
    "si.export_report(analyzer_curated, output_folder=base_folder / 'report_KS25_curated')"
   ]
  },
  {
   "cell_type": "markdown",
   "metadata": {},
   "source": [
    "### Et voilà!"
   ]
  },
  {
   "cell_type": "code",
   "execution_count": null,
   "metadata": {},
   "outputs": [],
   "source": []
  }
 ],
 "metadata": {
  "kernelspec": {
   "display_name": "py3.12",
   "language": "python",
   "name": "python3"
  },
  "language_info": {
   "codemirror_mode": {
    "name": "ipython",
    "version": 3
   },
   "file_extension": ".py",
   "mimetype": "text/x-python",
   "name": "python",
   "nbconvert_exporter": "python",
   "pygments_lexer": "ipython3",
   "version": "3.12.3"
  },
  "pycharm": {
   "stem_cell": {
    "cell_type": "raw",
    "metadata": {
     "collapsed": false
    },
    "source": []
   }
  }
 },
 "nbformat": 4,
 "nbformat_minor": 4
}
