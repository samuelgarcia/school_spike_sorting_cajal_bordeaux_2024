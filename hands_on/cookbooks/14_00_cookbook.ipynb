{
 "cells": [
  {
   "cell_type": "markdown",
   "metadata": {},
   "source": [
    "# Spikeinterface Cookbook\n"
   ]
  },
  {
   "cell_type": "code",
   "execution_count": 1,
   "metadata": {},
   "outputs": [],
   "source": [
    "import warnings\n",
    "warnings.filterwarnings('ignore', category=DeprecationWarning)"
   ]
  },
  {
   "cell_type": "markdown",
   "metadata": {},
   "source": [
    "## Playing with Recording and Sorting objects"
   ]
  },
  {
   "cell_type": "markdown",
   "metadata": {},
   "source": [
    "#### Generate synthetic data"
   ]
  },
  {
   "cell_type": "code",
   "execution_count": 5,
   "metadata": {},
   "outputs": [
    {
     "data": {
      "text/html": [
       "<div style='border:1px solid #ddd; padding:10px;'><strong>SyntheticRecording: 3 channels - 30.0kHz - 1 segments - 300,000 samples - 10.00s - float32 dtype - 3.43 MiB</strong></div><details style='margin-left: 10px;'>  <summary><strong>Channel IDs</strong></summary><ul>[0 1 2] </details><details style='margin-left: 10px;'>  <summary><strong>Annotations</strong></summary><ul><li> <strong> is_filtered </strong>: True</li><li> <strong> probe_0_planar_contour </strong>: [[ -25.   65.]\n",
       " [ -25.  -25.]\n",
       " [   0. -125.]\n",
       " [  25.  -25.]\n",
       " [  25.   65.]]</li><li> <strong> probes_info </strong>: [{}]</li><li> <strong> name </strong>: SyntheticRecording</li></ul> </details><details style='margin-left: 10px;'><summary><strong>Channel Properties</strong></summary><ul><details><summary> <strong> contact_vector </strong> </summary>[(0, 0.,  0., 'circle', 6., '', '0', 0, 'um', 1., 0., 0., 1.)\n",
       " (0, 0., 20., 'circle', 6., '', '1', 1, 'um', 1., 0., 0., 1.)\n",
       " (0, 0., 40., 'circle', 6., '', '2', 2, 'um', 1., 0., 0., 1.)]</details><details><summary> <strong> location </strong> </summary>[[ 0.  0.]\n",
       " [ 0. 20.]\n",
       " [ 0. 40.]]</details><details><summary> <strong> group </strong> </summary>[0 0 0]</details></ul></details>"
      ],
      "text/plain": [
       "SyntheticRecording: 3 channels - 30.0kHz - 1 segments - 300,000 samples - 10.00s - float32 dtype \n",
       "                    3.43 MiB"
      ]
     },
     "execution_count": 5,
     "metadata": {},
     "output_type": "execute_result"
    }
   ],
   "source": [
    "from spikeinterface.core import generate_recording \n",
    "\n",
    "recording = generate_recording(num_channels=3, durations=[10])\n",
    "recording"
   ]
  },
  {
   "cell_type": "code",
   "execution_count": 7,
   "metadata": {},
   "outputs": [
    {
     "data": {
      "text/html": [
       "<div style='border:1px solid #ddd; padding:10px;'><strong>NumpySorting: 3 units - 1 segments - 30.0kHz</strong></div><details style='margin-left: 10px;'>  <summary><strong>Unit IDs</strong></summary><ul>[0 1 2] </details><details style='margin-left: 10px;'>  <summary><strong>Annotations</strong></summary><ul></details><details style='margin-left: 10px;'><summary><strong>Unit Properties</strong></summary><ul></ul></details>"
      ],
      "text/plain": [
       "NumpySorting: 3 units - 1 segments - 30.0kHz"
      ]
     },
     "execution_count": 7,
     "metadata": {},
     "output_type": "execute_result"
    }
   ],
   "source": [
    "from spikeinterface.core import generate_sorting \n",
    "\n",
    "sorting = generate_sorting(num_units=3, durations=[10])\n",
    "sorting"
   ]
  },
  {
   "cell_type": "markdown",
   "metadata": {},
   "source": [
    "#### Setting channel names and unit IDs"
   ]
  },
  {
   "cell_type": "code",
   "execution_count": 10,
   "metadata": {},
   "outputs": [
    {
     "data": {
      "text/html": [
       "<div style='border:1px solid #ddd; padding:10px;'><strong>SyntheticRecording: 3 channels - 30.0kHz - 1 segments - 300,000 samples - 10.00s - float32 dtype - 3.43 MiB</strong></div><details style='margin-left: 10px;'>  <summary><strong>Channel IDs</strong></summary><ul>['a' 'b' 'c'] </details><details style='margin-left: 10px;'>  <summary><strong>Annotations</strong></summary><ul><li> <strong> is_filtered </strong>: True</li><li> <strong> probe_0_planar_contour </strong>: [[ -25.   65.]\n",
       " [ -25.  -25.]\n",
       " [   0. -125.]\n",
       " [  25.  -25.]\n",
       " [  25.   65.]]</li><li> <strong> probes_info </strong>: [{}]</li><li> <strong> name </strong>: SyntheticRecording</li></ul> </details><details style='margin-left: 10px;'><summary><strong>Channel Properties</strong></summary><ul><details><summary> <strong> contact_vector </strong> </summary>[(0, 0.,  0., 'circle', 6., '', '0', 0, 'um', 1., 0., 0., 1.)\n",
       " (0, 0., 20., 'circle', 6., '', '1', 1, 'um', 1., 0., 0., 1.)\n",
       " (0, 0., 40., 'circle', 6., '', '2', 2, 'um', 1., 0., 0., 1.)]</details><details><summary> <strong> location </strong> </summary>[[ 0.  0.]\n",
       " [ 0. 20.]\n",
       " [ 0. 40.]]</details><details><summary> <strong> group </strong> </summary>[0 0 0]</details></ul></details>"
      ],
      "text/plain": [
       "SyntheticRecording: 3 channels - 30.0kHz - 1 segments - 300,000 samples - 10.00s - float32 dtype \n",
       "                    3.43 MiB"
      ]
     },
     "execution_count": 10,
     "metadata": {},
     "output_type": "execute_result"
    }
   ],
   "source": [
    "recording = recording.rename_channels(new_channel_ids=[\"a\", \"b\", \"c\"])  # This is not in-place\n",
    "recording.get_channel_ids()\n",
    "recording"
   ]
  },
  {
   "cell_type": "code",
   "execution_count": 12,
   "metadata": {},
   "outputs": [
    {
     "data": {
      "text/plain": [
       "array(['unit1', 'unit2', 'unit3'], dtype='<U5')"
      ]
     },
     "execution_count": 12,
     "metadata": {},
     "output_type": "execute_result"
    }
   ],
   "source": [
    "sorting = sorting.rename_units(new_unit_ids=[\"unit1\", \"unit2\", \"unit3\"])  # This is not in-place\n",
    "sorting.get_unit_ids()"
   ]
  },
  {
   "cell_type": "markdown",
   "metadata": {},
   "source": [
    "### Slicing a Recording and Sorting Objects"
   ]
  },
  {
   "cell_type": "markdown",
   "metadata": {},
   "source": [
    "#### Channels"
   ]
  },
  {
   "cell_type": "code",
   "execution_count": 13,
   "metadata": {},
   "outputs": [
    {
     "data": {
      "text/html": [
       "<div style='border:1px solid #ddd; padding:10px;'><strong>SyntheticRecording: 2 channels - 30.0kHz - 1 segments - 300,000 samples - 10.00s - float32 dtype - 2.29 MiB</strong></div><details style='margin-left: 10px;'>  <summary><strong>Channel IDs</strong></summary><ul>['a' 'b'] </details><details style='margin-left: 10px;'>  <summary><strong>Annotations</strong></summary><ul><li> <strong> is_filtered </strong>: True</li><li> <strong> probe_0_planar_contour </strong>: [[ -25.   65.]\n",
       " [ -25.  -25.]\n",
       " [   0. -125.]\n",
       " [  25.  -25.]\n",
       " [  25.   65.]]</li><li> <strong> probes_info </strong>: [{}]</li><li> <strong> name </strong>: SyntheticRecording</li></ul> </details><details style='margin-left: 10px;'><summary><strong>Channel Properties</strong></summary><ul><details><summary> <strong> contact_vector </strong> </summary>[(0, 0.,  0., 'circle', 6., '', '0', 0, 'um', 1., 0., 0., 1.)\n",
       " (0, 0., 20., 'circle', 6., '', '1', 1, 'um', 1., 0., 0., 1.)]</details><details><summary> <strong> location </strong> </summary>[[ 0.  0.]\n",
       " [ 0. 20.]]</details><details><summary> <strong> group </strong> </summary>[0 0]</details></ul></details>"
      ],
      "text/plain": [
       "SyntheticRecording: 2 channels - 30.0kHz - 1 segments - 300,000 samples - 10.00s - float32 dtype \n",
       "                    2.29 MiB"
      ]
     },
     "execution_count": 13,
     "metadata": {},
     "output_type": "execute_result"
    }
   ],
   "source": [
    "channel_sliced_recording = recording.select_channels(channel_ids=[\"a\", \"b\"])\n",
    "channel_sliced_recording"
   ]
  },
  {
   "cell_type": "markdown",
   "metadata": {},
   "source": [
    "#### Units"
   ]
  },
  {
   "cell_type": "code",
   "execution_count": 15,
   "metadata": {},
   "outputs": [
    {
     "data": {
      "text/html": [
       "<div style='border:1px solid #ddd; padding:10px;'><strong>UnitsSelectionSorting: 2 units - 1 segments - 30.0kHz</strong></div><details style='margin-left: 10px;'>  <summary><strong>Unit IDs</strong></summary><ul>['unit1' 'unit2'] </details><details style='margin-left: 10px;'>  <summary><strong>Annotations</strong></summary><ul></details><details style='margin-left: 10px;'><summary><strong>Unit Properties</strong></summary><ul></ul></details>"
      ],
      "text/plain": [
       "UnitsSelectionSorting: 2 units - 1 segments - 30.0kHz"
      ]
     },
     "execution_count": 15,
     "metadata": {},
     "output_type": "execute_result"
    }
   ],
   "source": [
    "unit_selected_sorting = sorting.select_units(unit_ids=[\"unit1\", \"unit2\"])\n",
    "unit_selected_sorting"
   ]
  },
  {
   "cell_type": "markdown",
   "metadata": {},
   "source": [
    "### Frames / Time"
   ]
  },
  {
   "cell_type": "code",
   "execution_count": 17,
   "metadata": {},
   "outputs": [
    {
     "data": {
      "text/html": [
       "<div style='border:1px solid #ddd; padding:10px;'><strong>SyntheticRecording: 3 channels - 30.0kHz - 1 segments - 1,000 samples - 0.03s (33.33 ms) - float32 dtype - 11.72 KiB</strong></div><details style='margin-left: 10px;'>  <summary><strong>Channel IDs</strong></summary><ul>['a' 'b' 'c'] </details><details style='margin-left: 10px;'>  <summary><strong>Annotations</strong></summary><ul><li> <strong> is_filtered </strong>: True</li><li> <strong> probe_0_planar_contour </strong>: [[ -25.   65.]\n",
       " [ -25.  -25.]\n",
       " [   0. -125.]\n",
       " [  25.  -25.]\n",
       " [  25.   65.]]</li><li> <strong> probes_info </strong>: [{}]</li><li> <strong> name </strong>: SyntheticRecording</li></ul> </details><details style='margin-left: 10px;'><summary><strong>Channel Properties</strong></summary><ul><details><summary> <strong> contact_vector </strong> </summary>[(0, 0.,  0., 'circle', 6., '', '0', 0, 'um', 1., 0., 0., 1.)\n",
       " (0, 0., 20., 'circle', 6., '', '1', 1, 'um', 1., 0., 0., 1.)\n",
       " (0, 0., 40., 'circle', 6., '', '2', 2, 'um', 1., 0., 0., 1.)]</details><details><summary> <strong> location </strong> </summary>[[ 0.  0.]\n",
       " [ 0. 20.]\n",
       " [ 0. 40.]]</details><details><summary> <strong> group </strong> </summary>[0 0 0]</details></ul></details>"
      ],
      "text/plain": [
       "SyntheticRecording: 3 channels - 30.0kHz - 1 segments - 1,000 samples - 0.03s (33.33 ms) \n",
       "                    float32 dtype - 11.72 KiB"
      ]
     },
     "execution_count": 17,
     "metadata": {},
     "output_type": "execute_result"
    }
   ],
   "source": [
    "sliced_recording = recording.frame_slice(start_frame=0, end_frame=1000)\n",
    "sliced_recording"
   ]
  },
  {
   "cell_type": "code",
   "execution_count": 18,
   "metadata": {},
   "outputs": [
    {
     "data": {
      "text/html": [
       "<div style='border:1px solid #ddd; padding:10px;'><strong>FrameSliceSorting: 3 units - 1 segments - 30.0kHz</strong></div><details style='margin-left: 10px;'>  <summary><strong>Unit IDs</strong></summary><ul>['unit1' 'unit2' 'unit3'] </details><details style='margin-left: 10px;'>  <summary><strong>Annotations</strong></summary><ul></details><details style='margin-left: 10px;'><summary><strong>Unit Properties</strong></summary><ul></ul></details>"
      ],
      "text/plain": [
       "FrameSliceSorting: 3 units - 1 segments - 30.0kHz"
      ]
     },
     "execution_count": 18,
     "metadata": {},
     "output_type": "execute_result"
    }
   ],
   "source": [
    "sliced_sorting = sorting.frame_slice(start_frame=0, end_frame=1000)\n",
    "sliced_sorting"
   ]
  },
  {
   "cell_type": "markdown",
   "metadata": {},
   "source": [
    "### Combining recordings"
   ]
  },
  {
   "cell_type": "markdown",
   "metadata": {},
   "source": [
    "#### Concatenating recordings (across time)"
   ]
  },
  {
   "cell_type": "code",
   "execution_count": 22,
   "metadata": {},
   "outputs": [
    {
     "name": "stdout",
     "output_type": "stream",
     "text": [
      "SyntheticRecording: 3 channels - 30.0kHz - 1 segments - 300,000 samples - 10.00s - float32 dtype \n",
      "                    3.43 MiB\n",
      "SyntheticRecording: 3 channels - 30.0kHz - 1 segments - 300,000 samples - 10.00s - float32 dtype \n",
      "                    3.43 MiB\n",
      "SyntheticRecording: 3 channels - 30.0kHz - 1 segments - 600,000 samples - 20.00s - float32 dtype \n",
      "                    6.87 MiB\n"
     ]
    }
   ],
   "source": [
    "from spikeinterface.core import concatenate_recordings\n",
    "\n",
    "recording1 = generate_recording(num_channels=3, durations=[10])\n",
    "recording2 = generate_recording(num_channels=3, durations=[10])\n",
    "\n",
    "concanted_recordings = concatenate_recordings([recording1, recording2])\n",
    "\n",
    "assert concanted_recordings.get_duration() == recording1.get_duration()  + recording2.get_duration()\n",
    "\n",
    "print(recording1)\n",
    "print(recording2)\n",
    "print(concanted_recordings)"
   ]
  },
  {
   "cell_type": "code",
   "execution_count": null,
   "metadata": {},
   "outputs": [],
   "source": []
  },
  {
   "cell_type": "markdown",
   "metadata": {},
   "source": [
    "#### Aggregating channels to a single recording"
   ]
  },
  {
   "cell_type": "code",
   "execution_count": 25,
   "metadata": {},
   "outputs": [
    {
     "data": {
      "text/html": [
       "<div style='border:1px solid #ddd; padding:10px;'><strong>ChannelsAggregationRecording: 5 channels - 30.0kHz - 1 segments - 300,000 samples - 10.00s - float32 dtype - 5.72 MiB</strong></div><details style='margin-left: 10px;'>  <summary><strong>Channel IDs</strong></summary><ul>['a' 'b' 'c' 'd' 'e'] </details><details style='margin-left: 10px;'>  <summary><strong>Annotations</strong></summary><ul><li> <strong> is_filtered </strong>: False</li></ul> </details><details style='margin-left: 10px;'><summary><strong>Channel Properties</strong></summary><ul></ul></details>"
      ],
      "text/plain": [
       "ChannelsAggregationRecording: 5 channels - 30.0kHz - 1 segments - 300,000 samples - 10.00s \n",
       "                              float32 dtype - 5.72 MiB"
      ]
     },
     "execution_count": 25,
     "metadata": {},
     "output_type": "execute_result"
    }
   ],
   "source": [
    "from spikeinterface.core import aggregate_channels\n",
    "\n",
    "recording1 = generate_recording(num_channels=3, durations=[10], set_probe=False)  # To avoid location check\n",
    "recording1 = recording1.rename_channels(new_channel_ids=[\"a\", \"b\", \"c\"])\n",
    "recording2 = generate_recording(num_channels=2, durations=[10], set_probe=False)  \n",
    "recording2 = recording2.rename_channels(new_channel_ids=[\"d\", \"e\"])\n",
    "\n",
    "aggregated_recording = aggregate_channels([recording1, recording2])  \n",
    "assert aggregated_recording.get_num_channels() == 5\n",
    "assert list(aggregated_recording.get_channel_ids()) == ['a', 'b', 'c', 'd', 'e']  # Failing right now\n",
    "aggregated_recording"
   ]
  },
  {
   "cell_type": "markdown",
   "metadata": {},
   "source": [
    "### Summary of operations\n",
    "\n",
    "\n",
    "\n",
    "\n",
    "![Recording Operations](./recording_operations.png)\n"
   ]
  },
  {
   "cell_type": "markdown",
   "metadata": {},
   "source": [
    "## Parallel Processing"
   ]
  },
  {
   "cell_type": "markdown",
   "metadata": {},
   "source": [
    "### What do we parallelize over\n",
    "\n",
    "![Chuking Description](./parallel_processing.png)"
   ]
  },
  {
   "cell_type": "markdown",
   "metadata": {},
   "source": [
    "### Parameters to control paralell execution "
   ]
  },
  {
   "cell_type": "markdown",
   "metadata": {},
   "source": [
    "* lenght of the chunk\n",
    "    * chunk_duration :  Lenght of the chunk in seconds\n",
    "    * chunk_size: Number of samples per chunk\n",
    "    * chunk_memory: Memory usage for each job\n",
    "    * total_memory Total memory usage \n",
    "* n_jobs: Number of jobs to use. With -1 the number of jobs is the same as number of cores\n",
    "* progress_bar: Whether to show a progress bar\n",
    "* mp_context: fork, span or forkserver"
   ]
  },
  {
   "cell_type": "code",
   "execution_count": 31,
   "metadata": {},
   "outputs": [
    {
     "data": {
      "application/vnd.jupyter.widget-view+json": {
       "model_id": "e349c58a3bf94bbda995fd1032f79a7c",
       "version_major": 2,
       "version_minor": 0
      },
      "text/plain": [
       "write_binary_recording:   0%|          | 0/2 [00:00<?, ?it/s]"
      ]
     },
     "metadata": {},
     "output_type": "display_data"
    }
   ],
   "source": [
    "from spikeinterface.core import generate_recording, write_binary_recording\n",
    "import tempfile\n",
    "\n",
    "recording = generate_recording(num_channels=3, durations=[10])\n",
    "\n",
    "\n",
    "job_kwargs = {\"n_jobs\":2, \"chunk_duration\": 5.0, \"progress_bar\": 1, 'progress_bar': True}\n",
    "\n",
    "\n",
    "with tempfile.NamedTemporaryFile(suffix='.raw', delete=False) as temp_file:\n",
    "    temporary_file_path = temp_file.name\n",
    "    write_binary_recording(recording=recording, file_paths=[temporary_file_path], **job_kwargs)\n",
    "\n"
   ]
  },
  {
   "cell_type": "markdown",
   "metadata": {},
   "source": [
    "![job_kwargs](./job_kwargs.png)"
   ]
  },
  {
   "cell_type": "markdown",
   "metadata": {},
   "source": [
    "### Setting global job_kwargs"
   ]
  },
  {
   "cell_type": "code",
   "execution_count": 36,
   "metadata": {},
   "outputs": [
    {
     "name": "stdout",
     "output_type": "stream",
     "text": [
      "{'n_jobs': 2, 'chunk_duration': 5.0, 'progress_bar': True, 'mp_context': None, 'max_threads_per_process': 1}\n"
     ]
    },
    {
     "data": {
      "application/vnd.jupyter.widget-view+json": {
       "model_id": "cdf48ab29ad345deb2a0bfeff7e1db76",
       "version_major": 2,
       "version_minor": 0
      },
      "text/plain": [
       "write_binary_recording:   0%|          | 0/2 [00:00<?, ?it/s]"
      ]
     },
     "metadata": {},
     "output_type": "display_data"
    },
    {
     "data": {
      "application/vnd.jupyter.widget-view+json": {
       "model_id": "424153930f6741f887deb13ca7fa3d82",
       "version_major": 2,
       "version_minor": 0
      },
      "text/plain": [
       "write_binary_recording:   0%|          | 0/2 [00:00<?, ?it/s]"
      ]
     },
     "metadata": {},
     "output_type": "display_data"
    }
   ],
   "source": [
    "from spikeinterface import set_global_job_kwargs, get_global_job_kwargs\n",
    "from spikeinterface.core import generate_recording, write_binary_recording\n",
    "import tempfile\n",
    "\n",
    "recording = generate_recording(num_channels=3, durations=[10])\n",
    "\n",
    "\n",
    "print(get_global_job_kwargs())\n",
    "\n",
    "with tempfile.NamedTemporaryFile(suffix='.raw', delete=False) as temp_file:\n",
    "    temporary_file_path = temp_file.name\n",
    "    write_binary_recording(recording=recording, file_paths=[temporary_file_path])\n",
    "\n",
    "\n",
    "set_global_job_kwargs(n_jobs=2, chunk_duration=5.0, progress_bar=True)\n",
    "\n",
    "with tempfile.NamedTemporaryFile(suffix='.raw', delete=False) as temp_file:\n",
    "    temporary_file_path = temp_file.name\n",
    "    write_binary_recording(recording=recording, file_paths=[temporary_file_path])\n",
    "\n",
    "\n"
   ]
  },
  {
   "cell_type": "markdown",
   "metadata": {},
   "source": [
    "Stop to mentioned cautionary tales:\n",
    "* Performance is highly dependent on the data, operations and the hardware.\n",
    "* The best way to optimize is to try different configurations and see what works best for your data and hardware.\n",
    "* Threading vs multiprocessing: Threading is generally faster for I/O bound tasks, while multiprocessing is better for CPU bound tasks.\n",
    "* Anything to add?"
   ]
  },
  {
   "cell_type": "markdown",
   "metadata": {},
   "source": [
    "## Saving Recording and Sorting Objects"
   ]
  },
  {
   "cell_type": "markdown",
   "metadata": {},
   "source": [
    "### Binary format"
   ]
  },
  {
   "cell_type": "markdown",
   "metadata": {},
   "source": [
    "#### Recording"
   ]
  },
  {
   "cell_type": "code",
   "execution_count": 37,
   "metadata": {},
   "outputs": [
    {
     "name": "stdout",
     "output_type": "stream",
     "text": [
      "write_binary_recording \n",
      "n_jobs=2 - samples_per_chunk=150,000 - chunk_memory=1.72 MiB - total_memory=3.43 MiB - chunk_duration=5.00s\n"
     ]
    },
    {
     "data": {
      "application/vnd.jupyter.widget-view+json": {
       "model_id": "c292c6e5f7264b60b990ac37b8d749d6",
       "version_major": 2,
       "version_minor": 0
      },
      "text/plain": [
       "write_binary_recording:   0%|          | 0/2 [00:00<?, ?it/s]"
      ]
     },
     "metadata": {},
     "output_type": "display_data"
    },
    {
     "data": {
      "text/html": [
       "<div style='border:1px solid #ddd; padding:10px;'><strong>SyntheticRecording: 3 channels - 30.0kHz - 1 segments - 300,000 samples - 10.00s - float32 dtype - 3.43 MiB</strong></div><details style='margin-left: 10px;'>  <summary><strong>Channel IDs</strong></summary><ul>['a' 'b' 'c'] </details><details style='margin-left: 10px;'>  <summary><strong>Annotations</strong></summary><ul><li> <strong> is_filtered </strong>: True</li><li> <strong> probe_0_planar_contour </strong>: [[ -25.   65.]\n",
       " [ -25.  -25.]\n",
       " [   0. -125.]\n",
       " [  25.  -25.]\n",
       " [  25.   65.]]</li><li> <strong> probes_info </strong>: [{}]</li><li> <strong> name </strong>: SyntheticRecording</li></ul> </details><details style='margin-left: 10px;'><summary><strong>Channel Properties</strong></summary><ul><details><summary> <strong> contact_vector </strong> </summary>[(0, 0.,  0., 'circle', 6., '', '0', 0, 'um', 1., 0., 0., 1.)\n",
       " (0, 0., 20., 'circle', 6., '', '1', 1, 'um', 1., 0., 0., 1.)\n",
       " (0, 0., 40., 'circle', 6., '', '2', 2, 'um', 1., 0., 0., 1.)]</details><details><summary> <strong> location </strong> </summary>[[ 0.  0.]\n",
       " [ 0. 20.]\n",
       " [ 0. 40.]]</details><details><summary> <strong> group </strong> </summary>[0 0 0]</details><details><summary> <strong> a_property </strong> </summary>['value1' 'value2' 'value3']</details></ul></details>"
      ],
      "text/plain": [
       "SyntheticRecording: 3 channels - 30.0kHz - 1 segments - 300,000 samples - 10.00s - float32 dtype \n",
       "                    3.43 MiB"
      ]
     },
     "execution_count": 37,
     "metadata": {},
     "output_type": "execute_result"
    }
   ],
   "source": [
    "from pathlib import Path\n",
    "from spikeinterface.core import generate_recording\n",
    "\n",
    "recording = generate_recording(num_channels=3, durations=[10], set_probe=True)\n",
    "recording = recording.rename_channels(new_channel_ids=[\"a\", \"b\", \"c\"])  # This is not in-place\n",
    "recording.set_property(\"a_property\", [\"value1\", \"value2\", \"value3\"])  # This is in place\n",
    "\n",
    "\n",
    "\n",
    "job_kwargs={'progress_bar': True, \"verbose\":True, \"n_jobs\":2}\n",
    "\n",
    "folder_path = Path(\"./test_recording\")\n",
    "\n",
    "\n",
    "binary_recording = recording.save_to_folder(folder=folder_path,  overwrite=True, **job_kwargs)   \n",
    "binary_recording"
   ]
  },
  {
   "cell_type": "markdown",
   "metadata": {},
   "source": [
    "#### Sorting"
   ]
  },
  {
   "cell_type": "code",
   "execution_count": 39,
   "metadata": {},
   "outputs": [
    {
     "data": {
      "text/html": [
       "<div style='border:1px solid #ddd; padding:10px;'><strong>NumpyFolder: 3 units - 1 segments - 30.0kHz</strong></div><details style='margin-left: 10px;'>  <summary><strong>Unit IDs</strong></summary><ul>['unit1' 'unit2' 'unit3'] </details><details style='margin-left: 10px;'>  <summary><strong>Annotations</strong></summary><ul></details><details style='margin-left: 10px;'><summary><strong>Unit Properties</strong></summary><ul><details><summary><strong>a_property</strong></summary>['value1' 'value2' 'value3']</details></ul></details>"
      ],
      "text/plain": [
       "NumpyFolder: 3 units - 1 segments - 30.0kHz"
      ]
     },
     "execution_count": 39,
     "metadata": {},
     "output_type": "execute_result"
    }
   ],
   "source": [
    "from pathlib import Path\n",
    "from spikeinterface.core import generate_sorting\n",
    "\n",
    "sorting = generate_sorting(num_units=3, durations=[10])\n",
    "sorting = sorting.rename_units(new_unit_ids=[\"unit1\", \"unit2\", \"unit3\"])  # This is not in-place\n",
    "\n",
    "sorting.set_property(\"a_property\", [\"value1\", \"value2\", \"value3\"])  # This is in place\n",
    "\n",
    "\n",
    "folder_path = Path(\"./test_sorting\")\n",
    "\n",
    "job_kwargs={'progress_bar': True, \"verbose\":True, \"n_jobs\":2}\n",
    "binary_sorting = sorting.save_to_folder(folder=folder_path,  overwrite=True, **job_kwargs)   \n",
    "binary_sorting\n"
   ]
  },
  {
   "cell_type": "code",
   "execution_count": 40,
   "metadata": {},
   "outputs": [
    {
     "data": {
      "text/html": [
       "<div style='border:1px solid #ddd; padding:10px;'><strong>UnitsSelectionSorting: 3 units - 1 segments - 30.0kHz</strong></div><details style='margin-left: 10px;'>  <summary><strong>Unit IDs</strong></summary><ul>['unit1' 'unit2' 'unit3'] </details><details style='margin-left: 10px;'>  <summary><strong>Annotations</strong></summary><ul></details><details style='margin-left: 10px;'><summary><strong>Unit Properties</strong></summary><ul><details><summary><strong>a_property</strong></summary>['value1' 'value2' 'value3']</details></ul></details>"
      ],
      "text/plain": [
       "UnitsSelectionSorting: 3 units - 1 segments - 30.0kHz"
      ]
     },
     "execution_count": 40,
     "metadata": {},
     "output_type": "execute_result"
    }
   ],
   "source": [
    "sorting"
   ]
  },
  {
   "cell_type": "markdown",
   "metadata": {},
   "source": [
    "### Zarr format"
   ]
  },
  {
   "cell_type": "markdown",
   "metadata": {},
   "source": [
    "#### Recording"
   ]
  },
  {
   "cell_type": "code",
   "execution_count": 43,
   "metadata": {},
   "outputs": [
    {
     "name": "stdout",
     "output_type": "stream",
     "text": [
      "write_zarr_recording \n",
      "n_jobs=2 - samples_per_chunk=150,000 - chunk_memory=1.72 MiB - total_memory=3.43 MiB - chunk_duration=5.00s\n"
     ]
    },
    {
     "data": {
      "application/vnd.jupyter.widget-view+json": {
       "model_id": "e786bd8c92a2467cb860942093fbae4b",
       "version_major": 2,
       "version_minor": 0
      },
      "text/plain": [
       "write_zarr_recording:   0%|          | 0/2 [00:00<?, ?it/s]"
      ]
     },
     "metadata": {},
     "output_type": "display_data"
    },
    {
     "data": {
      "text/html": [
       "<div style='border:1px solid #ddd; padding:10px;'><strong>SyntheticRecording: 3 channels - 30.0kHz - 1 segments - 300,000 samples - 10.00s - float32 dtype - 3.43 MiB</strong></div><details style='margin-left: 10px;'>  <summary><strong>Channel IDs</strong></summary><ul>['a' 'b' 'c'] </details><details style='margin-left: 10px;'>  <summary><strong>Annotations</strong></summary><ul><li> <strong> is_filtered </strong>: True</li><li> <strong> probe_0_planar_contour </strong>: [[-25.0, 65.0], [-25.0, -25.0], [0.0, -125.0], [25.0, -25.0], [25.0, 65.0]]</li><li> <strong> probes_info </strong>: [{}]</li><li> <strong> name </strong>: SyntheticRecording</li><li> <strong> compression_ratio </strong>: 1.1369938640231139</li><li> <strong> compression_ratio_segments </strong>: {0: 1.1369938640231139}</li></ul> </details><details style='margin-left: 10px;'><summary><strong>Channel Properties</strong></summary><ul><details><summary> <strong> contact_vector </strong> </summary>[(0, 0.,  0., 'circle', 6., '', '0', 0, 'um', 1., 0., 0., 1.)\n",
       " (0, 0., 20., 'circle', 6., '', '1', 1, 'um', 1., 0., 0., 1.)\n",
       " (0, 0., 40., 'circle', 6., '', '2', 2, 'um', 1., 0., 0., 1.)]</details><details><summary> <strong> location </strong> </summary>[[ 0.  0.]\n",
       " [ 0. 20.]\n",
       " [ 0. 40.]]</details><details><summary> <strong> group </strong> </summary>[0 0 0]</details><details><summary> <strong> a_property </strong> </summary>['value1' 'value2' 'value3']</details></ul></details>"
      ],
      "text/plain": [
       "SyntheticRecording: 3 channels - 30.0kHz - 1 segments - 300,000 samples - 10.00s - float32 dtype \n",
       "                    3.43 MiB"
      ]
     },
     "execution_count": 43,
     "metadata": {},
     "output_type": "execute_result"
    }
   ],
   "source": [
    "from pathlib import Path\n",
    "from spikeinterface.core import generate_recording\n",
    "\n",
    "recording = generate_recording(num_channels=3, durations=[10], set_probe=True)\n",
    "recording = recording.rename_channels(new_channel_ids=[\"a\", \"b\", \"c\"])  # This is not in-place\n",
    "recording.set_property(\"a_property\", [\"value1\", \"value2\", \"value3\"])  # This is in place\n",
    "\n",
    "folder_path = Path(\"./test_recording.zarr\")\n",
    "\n",
    "job_kwargs={'progress_bar': True, \"verbose\":True, \"n_jobs\":2}\n",
    "zarr_recording = recording.save_to_zarr(folder=folder_path,  overwrite=True, **job_kwargs)   \n",
    "zarr_recording"
   ]
  },
  {
   "cell_type": "code",
   "execution_count": 44,
   "metadata": {},
   "outputs": [
    {
     "ename": "ImportError",
     "evalue": "No module named 'ipytree': Run `pip install zarr[jupyter]` or `conda install ipytree`to get the required ipytree dependency for displaying the tree widget. If using jupyterlab<3, you also need to run `jupyter labextension install ipytree`",
     "output_type": "error",
     "traceback": [
      "\u001b[0;31m---------------------------------------------------------------------------\u001b[0m",
      "\u001b[0;31mModuleNotFoundError\u001b[0m                       Traceback (most recent call last)",
      "File \u001b[0;32m~/.venvs/py3.12/lib/python3.12/site-packages/zarr/util.py:485\u001b[0m, in \u001b[0;36mtree_widget\u001b[0;34m(group, expand, level)\u001b[0m\n\u001b[1;32m    484\u001b[0m \u001b[38;5;28;01mtry\u001b[39;00m:\n\u001b[0;32m--> 485\u001b[0m     \u001b[38;5;28;01mimport\u001b[39;00m \u001b[38;5;21;01mipytree\u001b[39;00m\n\u001b[1;32m    486\u001b[0m \u001b[38;5;28;01mexcept\u001b[39;00m \u001b[38;5;167;01mImportError\u001b[39;00m \u001b[38;5;28;01mas\u001b[39;00m error:\n",
      "\u001b[0;31mModuleNotFoundError\u001b[0m: No module named 'ipytree'",
      "\nDuring handling of the above exception, another exception occurred:\n",
      "\u001b[0;31mImportError\u001b[0m                               Traceback (most recent call last)",
      "File \u001b[0;32m~/.venvs/py3.12/lib/python3.12/site-packages/IPython/core/formatters.py:977\u001b[0m, in \u001b[0;36mMimeBundleFormatter.__call__\u001b[0;34m(self, obj, include, exclude)\u001b[0m\n\u001b[1;32m    974\u001b[0m     method \u001b[38;5;241m=\u001b[39m get_real_method(obj, \u001b[38;5;28mself\u001b[39m\u001b[38;5;241m.\u001b[39mprint_method)\n\u001b[1;32m    976\u001b[0m     \u001b[38;5;28;01mif\u001b[39;00m method \u001b[38;5;129;01mis\u001b[39;00m \u001b[38;5;129;01mnot\u001b[39;00m \u001b[38;5;28;01mNone\u001b[39;00m:\n\u001b[0;32m--> 977\u001b[0m         \u001b[38;5;28;01mreturn\u001b[39;00m \u001b[43mmethod\u001b[49m\u001b[43m(\u001b[49m\u001b[43minclude\u001b[49m\u001b[38;5;241;43m=\u001b[39;49m\u001b[43minclude\u001b[49m\u001b[43m,\u001b[49m\u001b[43m \u001b[49m\u001b[43mexclude\u001b[49m\u001b[38;5;241;43m=\u001b[39;49m\u001b[43mexclude\u001b[49m\u001b[43m)\u001b[49m\n\u001b[1;32m    978\u001b[0m     \u001b[38;5;28;01mreturn\u001b[39;00m \u001b[38;5;28;01mNone\u001b[39;00m\n\u001b[1;32m    979\u001b[0m \u001b[38;5;28;01melse\u001b[39;00m:\n",
      "File \u001b[0;32m~/.venvs/py3.12/lib/python3.12/site-packages/zarr/util.py:544\u001b[0m, in \u001b[0;36mTreeViewer._repr_mimebundle_\u001b[0;34m(self, **kwargs)\u001b[0m\n\u001b[1;32m    543\u001b[0m \u001b[38;5;28;01mdef\u001b[39;00m \u001b[38;5;21m_repr_mimebundle_\u001b[39m(\u001b[38;5;28mself\u001b[39m, \u001b[38;5;241m*\u001b[39m\u001b[38;5;241m*\u001b[39mkwargs):\n\u001b[0;32m--> 544\u001b[0m     tree \u001b[38;5;241m=\u001b[39m \u001b[43mtree_widget\u001b[49m\u001b[43m(\u001b[49m\u001b[38;5;28;43mself\u001b[39;49m\u001b[38;5;241;43m.\u001b[39;49m\u001b[43mgroup\u001b[49m\u001b[43m,\u001b[49m\u001b[43m \u001b[49m\u001b[43mexpand\u001b[49m\u001b[38;5;241;43m=\u001b[39;49m\u001b[38;5;28;43mself\u001b[39;49m\u001b[38;5;241;43m.\u001b[39;49m\u001b[43mexpand\u001b[49m\u001b[43m,\u001b[49m\u001b[43m \u001b[49m\u001b[43mlevel\u001b[49m\u001b[38;5;241;43m=\u001b[39;49m\u001b[38;5;28;43mself\u001b[39;49m\u001b[38;5;241;43m.\u001b[39;49m\u001b[43mlevel\u001b[49m\u001b[43m)\u001b[49m\n\u001b[1;32m    545\u001b[0m     \u001b[38;5;28;01mreturn\u001b[39;00m tree\u001b[38;5;241m.\u001b[39m_repr_mimebundle_(\u001b[38;5;241m*\u001b[39m\u001b[38;5;241m*\u001b[39mkwargs)\n",
      "File \u001b[0;32m~/.venvs/py3.12/lib/python3.12/site-packages/zarr/util.py:487\u001b[0m, in \u001b[0;36mtree_widget\u001b[0;34m(group, expand, level)\u001b[0m\n\u001b[1;32m    485\u001b[0m     \u001b[38;5;28;01mimport\u001b[39;00m \u001b[38;5;21;01mipytree\u001b[39;00m\n\u001b[1;32m    486\u001b[0m \u001b[38;5;28;01mexcept\u001b[39;00m \u001b[38;5;167;01mImportError\u001b[39;00m \u001b[38;5;28;01mas\u001b[39;00m error:\n\u001b[0;32m--> 487\u001b[0m     \u001b[38;5;28;01mraise\u001b[39;00m \u001b[38;5;167;01mImportError\u001b[39;00m(\n\u001b[1;32m    488\u001b[0m         \u001b[38;5;124mf\u001b[39m\u001b[38;5;124m\"\u001b[39m\u001b[38;5;132;01m{\u001b[39;00merror\u001b[38;5;132;01m}\u001b[39;00m\u001b[38;5;124m: Run `pip install zarr[jupyter]` or `conda install ipytree`\u001b[39m\u001b[38;5;124m\"\u001b[39m\n\u001b[1;32m    489\u001b[0m         \u001b[38;5;124mf\u001b[39m\u001b[38;5;124m\"\u001b[39m\u001b[38;5;124mto get the required ipytree dependency for displaying the tree \u001b[39m\u001b[38;5;124m\"\u001b[39m\n\u001b[1;32m    490\u001b[0m         \u001b[38;5;124mf\u001b[39m\u001b[38;5;124m\"\u001b[39m\u001b[38;5;124mwidget. If using jupyterlab<3, you also need to run \u001b[39m\u001b[38;5;124m\"\u001b[39m\n\u001b[1;32m    491\u001b[0m         \u001b[38;5;124mf\u001b[39m\u001b[38;5;124m\"\u001b[39m\u001b[38;5;124m`jupyter labextension install ipytree`\u001b[39m\u001b[38;5;124m\"\u001b[39m\n\u001b[1;32m    492\u001b[0m     )\n\u001b[1;32m    494\u001b[0m result \u001b[38;5;241m=\u001b[39m ipytree\u001b[38;5;241m.\u001b[39mTree()\n\u001b[1;32m    495\u001b[0m root \u001b[38;5;241m=\u001b[39m TreeNode(group, level\u001b[38;5;241m=\u001b[39mlevel)\n",
      "\u001b[0;31mImportError\u001b[0m: No module named 'ipytree': Run `pip install zarr[jupyter]` or `conda install ipytree`to get the required ipytree dependency for displaying the tree widget. If using jupyterlab<3, you also need to run `jupyter labextension install ipytree`"
     ]
    },
    {
     "data": {
      "text/plain": [
       "/\n",
       " ├── channel_ids (3,) <U1\n",
       " ├── properties\n",
       " │   ├── a_property (3,) <U6\n",
       " │   ├── contact_vector (3,) [('probe_index', '<i8'), ('x', '<f8'), ('y', '<f8'), ('contact_shapes', '<U64'), ('radius', '<f8'), ('shank_ids', '<U64'), ('contact_ids', '<U64'), ('device_channel_indices', '<i8'), ('si_units', '<U64'), ('plane_axis_x_0', '<f8'), ('plane_axis_x_1', '<f8'), ('plane_axis_y_0', '<f8'), ('plane_axis_y_1', '<f8')]\n",
       " │   ├── group (3,) int64\n",
       " │   └── location (3, 2) float64\n",
       " └── traces_seg0 (300000, 3) float32"
      ]
     },
     "execution_count": 44,
     "metadata": {},
     "output_type": "execute_result"
    }
   ],
   "source": [
    "zarr_recording._root.tree()"
   ]
  },
  {
   "cell_type": "markdown",
   "metadata": {},
   "source": [
    "#### Sorting"
   ]
  },
  {
   "cell_type": "code",
   "execution_count": 45,
   "metadata": {},
   "outputs": [
    {
     "data": {
      "text/html": [
       "<div style='border:1px solid #ddd; padding:10px;'><strong>ZarrSortingExtractor: 3 units - 1 segments - 30.0kHz</strong></div><details style='margin-left: 10px;'>  <summary><strong>Unit IDs</strong></summary><ul>['unit1' 'unit2' 'unit3'] </details><details style='margin-left: 10px;'>  <summary><strong>Annotations</strong></summary><ul></details><details style='margin-left: 10px;'><summary><strong>Unit Properties</strong></summary><ul><details><summary><strong>a_property</strong></summary>['value1' 'value2' 'value3']</details></ul></details>"
      ],
      "text/plain": [
       "ZarrSortingExtractor: 3 units - 1 segments - 30.0kHz"
      ]
     },
     "execution_count": 45,
     "metadata": {},
     "output_type": "execute_result"
    }
   ],
   "source": [
    "from pathlib import Path\n",
    "from spikeinterface.core import generate_sorting\n",
    "\n",
    "sorting = generate_sorting(num_units=3, durations=[10])\n",
    "sorting = sorting.rename_units(new_unit_ids=[\"unit1\", \"unit2\", \"unit3\"])  # This is not in-place\n",
    "\n",
    "sorting.set_property(\"a_property\", [\"value1\", \"value2\", \"value3\"])  # This is in place\n",
    "\n",
    "\n",
    "folder_path = Path(\"./test_sorting.zarr\")\n",
    "\n",
    "job_kwargs={'progress_bar': True, \"verbose\":True, \"n_jobs\":2}\n",
    "zarr_sorting = sorting.save_to_zarr(folder=folder_path,  overwrite=True, **job_kwargs)   \n",
    "zarr_sorting\n"
   ]
  },
  {
   "cell_type": "code",
   "execution_count": 46,
   "metadata": {},
   "outputs": [
    {
     "ename": "ImportError",
     "evalue": "No module named 'ipytree': Run `pip install zarr[jupyter]` or `conda install ipytree`to get the required ipytree dependency for displaying the tree widget. If using jupyterlab<3, you also need to run `jupyter labextension install ipytree`",
     "output_type": "error",
     "traceback": [
      "\u001b[0;31m---------------------------------------------------------------------------\u001b[0m",
      "\u001b[0;31mModuleNotFoundError\u001b[0m                       Traceback (most recent call last)",
      "File \u001b[0;32m~/.venvs/py3.12/lib/python3.12/site-packages/zarr/util.py:485\u001b[0m, in \u001b[0;36mtree_widget\u001b[0;34m(group, expand, level)\u001b[0m\n\u001b[1;32m    484\u001b[0m \u001b[38;5;28;01mtry\u001b[39;00m:\n\u001b[0;32m--> 485\u001b[0m     \u001b[38;5;28;01mimport\u001b[39;00m \u001b[38;5;21;01mipytree\u001b[39;00m\n\u001b[1;32m    486\u001b[0m \u001b[38;5;28;01mexcept\u001b[39;00m \u001b[38;5;167;01mImportError\u001b[39;00m \u001b[38;5;28;01mas\u001b[39;00m error:\n",
      "\u001b[0;31mModuleNotFoundError\u001b[0m: No module named 'ipytree'",
      "\nDuring handling of the above exception, another exception occurred:\n",
      "\u001b[0;31mImportError\u001b[0m                               Traceback (most recent call last)",
      "File \u001b[0;32m~/.venvs/py3.12/lib/python3.12/site-packages/IPython/core/formatters.py:977\u001b[0m, in \u001b[0;36mMimeBundleFormatter.__call__\u001b[0;34m(self, obj, include, exclude)\u001b[0m\n\u001b[1;32m    974\u001b[0m     method \u001b[38;5;241m=\u001b[39m get_real_method(obj, \u001b[38;5;28mself\u001b[39m\u001b[38;5;241m.\u001b[39mprint_method)\n\u001b[1;32m    976\u001b[0m     \u001b[38;5;28;01mif\u001b[39;00m method \u001b[38;5;129;01mis\u001b[39;00m \u001b[38;5;129;01mnot\u001b[39;00m \u001b[38;5;28;01mNone\u001b[39;00m:\n\u001b[0;32m--> 977\u001b[0m         \u001b[38;5;28;01mreturn\u001b[39;00m \u001b[43mmethod\u001b[49m\u001b[43m(\u001b[49m\u001b[43minclude\u001b[49m\u001b[38;5;241;43m=\u001b[39;49m\u001b[43minclude\u001b[49m\u001b[43m,\u001b[49m\u001b[43m \u001b[49m\u001b[43mexclude\u001b[49m\u001b[38;5;241;43m=\u001b[39;49m\u001b[43mexclude\u001b[49m\u001b[43m)\u001b[49m\n\u001b[1;32m    978\u001b[0m     \u001b[38;5;28;01mreturn\u001b[39;00m \u001b[38;5;28;01mNone\u001b[39;00m\n\u001b[1;32m    979\u001b[0m \u001b[38;5;28;01melse\u001b[39;00m:\n",
      "File \u001b[0;32m~/.venvs/py3.12/lib/python3.12/site-packages/zarr/util.py:544\u001b[0m, in \u001b[0;36mTreeViewer._repr_mimebundle_\u001b[0;34m(self, **kwargs)\u001b[0m\n\u001b[1;32m    543\u001b[0m \u001b[38;5;28;01mdef\u001b[39;00m \u001b[38;5;21m_repr_mimebundle_\u001b[39m(\u001b[38;5;28mself\u001b[39m, \u001b[38;5;241m*\u001b[39m\u001b[38;5;241m*\u001b[39mkwargs):\n\u001b[0;32m--> 544\u001b[0m     tree \u001b[38;5;241m=\u001b[39m \u001b[43mtree_widget\u001b[49m\u001b[43m(\u001b[49m\u001b[38;5;28;43mself\u001b[39;49m\u001b[38;5;241;43m.\u001b[39;49m\u001b[43mgroup\u001b[49m\u001b[43m,\u001b[49m\u001b[43m \u001b[49m\u001b[43mexpand\u001b[49m\u001b[38;5;241;43m=\u001b[39;49m\u001b[38;5;28;43mself\u001b[39;49m\u001b[38;5;241;43m.\u001b[39;49m\u001b[43mexpand\u001b[49m\u001b[43m,\u001b[49m\u001b[43m \u001b[49m\u001b[43mlevel\u001b[49m\u001b[38;5;241;43m=\u001b[39;49m\u001b[38;5;28;43mself\u001b[39;49m\u001b[38;5;241;43m.\u001b[39;49m\u001b[43mlevel\u001b[49m\u001b[43m)\u001b[49m\n\u001b[1;32m    545\u001b[0m     \u001b[38;5;28;01mreturn\u001b[39;00m tree\u001b[38;5;241m.\u001b[39m_repr_mimebundle_(\u001b[38;5;241m*\u001b[39m\u001b[38;5;241m*\u001b[39mkwargs)\n",
      "File \u001b[0;32m~/.venvs/py3.12/lib/python3.12/site-packages/zarr/util.py:487\u001b[0m, in \u001b[0;36mtree_widget\u001b[0;34m(group, expand, level)\u001b[0m\n\u001b[1;32m    485\u001b[0m     \u001b[38;5;28;01mimport\u001b[39;00m \u001b[38;5;21;01mipytree\u001b[39;00m\n\u001b[1;32m    486\u001b[0m \u001b[38;5;28;01mexcept\u001b[39;00m \u001b[38;5;167;01mImportError\u001b[39;00m \u001b[38;5;28;01mas\u001b[39;00m error:\n\u001b[0;32m--> 487\u001b[0m     \u001b[38;5;28;01mraise\u001b[39;00m \u001b[38;5;167;01mImportError\u001b[39;00m(\n\u001b[1;32m    488\u001b[0m         \u001b[38;5;124mf\u001b[39m\u001b[38;5;124m\"\u001b[39m\u001b[38;5;132;01m{\u001b[39;00merror\u001b[38;5;132;01m}\u001b[39;00m\u001b[38;5;124m: Run `pip install zarr[jupyter]` or `conda install ipytree`\u001b[39m\u001b[38;5;124m\"\u001b[39m\n\u001b[1;32m    489\u001b[0m         \u001b[38;5;124mf\u001b[39m\u001b[38;5;124m\"\u001b[39m\u001b[38;5;124mto get the required ipytree dependency for displaying the tree \u001b[39m\u001b[38;5;124m\"\u001b[39m\n\u001b[1;32m    490\u001b[0m         \u001b[38;5;124mf\u001b[39m\u001b[38;5;124m\"\u001b[39m\u001b[38;5;124mwidget. If using jupyterlab<3, you also need to run \u001b[39m\u001b[38;5;124m\"\u001b[39m\n\u001b[1;32m    491\u001b[0m         \u001b[38;5;124mf\u001b[39m\u001b[38;5;124m\"\u001b[39m\u001b[38;5;124m`jupyter labextension install ipytree`\u001b[39m\u001b[38;5;124m\"\u001b[39m\n\u001b[1;32m    492\u001b[0m     )\n\u001b[1;32m    494\u001b[0m result \u001b[38;5;241m=\u001b[39m ipytree\u001b[38;5;241m.\u001b[39mTree()\n\u001b[1;32m    495\u001b[0m root \u001b[38;5;241m=\u001b[39m TreeNode(group, level\u001b[38;5;241m=\u001b[39mlevel)\n",
      "\u001b[0;31mImportError\u001b[0m: No module named 'ipytree': Run `pip install zarr[jupyter]` or `conda install ipytree`to get the required ipytree dependency for displaying the tree widget. If using jupyterlab<3, you also need to run `jupyter labextension install ipytree`"
     ]
    },
    {
     "data": {
      "text/plain": [
       "/\n",
       " ├── properties\n",
       " │   └── a_property (3,) <U6\n",
       " ├── spikes\n",
       " │   ├── sample_index (85,) int64\n",
       " │   ├── segment_slices (1, 2) int64\n",
       " │   └── unit_index (85,) int64\n",
       " └── unit_ids (3,) <U5"
      ]
     },
     "execution_count": 46,
     "metadata": {},
     "output_type": "execute_result"
    }
   ],
   "source": [
    "zarr_sorting._root.tree()"
   ]
  },
  {
   "cell_type": "markdown",
   "metadata": {},
   "source": [
    "### Saving is portable"
   ]
  },
  {
   "cell_type": "code",
   "execution_count": 48,
   "metadata": {},
   "outputs": [
    {
     "name": "stdout",
     "output_type": "stream",
     "text": [
      "write_binary_recording \n",
      "n_jobs=2 - samples_per_chunk=150,000 - chunk_memory=1.72 MiB - total_memory=3.43 MiB - chunk_duration=5.00s\n"
     ]
    },
    {
     "data": {
      "application/vnd.jupyter.widget-view+json": {
       "model_id": "9f2eac5463474561a72269f0f0f4b167",
       "version_major": 2,
       "version_minor": 0
      },
      "text/plain": [
       "write_binary_recording:   0%|          | 0/2 [00:00<?, ?it/s]"
      ]
     },
     "metadata": {},
     "output_type": "display_data"
    },
    {
     "ename": "OSError",
     "evalue": "[Errno 39] Directory not empty: '/home/samuel/Documents/SpikeInterface/school_spike_sorting_neuralnet_saclay_2024/hands_on/cookbooks/saving_recording_and_moving/folderA/recording_folder' -> '/home/samuel/Documents/SpikeInterface/school_spike_sorting_neuralnet_saclay_2024/hands_on/cookbooks/saving_recording_and_moving/folderB/recording_folder'",
     "output_type": "error",
     "traceback": [
      "\u001b[0;31m---------------------------------------------------------------------------\u001b[0m",
      "\u001b[0;31mOSError\u001b[0m                                   Traceback (most recent call last)",
      "Cell \u001b[0;32mIn[48], line 20\u001b[0m\n\u001b[1;32m     17\u001b[0m another_folder\u001b[38;5;241m.\u001b[39mmkdir(exist_ok\u001b[38;5;241m=\u001b[39m\u001b[38;5;28;01mTrue\u001b[39;00m)\n\u001b[1;32m     18\u001b[0m destination_folder \u001b[38;5;241m=\u001b[39m another_folder \u001b[38;5;241m/\u001b[39m \u001b[38;5;124m\"\u001b[39m\u001b[38;5;124mrecording_folder\u001b[39m\u001b[38;5;124m\"\u001b[39m\n\u001b[0;32m---> 20\u001b[0m \u001b[43moriginal_recording_folder\u001b[49m\u001b[38;5;241;43m.\u001b[39;49m\u001b[43mrename\u001b[49m\u001b[43m(\u001b[49m\u001b[43mdestination_folder\u001b[49m\u001b[43m)\u001b[49m\n\u001b[1;32m     24\u001b[0m load_extractor(file_or_folder_or_dict\u001b[38;5;241m=\u001b[39mdestination_folder)\n",
      "File \u001b[0;32m/usr/lib/python3.12/pathlib.py:1365\u001b[0m, in \u001b[0;36mPath.rename\u001b[0;34m(self, target)\u001b[0m\n\u001b[1;32m   1355\u001b[0m \u001b[38;5;28;01mdef\u001b[39;00m \u001b[38;5;21mrename\u001b[39m(\u001b[38;5;28mself\u001b[39m, target):\n\u001b[1;32m   1356\u001b[0m \u001b[38;5;250m    \u001b[39m\u001b[38;5;124;03m\"\"\"\u001b[39;00m\n\u001b[1;32m   1357\u001b[0m \u001b[38;5;124;03m    Rename this path to the target path.\u001b[39;00m\n\u001b[1;32m   1358\u001b[0m \n\u001b[0;32m   (...)\u001b[0m\n\u001b[1;32m   1363\u001b[0m \u001b[38;5;124;03m    Returns the new Path instance pointing to the target path.\u001b[39;00m\n\u001b[1;32m   1364\u001b[0m \u001b[38;5;124;03m    \"\"\"\u001b[39;00m\n\u001b[0;32m-> 1365\u001b[0m     \u001b[43mos\u001b[49m\u001b[38;5;241;43m.\u001b[39;49m\u001b[43mrename\u001b[49m\u001b[43m(\u001b[49m\u001b[38;5;28;43mself\u001b[39;49m\u001b[43m,\u001b[49m\u001b[43m \u001b[49m\u001b[43mtarget\u001b[49m\u001b[43m)\u001b[49m\n\u001b[1;32m   1366\u001b[0m     \u001b[38;5;28;01mreturn\u001b[39;00m \u001b[38;5;28mself\u001b[39m\u001b[38;5;241m.\u001b[39mwith_segments(target)\n",
      "\u001b[0;31mOSError\u001b[0m: [Errno 39] Directory not empty: '/home/samuel/Documents/SpikeInterface/school_spike_sorting_neuralnet_saclay_2024/hands_on/cookbooks/saving_recording_and_moving/folderA/recording_folder' -> '/home/samuel/Documents/SpikeInterface/school_spike_sorting_neuralnet_saclay_2024/hands_on/cookbooks/saving_recording_and_moving/folderB/recording_folder'"
     ]
    }
   ],
   "source": [
    "from pathlib import Path\n",
    "from spikeinterface.core import generate_recording\n",
    "from spikeinterface.core import load_extractor  \n",
    "\n",
    "recording = generate_recording(num_channels=3, durations=[10], set_probe=True)\n",
    "\n",
    "\n",
    "# Save a recording within a nested folder\n",
    "base_folder = Path.cwd() / \"saving_recording_and_moving\" \n",
    "original_recording_folder = base_folder / \"folderA\" / \"recording_folder\"  \n",
    "\n",
    "recording = recording.save_to_folder(folder=original_recording_folder, overwrite=True)\n",
    "\n",
    "\n",
    "# We move the folder from its original location one level up to the current folder\n",
    "another_folder = base_folder / \"folderB\"\n",
    "another_folder.mkdir(exist_ok=True)\n",
    "destination_folder = another_folder / \"recording_folder\"\n",
    "\n",
    "original_recording_folder.rename(destination_folder)\n",
    "\n",
    "\n",
    "\n",
    "load_extractor(file_or_folder_or_dict=destination_folder)"
   ]
  },
  {
   "cell_type": "markdown",
   "metadata": {},
   "source": [
    "## Saving preprocessing provenance"
   ]
  },
  {
   "cell_type": "code",
   "execution_count": 49,
   "metadata": {},
   "outputs": [
    {
     "name": "stdout",
     "output_type": "stream",
     "text": [
      "write_binary_recording \n",
      "n_jobs=2 - samples_per_chunk=150,000 - chunk_memory=1.72 MiB - total_memory=3.43 MiB - chunk_duration=5.00s\n"
     ]
    },
    {
     "data": {
      "application/vnd.jupyter.widget-view+json": {
       "model_id": "e2d510fb41e54acf95ce22fe6f9a2c28",
       "version_major": 2,
       "version_minor": 0
      },
      "text/plain": [
       "write_binary_recording:   0%|          | 0/2 [00:00<?, ?it/s]"
      ]
     },
     "metadata": {},
     "output_type": "display_data"
    },
    {
     "name": "stdout",
     "output_type": "stream",
     "text": [
      "This generated an error because the references to the raw data were absolute\n"
     ]
    },
    {
     "data": {
      "text/html": [
       "<div style='border:1px solid #ddd; padding:10px;'><strong>SyntheticRecording: 3 channels - 30.0kHz - 1 segments - 300,000 samples - 10.00s - float32 dtype - 3.43 MiB</strong></div><details style='margin-left: 10px;'>  <summary><strong>Channel IDs</strong></summary><ul>[0 1 2] </details><details style='margin-left: 10px;'>  <summary><strong>Annotations</strong></summary><ul><li> <strong> is_filtered </strong>: True</li><li> <strong> probe_0_planar_contour </strong>: [[-25.0, 65.0], [-25.0, -25.0], [0.0, -125.0], [25.0, -25.0], [25.0, 65.0]]</li><li> <strong> probes_info </strong>: [{}]</li><li> <strong> name </strong>: SyntheticRecording</li></ul> </details><details style='margin-left: 10px;'><summary><strong>Channel Properties</strong></summary><ul><details><summary> <strong> contact_vector </strong> </summary>[(0, 0.,  0., 'circle', 6., '', '0', 0, 'um', 1., 0., 0., 1.)\n",
       " (0, 0., 20., 'circle', 6., '', '1', 1, 'um', 1., 0., 0., 1.)\n",
       " (0, 0., 40., 'circle', 6., '', '2', 2, 'um', 1., 0., 0., 1.)]</details><details><summary> <strong> location </strong> </summary>[[ 0.  0.]\n",
       " [ 0. 20.]\n",
       " [ 0. 40.]]</details><details><summary> <strong> group </strong> </summary>[0 0 0]</details></ul></details>"
      ],
      "text/plain": [
       "SyntheticRecording: 3 channels - 30.0kHz - 1 segments - 300,000 samples - 10.00s - float32 dtype \n",
       "                    3.43 MiB"
      ]
     },
     "execution_count": 49,
     "metadata": {},
     "output_type": "execute_result"
    }
   ],
   "source": [
    "from pathlib import Path\n",
    "\n",
    "from spikeinterface.core import generate_recording, load_extractor\n",
    "from spikeinterface.preprocessing import bandpass_filter, common_reference\n",
    "\n",
    "# First we simulate having raw data (can be large!) in a folder \n",
    "simulated_recording = generate_recording(num_channels=3, durations=[10])\n",
    "base_folder = Path.cwd() / \"working_with_preprocessing_provenance\"\n",
    "\n",
    "raw_data_location = base_folder/ \"raw_data_location_folder\"\n",
    "raw_data_location.mkdir(parents=True, exist_ok=True)\n",
    "recording_saved = simulated_recording.save(folder=raw_data_location, overwrite=True)\n",
    "\n",
    "\n",
    "# Now our common analysis pipeline starts by loading the raw data\n",
    "raw_data_recording = load_extractor(file_or_folder_or_dict=raw_data_location)\n",
    "# And then we apply some preprocessing steps\n",
    "recording_preprocessed = bandpass_filter(common_reference(raw_data_recording))\n",
    "\n",
    "# Note that we can save our preprocessed data for faster access afterwards:\n",
    "# recording_preprocessed.save(folder=Path.cwd() / \"preprocessed_data_folder\")\n",
    "# But maybe we only want to save our provenance data, that is, our pre-processing pipeline and parameters\n",
    "# For this we can save oure preprocessing pipeline as a json file\n",
    "\n",
    "# dump_to_json without relative_to\n",
    "\n",
    "json_file_path = base_folder / \"analysis_folder\" / \"preprocessed_pipeline.json\"\n",
    "recording_preprocessed.dump_to_json(file_path=json_file_path)\n",
    "\n",
    "\n",
    "json_file_path_relative = base_folder / \"analysis_folder\" / \"preprocessed_pipeline_relative.json\"\n",
    "recording_preprocessed.dump_to_json(file_path=json_file_path_relative, relative_to=base_folder)\n",
    "\n",
    "\n",
    "# This then can be loaded again to recover the pipeline\n",
    "recovered_pipeline = load_extractor(file_or_folder_or_dict=json_file_path)\n",
    "\n",
    "# We move the json to a new folder\n",
    "new_base_folder = Path.cwd() / \"new_working_with_preprocessing_provenance\"\n",
    "new_base_folder.mkdir(exist_ok=True)\n",
    "\n",
    "base_folder.rename(new_base_folder)\n",
    "\n",
    "new_json_file_path = new_base_folder / \"analysis_folder\" / \"preprocessed_pipeline.json\"\n",
    "assert new_json_file_path.is_file(), \"The json file was not moved correctly\" \n",
    "\n",
    "# Try to load it\n",
    "try:\n",
    "    recovered_pipeline = load_extractor(file_or_folder_or_dict=new_json_file_path)\n",
    "except:\n",
    "    print(\"This generated an error because the references to the raw data were absolute\")\n",
    "    \n",
    "# We can solve this by saving the json file with relative paths\n",
    "\n",
    "new_json_file_path_with_relative = new_base_folder / \"analysis_folder\" / \"preprocessed_pipeline_relative.json\"\n",
    "assert new_json_file_path_with_relative.is_file(), \"The json file with relative was not moved correctly\"\n",
    "recovered_pipeline = load_extractor(file_or_folder_or_dict=new_json_file_path_with_relative, base_folder=new_base_folder)\n",
    "recovered_pipeline"
   ]
  },
  {
   "cell_type": "code",
   "execution_count": null,
   "metadata": {},
   "outputs": [],
   "source": []
  }
 ],
 "metadata": {
  "kernelspec": {
   "display_name": "Python 3 (ipykernel)",
   "language": "python",
   "name": "python3"
  },
  "language_info": {
   "codemirror_mode": {
    "name": "ipython",
    "version": 3
   },
   "file_extension": ".py",
   "mimetype": "text/x-python",
   "name": "python",
   "nbconvert_exporter": "python",
   "pygments_lexer": "ipython3",
   "version": "3.12.3"
  }
 },
 "nbformat": 4,
 "nbformat_minor": 4
}
