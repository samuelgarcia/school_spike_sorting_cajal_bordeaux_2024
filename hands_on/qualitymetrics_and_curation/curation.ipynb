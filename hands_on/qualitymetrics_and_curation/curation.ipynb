{
 "cells": [
  {
   "cell_type": "markdown",
   "id": "30a68793-9915-4b04-b5ef-a9e5e67d0079",
   "metadata": {},
   "source": [
    "## Quality metrics and Curation modules\n",
    "\n",
    "In this workshop, we will take a look at how to curate the output of a spike-sorting analyses using the `curation` and `qualitymetrics` modules.\n",
    "\n",
    "The dataset we will be using is a cerebellar cortex recording (cut down to 5 minutes and 26 channels) analyzed with Kilosort 2"
   ]
  },
  {
   "cell_type": "code",
   "execution_count": 3,
   "id": "f0a31718-fe1f-4cbb-84bb-7e96233bf5a3",
   "metadata": {},
   "outputs": [],
   "source": [
    "from pathlib import Path\n",
    "import numpy as np\n",
    "\n",
    "import spikeinterface.full as si\n"
   ]
  },
  {
   "cell_type": "code",
   "execution_count": 4,
   "id": "8e74ed75-498a-4547-99b9-292050ed2d5d",
   "metadata": {},
   "outputs": [],
   "source": [
    "%matplotlib widget"
   ]
  },
  {
   "cell_type": "code",
   "execution_count": 10,
   "id": "50623fdc",
   "metadata": {},
   "outputs": [],
   "source": [
    "si.set_global_job_kwargs(n_jobs=-1, progress_bar=True)"
   ]
  },
  {
   "cell_type": "code",
   "execution_count": 11,
   "id": "3eb5cc54-2e04-494b-bd65-17878e758b6c",
   "metadata": {},
   "outputs": [],
   "source": [
    "base_folder = Path(\"/home/samuel/DataSpikeSorting/SI_tutorial_Cajal_2024/\")\n",
    "curation_dataset = base_folder / \"dataset_curation\""
   ]
  },
  {
   "cell_type": "code",
   "execution_count": 12,
   "id": "46e2fbe4-e80b-4377-b904-063c77824a3b",
   "metadata": {},
   "outputs": [
    {
     "name": "stdout",
     "output_type": "stream",
     "text": [
      "BinaryFolderRecording: 26 channels - 30.0kHz - 1 segments - 9,000,000 samples \n",
      "                       300.00s (5.00 minutes) - int16 dtype - 446.32 MiB\n",
      "NumpyFolder: 52 units - 1 segments - 30.0kHz\n"
     ]
    }
   ],
   "source": [
    "recording = si.load_extractor(curation_dataset / \"curation_recording\")\n",
    "sorting = si.load_extractor(curation_dataset / \"curation_sorting\")\n",
    "\n",
    "print(recording)\n",
    "print(sorting)"
   ]
  },
  {
   "cell_type": "markdown",
   "id": "a52cacc2-6fc8-4889-a2dd-8615c62aa106",
   "metadata": {},
   "source": [
    "Before analyzing our output, we can perform a fast curation:\n",
    "- Remove any duplicated spikes (spikes happening less than 0.3ms apart)\n",
    "- Remove excess spikes (kilosort sometimes outputs spikes hapenning out of the recording bounds)\n",
    "- Remove redundant units (high fraction of shared spikes)"
   ]
  },
  {
   "cell_type": "code",
   "execution_count": 13,
   "id": "440653c9-2166-4b6a-b6ce-479fe491edf6",
   "metadata": {},
   "outputs": [
    {
     "data": {
      "text/html": [
       "<div style='border:1px solid #ddd; padding:10px;'><strong>UnitsSelectionSorting: 52 units - 1 segments - 30.0kHz</strong></div><details style='margin-left: 10px;'>  <summary><strong>Unit IDs</strong></summary><ul>[ 0  1  2  3  4  5  6  7  8  9 10 11 12 13 14 15 16 17 18 19 20 21 22 23\n",
       " 24 25 26 27 28 29 30 31 32 33 34 35 36 37 38 39 40 41 42 43 44 45 46 47\n",
       " 48 49 50 51] </details><details style='margin-left: 10px;'>  <summary><strong>Annotations</strong></summary><ul><li> <strong> phy_folder </strong>: /export/home1/users/nsr/wyngaard/Documents/lussac/tests/datasets/cerebellar_cortex/analyses/ks2_best</li></details><details style='margin-left: 10px;'><summary><strong>Unit Properties</strong></summary><ul><details><summary><strong>ContamPct</strong></summary>[ 57.1   8.3  71.3   0.   58.9 306.9 325.   85.4 100.    9.5  59.7   0.\n",
       "  38.1  15.2  17.5   7.8  52.4  19.5   9.4   0.    0.   66.5  30.5  96.6\n",
       "  86.9 149.4  27.6  14.8  18.5  22.8   9.6  19.4   0.   20.9   0.   31.9\n",
       "  20.8  31.5  25.6   0.    0.9   0.6  21.6  12.7  33.3  37.8  42.9  19.6\n",
       "  20.5  43.7   0.    0. ]</details><details><summary><strong>Amplitude</strong></summary>[ 348.6  631.   457.2 1917.8  401.6  552.1  376.9  516.9  476.8  598.9\n",
       "  476.6 1449.1  603.  1395.2  893.5  892.6 1064.2  797.8 1131.5 1787.\n",
       "  507.6  683.5 1105.   886.6  689.2  371.8  349.8  330.5  351.9  422.\n",
       "  313.8  303.8  281.6  603.3 1854.   377.4  207.4  235.2  523.6 1396.7\n",
       "  497.8 1799.3 1478.8 1102.9  945.8 1483.9 1181.8 1134.9 1059.1  966.9\n",
       "  558.   391.3]</details><details><summary><strong>original_cluster_id</strong></summary>[ 0  1  2  3  4  5  6  7  8  9 10 11 12 13 14 15 16 17 18 19 20 21 22 23\n",
       " 24 25 26 27 28 29 30 31 32 33 34 35 36 37 38 39 40 41 42 43 44 45 46 47\n",
       " 48 49 50 51]</details><details><summary><strong>KSLabel_repeat</strong></summary>['mua' 'good' 'mua' 'good' 'mua' 'mua' 'mua' 'mua' 'mua' 'good' 'mua'\n",
       " 'mua' 'mua' 'mua' 'mua' 'mua' 'mua' 'mua' 'mua' 'good' 'mua' 'mua' 'mua'\n",
       " 'mua' 'mua' 'mua' 'mua' 'mua' 'mua' 'mua' 'good' 'mua' 'mua' 'mua' 'good'\n",
       " 'mua' 'mua' 'mua' 'mua' 'good' 'good' 'good' 'mua' 'mua' 'mua' 'mua'\n",
       " 'mua' 'mua' 'mua' 'mua' 'mua' 'good']</details><details><summary><strong>KSLabel</strong></summary>['mua' 'good' 'mua' 'good' 'mua' 'mua' 'mua' 'mua' 'mua' 'good' 'mua'\n",
       " 'mua' 'mua' 'mua' 'mua' 'mua' 'mua' 'mua' 'mua' 'good' 'mua' 'mua' 'mua'\n",
       " 'mua' 'mua' 'mua' 'mua' 'mua' 'mua' 'mua' 'good' 'mua' 'mua' 'mua' 'good'\n",
       " 'mua' 'mua' 'mua' 'mua' 'good' 'good' 'good' 'mua' 'mua' 'mua' 'mua'\n",
       " 'mua' 'mua' 'mua' 'mua' 'mua' 'good']</details></ul></details>"
      ],
      "text/plain": [
       "UnitsSelectionSorting: 52 units - 1 segments - 30.0kHz"
      ]
     },
     "execution_count": 13,
     "metadata": {},
     "output_type": "execute_result"
    }
   ],
   "source": [
    "sorting = si.remove_duplicated_spikes(sorting, censored_period_ms=0.3, method=\"keep_first_iterative\")\n",
    "sorting = si.remove_excess_spikes(sorting, recording)\n",
    "sorting = si.remove_redundant_units(sorting, align=False, remove_strategy=\"max_spikes\")\n",
    "sorting"
   ]
  },
  {
   "cell_type": "markdown",
   "id": "e01fd16d-22d2-4367-acd7-adf972ec6bbc",
   "metadata": {},
   "source": [
    "We still have 52 units (on redundants in this dataset), but probably not all of them are really good!\n",
    "\n",
    "Let's create a `SortingAnalyzer` to start looking at out data"
   ]
  },
  {
   "cell_type": "code",
   "execution_count": 14,
   "id": "811673a2-3071-4c63-8278-4a6b868516c6",
   "metadata": {},
   "outputs": [
    {
     "data": {
      "application/vnd.jupyter.widget-view+json": {
       "model_id": "c473620237b24fc3a673e902aca94749",
       "version_major": 2,
       "version_minor": 0
      },
      "text/plain": [
       "noise_level:   0%|          | 0/20 [00:00<?, ?it/s]"
      ]
     },
     "metadata": {},
     "output_type": "display_data"
    },
    {
     "data": {
      "application/vnd.jupyter.widget-view+json": {
       "model_id": "6e5efc92088447f1bf233b5c210f3677",
       "version_major": 2,
       "version_minor": 0
      },
      "text/plain": [
       "estimate_templates_with_accumulator:   0%|          | 0/300 [00:00<?, ?it/s]"
      ]
     },
     "metadata": {},
     "output_type": "display_data"
    },
    {
     "data": {
      "application/vnd.jupyter.widget-view+json": {
       "model_id": "d603f30af7a34964b19c6c5af0edd02f",
       "version_major": 2,
       "version_minor": 0
      },
      "text/plain": [
       "Compute : spike_amplitudes:   0%|          | 0/300 [00:00<?, ?it/s]"
      ]
     },
     "metadata": {},
     "output_type": "display_data"
    }
   ],
   "source": [
    "recording_f = si.bandpass_filter(recording, freq_min=120, freq_max=8000, filter_order=2, ftype=\"bessel\")\n",
    "\n",
    "analyzer = si.create_sorting_analyzer(sorting, recording_f, format=\"memory\", sparse=False)\n",
    "analyzer.compute({\n",
    "    'noise_levels': {},\n",
    "    'random_spikes': {'max_spikes_per_unit': 1_000},\n",
    "    'templates': {'ms_before': 1.5, 'ms_after': 3.5},\n",
    "    'spike_amplitudes': {},\n",
    "    'correlograms': {'bin_ms': 0.5}\n",
    "})"
   ]
  },
  {
   "cell_type": "markdown",
   "id": "d12d6885-54b9-48ab-b442-cd38f14269d9",
   "metadata": {},
   "source": [
    "Let's look at the most basic metric: the average firing rate (in Hz) of our units:"
   ]
  },
  {
   "cell_type": "code",
   "execution_count": 15,
   "id": "7898edf5-8a37-452c-b7d8-f7a415332e28",
   "metadata": {},
   "outputs": [
    {
     "data": {
      "text/plain": [
       "{0: 11.756666666666666,\n",
       " 1: 8.663333333333334,\n",
       " 2: 10.083333333333334,\n",
       " 3: 1.1433333333333333,\n",
       " 4: 8.596666666666666,\n",
       " 5: 0.7366666666666667,\n",
       " 6: 0.35333333333333333,\n",
       " 7: 9.653333333333334,\n",
       " 8: 0.056666666666666664,\n",
       " 9: 20.69333333333333,\n",
       " 10: 12.796666666666667,\n",
       " 11: 1.0533333333333332,\n",
       " 12: 37.053333333333335,\n",
       " 13: 27.203333333333333,\n",
       " 14: 24.786666666666665,\n",
       " 15: 29.236666666666668,\n",
       " 16: 20.196666666666665,\n",
       " 17: 21.466666666666665,\n",
       " 18: 18.023333333333333,\n",
       " 19: 14.413333333333334,\n",
       " 20: 0.4266666666666667,\n",
       " 21: 6.756666666666667,\n",
       " 22: 14.89,\n",
       " 23: 13.603333333333333,\n",
       " 24: 16.33,\n",
       " 25: 12.146666666666667,\n",
       " 26: 10.21,\n",
       " 27: 12.283333333333333,\n",
       " 28: 15.88,\n",
       " 29: 15.686666666666667,\n",
       " 30: 11.643333333333333,\n",
       " 31: 18.876666666666665,\n",
       " 32: 0.14666666666666667,\n",
       " 33: 17.053333333333335,\n",
       " 34: 1.2566666666666666,\n",
       " 35: 19.28,\n",
       " 36: 16.30666666666667,\n",
       " 37: 9.073333333333334,\n",
       " 38: 37.623333333333335,\n",
       " 39: 1.5866666666666667,\n",
       " 40: 114.08666666666667,\n",
       " 41: 136.71333333333334,\n",
       " 42: 17.173333333333332,\n",
       " 43: 23.163333333333334,\n",
       " 44: 14.32,\n",
       " 45: 4.99,\n",
       " 46: 35.68,\n",
       " 47: 17.04,\n",
       " 48: 18.046666666666667,\n",
       " 49: 13.796666666666667,\n",
       " 50: 0.23333333333333334,\n",
       " 51: 1.2633333333333334}"
      ]
     },
     "execution_count": 15,
     "metadata": {},
     "output_type": "execute_result"
    }
   ],
   "source": [
    "si.compute_firing_rates(analyzer)"
   ]
  },
  {
   "cell_type": "markdown",
   "id": "c112e919-43f5-4d02-b136-a32004c917b5",
   "metadata": {},
   "source": [
    "We can see that the firing rate varies a lot, with some units being below 0.5 Hz (probably bad units), and some units above 100 Hz (not uncommon for Purkinje cells simple spikes).\n",
    "\n",
    "We can compute all of SpikeInterface quality metrics with the following command:"
   ]
  },
  {
   "cell_type": "code",
   "execution_count": 16,
   "id": "1271e623-0aae-4009-8006-e83450bf8816",
   "metadata": {},
   "outputs": [
    {
     "name": "stderr",
     "output_type": "stream",
     "text": [
      "/home/samuel/Documents/SpikeInterface/spikeinterface/src/spikeinterface/qualitymetrics/misc_metrics.py:908: UserWarning: Some units have too few spikes : amplitude_cutoff is set to NaN\n",
      "  warnings.warn(f\"Some units have too few spikes : amplitude_cutoff is set to NaN\")\n"
     ]
    },
    {
     "data": {
      "application/vnd.jupyter.widget-view+json": {
       "model_id": "59d9769ea4124286a7bdf1300c99778a",
       "version_major": 2,
       "version_minor": 0
      },
      "text/plain": [
       "noise_level:   0%|          | 0/20 [00:00<?, ?it/s]"
      ]
     },
     "metadata": {},
     "output_type": "display_data"
    },
    {
     "data": {
      "text/html": [
       "<div>\n",
       "<style scoped>\n",
       "    .dataframe tbody tr th:only-of-type {\n",
       "        vertical-align: middle;\n",
       "    }\n",
       "\n",
       "    .dataframe tbody tr th {\n",
       "        vertical-align: top;\n",
       "    }\n",
       "\n",
       "    .dataframe thead th {\n",
       "        text-align: right;\n",
       "    }\n",
       "</style>\n",
       "<table border=\"1\" class=\"dataframe\">\n",
       "  <thead>\n",
       "    <tr style=\"text-align: right;\">\n",
       "      <th></th>\n",
       "      <th>num_spikes</th>\n",
       "      <th>firing_rate</th>\n",
       "      <th>presence_ratio</th>\n",
       "      <th>snr</th>\n",
       "      <th>isi_violations_ratio</th>\n",
       "      <th>isi_violations_count</th>\n",
       "      <th>rp_contamination</th>\n",
       "      <th>rp_violations</th>\n",
       "      <th>sliding_rp_violation</th>\n",
       "      <th>amplitude_cutoff</th>\n",
       "      <th>amplitude_median</th>\n",
       "      <th>amplitude_cv_median</th>\n",
       "      <th>amplitude_cv_range</th>\n",
       "      <th>sync_spike_2</th>\n",
       "      <th>sync_spike_4</th>\n",
       "      <th>sync_spike_8</th>\n",
       "      <th>firing_range</th>\n",
       "      <th>sd_ratio</th>\n",
       "    </tr>\n",
       "  </thead>\n",
       "  <tbody>\n",
       "    <tr>\n",
       "      <th>0</th>\n",
       "      <td>3527</td>\n",
       "      <td>11.756667</td>\n",
       "      <td>1</td>\n",
       "      <td>2.049979</td>\n",
       "      <td>0.353705</td>\n",
       "      <td>44</td>\n",
       "      <td>0.60512</td>\n",
       "      <td>35</td>\n",
       "      <td>0.21</td>\n",
       "      <td>0.000323</td>\n",
       "      <td>-73.32</td>\n",
       "      <td>0.61642</td>\n",
       "      <td>0.20845</td>\n",
       "      <td>0.035157</td>\n",
       "      <td>0.0</td>\n",
       "      <td>0</td>\n",
       "      <td>5.21</td>\n",
       "      <td>1.179817</td>\n",
       "    </tr>\n",
       "    <tr>\n",
       "      <th>1</th>\n",
       "      <td>2599</td>\n",
       "      <td>8.663333</td>\n",
       "      <td>1</td>\n",
       "      <td>3.520533</td>\n",
       "      <td>0.236869</td>\n",
       "      <td>16</td>\n",
       "      <td>0.254432</td>\n",
       "      <td>10</td>\n",
       "      <td>0.07</td>\n",
       "      <td>0.0001</td>\n",
       "      <td>-110.760002</td>\n",
       "      <td>0.458449</td>\n",
       "      <td>0.143002</td>\n",
       "      <td>0.058869</td>\n",
       "      <td>0.0</td>\n",
       "      <td>0</td>\n",
       "      <td>7.41</td>\n",
       "      <td>1.59566</td>\n",
       "    </tr>\n",
       "    <tr>\n",
       "      <th>2</th>\n",
       "      <td>3025</td>\n",
       "      <td>10.083333</td>\n",
       "      <td>1</td>\n",
       "      <td>1.676114</td>\n",
       "      <td>0.393416</td>\n",
       "      <td>36</td>\n",
       "      <td>0.615814</td>\n",
       "      <td>26</td>\n",
       "      <td>0.12</td>\n",
       "      <td>0.000406</td>\n",
       "      <td>-47.189999</td>\n",
       "      <td>1.022636</td>\n",
       "      <td>0.572517</td>\n",
       "      <td>0.037355</td>\n",
       "      <td>0.0</td>\n",
       "      <td>0</td>\n",
       "      <td>6.23</td>\n",
       "      <td>1.619926</td>\n",
       "    </tr>\n",
       "    <tr>\n",
       "      <th>3</th>\n",
       "      <td>343</td>\n",
       "      <td>1.143333</td>\n",
       "      <td>1</td>\n",
       "      <td>8.863624</td>\n",
       "      <td>0.0</td>\n",
       "      <td>0</td>\n",
       "      <td>0.0</td>\n",
       "      <td>0</td>\n",
       "      <td>0.295</td>\n",
       "      <td>&lt;NA&gt;</td>\n",
       "      <td>-277.484985</td>\n",
       "      <td>&lt;NA&gt;</td>\n",
       "      <td>&lt;NA&gt;</td>\n",
       "      <td>0.026239</td>\n",
       "      <td>0.0</td>\n",
       "      <td>0</td>\n",
       "      <td>0.8</td>\n",
       "      <td>1.192587</td>\n",
       "    </tr>\n",
       "    <tr>\n",
       "      <th>4</th>\n",
       "      <td>2579</td>\n",
       "      <td>8.596667</td>\n",
       "      <td>1</td>\n",
       "      <td>2.074293</td>\n",
       "      <td>0.405939</td>\n",
       "      <td>27</td>\n",
       "      <td>0.621824</td>\n",
       "      <td>19</td>\n",
       "      <td>0.245</td>\n",
       "      <td>0.000259</td>\n",
       "      <td>-71.565002</td>\n",
       "      <td>0.64457</td>\n",
       "      <td>0.264983</td>\n",
       "      <td>0.036836</td>\n",
       "      <td>0.000388</td>\n",
       "      <td>0</td>\n",
       "      <td>5.66</td>\n",
       "      <td>1.247967</td>\n",
       "    </tr>\n",
       "  </tbody>\n",
       "</table>\n",
       "</div>"
      ],
      "text/plain": [
       "   num_spikes  firing_rate  presence_ratio       snr  isi_violations_ratio  \\\n",
       "0        3527    11.756667               1  2.049979              0.353705   \n",
       "1        2599     8.663333               1  3.520533              0.236869   \n",
       "2        3025    10.083333               1  1.676114              0.393416   \n",
       "3         343     1.143333               1  8.863624                   0.0   \n",
       "4        2579     8.596667               1  2.074293              0.405939   \n",
       "\n",
       "   isi_violations_count  rp_contamination  rp_violations  \\\n",
       "0                    44           0.60512             35   \n",
       "1                    16          0.254432             10   \n",
       "2                    36          0.615814             26   \n",
       "3                     0               0.0              0   \n",
       "4                    27          0.621824             19   \n",
       "\n",
       "   sliding_rp_violation  amplitude_cutoff  amplitude_median  \\\n",
       "0                  0.21          0.000323            -73.32   \n",
       "1                  0.07            0.0001       -110.760002   \n",
       "2                  0.12          0.000406        -47.189999   \n",
       "3                 0.295              <NA>       -277.484985   \n",
       "4                 0.245          0.000259        -71.565002   \n",
       "\n",
       "   amplitude_cv_median  amplitude_cv_range  sync_spike_2  sync_spike_4  \\\n",
       "0              0.61642             0.20845      0.035157           0.0   \n",
       "1             0.458449            0.143002      0.058869           0.0   \n",
       "2             1.022636            0.572517      0.037355           0.0   \n",
       "3                 <NA>                <NA>      0.026239           0.0   \n",
       "4              0.64457            0.264983      0.036836      0.000388   \n",
       "\n",
       "   sync_spike_8  firing_range  sd_ratio  \n",
       "0             0          5.21  1.179817  \n",
       "1             0          7.41   1.59566  \n",
       "2             0          6.23  1.619926  \n",
       "3             0           0.8  1.192587  \n",
       "4             0          5.66  1.247967  "
      ]
     },
     "execution_count": 16,
     "metadata": {},
     "output_type": "execute_result"
    }
   ],
   "source": [
    "quality_metrics = si.compute_quality_metrics(analyzer)\n",
    "quality_metrics.head()"
   ]
  },
  {
   "cell_type": "markdown",
   "id": "f89f3a55-ee58-4aea-97b3-d1cd78a0bc7a",
   "metadata": {},
   "source": [
    "As we can see, there are a lot of metrics (some containing redundant information).\n",
    "For demonstration purposes, we will focus on 4 of those metrics (which I use all the time):\n",
    "- `firing_rate`: The mean firing rate (in Hz). The total number of spikes divided by the duration of the recording. This helps a lot for classifying units (knowing the cell type) and to find aberrant units.\n",
    "- `SNR`: The Signal-to-Noise Ratio (amplitude of the spike divided by the noise level). A low SNR (< 3) is usually problematic.\n",
    "- `rp_contamination`: Contamination (i.e. $FP \\over TP+FP$) estimation by looking at the refractory period violations. Makes the hypothesis that the contaminant spikes happen at random.\n",
    "- `sd_ratio`: The ratio between the standard deviation of spike amplitudes and the noise level. Under the assumption that all spikes have the same shape, this ratio should be $1.0$. Several safeguards are included to remove effects of drift, bursting ..."
   ]
  },
  {
   "cell_type": "code",
   "execution_count": 17,
   "id": "3cb833af-ef00-48db-8443-3c89e8d94bc1",
   "metadata": {},
   "outputs": [
    {
     "data": {
      "text/html": [
       "<div>\n",
       "<style scoped>\n",
       "    .dataframe tbody tr th:only-of-type {\n",
       "        vertical-align: middle;\n",
       "    }\n",
       "\n",
       "    .dataframe tbody tr th {\n",
       "        vertical-align: top;\n",
       "    }\n",
       "\n",
       "    .dataframe thead th {\n",
       "        text-align: right;\n",
       "    }\n",
       "</style>\n",
       "<table border=\"1\" class=\"dataframe\">\n",
       "  <thead>\n",
       "    <tr style=\"text-align: right;\">\n",
       "      <th></th>\n",
       "      <th>firing_rate</th>\n",
       "      <th>snr</th>\n",
       "      <th>rp_contamination</th>\n",
       "      <th>sd_ratio</th>\n",
       "    </tr>\n",
       "  </thead>\n",
       "  <tbody>\n",
       "    <tr>\n",
       "      <th>0</th>\n",
       "      <td>11.756667</td>\n",
       "      <td>2.049979</td>\n",
       "      <td>0.60512</td>\n",
       "      <td>1.179817</td>\n",
       "    </tr>\n",
       "    <tr>\n",
       "      <th>1</th>\n",
       "      <td>8.663333</td>\n",
       "      <td>3.520533</td>\n",
       "      <td>0.254432</td>\n",
       "      <td>1.59566</td>\n",
       "    </tr>\n",
       "    <tr>\n",
       "      <th>2</th>\n",
       "      <td>10.083333</td>\n",
       "      <td>1.676114</td>\n",
       "      <td>0.615814</td>\n",
       "      <td>1.619926</td>\n",
       "    </tr>\n",
       "    <tr>\n",
       "      <th>3</th>\n",
       "      <td>1.143333</td>\n",
       "      <td>8.863624</td>\n",
       "      <td>0.0</td>\n",
       "      <td>1.192587</td>\n",
       "    </tr>\n",
       "    <tr>\n",
       "      <th>4</th>\n",
       "      <td>8.596667</td>\n",
       "      <td>2.074293</td>\n",
       "      <td>0.621824</td>\n",
       "      <td>1.247967</td>\n",
       "    </tr>\n",
       "    <tr>\n",
       "      <th>5</th>\n",
       "      <td>0.736667</td>\n",
       "      <td>1.607057</td>\n",
       "      <td>1.0</td>\n",
       "      <td>2.734922</td>\n",
       "    </tr>\n",
       "    <tr>\n",
       "      <th>6</th>\n",
       "      <td>0.353333</td>\n",
       "      <td>2.851026</td>\n",
       "      <td>1.0</td>\n",
       "      <td>2.599785</td>\n",
       "    </tr>\n",
       "    <tr>\n",
       "      <th>7</th>\n",
       "      <td>9.653333</td>\n",
       "      <td>2.493505</td>\n",
       "      <td>1.0</td>\n",
       "      <td>1.114334</td>\n",
       "    </tr>\n",
       "    <tr>\n",
       "      <th>8</th>\n",
       "      <td>0.056667</td>\n",
       "      <td>2.469331</td>\n",
       "      <td>0.0</td>\n",
       "      <td>1.384699</td>\n",
       "    </tr>\n",
       "    <tr>\n",
       "      <th>9</th>\n",
       "      <td>20.693333</td>\n",
       "      <td>3.372633</td>\n",
       "      <td>0.056061</td>\n",
       "      <td>1.126724</td>\n",
       "    </tr>\n",
       "    <tr>\n",
       "      <th>10</th>\n",
       "      <td>12.796667</td>\n",
       "      <td>2.148995</td>\n",
       "      <td>0.463761</td>\n",
       "      <td>1.143857</td>\n",
       "    </tr>\n",
       "    <tr>\n",
       "      <th>11</th>\n",
       "      <td>1.053333</td>\n",
       "      <td>6.170389</td>\n",
       "      <td>0.0</td>\n",
       "      <td>1.090439</td>\n",
       "    </tr>\n",
       "    <tr>\n",
       "      <th>12</th>\n",
       "      <td>37.053333</td>\n",
       "      <td>3.352225</td>\n",
       "      <td>0.205667</td>\n",
       "      <td>1.003886</td>\n",
       "    </tr>\n",
       "    <tr>\n",
       "      <th>13</th>\n",
       "      <td>27.203333</td>\n",
       "      <td>3.629227</td>\n",
       "      <td>0.002255</td>\n",
       "      <td>1.05772</td>\n",
       "    </tr>\n",
       "    <tr>\n",
       "      <th>14</th>\n",
       "      <td>24.786667</td>\n",
       "      <td>4.168357</td>\n",
       "      <td>0.143175</td>\n",
       "      <td>0.958122</td>\n",
       "    </tr>\n",
       "    <tr>\n",
       "      <th>15</th>\n",
       "      <td>29.236667</td>\n",
       "      <td>3.951149</td>\n",
       "      <td>0.035735</td>\n",
       "      <td>0.817318</td>\n",
       "    </tr>\n",
       "    <tr>\n",
       "      <th>16</th>\n",
       "      <td>20.196667</td>\n",
       "      <td>4.480414</td>\n",
       "      <td>1.0</td>\n",
       "      <td>1.194118</td>\n",
       "    </tr>\n",
       "    <tr>\n",
       "      <th>17</th>\n",
       "      <td>21.466667</td>\n",
       "      <td>3.844221</td>\n",
       "      <td>0.106993</td>\n",
       "      <td>0.89784</td>\n",
       "    </tr>\n",
       "    <tr>\n",
       "      <th>18</th>\n",
       "      <td>18.023333</td>\n",
       "      <td>4.343496</td>\n",
       "      <td>0.074614</td>\n",
       "      <td>1.245337</td>\n",
       "    </tr>\n",
       "    <tr>\n",
       "      <th>19</th>\n",
       "      <td>14.413333</td>\n",
       "      <td>6.353217</td>\n",
       "      <td>0.0</td>\n",
       "      <td>1.272818</td>\n",
       "    </tr>\n",
       "    <tr>\n",
       "      <th>20</th>\n",
       "      <td>0.426667</td>\n",
       "      <td>1.920511</td>\n",
       "      <td>0.0</td>\n",
       "      <td>1.69005</td>\n",
       "    </tr>\n",
       "    <tr>\n",
       "      <th>21</th>\n",
       "      <td>6.756667</td>\n",
       "      <td>1.697263</td>\n",
       "      <td>1.0</td>\n",
       "      <td>1.330707</td>\n",
       "    </tr>\n",
       "    <tr>\n",
       "      <th>22</th>\n",
       "      <td>14.89</td>\n",
       "      <td>4.205305</td>\n",
       "      <td>0.137206</td>\n",
       "      <td>1.298289</td>\n",
       "    </tr>\n",
       "    <tr>\n",
       "      <th>23</th>\n",
       "      <td>13.603333</td>\n",
       "      <td>3.122291</td>\n",
       "      <td>1.0</td>\n",
       "      <td>1.47068</td>\n",
       "    </tr>\n",
       "    <tr>\n",
       "      <th>24</th>\n",
       "      <td>16.33</td>\n",
       "      <td>3.071554</td>\n",
       "      <td>0.997106</td>\n",
       "      <td>1.021879</td>\n",
       "    </tr>\n",
       "    <tr>\n",
       "      <th>25</th>\n",
       "      <td>12.146667</td>\n",
       "      <td>1.70718</td>\n",
       "      <td>1.0</td>\n",
       "      <td>1.563226</td>\n",
       "    </tr>\n",
       "    <tr>\n",
       "      <th>26</th>\n",
       "      <td>10.21</td>\n",
       "      <td>1.814701</td>\n",
       "      <td>0.348519</td>\n",
       "      <td>1.447107</td>\n",
       "    </tr>\n",
       "    <tr>\n",
       "      <th>27</th>\n",
       "      <td>12.283333</td>\n",
       "      <td>1.094821</td>\n",
       "      <td>0.011108</td>\n",
       "      <td>0.915286</td>\n",
       "    </tr>\n",
       "    <tr>\n",
       "      <th>28</th>\n",
       "      <td>15.88</td>\n",
       "      <td>1.137023</td>\n",
       "      <td>0.075555</td>\n",
       "      <td>0.962498</td>\n",
       "    </tr>\n",
       "    <tr>\n",
       "      <th>29</th>\n",
       "      <td>15.686667</td>\n",
       "      <td>0.989152</td>\n",
       "      <td>0.15411</td>\n",
       "      <td>1.05036</td>\n",
       "    </tr>\n",
       "    <tr>\n",
       "      <th>30</th>\n",
       "      <td>11.643333</td>\n",
       "      <td>1.274634</td>\n",
       "      <td>0.037589</td>\n",
       "      <td>1.577164</td>\n",
       "    </tr>\n",
       "    <tr>\n",
       "      <th>31</th>\n",
       "      <td>18.876667</td>\n",
       "      <td>1.51268</td>\n",
       "      <td>0.057798</td>\n",
       "      <td>0.99256</td>\n",
       "    </tr>\n",
       "    <tr>\n",
       "      <th>32</th>\n",
       "      <td>0.146667</td>\n",
       "      <td>2.233579</td>\n",
       "      <td>0.0</td>\n",
       "      <td>1.509461</td>\n",
       "    </tr>\n",
       "    <tr>\n",
       "      <th>33</th>\n",
       "      <td>17.053333</td>\n",
       "      <td>1.606788</td>\n",
       "      <td>0.071315</td>\n",
       "      <td>1.201381</td>\n",
       "    </tr>\n",
       "    <tr>\n",
       "      <th>34</th>\n",
       "      <td>1.256667</td>\n",
       "      <td>4.687577</td>\n",
       "      <td>0.0</td>\n",
       "      <td>1.270579</td>\n",
       "    </tr>\n",
       "    <tr>\n",
       "      <th>35</th>\n",
       "      <td>19.28</td>\n",
       "      <td>2.123411</td>\n",
       "      <td>0.150287</td>\n",
       "      <td>1.044304</td>\n",
       "    </tr>\n",
       "    <tr>\n",
       "      <th>36</th>\n",
       "      <td>16.306667</td>\n",
       "      <td>0.824067</td>\n",
       "      <td>0.105892</td>\n",
       "      <td>1.07434</td>\n",
       "    </tr>\n",
       "    <tr>\n",
       "      <th>37</th>\n",
       "      <td>9.073333</td>\n",
       "      <td>0.81595</td>\n",
       "      <td>0.129907</td>\n",
       "      <td>1.056371</td>\n",
       "    </tr>\n",
       "    <tr>\n",
       "      <th>38</th>\n",
       "      <td>37.623333</td>\n",
       "      <td>2.762375</td>\n",
       "      <td>0.16419</td>\n",
       "      <td>1.095474</td>\n",
       "    </tr>\n",
       "    <tr>\n",
       "      <th>39</th>\n",
       "      <td>1.586667</td>\n",
       "      <td>5.443499</td>\n",
       "      <td>0.0</td>\n",
       "      <td>1.198296</td>\n",
       "    </tr>\n",
       "    <tr>\n",
       "      <th>40</th>\n",
       "      <td>114.086667</td>\n",
       "      <td>2.149612</td>\n",
       "      <td>0.004749</td>\n",
       "      <td>1.026815</td>\n",
       "    </tr>\n",
       "    <tr>\n",
       "      <th>41</th>\n",
       "      <td>136.713333</td>\n",
       "      <td>6.619698</td>\n",
       "      <td>0.002768</td>\n",
       "      <td>1.061953</td>\n",
       "    </tr>\n",
       "    <tr>\n",
       "      <th>42</th>\n",
       "      <td>17.173333</td>\n",
       "      <td>4.304403</td>\n",
       "      <td>0.259794</td>\n",
       "      <td>1.109701</td>\n",
       "    </tr>\n",
       "    <tr>\n",
       "      <th>43</th>\n",
       "      <td>23.163333</td>\n",
       "      <td>3.524303</td>\n",
       "      <td>0.051002</td>\n",
       "      <td>0.895394</td>\n",
       "    </tr>\n",
       "    <tr>\n",
       "      <th>44</th>\n",
       "      <td>14.32</td>\n",
       "      <td>3.314853</td>\n",
       "      <td>0.331178</td>\n",
       "      <td>1.090503</td>\n",
       "    </tr>\n",
       "    <tr>\n",
       "      <th>45</th>\n",
       "      <td>4.99</td>\n",
       "      <td>3.053539</td>\n",
       "      <td>0.22644</td>\n",
       "      <td>1.109801</td>\n",
       "    </tr>\n",
       "    <tr>\n",
       "      <th>46</th>\n",
       "      <td>35.68</td>\n",
       "      <td>1.324968</td>\n",
       "      <td>0.164004</td>\n",
       "      <td>0.995308</td>\n",
       "    </tr>\n",
       "    <tr>\n",
       "      <th>47</th>\n",
       "      <td>17.04</td>\n",
       "      <td>3.289883</td>\n",
       "      <td>0.142118</td>\n",
       "      <td>1.086419</td>\n",
       "    </tr>\n",
       "    <tr>\n",
       "      <th>48</th>\n",
       "      <td>18.046667</td>\n",
       "      <td>3.51406</td>\n",
       "      <td>0.161437</td>\n",
       "      <td>0.97042</td>\n",
       "    </tr>\n",
       "    <tr>\n",
       "      <th>49</th>\n",
       "      <td>13.796667</td>\n",
       "      <td>2.974871</td>\n",
       "      <td>0.18313</td>\n",
       "      <td>1.017242</td>\n",
       "    </tr>\n",
       "    <tr>\n",
       "      <th>50</th>\n",
       "      <td>0.233333</td>\n",
       "      <td>1.743249</td>\n",
       "      <td>0.0</td>\n",
       "      <td>1.963492</td>\n",
       "    </tr>\n",
       "    <tr>\n",
       "      <th>51</th>\n",
       "      <td>1.263333</td>\n",
       "      <td>3.35371</td>\n",
       "      <td>0.0</td>\n",
       "      <td>0.992366</td>\n",
       "    </tr>\n",
       "  </tbody>\n",
       "</table>\n",
       "</div>"
      ],
      "text/plain": [
       "    firing_rate       snr  rp_contamination  sd_ratio\n",
       "0     11.756667  2.049979           0.60512  1.179817\n",
       "1      8.663333  3.520533          0.254432   1.59566\n",
       "2     10.083333  1.676114          0.615814  1.619926\n",
       "3      1.143333  8.863624               0.0  1.192587\n",
       "4      8.596667  2.074293          0.621824  1.247967\n",
       "5      0.736667  1.607057               1.0  2.734922\n",
       "6      0.353333  2.851026               1.0  2.599785\n",
       "7      9.653333  2.493505               1.0  1.114334\n",
       "8      0.056667  2.469331               0.0  1.384699\n",
       "9     20.693333  3.372633          0.056061  1.126724\n",
       "10    12.796667  2.148995          0.463761  1.143857\n",
       "11     1.053333  6.170389               0.0  1.090439\n",
       "12    37.053333  3.352225          0.205667  1.003886\n",
       "13    27.203333  3.629227          0.002255   1.05772\n",
       "14    24.786667  4.168357          0.143175  0.958122\n",
       "15    29.236667  3.951149          0.035735  0.817318\n",
       "16    20.196667  4.480414               1.0  1.194118\n",
       "17    21.466667  3.844221          0.106993   0.89784\n",
       "18    18.023333  4.343496          0.074614  1.245337\n",
       "19    14.413333  6.353217               0.0  1.272818\n",
       "20     0.426667  1.920511               0.0   1.69005\n",
       "21     6.756667  1.697263               1.0  1.330707\n",
       "22        14.89  4.205305          0.137206  1.298289\n",
       "23    13.603333  3.122291               1.0   1.47068\n",
       "24        16.33  3.071554          0.997106  1.021879\n",
       "25    12.146667   1.70718               1.0  1.563226\n",
       "26        10.21  1.814701          0.348519  1.447107\n",
       "27    12.283333  1.094821          0.011108  0.915286\n",
       "28        15.88  1.137023          0.075555  0.962498\n",
       "29    15.686667  0.989152           0.15411   1.05036\n",
       "30    11.643333  1.274634          0.037589  1.577164\n",
       "31    18.876667   1.51268          0.057798   0.99256\n",
       "32     0.146667  2.233579               0.0  1.509461\n",
       "33    17.053333  1.606788          0.071315  1.201381\n",
       "34     1.256667  4.687577               0.0  1.270579\n",
       "35        19.28  2.123411          0.150287  1.044304\n",
       "36    16.306667  0.824067          0.105892   1.07434\n",
       "37     9.073333   0.81595          0.129907  1.056371\n",
       "38    37.623333  2.762375           0.16419  1.095474\n",
       "39     1.586667  5.443499               0.0  1.198296\n",
       "40   114.086667  2.149612          0.004749  1.026815\n",
       "41   136.713333  6.619698          0.002768  1.061953\n",
       "42    17.173333  4.304403          0.259794  1.109701\n",
       "43    23.163333  3.524303          0.051002  0.895394\n",
       "44        14.32  3.314853          0.331178  1.090503\n",
       "45         4.99  3.053539           0.22644  1.109801\n",
       "46        35.68  1.324968          0.164004  0.995308\n",
       "47        17.04  3.289883          0.142118  1.086419\n",
       "48    18.046667   3.51406          0.161437   0.97042\n",
       "49    13.796667  2.974871           0.18313  1.017242\n",
       "50     0.233333  1.743249               0.0  1.963492\n",
       "51     1.263333   3.35371               0.0  0.992366"
      ]
     },
     "execution_count": 17,
     "metadata": {},
     "output_type": "execute_result"
    }
   ],
   "source": [
    "quality_metrics = quality_metrics[[\"firing_rate\", \"snr\", \"rp_contamination\", \"sd_ratio\"]]\n",
    "quality_metrics"
   ]
  },
  {
   "cell_type": "markdown",
   "id": "bc607c93-da5d-47d1-8f8e-b5fd9856a28d",
   "metadata": {},
   "source": [
    "From having looked at the dataset extensively, I know what units are very good:"
   ]
  },
  {
   "cell_type": "code",
   "execution_count": 18,
   "id": "71adcbc2-3cf2-4a28-bfa0-e50eee634936",
   "metadata": {},
   "outputs": [],
   "source": [
    "good_unit_ids = np.array([3, 13, 19, 34, 39, 40, 41], dtype=np.int32)\n",
    "ok_unit_ids = np.array([11, 18, 22, 51], dtype=np.int32)"
   ]
  },
  {
   "cell_type": "code",
   "execution_count": 19,
   "id": "b37d85a1-7be6-4e75-a753-354074ecc2b9",
   "metadata": {},
   "outputs": [
    {
     "data": {
      "text/html": [
       "<div>\n",
       "<style scoped>\n",
       "    .dataframe tbody tr th:only-of-type {\n",
       "        vertical-align: middle;\n",
       "    }\n",
       "\n",
       "    .dataframe tbody tr th {\n",
       "        vertical-align: top;\n",
       "    }\n",
       "\n",
       "    .dataframe thead th {\n",
       "        text-align: right;\n",
       "    }\n",
       "</style>\n",
       "<table border=\"1\" class=\"dataframe\">\n",
       "  <thead>\n",
       "    <tr style=\"text-align: right;\">\n",
       "      <th></th>\n",
       "      <th>firing_rate</th>\n",
       "      <th>snr</th>\n",
       "      <th>rp_contamination</th>\n",
       "      <th>sd_ratio</th>\n",
       "    </tr>\n",
       "  </thead>\n",
       "  <tbody>\n",
       "    <tr>\n",
       "      <th>3</th>\n",
       "      <td>1.143333</td>\n",
       "      <td>8.863624</td>\n",
       "      <td>0.0</td>\n",
       "      <td>1.192587</td>\n",
       "    </tr>\n",
       "    <tr>\n",
       "      <th>13</th>\n",
       "      <td>27.203333</td>\n",
       "      <td>3.629227</td>\n",
       "      <td>0.002255</td>\n",
       "      <td>1.05772</td>\n",
       "    </tr>\n",
       "    <tr>\n",
       "      <th>19</th>\n",
       "      <td>14.413333</td>\n",
       "      <td>6.353217</td>\n",
       "      <td>0.0</td>\n",
       "      <td>1.272818</td>\n",
       "    </tr>\n",
       "    <tr>\n",
       "      <th>34</th>\n",
       "      <td>1.256667</td>\n",
       "      <td>4.687577</td>\n",
       "      <td>0.0</td>\n",
       "      <td>1.270579</td>\n",
       "    </tr>\n",
       "    <tr>\n",
       "      <th>39</th>\n",
       "      <td>1.586667</td>\n",
       "      <td>5.443499</td>\n",
       "      <td>0.0</td>\n",
       "      <td>1.198296</td>\n",
       "    </tr>\n",
       "    <tr>\n",
       "      <th>40</th>\n",
       "      <td>114.086667</td>\n",
       "      <td>2.149612</td>\n",
       "      <td>0.004749</td>\n",
       "      <td>1.026815</td>\n",
       "    </tr>\n",
       "    <tr>\n",
       "      <th>41</th>\n",
       "      <td>136.713333</td>\n",
       "      <td>6.619698</td>\n",
       "      <td>0.002768</td>\n",
       "      <td>1.061953</td>\n",
       "    </tr>\n",
       "  </tbody>\n",
       "</table>\n",
       "</div>"
      ],
      "text/plain": [
       "    firing_rate       snr  rp_contamination  sd_ratio\n",
       "3      1.143333  8.863624               0.0  1.192587\n",
       "13    27.203333  3.629227          0.002255   1.05772\n",
       "19    14.413333  6.353217               0.0  1.272818\n",
       "34     1.256667  4.687577               0.0  1.270579\n",
       "39     1.586667  5.443499               0.0  1.198296\n",
       "40   114.086667  2.149612          0.004749  1.026815\n",
       "41   136.713333  6.619698          0.002768  1.061953"
      ]
     },
     "execution_count": 19,
     "metadata": {},
     "output_type": "execute_result"
    }
   ],
   "source": [
    "quality_metrics.loc[good_unit_ids]"
   ]
  },
  {
   "cell_type": "code",
   "execution_count": 20,
   "id": "2294f75e-f3ba-4033-8b6a-9473ea44855e",
   "metadata": {},
   "outputs": [
    {
     "data": {
      "text/html": [
       "<div>\n",
       "<style scoped>\n",
       "    .dataframe tbody tr th:only-of-type {\n",
       "        vertical-align: middle;\n",
       "    }\n",
       "\n",
       "    .dataframe tbody tr th {\n",
       "        vertical-align: top;\n",
       "    }\n",
       "\n",
       "    .dataframe thead th {\n",
       "        text-align: right;\n",
       "    }\n",
       "</style>\n",
       "<table border=\"1\" class=\"dataframe\">\n",
       "  <thead>\n",
       "    <tr style=\"text-align: right;\">\n",
       "      <th></th>\n",
       "      <th>firing_rate</th>\n",
       "      <th>snr</th>\n",
       "      <th>rp_contamination</th>\n",
       "      <th>sd_ratio</th>\n",
       "    </tr>\n",
       "  </thead>\n",
       "  <tbody>\n",
       "    <tr>\n",
       "      <th>11</th>\n",
       "      <td>1.053333</td>\n",
       "      <td>6.170389</td>\n",
       "      <td>0.0</td>\n",
       "      <td>1.090439</td>\n",
       "    </tr>\n",
       "    <tr>\n",
       "      <th>18</th>\n",
       "      <td>18.023333</td>\n",
       "      <td>4.343496</td>\n",
       "      <td>0.074614</td>\n",
       "      <td>1.245337</td>\n",
       "    </tr>\n",
       "    <tr>\n",
       "      <th>22</th>\n",
       "      <td>14.89</td>\n",
       "      <td>4.205305</td>\n",
       "      <td>0.137206</td>\n",
       "      <td>1.298289</td>\n",
       "    </tr>\n",
       "    <tr>\n",
       "      <th>51</th>\n",
       "      <td>1.263333</td>\n",
       "      <td>3.35371</td>\n",
       "      <td>0.0</td>\n",
       "      <td>0.992366</td>\n",
       "    </tr>\n",
       "  </tbody>\n",
       "</table>\n",
       "</div>"
      ],
      "text/plain": [
       "    firing_rate       snr  rp_contamination  sd_ratio\n",
       "11     1.053333  6.170389               0.0  1.090439\n",
       "18    18.023333  4.343496          0.074614  1.245337\n",
       "22        14.89  4.205305          0.137206  1.298289\n",
       "51     1.263333   3.35371               0.0  0.992366"
      ]
     },
     "execution_count": 20,
     "metadata": {},
     "output_type": "execute_result"
    }
   ],
   "source": [
    "quality_metrics.loc[ok_unit_ids]"
   ]
  },
  {
   "cell_type": "markdown",
   "id": "6432d524-7f2e-4ecd-b70d-90e11cb7185c",
   "metadata": {},
   "source": [
    "Looking at the metrics on the good units, we can create rules to only keep units that are of sufficient quality. For example:\n",
    "- A `firing_rate` greater than 1.0 Hz\n",
    "- A `snr` greater than 1.1\n",
    "- A `rp_contamination` below 20%\n",
    "- A `sd_ratio` below 1.5"
   ]
  },
  {
   "cell_type": "code",
   "execution_count": 21,
   "id": "409cb871-21ce-4f8c-8d3b-ade459e8aa0c",
   "metadata": {},
   "outputs": [
    {
     "name": "stdout",
     "output_type": "stream",
     "text": [
      "[3, 9, 11, 13, 14, 15, 17, 18, 19, 22, 28, 31, 33, 34, 35, 38, 39, 40, 41, 43, 46, 47, 48, 49, 51]\n"
     ]
    }
   ],
   "source": [
    "rule = \"firing_rate > 1.0 & snr > 1.1  & rp_contamination < 0.2 & sd_ratio < 1.5\"\n",
    "good_metrics = quality_metrics.query(rule)\n",
    "\n",
    "curated_unit_ids = list(good_metrics.index)\n",
    "print(curated_unit_ids)"
   ]
  },
  {
   "cell_type": "code",
   "execution_count": 23,
   "id": "5c65c284-3c17-49ea-88cb-4bd53e89086b",
   "metadata": {},
   "outputs": [
    {
     "data": {
      "text/html": [
       "<div style='border:1px solid #ddd; padding:10px;'><strong>UnitsSelectionSorting: 25 units - 1 segments - 30.0kHz</strong></div><details style='margin-left: 10px;'>  <summary><strong>Unit IDs</strong></summary><ul>[ 3  9 11 13 14 15 17 18 19 22 28 31 33 34 35 38 39 40 41 43 46 47 48 49\n",
       " 51] </details><details style='margin-left: 10px;'>  <summary><strong>Annotations</strong></summary><ul><li> <strong> phy_folder </strong>: /export/home1/users/nsr/wyngaard/Documents/lussac/tests/datasets/cerebellar_cortex/analyses/ks2_best</li></details><details style='margin-left: 10px;'><summary><strong>Unit Properties</strong></summary><ul><details><summary><strong>ContamPct</strong></summary>[ 0.   9.5  0.  15.2 17.5  7.8 19.5  9.4  0.  30.5 18.5 19.4 20.9  0.\n",
       " 31.9 25.6  0.   0.9  0.6 12.7 42.9 19.6 20.5 43.7  0. ]</details><details><summary><strong>Amplitude</strong></summary>[1917.8  598.9 1449.1 1395.2  893.5  892.6  797.8 1131.5 1787.  1105.\n",
       "  351.9  303.8  603.3 1854.   377.4  523.6 1396.7  497.8 1799.3 1102.9\n",
       " 1181.8 1134.9 1059.1  966.9  391.3]</details><details><summary><strong>original_cluster_id</strong></summary>[ 3  9 11 13 14 15 17 18 19 22 28 31 33 34 35 38 39 40 41 43 46 47 48 49\n",
       " 51]</details><details><summary><strong>KSLabel_repeat</strong></summary>['good' 'good' 'mua' 'mua' 'mua' 'mua' 'mua' 'mua' 'good' 'mua' 'mua'\n",
       " 'mua' 'mua' 'good' 'mua' 'mua' 'good' 'good' 'good' 'mua' 'mua' 'mua'\n",
       " 'mua' 'mua' 'good']</details><details><summary><strong>KSLabel</strong></summary>['good' 'good' 'mua' 'mua' 'mua' 'mua' 'mua' 'mua' 'good' 'mua' 'mua'\n",
       " 'mua' 'mua' 'good' 'mua' 'mua' 'good' 'good' 'good' 'mua' 'mua' 'mua'\n",
       " 'mua' 'mua' 'good']</details></ul></details>"
      ],
      "text/plain": [
       "UnitsSelectionSorting: 25 units - 1 segments - 30.0kHz"
      ]
     },
     "execution_count": 23,
     "metadata": {},
     "output_type": "execute_result"
    }
   ],
   "source": [
    "curated_sorting = sorting.select_units(curated_unit_ids)\n",
    "\n",
    "\n",
    "curated_sorting"
   ]
  },
  {
   "cell_type": "markdown",
   "id": "869d8d43-e101-4ba8-b7f3-02f69ff3e93b",
   "metadata": {},
   "source": [
    "We removed half of the units in the Kilosort output! (we started with 52).\n",
    "\n",
    "The metrics and thresholds used will, of course, depend on the recording type, and need to be tuned.\n",
    "After tuning, we can have a powerful automated curation, that is not perfect, but removes a lot of the obviously garbage units."
   ]
  },
  {
   "cell_type": "code",
   "execution_count": 24,
   "id": "e02a237c",
   "metadata": {},
   "outputs": [
    {
     "data": {
      "text/plain": [
       "SortingAnalyzer: 26 channels - 25 units - 1 segments - memory - has recording\n",
       "Loaded 6 extensions: noise_levels, random_spikes, templates, correlograms, spike_amplitudes, quality_metrics"
      ]
     },
     "execution_count": 24,
     "metadata": {},
     "output_type": "execute_result"
    }
   ],
   "source": [
    "curated_analyzer = analyzer.select_units(curated_unit_ids)\n",
    "curated_analyzer"
   ]
  },
  {
   "cell_type": "markdown",
   "id": "364a20c5-9636-4a97-bad3-1cd86ad5c796",
   "metadata": {},
   "source": [
    "The `curation` module also offers a method to find split units, that you can inspect and decide whether you want to merge them."
   ]
  },
  {
   "cell_type": "code",
   "execution_count": 25,
   "id": "dae8a0c7",
   "metadata": {},
   "outputs": [
    {
     "data": {
      "text/plain": [
       "[[15, 17]]"
      ]
     },
     "execution_count": 25,
     "metadata": {},
     "output_type": "execute_result"
    }
   ],
   "source": [
    "merge_unit_groups = si.compute_merge_unit_groups(curated_analyzer)\n",
    "merge_unit_groups"
   ]
  },
  {
   "cell_type": "markdown",
   "id": "fc6fb7f6-a84f-40e9-b96e-22e505ec7706",
   "metadata": {},
   "source": [
    "We can see that the merge function found a pair that is potentially a good merge.\n",
    "\n",
    "We can check it by plotting the correlograms and templates:"
   ]
  },
  {
   "cell_type": "code",
   "execution_count": 26,
   "id": "6a8d4c2f-78d9-46fa-9f60-f5d1d86a604c",
   "metadata": {},
   "outputs": [
    {
     "data": {
      "application/vnd.jupyter.widget-view+json": {
       "model_id": "ea1baec07d0d44a6b023723c1a1c7676",
       "version_major": 2,
       "version_minor": 0
      },
      "image/png": "[encoded data removed]",
      "text/html": [
       "\n",
       "            <div style=\"display: inline-block;\">\n",
       "                <div class=\"jupyter-widgets widget-label\" style=\"text-align: center;\">\n",
       "                    Figure\n",
       "                </div>\n",
       "                <img src='data:image/png;base64,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' width=640.0/>\n",
       "            </div>\n",
       "        "
      ],
      "text/plain": [
       "Canvas(toolbar=Toolbar(toolitems=[('Home', 'Reset original view', 'home', 'home'), ('Back', 'Back to previous …"
      ]
     },
     "metadata": {},
     "output_type": "display_data"
    }
   ],
   "source": [
    "for groups in merge_unit_groups:\n",
    "    si.plot_crosscorrelograms(analyzer, unit_ids=groups, min_similarity_for_correlograms=None, backend=\"matplotlib\")"
   ]
  },
  {
   "cell_type": "code",
   "execution_count": 29,
   "id": "251d1a6e-36ea-4e7f-bfa9-9ee9bd6e8397",
   "metadata": {},
   "outputs": [
    {
     "data": {
      "application/vnd.jupyter.widget-view+json": {
       "model_id": "2e2b4987269445f99f2e622438023943",
       "version_major": 2,
       "version_minor": 0
      },
      "text/plain": [
       "estimate_sparsity:   0%|          | 0/300 [00:00<?, ?it/s]"
      ]
     },
     "metadata": {},
     "output_type": "display_data"
    }
   ],
   "source": [
    "sparsity_for_plot = si.estimate_sparsity(sorting, recording_f)"
   ]
  },
  {
   "cell_type": "code",
   "execution_count": 33,
   "id": "4ef6a53f",
   "metadata": {},
   "outputs": [
    {
     "name": "stderr",
     "output_type": "stream",
     "text": [
      "/home/samuel/Documents/SpikeInterface/spikeinterface/src/spikeinterface/widgets/unit_waveforms.py:182: UserWarning: templates_percentile_shading can only be used if the 'waveforms' extension is available. Settimg templates_percentile_shading to None.\n",
      "  warn(\n",
      "/home/samuel/Documents/SpikeInterface/spikeinterface/src/spikeinterface/widgets/amplitudes.py:177: UserWarning: This figure was using a layout engine that is incompatible with subplots_adjust and/or tight_layout; not calling subplots_adjust.\n",
      "  self.figure.subplots_adjust(bottom=0.1, top=0.9, left=0.1)\n"
     ]
    },
    {
     "data": {
      "application/vnd.jupyter.widget-view+json": {
       "model_id": "3d8ef0c16858481782afd85601112de0",
       "version_major": 2,
       "version_minor": 0
      },
      "text/plain": [
       "AppLayout(children=(VBox(children=(Label(value='Potential merges:'), Dropdown(layout=Layout(width='80%'), opti…"
      ]
     },
     "metadata": {},
     "output_type": "display_data"
    },
    {
     "data": {
      "text/plain": [
       "<spikeinterface.widgets.potential_merges.PotentialMergesWidget at 0x7eb4efeb3620>"
      ]
     },
     "execution_count": 33,
     "metadata": {},
     "output_type": "execute_result"
    }
   ],
   "source": [
    "si.plot_potential_merges(analyzer, merge_unit_groups, backend=\"ipywidgets\")\n",
    "\n"
   ]
  },
  {
   "cell_type": "markdown",
   "id": "7a9754bb-8406-4ab6-ac3a-618cb22384ee",
   "metadata": {},
   "source": [
    "Indeed, the correlograms and templates seem to match!\n",
    "\n",
    "We can thus create a script to merge the units together:"
   ]
  },
  {
   "cell_type": "code",
   "execution_count": 39,
   "id": "831528cd-afc6-4ce2-9336-040caf52d754",
   "metadata": {},
   "outputs": [
    {
     "name": "stdout",
     "output_type": "stream",
     "text": [
      "SortingAnalyzer: 26 channels - 52 units - 1 segments - memory - has recording\n",
      "Loaded 6 extensions: noise_levels, random_spikes, templates, correlograms, spike_amplitudes, quality_metrics\n",
      "SortingAnalyzer: 26 channels - 51 units - 1 segments - memory - has recording\n",
      "Loaded 6 extensions: noise_levels, random_spikes, templates, correlograms, spike_amplitudes, quality_metrics\n"
     ]
    }
   ],
   "source": [
    "analyzer_merged = analyzer.merge_units(merge_unit_groups)\n",
    "print(analyzer)\n",
    "print(analyzer_merged)"
   ]
  },
  {
   "cell_type": "code",
   "execution_count": null,
   "id": "a647e8e2-f1c9-4049-a41f-c7bb5115b48f",
   "metadata": {},
   "outputs": [],
   "source": []
  }
 ],
 "metadata": {
  "kernelspec": {
   "display_name": "py3.12",
   "language": "python",
   "name": "python3"
  },
  "language_info": {
   "codemirror_mode": {
    "name": "ipython",
    "version": 3
   },
   "file_extension": ".py",
   "mimetype": "text/x-python",
   "name": "python",
   "nbconvert_exporter": "python",
   "pygments_lexer": "ipython3",
   "version": "3.12.3"
  }
 },
 "nbformat": 4,
 "nbformat_minor": 5
}
